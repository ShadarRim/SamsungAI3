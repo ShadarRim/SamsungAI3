{
  "nbformat": 4,
  "nbformat_minor": 0,
  "metadata": {
    "colab": {
      "provenance": []
    },
    "kernelspec": {
      "name": "python3",
      "display_name": "Python 3"
    },
    "language_info": {
      "name": "python"
    }
  },
  "cells": [
    {
      "cell_type": "markdown",
      "metadata": {
        "id": "1h0aKVdasDc9"
      },
      "source": [
        "#Вступление\n",
        "\n",
        "Метод линейной регрессии используется для проверки гипотезы наличия линейной связи между двумя или несколькими переменными. Часто при первых использованиях не придаётся достаточной значимости тому, что \n",
        "\n",
        "*   оценивается именно линейная связь, а не другая. \n",
        "*   выбросы сильно влияют на результат оценивания\n",
        "\n",
        "\n",
        "Рассмотрим к чему это может приводить. "
      ]
    },
    {
      "cell_type": "code",
      "metadata": {
        "id": "92chO0DNqvIy"
      },
      "source": [
        "import numpy as np\n",
        "from sklearn.linear_model import LinearRegression\n",
        "import matplotlib.pyplot as plt"
      ],
      "execution_count": null,
      "outputs": []
    },
    {
      "cell_type": "markdown",
      "metadata": {
        "id": "uGcfVIb6s6VH"
      },
      "source": [
        "## Пример использования регрессии №1\n",
        "\n",
        "В данном соврешенно корректном примере мы рассмотрим как работает регрессия, если всё хорошо. "
      ]
    },
    {
      "cell_type": "code",
      "metadata": {
        "id": "eqwQ7NEsq9qy"
      },
      "source": [
        "x = np.array([5, 15, 25, 35, 45, 55]).reshape((-1, 1))\n",
        "y = np.array([5, 20, 14, 32, 22, 38])"
      ],
      "execution_count": null,
      "outputs": []
    },
    {
      "cell_type": "code",
      "metadata": {
        "id": "wV9yQYT8rAp_"
      },
      "source": [
        "model = LinearRegression()"
      ],
      "execution_count": null,
      "outputs": []
    },
    {
      "cell_type": "code",
      "metadata": {
        "colab": {
          "base_uri": "https://localhost:8080/"
        },
        "id": "9K9-Bia1rE58",
        "outputId": "ef92f9cd-21c3-4c23-d715-2233ad41dca1"
      },
      "source": [
        "model.fit(x, y)"
      ],
      "execution_count": null,
      "outputs": [
        {
          "output_type": "execute_result",
          "data": {
            "text/plain": [
              "LinearRegression()"
            ]
          },
          "metadata": {},
          "execution_count": 4
        }
      ]
    },
    {
      "cell_type": "code",
      "metadata": {
        "colab": {
          "base_uri": "https://localhost:8080/"
        },
        "id": "Lt9KGtj-rHX0",
        "outputId": "31902943-2603-4bf1-d6e8-a74e8162b3f7"
      },
      "source": [
        "model.score(x, y)"
      ],
      "execution_count": null,
      "outputs": [
        {
          "output_type": "execute_result",
          "data": {
            "text/plain": [
              "0.7158756137479542"
            ]
          },
          "metadata": {},
          "execution_count": 5
        }
      ]
    },
    {
      "cell_type": "code",
      "metadata": {
        "id": "bjj_nZaNsn2D"
      },
      "source": [
        "y_pred = model.intercept_ + model.coef_ * x"
      ],
      "execution_count": null,
      "outputs": []
    },
    {
      "cell_type": "code",
      "metadata": {
        "colab": {
          "base_uri": "https://localhost:8080/",
          "height": 265
        },
        "id": "xSe3379fr_tl",
        "outputId": "d73fb50f-5972-4baf-89d1-a89748743cd6"
      },
      "source": [
        "plt.plot(x,y,'or',x, y_pred)\n",
        "\n",
        "plt.show()"
      ],
      "execution_count": null,
      "outputs": [
        {
          "output_type": "display_data",
          "data": {
            "text/plain": [
              "<Figure size 432x288 with 1 Axes>"
            ],
            "image/png": "[encoded data removed]"
          },
          "metadata": {
            "needs_background": "light"
          }
        }
      ]
    },
    {
      "cell_type": "markdown",
      "metadata": {
        "id": "DR5MpreHs_G-"
      },
      "source": [
        "## Пример использования регрессии №2\n",
        "\n",
        "В данном примере рассмотрим то, как линейная регрессия не повзоляет установить наличие квадратичной связи между переменными. "
      ]
    },
    {
      "cell_type": "code",
      "metadata": {
        "id": "pDZN0Wqxs-aN"
      },
      "source": [
        "x = np.array([-1, 1, 0]).reshape((-1, 1))\n",
        "y = np.array([0, 0, 1])"
      ],
      "execution_count": null,
      "outputs": []
    },
    {
      "cell_type": "code",
      "metadata": {
        "colab": {
          "base_uri": "https://localhost:8080/"
        },
        "id": "XJfGZ5GbtMZo",
        "outputId": "8d77b672-3f9d-405b-c73c-f81d44b898a6"
      },
      "source": [
        "model.fit(x, y)"
      ],
      "execution_count": null,
      "outputs": [
        {
          "output_type": "execute_result",
          "data": {
            "text/plain": [
              "LinearRegression()"
            ]
          },
          "metadata": {},
          "execution_count": 10
        }
      ]
    },
    {
      "cell_type": "code",
      "metadata": {
        "id": "D8t-woUktPeL"
      },
      "source": [
        "y_pred = model.intercept_ + model.coef_ * x"
      ],
      "execution_count": null,
      "outputs": []
    },
    {
      "cell_type": "code",
      "metadata": {
        "colab": {
          "base_uri": "https://localhost:8080/"
        },
        "id": "rpXtQbZitN3T",
        "outputId": "ec87879f-2a66-4e7d-e774-afb034aeedae"
      },
      "source": [
        "model.score(x, y)"
      ],
      "execution_count": null,
      "outputs": [
        {
          "output_type": "execute_result",
          "data": {
            "text/plain": [
              "0.0"
            ]
          },
          "metadata": {},
          "execution_count": 12
        }
      ]
    },
    {
      "cell_type": "code",
      "metadata": {
        "colab": {
          "base_uri": "https://localhost:8080/",
          "height": 265
        },
        "id": "bYcqsPGTtQsB",
        "outputId": "d244ce3b-28c5-45ce-b777-5037987f6655"
      },
      "source": [
        "plt.plot(x,y,'or',x, y_pred)\n",
        "\n",
        "plt.show()"
      ],
      "execution_count": null,
      "outputs": [
        {
          "output_type": "display_data",
          "data": {
            "text/plain": [
              "<Figure size 432x288 with 1 Axes>"
            ],
            "image/png": "[encoded data removed]"
          },
          "metadata": {
            "needs_background": "light"
          }
        }
      ]
    },
    {
      "cell_type": "code",
      "metadata": {
        "id": "h_YV7TXEtYxy"
      },
      "source": [
        "x = np.arange(-1, 1, 0.0001)\n",
        "y = (1-x**2)**(1/2)"
      ],
      "execution_count": null,
      "outputs": []
    },
    {
      "cell_type": "code",
      "metadata": {
        "colab": {
          "base_uri": "https://localhost:8080/"
        },
        "id": "MiA_Mtfzt_xK",
        "outputId": "e01473e8-143c-446e-f422-079c6f049691"
      },
      "source": [
        "model.fit(x.reshape((-1, 1)), y)"
      ],
      "execution_count": null,
      "outputs": [
        {
          "output_type": "execute_result",
          "data": {
            "text/plain": [
              "LinearRegression()"
            ]
          },
          "metadata": {},
          "execution_count": 16
        }
      ]
    },
    {
      "cell_type": "code",
      "metadata": {
        "id": "qE7WQQkeuFD9"
      },
      "source": [
        "y_pred = model.intercept_ + model.coef_ * x"
      ],
      "execution_count": null,
      "outputs": []
    },
    {
      "cell_type": "code",
      "metadata": {
        "colab": {
          "base_uri": "https://localhost:8080/"
        },
        "id": "wbO5ZSlxuGCu",
        "outputId": "7e377633-4da2-4989-beb9-e34e749d0881"
      },
      "source": [
        "model.score(x.reshape((-1, 1)), y)"
      ],
      "execution_count": null,
      "outputs": [
        {
          "output_type": "execute_result",
          "data": {
            "text/plain": [
              "9.286764357518962e-08"
            ]
          },
          "metadata": {},
          "execution_count": 18
        }
      ]
    },
    {
      "cell_type": "code",
      "metadata": {
        "colab": {
          "base_uri": "https://localhost:8080/",
          "height": 265
        },
        "id": "JV-yfZIjuKe8",
        "outputId": "a5e028cf-edbd-429f-e07a-b885cf7d740c"
      },
      "source": [
        "plt.plot(x,y,'or',x, y_pred);"
      ],
      "execution_count": null,
      "outputs": [
        {
          "output_type": "display_data",
          "data": {
            "text/plain": [
              "<Figure size 432x288 with 1 Axes>"
            ],
            "image/png": "[encoded data removed]"
          },
          "metadata": {
            "needs_background": "light"
          }
        }
      ]
    },
    {
      "cell_type": "markdown",
      "metadata": {
        "id": "i1JVIHYVvbwj"
      },
      "source": [
        "## Пример №3\n",
        "\n",
        "В данном примере рассмотри то, как влияют выбросы на оценку качества зависимости. "
      ]
    },
    {
      "cell_type": "code",
      "metadata": {
        "id": "1kN_aVf4vkne"
      },
      "source": [
        "x = np.array([0, 0, 0, 0, 0, 0, 0]).reshape((-1, 1))\n",
        "y = np.array([0, 1, 2, 3, 4, 5, 6])"
      ],
      "execution_count": null,
      "outputs": []
    },
    {
      "cell_type": "code",
      "metadata": {
        "colab": {
          "base_uri": "https://localhost:8080/"
        },
        "id": "D6iysrJQvtXq",
        "outputId": "ac4e22fa-fd1c-4cee-a90b-eb7dc52b1d80"
      },
      "source": [
        "model.fit(x, y)"
      ],
      "execution_count": null,
      "outputs": [
        {
          "output_type": "execute_result",
          "data": {
            "text/plain": [
              "LinearRegression()"
            ]
          },
          "metadata": {},
          "execution_count": 37
        }
      ]
    },
    {
      "cell_type": "markdown",
      "metadata": {
        "id": "yGXqWCZevyFR"
      },
      "source": [
        "Обратие внимание, значение коэффициента регрессии - практически едиинца. "
      ]
    },
    {
      "cell_type": "code",
      "metadata": {
        "colab": {
          "base_uri": "https://localhost:8080/"
        },
        "id": "bHgQkoeWvvj4",
        "outputId": "5766cfe1-92d4-4e1c-846e-f29f2f4ee10c"
      },
      "source": [
        "model.score(x, y)"
      ],
      "execution_count": null,
      "outputs": [
        {
          "output_type": "execute_result",
          "data": {
            "text/plain": [
              "0.0"
            ]
          },
          "metadata": {},
          "execution_count": 38
        }
      ]
    },
    {
      "cell_type": "code",
      "metadata": {
        "id": "O7E38t76v5lo"
      },
      "source": [
        "y_pred = model.intercept_ + model.coef_ * x"
      ],
      "execution_count": null,
      "outputs": []
    },
    {
      "cell_type": "code",
      "metadata": {
        "colab": {
          "base_uri": "https://localhost:8080/",
          "height": 265
        },
        "id": "HjX3vLDSv7Zd",
        "outputId": "eee56d73-cf9c-4804-d7e6-fc4b27248b35"
      },
      "source": [
        "plt.plot(x,y,'or',x, y_pred);"
      ],
      "execution_count": null,
      "outputs": [
        {
          "output_type": "display_data",
          "data": {
            "text/plain": [
              "<Figure size 432x288 with 1 Axes>"
            ],
            "image/png": "[encoded data removed]"
          },
          "metadata": {
            "needs_background": "light"
          }
        }
      ]
    },
    {
      "cell_type": "markdown",
      "metadata": {
        "id": "jePHTnvKwef9"
      },
      "source": [
        "# Выводы\n",
        "При использовании регрессионного анализа необходимо всегда использовать методы визуализации данных, чтобы \"глазами\" оценить качество построенной регрессионной модели. Нельзя полагаться только на математические оценки. Иногда можно увидеть, что зависимость есть, когда регрессия говорит, что её нет. Иногда можно увидеть, что построенная зависимость соверешнно некорректна, не смотря на то, что коэффициент регрессии близок к максимальному. "
      ]
    }
  ]
}