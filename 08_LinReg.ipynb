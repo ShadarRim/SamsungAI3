{
  "nbformat": 4,
  "nbformat_minor": 0,
  "metadata": {
    "colab": {
      "provenance": []
    },
    "kernelspec": {
      "name": "python3",
      "display_name": "Python 3"
    },
    "language_info": {
      "name": "python"
    }
  },
  "cells": [
    {
      "cell_type": "markdown",
      "source": [
        "# Линейная регрессия\n",
        "\n",
        "Линейная регрессия - самый простой инструмент выявления зависимости между различными числовыми признакми. Часто линейную регрессию относят к методам машинного обучения, однако на самом деле - это не так. Восстановить линейную ргрессию - то есть линейную зависимость между различными числовыми данными - можно с помощью аналитического решения. Тем не менее, так как линейная ргрессия решает ту же задачу, что и машинное обучение - задачу восстановления зависимости между данными - для регрессии применяются те же термины и понятия, что и для машинного обучения. "
      ],
      "metadata": {
        "id": "WbfABtOGwVKm"
      }
    },
    {
      "cell_type": "markdown",
      "source": [
        "## Теоретические основания"
      ],
      "metadata": {
        "id": "kso3Cb1ewXZQ"
      }
    },
    {
      "cell_type": "markdown",
      "source": [
        "### Базовые понятия, используемые в машинном обучении\n",
        "\n",
        "Центральным понятием машинного обучения является _обучающая выборка_. Это примеры, на основе которых планируется строить общую закономерность. Она обозначается $X$ и состоит из $l$ пар объектов $x_{i}$ и известных ответов $y_{i}$:\n",
        "\n",
        "$$X = (x_{i}, y_{i})^l_{i=1}.$$\n",
        "\n",
        "Функция, отображающая пространство объектов $\\mathbb{X}$ в пространство ответов $\\mathbb{Y}$, позволяющая делать предсказания, называется _алгоритмом_ или _моделью_ и обозначается $a(x)$. Она принимает на вход объект и выдает ответ.\n",
        "\n",
        "Отметим, что $ x_{i} = (x^{1}, x^{2}, ..., x^{d}) $. То есть каждый объект $x_{i}$ состоит из ряда различных значений. "
      ],
      "metadata": {
        "id": "Es7c9HDYyzK_"
      }
    },
    {
      "cell_type": "markdown",
      "source": [
        "### Линейная регрессия"
      ],
      "metadata": {
        "id": "I4dkJPcQz8__"
      }
    },
    {
      "cell_type": "markdown",
      "source": [
        "#### Линейная модель"
      ],
      "metadata": {
        "id": "Novijz8p7NZQ"
      }
    },
    {
      "cell_type": "markdown",
      "source": [
        "Для начала введём проствую базовую линейную модель, записанную следующим образом:\n",
        "\n",
        "$$a(x) = w_{0} + w_{1}x^{1} + ... + w_{d}x^{d} = w_{0}+\\sum^{d}_{i=1}w_{i}x^{i}.$$\n",
        "\n",
        "Параметрами модели $a(x)$ являются веса $w_{i}$. Вес $w_{0}$ называется _свободным коэффициентом_, _сдвигом_ или _смещением_. Оптимизация модели заключается в подборе оптимальных значений весов. Сумму в формуле также можно описать как скалярное произведение вектора признаков $x=(x^{1},...,x^{d})$ на вектор весов $w=(w_{1},...,w_{d})$:\n",
        " \n",
        "$$a(x) = w_{0}+\\left \\langle w,x \\right \\rangle.$$\n",
        " \n",
        "Чтобы сделать модель однородной и упростить оптимизацию вводится фиктивный признак $x^{0}$ всегда равный единице. Таким образом: \n",
        "\n",
        "$$a(x) = \\left \\langle w,x \\right \\rangle = \\sum^{d}_{i=0}w_{i}x^{i} $$"
      ],
      "metadata": {
        "id": "2NiR3edlwbc-"
      }
    },
    {
      "cell_type": "markdown",
      "source": [
        "#### Функционал ошибки\n",
        "\n",
        "Для обучения модели и сравнения различных моделей между собой необходимо разработать математическую формулу и алгоритм расчёта ошибки модели. В рамках решения задачи оптимизации обычно ставится задача достижения минимального значения функционала ошибки. \n",
        "\n",
        "В качестве очевидного решения можно предложить такую формулу:\n",
        "$Q(a,y)=a(x)-y$. Однако, у неё есть принципиальная проблема: у такой функции не существует минимума. \n",
        "\n",
        "С учётом этого, логичным кажется решение использовать в качестве функции для расчёта ошибки модуль отклонения $Q(a,y)=|a(x)-y|$. Соответствующий функционал ошибки называется средним абсолютным отклонением (mean absolute error, MAE):\n",
        "\n",
        "$$Q(a,x) = \\frac{1}{l}\\sum^{l}_{i=1}|a(x_{i})-y_{i}|.$$\n",
        "\n",
        "Однако, мы уже разбирали, что функционал ошибки или функция потерь, должны быть дифференцируемы, а значит, необходимо предложить другой вариант базовой функции для расчёта ошибки: $Q(a,y)=(a(x)-y)^{2}$. Такая функция является гладкой и имеет производную в каждой точке, а ее минимум достигается при равенстве истинного ответа $y$ и прогноза $a(x)$.\n",
        "\n",
        "Основанный на этой функции функционал ошибки называется _среднеквадратичным отклонением_ (mean squared error, MSE):\n",
        "\n",
        "$$Q(a,x) = \\frac{1}{l}\\sum^{l}_{i=1}(a(x_{i})-y_{i})^{2}.$$"
      ],
      "metadata": {
        "id": "D8cCVq_i7QIN"
      }
    },
    {
      "cell_type": "markdown",
      "source": [
        "#### Вывод аналитической формулы для решения линейной регрессии \n",
        "\n",
        "Таким образом, задача расчёт оптимальных коэффициентов математически может быть записана следующим образом.\n",
        "\n",
        "$$Q(w,x) = \\frac{1}{l}\\sum^{l}_{i=1}(\\left \\langle w,x_{i} \\right \\rangle-y_{i})^{2} \\rightarrow \\underset{w}{\\text{min}}.$$\n",
        "\n",
        "Если вас смущает возникшая, казалось бы путаница, между различными записями, то целесообразно ввести матричную запись признаков:\n",
        "\n",
        "$$X = \\begin{pmatrix}\n",
        "x_{11} & ... & x_{1d}\\\\ \n",
        "... & ... & ...\\\\ \n",
        "x_{l1} & ... & x_{ld}\n",
        "\\end{pmatrix},$$\n",
        "\n",
        "$$y = \\begin{pmatrix}\n",
        "y_{1}\\\\ \n",
        "...\\\\ \n",
        "y_{l}\n",
        "\\end{pmatrix}.$$\n",
        "\n",
        "Таким образом, задача начинает выглядеть следующим образом\n",
        "\n",
        "$$Q(w, X) = \\frac{1}{l}||Xw-y||^{2}\\rightarrow \\underset{w}{\\text{min}},$$\n",
        "\n",
        "Взяв производную (от матрицы (!)) и прировняв её к нулю (точка экструма квадратинчной функции) можно получить значения коэффициентов:\n",
        "\n",
        "$$w = (X^{T}X)^{-1}X^{T}y.$$\n",
        "\n",
        "Если вам интересна более детальная математическая подоплёка смотрите её тут: [Вывод аналитической формулы решения уравнения линейной регрессии](https://habr.com/ru/company/ods/blog/323890/#metod-naimenshih-kvadratov) (см. пункт 1.2)"
      ],
      "metadata": {
        "id": "s7yufP5v-Jxv"
      }
    },
    {
      "cell_type": "markdown",
      "source": [
        "## Практика\n",
        "\n",
        "Построим простую модель линейной регрессии."
      ],
      "metadata": {
        "id": "MLA4FQRKEdrE"
      }
    },
    {
      "cell_type": "code",
      "source": [
        "import numpy as np \n",
        "from sklearn.linear_model import LinearRegression # именно в библиотеке sklearn содержится наиболее оптмаильный метод для вычисления линейной регрессии"
      ],
      "metadata": {
        "id": "4E_ltdElEigU"
      },
      "execution_count": null,
      "outputs": []
    },
    {
      "cell_type": "code",
      "source": [
        "x = np.array([5, 15, 25, 35, 45, 55]).reshape((-1, 1))\n",
        "y = np.array([5, 20, 14, 32, 22, 38])\n",
        "x"
      ],
      "metadata": {
        "colab": {
          "base_uri": "https://localhost:8080/"
        },
        "id": "gKGAWscbElCu",
        "outputId": "5b6b5206-b97c-403a-ec04-f3b5301a897f"
      },
      "execution_count": null,
      "outputs": [
        {
          "output_type": "execute_result",
          "data": {
            "text/plain": [
              "array([[ 5],\n",
              "       [15],\n",
              "       [25],\n",
              "       [35],\n",
              "       [45],\n",
              "       [55]])"
            ]
          },
          "metadata": {},
          "execution_count": 2
        }
      ]
    },
    {
      "cell_type": "code",
      "source": [
        "y"
      ],
      "metadata": {
        "colab": {
          "base_uri": "https://localhost:8080/"
        },
        "id": "sQ61IVQFEroE",
        "outputId": "2ef97dc9-671a-46ba-df81-64ef80344729"
      },
      "execution_count": null,
      "outputs": [
        {
          "output_type": "execute_result",
          "data": {
            "text/plain": [
              "array([ 5, 20, 14, 32, 22, 38])"
            ]
          },
          "metadata": {},
          "execution_count": 3
        }
      ]
    },
    {
      "cell_type": "code",
      "source": [
        "import matplotlib.pyplot as plt\n",
        "\n",
        "fig, ax = plt.subplots()\n",
        "\n",
        "ax.scatter(x, y)\n",
        "\n",
        "plt.show()"
      ],
      "metadata": {
        "colab": {
          "base_uri": "https://localhost:8080/",
          "height": 265
        },
        "id": "i6qqjWYhEujz",
        "outputId": "cbbf34c1-9d4c-46bb-975d-06efc6b63ea2"
      },
      "execution_count": null,
      "outputs": [
        {
          "output_type": "display_data",
          "data": {
            "text/plain": [
              "<Figure size 432x288 with 1 Axes>"
            ],
            "image/png": "[encoded data removed]"
          },
          "metadata": {
            "needs_background": "light"
          }
        }
      ]
    },
    {
      "cell_type": "code",
      "source": [
        "# Создаем модель линейной регрессии - т.е. прямой которая будет проходить через наши точки\n",
        "# Эта операция создаёт переменную model в качестве экземпляра LinearRegression\n",
        "\n",
        "model = LinearRegression()"
      ],
      "metadata": {
        "id": "vP7dJ-IOE5Ox"
      },
      "execution_count": null,
      "outputs": []
    },
    {
      "cell_type": "code",
      "source": [
        "# С помощью метода fit() применяем нашу модель к нашему набору данных - обучем модель\n",
        "# С помощью .fit() вычисляются оптимальные значение весов w₀ и w₁ и т.д, \n",
        "# используя существующие вход и выход (x и y) в качестве аргументов. \n",
        "\n",
        "model.fit(x, y)"
      ],
      "metadata": {
        "colab": {
          "base_uri": "https://localhost:8080/"
        },
        "id": "HnD4_0_4E7vE",
        "outputId": "adfcd64c-b346-4a35-a560-36b8116120d5"
      },
      "execution_count": null,
      "outputs": [
        {
          "output_type": "execute_result",
          "data": {
            "text/plain": [
              "LinearRegression()"
            ]
          },
          "metadata": {},
          "execution_count": 6
        }
      ]
    },
    {
      "cell_type": "code",
      "source": [
        "w0 = model.intercept_\n",
        "w0"
      ],
      "metadata": {
        "colab": {
          "base_uri": "https://localhost:8080/"
        },
        "id": "yoW15x2SE98T",
        "outputId": "8185dba2-1892-43c5-b8c8-32b364d4ce57"
      },
      "execution_count": null,
      "outputs": [
        {
          "output_type": "execute_result",
          "data": {
            "text/plain": [
              "5.633333333333329"
            ]
          },
          "metadata": {},
          "execution_count": 7
        }
      ]
    },
    {
      "cell_type": "code",
      "source": [
        "w1 = model.coef_\n",
        "w1"
      ],
      "metadata": {
        "colab": {
          "base_uri": "https://localhost:8080/"
        },
        "id": "njF7xCTAFJEX",
        "outputId": "6ed10a88-640a-4d5c-dc6d-71416b85e9b1"
      },
      "execution_count": null,
      "outputs": [
        {
          "output_type": "execute_result",
          "data": {
            "text/plain": [
              "array([0.54])"
            ]
          },
          "metadata": {},
          "execution_count": 8
        }
      ]
    },
    {
      "cell_type": "markdown",
      "source": [
        "$$ y = w_{0} + w_{1}x $$\n",
        "$$ y = 5.63 + 0.54*x $$"
      ],
      "metadata": {
        "id": "3_J2zN7FHQKD"
      }
    },
    {
      "cell_type": "markdown",
      "source": [
        "Проверим результаты прямыми вычислениями"
      ],
      "metadata": {
        "id": "8LfnpVbdj8sF"
      }
    },
    {
      "cell_type": "code",
      "source": [
        "np.linalg.inv(x.T@x)@x.T@y"
      ],
      "metadata": {
        "colab": {
          "base_uri": "https://localhost:8080/"
        },
        "id": "ovhEtrBnj36o",
        "outputId": "7f96dd19-a7be-45a5-9119-c1fb243e0787"
      },
      "execution_count": null,
      "outputs": [
        {
          "output_type": "execute_result",
          "data": {
            "text/plain": [
              "array([0.68181818])"
            ]
          },
          "metadata": {},
          "execution_count": 9
        }
      ]
    },
    {
      "cell_type": "code",
      "source": [
        "x1 = np.array([[1, 5], [1, 15], [1, 25], [1, 35], [1, 45], [1, 55]])\n",
        "x1"
      ],
      "metadata": {
        "colab": {
          "base_uri": "https://localhost:8080/"
        },
        "id": "wcowqPXojzS_",
        "outputId": "52a6e3ae-77da-433d-8fca-2985122694ff"
      },
      "execution_count": null,
      "outputs": [
        {
          "output_type": "execute_result",
          "data": {
            "text/plain": [
              "array([[ 1,  5],\n",
              "       [ 1, 15],\n",
              "       [ 1, 25],\n",
              "       [ 1, 35],\n",
              "       [ 1, 45],\n",
              "       [ 1, 55]])"
            ]
          },
          "metadata": {},
          "execution_count": 10
        }
      ]
    },
    {
      "cell_type": "code",
      "source": [
        "np.linalg.inv(x1.T@x1)@x1.T@y"
      ],
      "metadata": {
        "colab": {
          "base_uri": "https://localhost:8080/"
        },
        "id": "dpxPsTVHj2fw",
        "outputId": "b9ae9abf-e940-4f68-d387-535f2b9e5b0f"
      },
      "execution_count": null,
      "outputs": [
        {
          "output_type": "execute_result",
          "data": {
            "text/plain": [
              "array([5.63333333, 0.54      ])"
            ]
          },
          "metadata": {},
          "execution_count": 11
        }
      ]
    },
    {
      "cell_type": "markdown",
      "source": [
        "Визуализируем результат"
      ],
      "metadata": {
        "id": "YA5sjgOWkBp8"
      }
    },
    {
      "cell_type": "code",
      "source": [
        "# предсказание результатов \n",
        "y_pred = model.predict(x)\n",
        "# y = np.array([5, 20, 14, 32, 22, 38])\n",
        "y_pred"
      ],
      "metadata": {
        "colab": {
          "base_uri": "https://localhost:8080/"
        },
        "id": "c57bDoBgFLxo",
        "outputId": "30581d08-6164-461a-ad52-4be0cadebfbe"
      },
      "execution_count": null,
      "outputs": [
        {
          "output_type": "execute_result",
          "data": {
            "text/plain": [
              "array([ 8.33333333, 13.73333333, 19.13333333, 24.53333333, 29.93333333,\n",
              "       35.33333333])"
            ]
          },
          "metadata": {},
          "execution_count": 9
        }
      ]
    },
    {
      "cell_type": "code",
      "source": [
        "plt.scatter(x, y)\n",
        "plt.plot(x, y_pred, color='red', linewidth=2);\n",
        "plt.show()"
      ],
      "metadata": {
        "colab": {
          "base_uri": "https://localhost:8080/",
          "height": 265
        },
        "id": "G1_N5RE2FREM",
        "outputId": "5fcd06d6-a7fd-4d00-961c-4e5e057fdef0"
      },
      "execution_count": null,
      "outputs": [
        {
          "output_type": "display_data",
          "data": {
            "text/plain": [
              "<Figure size 432x288 with 1 Axes>"
            ],
            "image/png": "[encoded data removed]"
          },
          "metadata": {
            "needs_background": "light"
          }
        }
      ]
    },
    {
      "cell_type": "markdown",
      "source": [
        "### Пример того, почему регрессия \"Линейная\""
      ],
      "metadata": {
        "id": "iVIA1lmxJull"
      }
    },
    {
      "cell_type": "code",
      "source": [
        "x = np.array([-4, -3, -2, -1, 0, 1, 2, 3, 4]).reshape((-1, 1))\n",
        "y = np.array([16, 9, 4, 1, 0, 1, 4, 9, 16])"
      ],
      "metadata": {
        "id": "XWDPq87_J1PF"
      },
      "execution_count": null,
      "outputs": []
    },
    {
      "cell_type": "code",
      "source": [
        "model1 = LinearRegression()"
      ],
      "metadata": {
        "id": "QeHLP5qIKCMK"
      },
      "execution_count": null,
      "outputs": []
    },
    {
      "cell_type": "code",
      "source": [
        "model1.fit(x, y)"
      ],
      "metadata": {
        "colab": {
          "base_uri": "https://localhost:8080/"
        },
        "id": "y8_BDqjQKEll",
        "outputId": "4714dcdb-ad62-48cf-d51d-2d7ab87cdef4"
      },
      "execution_count": null,
      "outputs": [
        {
          "output_type": "execute_result",
          "data": {
            "text/plain": [
              "LinearRegression()"
            ]
          },
          "metadata": {},
          "execution_count": 16
        }
      ]
    },
    {
      "cell_type": "code",
      "source": [
        "y_pred = model1.predict(x)"
      ],
      "metadata": {
        "id": "iA6I2EKbKLe5"
      },
      "execution_count": null,
      "outputs": []
    },
    {
      "cell_type": "code",
      "source": [
        "plt.scatter(x, y)\n",
        "plt.plot(x, y_pred, color='red', linewidth=2);\n",
        "plt.show()"
      ],
      "metadata": {
        "colab": {
          "base_uri": "https://localhost:8080/",
          "height": 265
        },
        "id": "Jh-TmTUoKNYL",
        "outputId": "4dd9aa4f-7e59-47aa-e821-e964e8e4924d"
      },
      "execution_count": null,
      "outputs": [
        {
          "output_type": "display_data",
          "data": {
            "text/plain": [
              "<Figure size 432x288 with 1 Axes>"
            ],
            "image/png": "[encoded data removed]"
          },
          "metadata": {
            "needs_background": "light"
          }
        }
      ]
    }
  ]
}