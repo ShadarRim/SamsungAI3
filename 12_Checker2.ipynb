{
 "cells": [
  {
   "cell_type": "code",
   "execution_count": 24,
   "id": "b8d37d3f",
   "metadata": {},
   "outputs": [],
   "source": [
    "import pandas as pd \n",
    "import numpy as np\n",
    "import os\n",
    "from sklearn.metrics import mean_squared_error as mse, r2_score as r2\n",
    "from sklearn.metrics import accuracy_score, precision_score, recall_score, f1_score"
   ]
  },
  {
   "cell_type": "code",
   "execution_count": 4,
   "id": "8ceacc86",
   "metadata": {},
   "outputs": [],
   "source": [
    "df_res = pd.read_csv('../ans_11.csv')\n",
    "true_values = df_res['is_canceled']"
   ]
  },
  {
   "cell_type": "code",
   "execution_count": 5,
   "id": "066d46bd",
   "metadata": {},
   "outputs": [
    {
     "data": {
      "text/plain": [
       "['00Akimov.csv', '00Bolgov.csv', '00Shelestov.csv', '00Zakharov.csv']"
      ]
     },
     "execution_count": 5,
     "metadata": {},
     "output_type": "execute_result"
    }
   ],
   "source": [
    "os.listdir(\"./221121_Stud_res\")"
   ]
  },
  {
   "cell_type": "code",
   "execution_count": 25,
   "id": "8bb8dfbc",
   "metadata": {},
   "outputs": [
    {
     "name": "stdout",
     "output_type": "stream",
     "text": [
      "00Akimov.csv\n",
      "00Bolgov.csv\n",
      "00Shelestov.csv\n",
      "00Zakharov.csv\n"
     ]
    }
   ],
   "source": [
    "res_list = []\n",
    "cur_dict = {}\n",
    "\n",
    "for elem in os.listdir(\"./221121_Stud_res\"):\n",
    "    print(elem)\n",
    "    df_test = pd.read_csv(f'./221121_Stud_res/{elem}')\n",
    "    #print(df_test)\n",
    "    pred_values = df_test['is_canceled']\n",
    "    cur_dict['Att'] = elem\n",
    "    cur_dict['Res_acc'] = round(accuracy_score(true_values, pred_values), 5)\n",
    "    cur_dict['Res_f1'] = round(f1_score(true_values, pred_values), 5)\n",
    "    res_list.append(cur_dict.copy())\n",
    "    cur_duct = {}"
   ]
  },
  {
   "cell_type": "code",
   "execution_count": 27,
   "id": "74c184c3",
   "metadata": {},
   "outputs": [
    {
     "data": {
      "text/html": [
       "<div>\n",
       "<style scoped>\n",
       "    .dataframe tbody tr th:only-of-type {\n",
       "        vertical-align: middle;\n",
       "    }\n",
       "\n",
       "    .dataframe tbody tr th {\n",
       "        vertical-align: top;\n",
       "    }\n",
       "\n",
       "    .dataframe thead th {\n",
       "        text-align: right;\n",
       "    }\n",
       "</style>\n",
       "<table border=\"1\" class=\"dataframe\">\n",
       "  <thead>\n",
       "    <tr style=\"text-align: right;\">\n",
       "      <th></th>\n",
       "      <th>Att</th>\n",
       "      <th>Res_acc</th>\n",
       "      <th>Res_f1</th>\n",
       "    </tr>\n",
       "  </thead>\n",
       "  <tbody>\n",
       "    <tr>\n",
       "      <th>2</th>\n",
       "      <td>00Shelestov.csv</td>\n",
       "      <td>0.78597</td>\n",
       "      <td>0.85839</td>\n",
       "    </tr>\n",
       "    <tr>\n",
       "      <th>3</th>\n",
       "      <td>00Zakharov.csv</td>\n",
       "      <td>0.64791</td>\n",
       "      <td>0.70304</td>\n",
       "    </tr>\n",
       "    <tr>\n",
       "      <th>0</th>\n",
       "      <td>00Akimov.csv</td>\n",
       "      <td>0.57075</td>\n",
       "      <td>0.58888</td>\n",
       "    </tr>\n",
       "    <tr>\n",
       "      <th>1</th>\n",
       "      <td>00Bolgov.csv</td>\n",
       "      <td>0.55541</td>\n",
       "      <td>0.55849</td>\n",
       "    </tr>\n",
       "  </tbody>\n",
       "</table>\n",
       "</div>"
      ],
      "text/plain": [
       "               Att  Res_acc   Res_f1\n",
       "2  00Shelestov.csv  0.78597  0.85839\n",
       "3   00Zakharov.csv  0.64791  0.70304\n",
       "0     00Akimov.csv  0.57075  0.58888\n",
       "1     00Bolgov.csv  0.55541  0.55849"
      ]
     },
     "execution_count": 27,
     "metadata": {},
     "output_type": "execute_result"
    }
   ],
   "source": [
    "pd.DataFrame(res_list).sort_values('Res_f1', ascending=False)"
   ]
  }
 ],
 "metadata": {
  "kernelspec": {
   "display_name": "Python 3 (ipykernel)",
   "language": "python",
   "name": "python3"
  },
  "language_info": {
   "codemirror_mode": {
    "name": "ipython",
    "version": 3
   },
   "file_extension": ".py",
   "mimetype": "text/x-python",
   "name": "python",
   "nbconvert_exporter": "python",
   "pygments_lexer": "ipython3",
   "version": "3.8.10"
  }
 },
 "nbformat": 4,
 "nbformat_minor": 5
}
