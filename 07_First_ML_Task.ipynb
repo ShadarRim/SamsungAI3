{
 "cells": [
  {
   "cell_type": "markdown",
   "metadata": {
    "id": "tFwZqvyxw991"
   },
   "source": [
    "# Базовое решение Задачи 1 \"Изучение критической температуры сверхпроводников\""
   ]
  },
  {
   "cell_type": "markdown",
   "metadata": {
    "id": "ZNUGwea6xHzz"
   },
   "source": [
    "Данные о сверхпроводниках взяты из базы данных сверхпроводящих материалов, собранной Национальным институтом материаловедения Японии NIMS. \n",
    "\n",
    "Данные содержат сведения о **21 263 сверхпроводников**.\n",
    "\n",
    "*   Тренировочный набор - **17010** строк.\n",
    "*   Тестовый набор - **4253** строк.\n",
    "\n",
    "Для каждого сверхпроводника в данных приведены полная химическая формула сверхпроводника, а также 8 основных химических свойств (абсолютное значение, среднее, взвешенное среднее и так далее): атомная масса, энергия ионизации, радиус атома, плотность, удельная теплота плавления, энергия сродства к электрону, теплопроводность, валентность.\n"
   ]
  },
  {
   "cell_type": "markdown",
   "metadata": {
    "id": "zrPvLvvpzFcw"
   },
   "source": [
    "## Считывание данных"
   ]
  },
  {
   "cell_type": "code",
   "execution_count": 1,
   "metadata": {
    "colab": {
     "base_uri": "https://localhost:8080/",
     "height": 176,
     "resources": {
      "http://localhost:8080/nbextensions/google.colab/files.js": {
       "data": "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",
       "headers": [
        [
         "content-type",
         "application/javascript"
        ]
       ],
       "ok": true,
       "status": 200,
       "status_text": ""
      }
     }
    },
    "id": "Go5znzy6ZMCG",
    "outputId": "ef50223f-06dc-47ab-ece8-aa983c4774b1"
   },
   "outputs": [
    {
     "data": {
      "text/html": [
       "\n",
       "     <input type=\"file\" id=\"files-253834c0-f979-46fd-86cb-00d22a3b80f8\" name=\"files[]\" multiple disabled\n",
       "        style=\"border:none\" />\n",
       "     <output id=\"result-253834c0-f979-46fd-86cb-00d22a3b80f8\">\n",
       "      Upload widget is only available when the cell has been executed in the\n",
       "      current browser session. Please rerun this cell to enable.\n",
       "      </output>\n",
       "      <script src=\"/nbextensions/google.colab/files.js\"></script> "
      ],
      "text/plain": [
       "<IPython.core.display.HTML object>"
      ]
     },
     "metadata": {},
     "output_type": "display_data"
    },
    {
     "name": "stdout",
     "output_type": "stream",
     "text": [
      "Saving formula_test.csv to formula_test.csv\n",
      "Saving formula_train.csv to formula_train.csv\n",
      "Saving test.csv to test.csv\n",
      "Saving train.csv to train.csv\n"
     ]
    }
   ],
   "source": [
    "from google.colab import files\n",
    "uploaded = files.upload()"
   ]
  },
  {
   "cell_type": "code",
   "execution_count": 30,
   "metadata": {
    "id": "ujjYU1ObbX4r"
   },
   "outputs": [],
   "source": [
    "# иморитирование всех необходимых библиотек\n",
    "import pandas as pd\n",
    "import seaborn as sns\n",
    "import matplotlib.pyplot as plt"
   ]
  },
  {
   "cell_type": "code",
   "execution_count": 31,
   "metadata": {
    "colab": {
     "base_uri": "https://localhost:8080/"
    },
    "id": "_-oRk0f2bSFc",
    "outputId": "a9dd7f08-e3cd-4ffa-e2c1-9eeb4f627283"
   },
   "outputs": [
    {
     "name": "stdout",
     "output_type": "stream",
     "text": [
      "Train dataset shape: (17010, 82)\n",
      "Train_formula dataset shape: (17010, 88)\n"
     ]
    }
   ],
   "source": [
    "# Считываем тренировочные данные\n",
    "train = pd.read_csv(\"train.csv\")\n",
    "formula_train = pd.read_csv(\"formula_train.csv\")\n",
    "\n",
    "print(f\"Train dataset shape: {train.shape}\")\n",
    "print(f\"Train_formula dataset shape: {formula_train.shape}\")"
   ]
  },
  {
   "cell_type": "code",
   "execution_count": 32,
   "metadata": {
    "colab": {
     "base_uri": "https://localhost:8080/"
    },
    "id": "cdy4sxmFr8Ai",
    "outputId": "d52c2046-7334-4a69-ff82-8c2f32799b58"
   },
   "outputs": [
    {
     "name": "stdout",
     "output_type": "stream",
     "text": [
      "Test dataset shape: (4253, 81)\n",
      "Test_formula dataset shape: (4253, 87)\n"
     ]
    }
   ],
   "source": [
    "# Считываем тестовые данные\n",
    "test = pd.read_csv(\"test.csv\")\n",
    "formula_test = pd.read_csv(\"formula_test.csv\")\n",
    "\n",
    "print(f\"Test dataset shape: {test.shape}\")\n",
    "print(f\"Test_formula dataset shape: {formula_test.shape}\")"
   ]
  },
  {
   "cell_type": "code",
   "execution_count": 33,
   "metadata": {
    "colab": {
     "base_uri": "https://localhost:8080/",
     "height": 300
    },
    "id": "Fti3rQEJy405",
    "outputId": "f96d1111-0c8f-4c98-d61a-24e3448bf437"
   },
   "outputs": [
    {
     "data": {
      "text/html": [
       "<div>\n",
       "<style scoped>\n",
       "    .dataframe tbody tr th:only-of-type {\n",
       "        vertical-align: middle;\n",
       "    }\n",
       "\n",
       "    .dataframe tbody tr th {\n",
       "        vertical-align: top;\n",
       "    }\n",
       "\n",
       "    .dataframe thead th {\n",
       "        text-align: right;\n",
       "    }\n",
       "</style>\n",
       "<table border=\"1\" class=\"dataframe\">\n",
       "  <thead>\n",
       "    <tr style=\"text-align: right;\">\n",
       "      <th></th>\n",
       "      <th>number_of_elements</th>\n",
       "      <th>mean_atomic_mass</th>\n",
       "      <th>wtd_mean_atomic_mass</th>\n",
       "      <th>gmean_atomic_mass</th>\n",
       "      <th>wtd_gmean_atomic_mass</th>\n",
       "      <th>entropy_atomic_mass</th>\n",
       "      <th>wtd_entropy_atomic_mass</th>\n",
       "      <th>range_atomic_mass</th>\n",
       "      <th>wtd_range_atomic_mass</th>\n",
       "      <th>std_atomic_mass</th>\n",
       "      <th>...</th>\n",
       "      <th>wtd_mean_Valence</th>\n",
       "      <th>gmean_Valence</th>\n",
       "      <th>wtd_gmean_Valence</th>\n",
       "      <th>entropy_Valence</th>\n",
       "      <th>wtd_entropy_Valence</th>\n",
       "      <th>range_Valence</th>\n",
       "      <th>wtd_range_Valence</th>\n",
       "      <th>std_Valence</th>\n",
       "      <th>wtd_std_Valence</th>\n",
       "      <th>critical_temp</th>\n",
       "    </tr>\n",
       "  </thead>\n",
       "  <tbody>\n",
       "    <tr>\n",
       "      <th>0</th>\n",
       "      <td>4</td>\n",
       "      <td>88.944468</td>\n",
       "      <td>57.862692</td>\n",
       "      <td>66.361592</td>\n",
       "      <td>36.116612</td>\n",
       "      <td>1.181795</td>\n",
       "      <td>1.062396</td>\n",
       "      <td>122.90607</td>\n",
       "      <td>31.794921</td>\n",
       "      <td>51.968828</td>\n",
       "      <td>...</td>\n",
       "      <td>2.257143</td>\n",
       "      <td>2.213364</td>\n",
       "      <td>2.219783</td>\n",
       "      <td>1.368922</td>\n",
       "      <td>1.066221</td>\n",
       "      <td>1</td>\n",
       "      <td>1.085714</td>\n",
       "      <td>0.433013</td>\n",
       "      <td>0.437059</td>\n",
       "      <td>29.0</td>\n",
       "    </tr>\n",
       "    <tr>\n",
       "      <th>1</th>\n",
       "      <td>5</td>\n",
       "      <td>92.729214</td>\n",
       "      <td>58.518416</td>\n",
       "      <td>73.132787</td>\n",
       "      <td>36.396602</td>\n",
       "      <td>1.449309</td>\n",
       "      <td>1.057755</td>\n",
       "      <td>122.90607</td>\n",
       "      <td>36.161939</td>\n",
       "      <td>47.094633</td>\n",
       "      <td>...</td>\n",
       "      <td>2.257143</td>\n",
       "      <td>1.888175</td>\n",
       "      <td>2.210679</td>\n",
       "      <td>1.557113</td>\n",
       "      <td>1.047221</td>\n",
       "      <td>2</td>\n",
       "      <td>1.128571</td>\n",
       "      <td>0.632456</td>\n",
       "      <td>0.468606</td>\n",
       "      <td>26.0</td>\n",
       "    </tr>\n",
       "    <tr>\n",
       "      <th>2</th>\n",
       "      <td>4</td>\n",
       "      <td>88.944468</td>\n",
       "      <td>57.885242</td>\n",
       "      <td>66.361592</td>\n",
       "      <td>36.122509</td>\n",
       "      <td>1.181795</td>\n",
       "      <td>0.975980</td>\n",
       "      <td>122.90607</td>\n",
       "      <td>35.741099</td>\n",
       "      <td>51.968828</td>\n",
       "      <td>...</td>\n",
       "      <td>2.271429</td>\n",
       "      <td>2.213364</td>\n",
       "      <td>2.232679</td>\n",
       "      <td>1.368922</td>\n",
       "      <td>1.029175</td>\n",
       "      <td>1</td>\n",
       "      <td>1.114286</td>\n",
       "      <td>0.433013</td>\n",
       "      <td>0.444697</td>\n",
       "      <td>19.0</td>\n",
       "    </tr>\n",
       "    <tr>\n",
       "      <th>3</th>\n",
       "      <td>4</td>\n",
       "      <td>88.944468</td>\n",
       "      <td>57.873967</td>\n",
       "      <td>66.361592</td>\n",
       "      <td>36.119560</td>\n",
       "      <td>1.181795</td>\n",
       "      <td>1.022291</td>\n",
       "      <td>122.90607</td>\n",
       "      <td>33.768010</td>\n",
       "      <td>51.968828</td>\n",
       "      <td>...</td>\n",
       "      <td>2.264286</td>\n",
       "      <td>2.213364</td>\n",
       "      <td>2.226222</td>\n",
       "      <td>1.368922</td>\n",
       "      <td>1.048834</td>\n",
       "      <td>1</td>\n",
       "      <td>1.100000</td>\n",
       "      <td>0.433013</td>\n",
       "      <td>0.440952</td>\n",
       "      <td>22.0</td>\n",
       "    </tr>\n",
       "    <tr>\n",
       "      <th>4</th>\n",
       "      <td>4</td>\n",
       "      <td>88.944468</td>\n",
       "      <td>57.840143</td>\n",
       "      <td>66.361592</td>\n",
       "      <td>36.110716</td>\n",
       "      <td>1.181795</td>\n",
       "      <td>1.129224</td>\n",
       "      <td>122.90607</td>\n",
       "      <td>27.848743</td>\n",
       "      <td>51.968828</td>\n",
       "      <td>...</td>\n",
       "      <td>2.242857</td>\n",
       "      <td>2.213364</td>\n",
       "      <td>2.206963</td>\n",
       "      <td>1.368922</td>\n",
       "      <td>1.096052</td>\n",
       "      <td>1</td>\n",
       "      <td>1.057143</td>\n",
       "      <td>0.433013</td>\n",
       "      <td>0.428809</td>\n",
       "      <td>23.0</td>\n",
       "    </tr>\n",
       "  </tbody>\n",
       "</table>\n",
       "<p>5 rows × 82 columns</p>\n",
       "</div>"
      ],
      "text/plain": [
       "   number_of_elements  mean_atomic_mass  wtd_mean_atomic_mass  \\\n",
       "0                   4         88.944468             57.862692   \n",
       "1                   5         92.729214             58.518416   \n",
       "2                   4         88.944468             57.885242   \n",
       "3                   4         88.944468             57.873967   \n",
       "4                   4         88.944468             57.840143   \n",
       "\n",
       "   gmean_atomic_mass  wtd_gmean_atomic_mass  entropy_atomic_mass  \\\n",
       "0          66.361592              36.116612             1.181795   \n",
       "1          73.132787              36.396602             1.449309   \n",
       "2          66.361592              36.122509             1.181795   \n",
       "3          66.361592              36.119560             1.181795   \n",
       "4          66.361592              36.110716             1.181795   \n",
       "\n",
       "   wtd_entropy_atomic_mass  range_atomic_mass  wtd_range_atomic_mass  \\\n",
       "0                 1.062396          122.90607              31.794921   \n",
       "1                 1.057755          122.90607              36.161939   \n",
       "2                 0.975980          122.90607              35.741099   \n",
       "3                 1.022291          122.90607              33.768010   \n",
       "4                 1.129224          122.90607              27.848743   \n",
       "\n",
       "   std_atomic_mass  ...  wtd_mean_Valence  gmean_Valence  wtd_gmean_Valence  \\\n",
       "0        51.968828  ...          2.257143       2.213364           2.219783   \n",
       "1        47.094633  ...          2.257143       1.888175           2.210679   \n",
       "2        51.968828  ...          2.271429       2.213364           2.232679   \n",
       "3        51.968828  ...          2.264286       2.213364           2.226222   \n",
       "4        51.968828  ...          2.242857       2.213364           2.206963   \n",
       "\n",
       "   entropy_Valence  wtd_entropy_Valence  range_Valence  wtd_range_Valence  \\\n",
       "0         1.368922             1.066221              1           1.085714   \n",
       "1         1.557113             1.047221              2           1.128571   \n",
       "2         1.368922             1.029175              1           1.114286   \n",
       "3         1.368922             1.048834              1           1.100000   \n",
       "4         1.368922             1.096052              1           1.057143   \n",
       "\n",
       "   std_Valence  wtd_std_Valence  critical_temp  \n",
       "0     0.433013         0.437059           29.0  \n",
       "1     0.632456         0.468606           26.0  \n",
       "2     0.433013         0.444697           19.0  \n",
       "3     0.433013         0.440952           22.0  \n",
       "4     0.433013         0.428809           23.0  \n",
       "\n",
       "[5 rows x 82 columns]"
      ]
     },
     "execution_count": 33,
     "metadata": {},
     "output_type": "execute_result"
    }
   ],
   "source": [
    "# Посмотрим как выглядят данные\n",
    "train.head()"
   ]
  },
  {
   "cell_type": "code",
   "execution_count": 34,
   "metadata": {
    "colab": {
     "base_uri": "https://localhost:8080/",
     "height": 236
    },
    "id": "q-rVoyaKskJ6",
    "outputId": "c5407257-68c6-41ad-b9b7-d63dacfb2e4c"
   },
   "outputs": [
    {
     "data": {
      "text/html": [
       "<div>\n",
       "<style scoped>\n",
       "    .dataframe tbody tr th:only-of-type {\n",
       "        vertical-align: middle;\n",
       "    }\n",
       "\n",
       "    .dataframe tbody tr th {\n",
       "        vertical-align: top;\n",
       "    }\n",
       "\n",
       "    .dataframe thead th {\n",
       "        text-align: right;\n",
       "    }\n",
       "</style>\n",
       "<table border=\"1\" class=\"dataframe\">\n",
       "  <thead>\n",
       "    <tr style=\"text-align: right;\">\n",
       "      <th></th>\n",
       "      <th>H</th>\n",
       "      <th>He</th>\n",
       "      <th>Li</th>\n",
       "      <th>Be</th>\n",
       "      <th>B</th>\n",
       "      <th>C</th>\n",
       "      <th>N</th>\n",
       "      <th>O</th>\n",
       "      <th>F</th>\n",
       "      <th>Ne</th>\n",
       "      <th>...</th>\n",
       "      <th>Au</th>\n",
       "      <th>Hg</th>\n",
       "      <th>Tl</th>\n",
       "      <th>Pb</th>\n",
       "      <th>Bi</th>\n",
       "      <th>Po</th>\n",
       "      <th>At</th>\n",
       "      <th>Rn</th>\n",
       "      <th>critical_temp</th>\n",
       "      <th>material</th>\n",
       "    </tr>\n",
       "  </thead>\n",
       "  <tbody>\n",
       "    <tr>\n",
       "      <th>0</th>\n",
       "      <td>0.0</td>\n",
       "      <td>0</td>\n",
       "      <td>0.0</td>\n",
       "      <td>0.0</td>\n",
       "      <td>0.0</td>\n",
       "      <td>0.0</td>\n",
       "      <td>0.0</td>\n",
       "      <td>4.0</td>\n",
       "      <td>0.0</td>\n",
       "      <td>0</td>\n",
       "      <td>...</td>\n",
       "      <td>0.0</td>\n",
       "      <td>0.0</td>\n",
       "      <td>0.0</td>\n",
       "      <td>0.0</td>\n",
       "      <td>0.0</td>\n",
       "      <td>0</td>\n",
       "      <td>0</td>\n",
       "      <td>0</td>\n",
       "      <td>29.0</td>\n",
       "      <td>Ba0.2La1.8Cu1O4</td>\n",
       "    </tr>\n",
       "    <tr>\n",
       "      <th>1</th>\n",
       "      <td>0.0</td>\n",
       "      <td>0</td>\n",
       "      <td>0.0</td>\n",
       "      <td>0.0</td>\n",
       "      <td>0.0</td>\n",
       "      <td>0.0</td>\n",
       "      <td>0.0</td>\n",
       "      <td>4.0</td>\n",
       "      <td>0.0</td>\n",
       "      <td>0</td>\n",
       "      <td>...</td>\n",
       "      <td>0.0</td>\n",
       "      <td>0.0</td>\n",
       "      <td>0.0</td>\n",
       "      <td>0.0</td>\n",
       "      <td>0.0</td>\n",
       "      <td>0</td>\n",
       "      <td>0</td>\n",
       "      <td>0</td>\n",
       "      <td>26.0</td>\n",
       "      <td>Ba0.1La1.9Ag0.1Cu0.9O4</td>\n",
       "    </tr>\n",
       "    <tr>\n",
       "      <th>2</th>\n",
       "      <td>0.0</td>\n",
       "      <td>0</td>\n",
       "      <td>0.0</td>\n",
       "      <td>0.0</td>\n",
       "      <td>0.0</td>\n",
       "      <td>0.0</td>\n",
       "      <td>0.0</td>\n",
       "      <td>4.0</td>\n",
       "      <td>0.0</td>\n",
       "      <td>0</td>\n",
       "      <td>...</td>\n",
       "      <td>0.0</td>\n",
       "      <td>0.0</td>\n",
       "      <td>0.0</td>\n",
       "      <td>0.0</td>\n",
       "      <td>0.0</td>\n",
       "      <td>0</td>\n",
       "      <td>0</td>\n",
       "      <td>0</td>\n",
       "      <td>19.0</td>\n",
       "      <td>Ba0.1La1.9Cu1O4</td>\n",
       "    </tr>\n",
       "    <tr>\n",
       "      <th>3</th>\n",
       "      <td>0.0</td>\n",
       "      <td>0</td>\n",
       "      <td>0.0</td>\n",
       "      <td>0.0</td>\n",
       "      <td>0.0</td>\n",
       "      <td>0.0</td>\n",
       "      <td>0.0</td>\n",
       "      <td>4.0</td>\n",
       "      <td>0.0</td>\n",
       "      <td>0</td>\n",
       "      <td>...</td>\n",
       "      <td>0.0</td>\n",
       "      <td>0.0</td>\n",
       "      <td>0.0</td>\n",
       "      <td>0.0</td>\n",
       "      <td>0.0</td>\n",
       "      <td>0</td>\n",
       "      <td>0</td>\n",
       "      <td>0</td>\n",
       "      <td>22.0</td>\n",
       "      <td>Ba0.15La1.85Cu1O4</td>\n",
       "    </tr>\n",
       "    <tr>\n",
       "      <th>4</th>\n",
       "      <td>0.0</td>\n",
       "      <td>0</td>\n",
       "      <td>0.0</td>\n",
       "      <td>0.0</td>\n",
       "      <td>0.0</td>\n",
       "      <td>0.0</td>\n",
       "      <td>0.0</td>\n",
       "      <td>4.0</td>\n",
       "      <td>0.0</td>\n",
       "      <td>0</td>\n",
       "      <td>...</td>\n",
       "      <td>0.0</td>\n",
       "      <td>0.0</td>\n",
       "      <td>0.0</td>\n",
       "      <td>0.0</td>\n",
       "      <td>0.0</td>\n",
       "      <td>0</td>\n",
       "      <td>0</td>\n",
       "      <td>0</td>\n",
       "      <td>23.0</td>\n",
       "      <td>Ba0.3La1.7Cu1O4</td>\n",
       "    </tr>\n",
       "  </tbody>\n",
       "</table>\n",
       "<p>5 rows × 88 columns</p>\n",
       "</div>"
      ],
      "text/plain": [
       "     H  He   Li   Be    B    C    N    O    F  Ne  ...   Au   Hg   Tl   Pb  \\\n",
       "0  0.0   0  0.0  0.0  0.0  0.0  0.0  4.0  0.0   0  ...  0.0  0.0  0.0  0.0   \n",
       "1  0.0   0  0.0  0.0  0.0  0.0  0.0  4.0  0.0   0  ...  0.0  0.0  0.0  0.0   \n",
       "2  0.0   0  0.0  0.0  0.0  0.0  0.0  4.0  0.0   0  ...  0.0  0.0  0.0  0.0   \n",
       "3  0.0   0  0.0  0.0  0.0  0.0  0.0  4.0  0.0   0  ...  0.0  0.0  0.0  0.0   \n",
       "4  0.0   0  0.0  0.0  0.0  0.0  0.0  4.0  0.0   0  ...  0.0  0.0  0.0  0.0   \n",
       "\n",
       "    Bi  Po  At  Rn  critical_temp                material  \n",
       "0  0.0   0   0   0           29.0         Ba0.2La1.8Cu1O4  \n",
       "1  0.0   0   0   0           26.0  Ba0.1La1.9Ag0.1Cu0.9O4  \n",
       "2  0.0   0   0   0           19.0         Ba0.1La1.9Cu1O4  \n",
       "3  0.0   0   0   0           22.0       Ba0.15La1.85Cu1O4  \n",
       "4  0.0   0   0   0           23.0         Ba0.3La1.7Cu1O4  \n",
       "\n",
       "[5 rows x 88 columns]"
      ]
     },
     "execution_count": 34,
     "metadata": {},
     "output_type": "execute_result"
    }
   ],
   "source": [
    "formula_train.head()"
   ]
  },
  {
   "cell_type": "markdown",
   "metadata": {
    "id": "a7evjU4pzJN5"
   },
   "source": [
    "## Исследование данных"
   ]
  },
  {
   "cell_type": "markdown",
   "metadata": {
    "id": "z34e4zP2zLPe"
   },
   "source": [
    "Прежде чем переходить к непосредственному построению модели, в первую очередь необходимо исследовать имеющихся у вас набор данных:\n",
    "1. Какую задачу вы решаете (классификация, регрессия) и какая переменная является целевой?\n",
    "2. Сколько переменных в данных и какого они типа?\n",
    "3. Имеются ли в данных пропуски?"
   ]
  },
  {
   "cell_type": "code",
   "execution_count": 35,
   "metadata": {
    "colab": {
     "base_uri": "https://localhost:8080/"
    },
    "id": "6L9tA6Yrz5tV",
    "outputId": "622bfe99-20b3-4022-b191-dcbf4142395f"
   },
   "outputs": [
    {
     "name": "stdout",
     "output_type": "stream",
     "text": [
      "Number of missing values in train datasets:\n",
      "number_of_elements       0\n",
      "mean_atomic_mass         0\n",
      "wtd_mean_atomic_mass     0\n",
      "gmean_atomic_mass        0\n",
      "wtd_gmean_atomic_mass    0\n",
      "                        ..\n",
      "range_Valence            0\n",
      "wtd_range_Valence        0\n",
      "std_Valence              0\n",
      "wtd_std_Valence          0\n",
      "critical_temp            0\n",
      "Length: 82, dtype: int64\n",
      "H                0\n",
      "He               0\n",
      "Li               0\n",
      "Be               0\n",
      "B                0\n",
      "                ..\n",
      "Po               0\n",
      "At               0\n",
      "Rn               0\n",
      "critical_temp    0\n",
      "material         0\n",
      "Length: 88, dtype: int64\n"
     ]
    }
   ],
   "source": [
    "print(\"Number of missing values in train datasets:\")\n",
    "print(train.isna().sum())\n",
    "print(formula_train.isna().sum())"
   ]
  },
  {
   "cell_type": "code",
   "execution_count": 36,
   "metadata": {
    "colab": {
     "base_uri": "https://localhost:8080/"
    },
    "id": "B8ReV4R80Lmt",
    "outputId": "737024ac-abad-4c2b-d2cd-1ee4c6cc7e04"
   },
   "outputs": [
    {
     "name": "stdout",
     "output_type": "stream",
     "text": [
      "Number of missing values in test datasets:\n",
      "number_of_elements       0\n",
      "mean_atomic_mass         0\n",
      "wtd_mean_atomic_mass     0\n",
      "gmean_atomic_mass        0\n",
      "wtd_gmean_atomic_mass    0\n",
      "                        ..\n",
      "wtd_entropy_Valence      0\n",
      "range_Valence            0\n",
      "wtd_range_Valence        0\n",
      "std_Valence              0\n",
      "wtd_std_Valence          0\n",
      "Length: 81, dtype: int64\n",
      "H           0\n",
      "He          0\n",
      "Li          0\n",
      "Be          0\n",
      "B           0\n",
      "           ..\n",
      "Bi          0\n",
      "Po          0\n",
      "At          0\n",
      "Rn          0\n",
      "material    0\n",
      "Length: 87, dtype: int64\n"
     ]
    }
   ],
   "source": [
    "print(\"Number of missing values in test datasets:\")\n",
    "print(test.isna().sum())\n",
    "print(formula_test.isna().sum())"
   ]
  },
  {
   "cell_type": "code",
   "execution_count": 37,
   "metadata": {
    "colab": {
     "base_uri": "https://localhost:8080/"
    },
    "id": "nXdIpXhD0Pr4",
    "outputId": "203701c4-e293-41d2-a74a-f1234e1a4dba"
   },
   "outputs": [
    {
     "name": "stdout",
     "output_type": "stream",
     "text": [
      "<class 'pandas.core.frame.DataFrame'>\n",
      "RangeIndex: 17010 entries, 0 to 17009\n",
      "Data columns (total 82 columns):\n",
      " #   Column                           Non-Null Count  Dtype  \n",
      "---  ------                           --------------  -----  \n",
      " 0   number_of_elements               17010 non-null  int64  \n",
      " 1   mean_atomic_mass                 17010 non-null  float64\n",
      " 2   wtd_mean_atomic_mass             17010 non-null  float64\n",
      " 3   gmean_atomic_mass                17010 non-null  float64\n",
      " 4   wtd_gmean_atomic_mass            17010 non-null  float64\n",
      " 5   entropy_atomic_mass              17010 non-null  float64\n",
      " 6   wtd_entropy_atomic_mass          17010 non-null  float64\n",
      " 7   range_atomic_mass                17010 non-null  float64\n",
      " 8   wtd_range_atomic_mass            17010 non-null  float64\n",
      " 9   std_atomic_mass                  17010 non-null  float64\n",
      " 10  wtd_std_atomic_mass              17010 non-null  float64\n",
      " 11  mean_fie                         17010 non-null  float64\n",
      " 12  wtd_mean_fie                     17010 non-null  float64\n",
      " 13  gmean_fie                        17010 non-null  float64\n",
      " 14  wtd_gmean_fie                    17010 non-null  float64\n",
      " 15  entropy_fie                      17010 non-null  float64\n",
      " 16  wtd_entropy_fie                  17010 non-null  float64\n",
      " 17  range_fie                        17010 non-null  float64\n",
      " 18  wtd_range_fie                    17010 non-null  float64\n",
      " 19  std_fie                          17010 non-null  float64\n",
      " 20  wtd_std_fie                      17010 non-null  float64\n",
      " 21  mean_atomic_radius               17010 non-null  float64\n",
      " 22  wtd_mean_atomic_radius           17010 non-null  float64\n",
      " 23  gmean_atomic_radius              17010 non-null  float64\n",
      " 24  wtd_gmean_atomic_radius          17010 non-null  float64\n",
      " 25  entropy_atomic_radius            17010 non-null  float64\n",
      " 26  wtd_entropy_atomic_radius        17010 non-null  float64\n",
      " 27  range_atomic_radius              17010 non-null  int64  \n",
      " 28  wtd_range_atomic_radius          17010 non-null  float64\n",
      " 29  std_atomic_radius                17010 non-null  float64\n",
      " 30  wtd_std_atomic_radius            17010 non-null  float64\n",
      " 31  mean_Density                     17010 non-null  float64\n",
      " 32  wtd_mean_Density                 17010 non-null  float64\n",
      " 33  gmean_Density                    17010 non-null  float64\n",
      " 34  wtd_gmean_Density                17010 non-null  float64\n",
      " 35  entropy_Density                  17010 non-null  float64\n",
      " 36  wtd_entropy_Density              17010 non-null  float64\n",
      " 37  range_Density                    17010 non-null  float64\n",
      " 38  wtd_range_Density                17010 non-null  float64\n",
      " 39  std_Density                      17010 non-null  float64\n",
      " 40  wtd_std_Density                  17010 non-null  float64\n",
      " 41  mean_ElectronAffinity            17010 non-null  float64\n",
      " 42  wtd_mean_ElectronAffinity        17010 non-null  float64\n",
      " 43  gmean_ElectronAffinity           17010 non-null  float64\n",
      " 44  wtd_gmean_ElectronAffinity       17010 non-null  float64\n",
      " 45  entropy_ElectronAffinity         17010 non-null  float64\n",
      " 46  wtd_entropy_ElectronAffinity     17010 non-null  float64\n",
      " 47  range_ElectronAffinity           17010 non-null  float64\n",
      " 48  wtd_range_ElectronAffinity       17010 non-null  float64\n",
      " 49  std_ElectronAffinity             17010 non-null  float64\n",
      " 50  wtd_std_ElectronAffinity         17010 non-null  float64\n",
      " 51  mean_FusionHeat                  17010 non-null  float64\n",
      " 52  wtd_mean_FusionHeat              17010 non-null  float64\n",
      " 53  gmean_FusionHeat                 17010 non-null  float64\n",
      " 54  wtd_gmean_FusionHeat             17010 non-null  float64\n",
      " 55  entropy_FusionHeat               17010 non-null  float64\n",
      " 56  wtd_entropy_FusionHeat           17010 non-null  float64\n",
      " 57  range_FusionHeat                 17010 non-null  float64\n",
      " 58  wtd_range_FusionHeat             17010 non-null  float64\n",
      " 59  std_FusionHeat                   17010 non-null  float64\n",
      " 60  wtd_std_FusionHeat               17010 non-null  float64\n",
      " 61  mean_ThermalConductivity         17010 non-null  float64\n",
      " 62  wtd_mean_ThermalConductivity     17010 non-null  float64\n",
      " 63  gmean_ThermalConductivity        17010 non-null  float64\n",
      " 64  wtd_gmean_ThermalConductivity    17010 non-null  float64\n",
      " 65  entropy_ThermalConductivity      17010 non-null  float64\n",
      " 66  wtd_entropy_ThermalConductivity  17010 non-null  float64\n",
      " 67  range_ThermalConductivity        17010 non-null  float64\n",
      " 68  wtd_range_ThermalConductivity    17010 non-null  float64\n",
      " 69  std_ThermalConductivity          17010 non-null  float64\n",
      " 70  wtd_std_ThermalConductivity      17010 non-null  float64\n",
      " 71  mean_Valence                     17010 non-null  float64\n",
      " 72  wtd_mean_Valence                 17010 non-null  float64\n",
      " 73  gmean_Valence                    17010 non-null  float64\n",
      " 74  wtd_gmean_Valence                17010 non-null  float64\n",
      " 75  entropy_Valence                  17010 non-null  float64\n",
      " 76  wtd_entropy_Valence              17010 non-null  float64\n",
      " 77  range_Valence                    17010 non-null  int64  \n",
      " 78  wtd_range_Valence                17010 non-null  float64\n",
      " 79  std_Valence                      17010 non-null  float64\n",
      " 80  wtd_std_Valence                  17010 non-null  float64\n",
      " 81  critical_temp                    17010 non-null  float64\n",
      "dtypes: float64(79), int64(3)\n",
      "memory usage: 10.6 MB\n"
     ]
    }
   ],
   "source": [
    "# Полные сведения о каждой переменной в тренировочном наборе данных\n",
    "train.info()"
   ]
  },
  {
   "cell_type": "markdown",
   "metadata": {
    "id": "PB5lSwCg0mjX"
   },
   "source": [
    "## Предобработка данных"
   ]
  },
  {
   "cell_type": "markdown",
   "metadata": {
    "id": "EobzcVJ91saY"
   },
   "source": [
    "### **Тренировочные данные.**"
   ]
  },
  {
   "cell_type": "markdown",
   "metadata": {
    "id": "vP3zuSo20p_6"
   },
   "source": [
    "В данной задаче у нас имеются два датасета для тренировки и для теста, для удобства сформируем один DataFrame.\n",
    "\n",
    "Так как колонка с целевой переменной имеется в обоих датасетах, удалим её из одного, чтобы не дублировать."
   ]
  },
  {
   "cell_type": "code",
   "execution_count": 38,
   "metadata": {
    "colab": {
     "base_uri": "https://localhost:8080/"
    },
    "id": "2uT2iwvF0y5y",
    "outputId": "fcee02e2-2ce5-40db-89ae-019f69ba1d3b"
   },
   "outputs": [
    {
     "name": "stdout",
     "output_type": "stream",
     "text": [
      "Full Train dataset shape: (17010, 169)\n"
     ]
    }
   ],
   "source": [
    "formula_train = formula_train.drop(columns=['critical_temp'])\n",
    "\n",
    "train_full = pd.concat([train, formula_train], axis=1)\n",
    "\n",
    "print(f\"Full Train dataset shape: {train_full.shape}\")"
   ]
  },
  {
   "cell_type": "code",
   "execution_count": 39,
   "metadata": {
    "id": "5rTYMBQWKHnT"
   },
   "outputs": [],
   "source": [
    "# Удалим из данных ненужную колонку 'material'\n",
    "train_full.drop(columns=['material'], inplace=True)"
   ]
  },
  {
   "cell_type": "code",
   "execution_count": 40,
   "metadata": {
    "colab": {
     "base_uri": "https://localhost:8080/",
     "height": 300
    },
    "id": "1A3FRmW51u2J",
    "outputId": "7e2002e0-4755-4c1f-d873-9291529e8125"
   },
   "outputs": [
    {
     "data": {
      "text/html": [
       "<div>\n",
       "<style scoped>\n",
       "    .dataframe tbody tr th:only-of-type {\n",
       "        vertical-align: middle;\n",
       "    }\n",
       "\n",
       "    .dataframe tbody tr th {\n",
       "        vertical-align: top;\n",
       "    }\n",
       "\n",
       "    .dataframe thead th {\n",
       "        text-align: right;\n",
       "    }\n",
       "</style>\n",
       "<table border=\"1\" class=\"dataframe\">\n",
       "  <thead>\n",
       "    <tr style=\"text-align: right;\">\n",
       "      <th></th>\n",
       "      <th>number_of_elements</th>\n",
       "      <th>mean_atomic_mass</th>\n",
       "      <th>wtd_mean_atomic_mass</th>\n",
       "      <th>gmean_atomic_mass</th>\n",
       "      <th>wtd_gmean_atomic_mass</th>\n",
       "      <th>entropy_atomic_mass</th>\n",
       "      <th>wtd_entropy_atomic_mass</th>\n",
       "      <th>range_atomic_mass</th>\n",
       "      <th>wtd_range_atomic_mass</th>\n",
       "      <th>std_atomic_mass</th>\n",
       "      <th>...</th>\n",
       "      <th>Ir</th>\n",
       "      <th>Pt</th>\n",
       "      <th>Au</th>\n",
       "      <th>Hg</th>\n",
       "      <th>Tl</th>\n",
       "      <th>Pb</th>\n",
       "      <th>Bi</th>\n",
       "      <th>Po</th>\n",
       "      <th>At</th>\n",
       "      <th>Rn</th>\n",
       "    </tr>\n",
       "  </thead>\n",
       "  <tbody>\n",
       "    <tr>\n",
       "      <th>0</th>\n",
       "      <td>4</td>\n",
       "      <td>88.944468</td>\n",
       "      <td>57.862692</td>\n",
       "      <td>66.361592</td>\n",
       "      <td>36.116612</td>\n",
       "      <td>1.181795</td>\n",
       "      <td>1.062396</td>\n",
       "      <td>122.90607</td>\n",
       "      <td>31.794921</td>\n",
       "      <td>51.968828</td>\n",
       "      <td>...</td>\n",
       "      <td>0.0</td>\n",
       "      <td>0.0</td>\n",
       "      <td>0.0</td>\n",
       "      <td>0.0</td>\n",
       "      <td>0.0</td>\n",
       "      <td>0.0</td>\n",
       "      <td>0.0</td>\n",
       "      <td>0</td>\n",
       "      <td>0</td>\n",
       "      <td>0</td>\n",
       "    </tr>\n",
       "    <tr>\n",
       "      <th>1</th>\n",
       "      <td>5</td>\n",
       "      <td>92.729214</td>\n",
       "      <td>58.518416</td>\n",
       "      <td>73.132787</td>\n",
       "      <td>36.396602</td>\n",
       "      <td>1.449309</td>\n",
       "      <td>1.057755</td>\n",
       "      <td>122.90607</td>\n",
       "      <td>36.161939</td>\n",
       "      <td>47.094633</td>\n",
       "      <td>...</td>\n",
       "      <td>0.0</td>\n",
       "      <td>0.0</td>\n",
       "      <td>0.0</td>\n",
       "      <td>0.0</td>\n",
       "      <td>0.0</td>\n",
       "      <td>0.0</td>\n",
       "      <td>0.0</td>\n",
       "      <td>0</td>\n",
       "      <td>0</td>\n",
       "      <td>0</td>\n",
       "    </tr>\n",
       "    <tr>\n",
       "      <th>2</th>\n",
       "      <td>4</td>\n",
       "      <td>88.944468</td>\n",
       "      <td>57.885242</td>\n",
       "      <td>66.361592</td>\n",
       "      <td>36.122509</td>\n",
       "      <td>1.181795</td>\n",
       "      <td>0.975980</td>\n",
       "      <td>122.90607</td>\n",
       "      <td>35.741099</td>\n",
       "      <td>51.968828</td>\n",
       "      <td>...</td>\n",
       "      <td>0.0</td>\n",
       "      <td>0.0</td>\n",
       "      <td>0.0</td>\n",
       "      <td>0.0</td>\n",
       "      <td>0.0</td>\n",
       "      <td>0.0</td>\n",
       "      <td>0.0</td>\n",
       "      <td>0</td>\n",
       "      <td>0</td>\n",
       "      <td>0</td>\n",
       "    </tr>\n",
       "    <tr>\n",
       "      <th>3</th>\n",
       "      <td>4</td>\n",
       "      <td>88.944468</td>\n",
       "      <td>57.873967</td>\n",
       "      <td>66.361592</td>\n",
       "      <td>36.119560</td>\n",
       "      <td>1.181795</td>\n",
       "      <td>1.022291</td>\n",
       "      <td>122.90607</td>\n",
       "      <td>33.768010</td>\n",
       "      <td>51.968828</td>\n",
       "      <td>...</td>\n",
       "      <td>0.0</td>\n",
       "      <td>0.0</td>\n",
       "      <td>0.0</td>\n",
       "      <td>0.0</td>\n",
       "      <td>0.0</td>\n",
       "      <td>0.0</td>\n",
       "      <td>0.0</td>\n",
       "      <td>0</td>\n",
       "      <td>0</td>\n",
       "      <td>0</td>\n",
       "    </tr>\n",
       "    <tr>\n",
       "      <th>4</th>\n",
       "      <td>4</td>\n",
       "      <td>88.944468</td>\n",
       "      <td>57.840143</td>\n",
       "      <td>66.361592</td>\n",
       "      <td>36.110716</td>\n",
       "      <td>1.181795</td>\n",
       "      <td>1.129224</td>\n",
       "      <td>122.90607</td>\n",
       "      <td>27.848743</td>\n",
       "      <td>51.968828</td>\n",
       "      <td>...</td>\n",
       "      <td>0.0</td>\n",
       "      <td>0.0</td>\n",
       "      <td>0.0</td>\n",
       "      <td>0.0</td>\n",
       "      <td>0.0</td>\n",
       "      <td>0.0</td>\n",
       "      <td>0.0</td>\n",
       "      <td>0</td>\n",
       "      <td>0</td>\n",
       "      <td>0</td>\n",
       "    </tr>\n",
       "  </tbody>\n",
       "</table>\n",
       "<p>5 rows × 168 columns</p>\n",
       "</div>"
      ],
      "text/plain": [
       "   number_of_elements  mean_atomic_mass  wtd_mean_atomic_mass  \\\n",
       "0                   4         88.944468             57.862692   \n",
       "1                   5         92.729214             58.518416   \n",
       "2                   4         88.944468             57.885242   \n",
       "3                   4         88.944468             57.873967   \n",
       "4                   4         88.944468             57.840143   \n",
       "\n",
       "   gmean_atomic_mass  wtd_gmean_atomic_mass  entropy_atomic_mass  \\\n",
       "0          66.361592              36.116612             1.181795   \n",
       "1          73.132787              36.396602             1.449309   \n",
       "2          66.361592              36.122509             1.181795   \n",
       "3          66.361592              36.119560             1.181795   \n",
       "4          66.361592              36.110716             1.181795   \n",
       "\n",
       "   wtd_entropy_atomic_mass  range_atomic_mass  wtd_range_atomic_mass  \\\n",
       "0                 1.062396          122.90607              31.794921   \n",
       "1                 1.057755          122.90607              36.161939   \n",
       "2                 0.975980          122.90607              35.741099   \n",
       "3                 1.022291          122.90607              33.768010   \n",
       "4                 1.129224          122.90607              27.848743   \n",
       "\n",
       "   std_atomic_mass  ...   Ir   Pt   Au   Hg   Tl   Pb   Bi  Po  At  Rn  \n",
       "0        51.968828  ...  0.0  0.0  0.0  0.0  0.0  0.0  0.0   0   0   0  \n",
       "1        47.094633  ...  0.0  0.0  0.0  0.0  0.0  0.0  0.0   0   0   0  \n",
       "2        51.968828  ...  0.0  0.0  0.0  0.0  0.0  0.0  0.0   0   0   0  \n",
       "3        51.968828  ...  0.0  0.0  0.0  0.0  0.0  0.0  0.0   0   0   0  \n",
       "4        51.968828  ...  0.0  0.0  0.0  0.0  0.0  0.0  0.0   0   0   0  \n",
       "\n",
       "[5 rows x 168 columns]"
      ]
     },
     "execution_count": 40,
     "metadata": {},
     "output_type": "execute_result"
    }
   ],
   "source": [
    "train_full.head()"
   ]
  },
  {
   "cell_type": "code",
   "execution_count": 12,
   "metadata": {
    "colab": {
     "base_uri": "https://localhost:8080/"
    },
    "id": "1U1X5gXCKXza",
    "outputId": "ccf93886-e24d-4362-b9d2-e2d2042b6b3a"
   },
   "outputs": [
    {
     "name": "stdout",
     "output_type": "stream",
     "text": [
      "Features shape: (17010, 167)\n",
      "Target shape: (17010,)\n"
     ]
    }
   ],
   "source": [
    "# Выделим из набора данных вектор признаков и вектор ответов\n",
    "X = train_full.drop(columns=['critical_temp'])\n",
    "y = train_full['critical_temp']\n",
    "\n",
    "print(f\"Features shape: {X.shape}\")\n",
    "print(f\"Target shape: {y.shape}\")"
   ]
  },
  {
   "cell_type": "markdown",
   "metadata": {
    "id": "xoEE7tfWLCzw"
   },
   "source": [
    "### **Тестовые данные.**\n",
    "\n",
    "Обработаем аналогичным образом тестовые данные."
   ]
  },
  {
   "cell_type": "code",
   "execution_count": 41,
   "metadata": {
    "colab": {
     "base_uri": "https://localhost:8080/"
    },
    "id": "KLs4fBqNLHZh",
    "outputId": "582ce24e-bb36-477b-fc01-8e974032c509"
   },
   "outputs": [
    {
     "name": "stdout",
     "output_type": "stream",
     "text": [
      "Full Test dataset shape: (4253, 168)\n"
     ]
    }
   ],
   "source": [
    "test_full = pd.concat([test, formula_test], axis=1)\n",
    "\n",
    "print(f\"Full Test dataset shape: {test_full.shape}\")"
   ]
  },
  {
   "cell_type": "code",
   "execution_count": 42,
   "metadata": {
    "id": "1Ux4Axh6LjxA"
   },
   "outputs": [],
   "source": [
    "# Удалим из данных ненужную колонку 'material'\n",
    "test_full.drop(columns=['material'], inplace=True)"
   ]
  },
  {
   "cell_type": "code",
   "execution_count": 44,
   "metadata": {},
   "outputs": [
    {
     "data": {
      "text/plain": [
       "(4253, 167)"
      ]
     },
     "execution_count": 44,
     "metadata": {},
     "output_type": "execute_result"
    }
   ],
   "source": [
    "test_full.shape"
   ]
  },
  {
   "cell_type": "markdown",
   "metadata": {
    "id": "nnBGeY9YLnIl"
   },
   "source": [
    "## Обучение модели"
   ]
  },
  {
   "cell_type": "markdown",
   "metadata": {
    "id": "hsF5sYIEohEM"
   },
   "source": [
    "## Разделение данных на подвыборки"
   ]
  },
  {
   "cell_type": "markdown",
   "metadata": {
    "id": "k3FHakHFIS7q"
   },
   "source": [
    "Одна из целей построения алгоритмов машинного обучения, постоить такую модель, которая будет способная также хорошо работать с новыми данными, которых она не видела до этого, как и с теми данными на которых обучалась.\n",
    "\n",
    "Это называется **обобщающей способностью** моделей.\n",
    "\n",
    "**Обобщающая способность** — это способность аналитической модели, построенной на основе машинного обучения (нейронной сети, дерева решений, карты Кохонена и др.) выдавать правильные результаты не только для примеров, участвовавших в процессе обучения, но и для любых новых, которые не участвовали в нем.\n",
    "\n",
    "Именно поэтому при обучении модели, существующий набор данных разделяют на подвыборки:\n",
    "- **тренировочную (train)** - набор данных на которых мы обучаем нашу модель\n",
    "- **тестовую (test)** - это набор данных, которые мы не использовали для обучения нашей модели, т. е. это данные которые не видела наша модель. Набор данных используется для тестирования и оценки модели.\n",
    "\n",
    "***Таким образом разделение данных на обучающую и тестовую выборки позволяет имитировать работу модели на новых/неизвестных данных.***\n"
   ]
  },
  {
   "cell_type": "markdown",
   "metadata": {
    "id": "d3sL84wZlP0Q"
   },
   "source": [
    "К тому же при использовании одних и тех же данных может возникнуть **Переобучение** — это термин, используемый для описания того, когда модель изучила эту взаимосвязь «слишком хорошо» для обучающих данных.\n",
    "\n",
    "Под «слишком хорошо» мы подразумеваем скорее то, что он слишком близко изучил взаимосвязь — что он видит больше тенденций/корреляций/связей, чем существует на самом деле."
   ]
  },
  {
   "cell_type": "markdown",
   "metadata": {
    "id": "YeO88JwalzHb"
   },
   "source": [
    "**Существует две основных стратегий разделения данных на подвыборки:**\n",
    "1. отложенная выборка: разделение данных на две части (train и test)\n",
    "2. Кроссвалидация"
   ]
  },
  {
   "cell_type": "markdown",
   "metadata": {
    "id": "IUdLDzs6ooYZ"
   },
   "source": [
    "### Отложенная выбора"
   ]
  },
  {
   "cell_type": "markdown",
   "metadata": {
    "id": "N4ziR1Bwor5p"
   },
   "source": [
    "Данный подход эффективен при большом количестве данных, при маленьких размерах выборки может возникнуть множество различных проблем.\n",
    "\n",
    "В библиотеки sklearn реализован метод позволяющий осуществить данное разбиение:\n",
    "\n",
    "`from sklearn.model_selection import train_test_split`"
   ]
  },
  {
   "cell_type": "markdown",
   "metadata": {
    "id": "I3UA0dpHkk-j"
   },
   "source": [
    "![0_rCL0IbOCdPGq9Xfv.png](data:image/png;base64,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)"
   ]
  },
  {
   "cell_type": "code",
   "execution_count": 45,
   "metadata": {
    "colab": {
     "base_uri": "https://localhost:8080/"
    },
    "id": "Chm1S944Nh1d",
    "outputId": "e38e9e4f-4c17-4f6d-d461-bc2446dbf53d"
   },
   "outputs": [
    {
     "name": "stdout",
     "output_type": "stream",
     "text": [
      "Train dataset size: (11907, 167), (11907,)\n",
      "Train dataset size: (5103, 167), (5103,)\n"
     ]
    }
   ],
   "source": [
    "from sklearn.model_selection import train_test_split\n",
    "\n",
    "X_train, X_test, y_train, y_test = train_test_split(X, y, test_size=0.3)\n",
    "\n",
    "print(f'Train dataset size: {X_train.shape}, {y_train.shape}')\n",
    "print(f'Train dataset size: {X_test.shape}, {y_test.shape}')"
   ]
  },
  {
   "cell_type": "markdown",
   "metadata": {
    "id": "n2c-CN1vplkq"
   },
   "source": [
    "### Кроссвалидация"
   ]
  },
  {
   "cell_type": "markdown",
   "metadata": {
    "id": "sJiwh7wrpoOF"
   },
   "source": [
    "Это метод, используемый для обучения и оценки модели машинного обучения с использованием нескольких частей набора данных. Это означает, что вместо того, чтобы разбивать набор данных только на две части, одну для обучения и другую для тестирования, набор данных делится на большее количество подвыборок."
   ]
  },
  {
   "cell_type": "markdown",
   "metadata": {
    "id": "P7Ta4pkGqBiP"
   },
   "source": [
    "![cross-validation.png](data:image/png;base64,iVBORw0KGgoAAAANSUhEUgAABVgAAAOgCAYAAADI6x2fAAAMFmlDQ1BJQ0MgUHJvZmlsZQAASImVlwdUU0kXx+eVFEJCC0RASuhNkF6l9450sBGSAKGEkBBU7OiigmsXEazoqohtLYCsFbuyCNjrBhEVZV0sYEHlmySArvuV891z5r1f7ty585/JzDszACg7sgSCXFQFgDx+oTA22I+ZnJLKJEkAAmhAA+gCFRZbJPCNiYkA0Ebef7eBWzAa2nVraa5/1v9XU+VwRWwAkBjI6RwROw/yEQBwbbZAWAgAoQ36jaYXCqT8DrK6EAoEgEiWcqacdaScLmdbWUx8rD/kAADIVBZLmAmAkjQ/s4idCfMoCSDb8jk8PuStkL3YWSwOZAnkcXl5+ZCVqZDN07/Lk/m3nOmjOVmszFGWj0Vm5ACeSJDLmvl/Tsf/trxc8UgfhrBQs4QhsdIxw3nbnZMfLmWoHTnOT4+KhqwG+RKPI4uX8r0scUjCcHwvW+QP5wwwAEABhxUQDhnOJcoQ5yT4DrM9SyhrC+PRKF5haPwwpwvzY4fzo0X83KiI4TxLsrihI7yZKwqMG4nJ4AWFQoYrDT1SnBWfJNeJniviJUZBVoLcJsqJCx9u+6g4yz9qJEYojpVqNob8LkMYFCuPwTTzRCPjwmzYLFlfmpB9CrPiQ+RtsWSuKDliRAOHGxAo14BxuPyEYW0YXF1+scNtSwW5McPx2GZubnCsfJ6xg6KiuJG2HYVwgcnnAXuczQqLkevHBgSFMfFybTgOIoA/CABMIIYlHeSDbMBr7W3ohb/kNUGABYQgE3CB9bBnpEWSrIYPn3GgGPwJiQtEo+38ZLVcUAT9X0a98qc1yJDVFsla5ICnkPNwbdwL98Aj4NMHFnvcFXcbacdUHumVGEgMIIYQg4gWozrYUHUuLELA+ze+cPjmwtFJtfBHxvAtH+EpoZ3wmHCTICHcBYngiSzLcNQ0XonwB+VMEAkkMFvQ8OjSYc6ekRjcFKp2wv1wT6gfascZuDawxh3hSHxxbzg2J+j9XqF4VNu3ufyxP6nq78cz7FeyVHIaVpE++s/4j0b9mMX/uzniwHf4j5HYEuwwdhE7g13GjmMNgImdwhqxFuyElEdXwhPZShjpLVamLQfm4Y3E2NbZ9th+/kfvrGEFQtn/DQq5MwqlG8I/XzBTyMvMKmT6wi8ylxnKZ9uMY9rb2jkDIP2+yz8fbxmy7zbCuPLNV3AaALcy6Mz85mMZAXDsKQD0gW8+ozdwe60E4EQbWywskvtw6YMAKEAZ7gwtoAeMgDkckz1wBh7ABwSCMBAN4kEKmApnPQvkQdXTwWywAJSCcrASrANVYAvYDnaDfeAQaADHwRlwAVwFbeAmuA/XRjd4CfrAABhEEISE0BA6ooXoIyaIFWKPuCJeSCASgcQiKUgakonwETEyG1mIlCOrkSpkG1KL/IocQ84gl5F25C7SifQgb5BPKIZSUXVUFzVFx6OuqC8ajsajU9BMtAAtRhehy9FKtAbdi9ajZ9Cr6E1Ugr5E+zGAKWIMzACzxlwxfywaS8UyMCE2FyvDKrAabD/WBP/r65gE68U+4kScjjNxa7g+Q/AEnI0X4HPxZXgVvhuvx8/h1/FOvA//SqARdAhWBHdCKCGZkEmYTiglVBB2Eo4SzsO9000YIBKJDKIZ0QXuzRRiNnEWcRlxE/EA8TSxndhF7CeRSFokK5InKZrEIhWSSkkbSHtJp0gdpG7SB7IiWZ9sTw4ip5L55BJyBXkP+SS5g/yMPKigomCi4K4QrcBRmKmwQmGHQpPCNYVuhUGKKsWM4kmJp2RTFlAqKfsp5ykPKG8VFRUNFd0UJyryFOcrVioeVLyk2Kn4kapGtaT6UydTxdTl1F3U09S71Lc0Gs2U5kNLpRXSltNqaWdpj2gflOhKNkqhShyleUrVSvVKHUqvlBWUTZR9lacqFytXKB9Wvqbcq6KgYqrir8JSmatSrXJM5bZKvypd1U41WjVPdZnqHtXLqs/VSGqmaoFqHLVFatvVzqp10TG6Ed2fzqYvpO+gn6d3qxPVzdRD1bPVy9X3qbeq92moaThqJGrM0KjWOKEhYWAMU0YoI5exgnGIcYvxaYzuGN8x3DFLx+wf0zHmveZYTR9NrmaZ5gHNm5qftJhagVo5Wqu0GrQeauPaltoTtadrb9Y+r907Vn2sx1j22LKxh8be00F1LHVidWbpbNdp0enX1dMN1hXobtA9q9urx9Dz0cvWW6t3Uq9Hn67vpc/TX6t/Sv8FU4Ppy8xlVjLPMfsMdAxCDMQG2wxaDQYNzQwTDEsMDxg+NKIYuRplGK01ajbqM9Y3jjSebVxnfM9EwcTVJMtkvclFk/emZqZJpotNG0yfm2mahZoVm9WZPTCnmXubF5jXmN+wIFq4WuRYbLJos0QtnSyzLKstr1mhVs5WPKtNVu3jCOPcxvHH1Yy7bU219rUusq6z7rRh2ETYlNg02Lwabzw+dfyq8RfHf7V1ss213WF7307NLsyuxK7J7o29pT3bvtr+hgPNIchhnkOjw2tHK0eu42bHO050p0inxU7NTl+cXZyFzvude1yMXdJcNrrcdlV3jXFd5nrJjeDm5zbP7bjbR3dn90L3Q+5/eVh75Hjs8Xg+wWwCd8KOCV2ehp4sz22eEi+mV5rXVi+Jt4E3y7vG+7GPkQ/HZ6fPM18L32zfvb6v/Gz9hH5H/d77u/vP8T8dgAUEB5QFtAaqBSYEVgU+CjIMygyqC+oLdgqeFXw6hBASHrIq5Haobig7tDa0L8wlbE7YuXBqeFx4VfjjCMsIYURTJBoZFrkm8kGUSRQ/qiEaRIdGr4l+GGMWUxDz20TixJiJ1ROfxtrFzo69GEePmxa3J24g3i9+Rfz9BPMEcUJzonLi5MTaxPdJAUmrkyTJ45PnJF9N0U7hpTSmklITU3em9k8KnLRuUvdkp8mlk29NMZsyY8rlqdpTc6eemKY8jTXtcBohLSltT9pnVjSrhtWfHpq+Mb2P7c9ez37J8eGs5fRwPbmruc8yPDNWZzzP9Mxck9mT5Z1VkdXL8+dV8V5nh2RvyX6fE52zK2coNyn3QB45Ly3vGF+Nn8M/l6+XPyO/XWAlKBVICtwL1hX0CcOFO0WIaIqosVAdHnVaxObin8SdRV5F1UUfpidOPzxDdQZ/RstMy5lLZz4rDir+ZRY+iz2rebbB7AWzO+f4ztk2F5mbPrd5ntG8RfO65wfP372AsiBnwe8ltiWrS94tTFrYtEh30fxFXT8F/1RXqlQqLL292GPxliX4Et6S1qUOSzcs/VrGKbtSblteUf55GXvZlZ/tfq78eWh5xvLWFc4rNq8kruSvvLXKe9Xu1aqri1d3rYlcU7+WubZs7bt109ZdrnCs2LKesl68XlIZUdm4wXjDyg2fq7Kqblb7VR/YqLNx6cb3mzibOjb7bN6/RXdL+ZZPW3lb72wL3lZfY1pTsZ24vWj70x2JOy7+4vpL7U7tneU7v+zi75Lsjt19rtaltnaPzp4VdWiduK5n7+S9bfsC9jXut96/7QDjQPlBcFB88MWvab/eOhR+qPmw6+H9R0yObDxKP1pWj9TPrO9ryGqQNKY0th8LO9bc5NF09Deb33YdNzhefULjxIqTlJOLTg6dKj7Vf1pwuvdM5pmu5mnN988mn71xbuK51vPh5y9dCLpw9qLvxVOXPC8dv+x++dgV1ysNV52v1rc4tRz93en3o63OrfXXXK41trm1NbVPaD/Z4d1x5nrA9Qs3Qm9cvRl1s/1Wwq07tyffltzh3Hl+N/fu63tF9wbvz39AeFD2UOVhxSOdRzV/WPxxQOIsOdEZ0NnyOO7x/S5218snoiefuxc9pT2teKb/rPa5/fPjPUE9bS8mveh+KXg52Fv6p+qfG1+Zvzryl89fLX3Jfd2vha+H3ix7q/V21zvHd839Mf2PBvIGBt+XfdD6sPuj68eLn5I+PRuc/pn0ufKLxZemr+FfHwzlDQ0JWEKW7CiAwYJmZADwZhcAtBR4doD3OIqS/P4lM0R+Z5QR+E8sv6PJDJ5cdvkAkDAfgAh4RtkMiwlkKnxLj9/xPgB1cBgtwybKcLCX56LCWwzhw9DQW10ASE0AfBEODQ1uGhr6sgOKvQvA6QL5vU9qRHjG3zpeSm3dr8CP9i+pOm1jV4lT1wAAAAlwSFlzAAAWJQAAFiUBSVIk8AAAABxpRE9UAAAAAgAAAAAAAAHQAAAAKAAAAdAAAAHQAACidrj/ugwAAEAASURBVHgB7N0PrFzlmef5N707rVlbikFjZ0aRYjuabqntJjjoGil/luukZyTsiAwxRoJM+BclwSDSNtCBboyJk7YD2dABm2kUmyQKYEjICINpotgZ7XbCtfJHwh4IpO1ZTUvxdaTsauxWIFp7NFpp2fPU5S0/de45VafqPM+9933reyS76lad85zzfp5Tt6p+99Spd7xVTIEJAQQQQAABBBBAAAEEEEAAAQQQQAABBBBAYGiBdxCwDm3GAggggAACCCCAAAIIIIAAAggggAACCCCAQEeAgJUdAQEEEEAAAQQQQAABBBBAAAEEEEAAAQQQGFGAgHVEOBZDAAEEEEAAAQQQQAABBBBAAAEEEEAAAQQIWNkHEEAAAQQQQAABBBBAAAEEEEAAAQQQQACBEQUIWEeEYzEEEEAAAQQQQAABBBBAAAEEEEAAAQQQQICAlX0AAQQQQAABBBBAAAEEEEAAAQQQQAABBBAYUYCAdUQ4FkMAAQQQQAABBBBAAAEEEEAAAQQQQAABBAhY2QcQQAABBBBAAAEEEEAAAQQQQAABBBBAAIERBQhYR4RjMQQQQAABBBBAAAEEEEAAAQQQQAABBBBAgICVfQABBBBAAAEEEEAAAQQQQAABBBBAAAEEEBhRgIB1RDgWQwABBBBAAAEEEEAAAQQQQAABBBBAAAEECFjZBxBAAAEEEEAAAQQQQAABBBBAAAEEEEAAgREFCFhHhGMxBBBAAAEEEEAAAQQQQAABBBBAAAEEEECAgJV9AAEEEEAAAQQQQAABBBBAAAEEEEAAAQQQGFGAgHVEOBZDAAEEEEAAAQQQQAABBBBAAAEEEEAAAQQIWNkHEEAAAQQQQAABBBBAAAEEEEAAAQQQQACBEQUIWEeEYzEEEEAAAQQQQAABBBBAAAEEEEAAAQQQQICAlX0AAQQQQAABBBBAAAEEEEAAAQQQQAABBBAYUYCAdUQ4FkMAAQQQQAABBBBAAAEEEEAAAQQQQAABBAhY2QcQQAABBBBAAAEEEEAAAQQQQAABBBBAAIERBQhYR4RjMQQQQAABBBBAAAEEEEAAAQQQQAABBBBAgICVfQABBBBAAAEEEEAAAQQQQAABBBBAAAEEEBhRgIB1RDgWQwABBBBAAAEEEEAAAQQQQAABBBBAAAEECFjZBxBAAAEEEEAAAQQQQAABBBBAAAEEEEAAgREFCFhHhGMxBBBAAAEEEEAAAQQQQAABBBBAAAEEEECAgJV9AAEEEEAAAQQQQAABBBBAAAEEEEAAAQQQGFGAgHVEOBZDAAEEEEAAAQQQQAABBBBAAAEEEEAAAQQIWNkHEEAAAQQQQAABBBBAAAEEEEAAAQQQQACBEQUIWEeEYzEEEEAAAQQQQAABBBBAAAEEEEAAAQQQQICAlX0AAQQQQAABBBBAAAEEEEAAAQQQQAABBBAYUYCAdUQ4FkMAAQQQQAABBBBAAAEEEEAAAQQQQAABBAhY2QcQQAABBBBAAAEEEEAAAQQQQAABBBBAAIERBQhYR4RjMQQQQAABBBBAAAEEEEAAAQQQQAABBBBAgICVfQABBBBAAAEEEEAAAQQQQAABBBBAAAEEEBhRgIB1RDgWQwABBBBAAAEEEEAAAQQQQAABBBBAAAEECFjZBxBAAAEEEEAAAQQQQAABBBBAAAEEEEAAgREFCFhHhGMxBBDwEzh5LoSHfu1Xn8oIpCzwrj8MYfsfpzwCth0BBBBAAAEEEEAAAQQQyEuAgDWvfjIaBLIQkIB147EshsIgEDAX2PSvCFjNUSmIAAIIIIAAAggggAACCLQQIGBtgceiCCDgI0DA6uNK1TwE/sX/+ZPwiQt/FdZ+fG0eA2IUCLQU2Ld5X7fC5n2bu9e5gsA4CxyfOh6OPH2kQzBxxQTPGeO8MzD2HoH9f7k/nHujOJqjmK77364Piy9Y1HM/PyAwLgIX/MEF4U/+5z8Zl+HOyTgJWOeEmZUggMAwAgSsw2gx77gJ/NOLj4VL/9l/Cpvu3TRuQ2e8CFQKfGrxv+/e/vTZ73avcwWBcRaYeuqlEP/4cNW2TTxnjPPOwNh7BLau3hLOTJ/p3Lb7+J6wbMWynvv5AYFxEXjXH7wr/Nt//m/GZbhzMk4C1jlhZiUIIDCMQDlgXfz//b9h0//zX4YpwbwIZCNw+n9aFA4t/tfd8RCwdim4gkBHgICVHQGB2QIErLNNuAUBESBgZT9AYEaAgNV+TyBgtTelIgIItBSoClif/78OtKzK4gikKfDwBZcSsKbZOrZ6jgQIWOcImtUkJUDAmlS72Ng5FCBgnUNsVrWgBQhY7dtDwGpvSkUEEGgpQMDaEpDFsxIgYM2qnQzGQYCA1QGVkskLELAm30IG4CRAwOoES9nkBAhY7VtGwGpvSkUEEGgpQMDaEpDFsxIgYM2qnQzGQYCA1QGVkskLELAm30IG4CRAwOoES9nkBAhY7VtGwGpvSkUEEGgpQMDaEpDFsxIgYM2qnQzGQYCA1QGVkskLELAm30IG4CRAwOoES9nkBAhY7VtGwGpvSkUEEGgpQMDaEpDFsxIgYM2qnQzGQYCA1QGVkskLELAm30IG4CRAwOoES9nkBAhY7VtGwGpvSkUEEGgpQMDaEpDFsxIgYM2qnQzGQYCA1QGVkskLELAm30IG4CRAwOoES9nkBAhY7VtGwGpvSkUEEGgpQMDaEpDFsxIgYM2qnQzGQYCA1QGVkskLELAm30IG4CRAwOoES9nkBAhY7VtGwGpvSkUEEGgpQMDaEpDFsxIgYM2qnQzGQYCA1QGVkskLELAm30IG4CRAwOoES9nkBAhY7VtGwGpvSkUEEGgpQMDaEpDFsxIgYM2qnQzGQYCA1QGVkskLELAm30IG4CRAwOoES9nkBAhY7VtGwGpvSkUEEGgpQMDaEpDFsxIgYM2qnQzGQYCA1QGVkskLELAm30IG4CRAwOoES9nkBAhY7VtGwGpvSkUEEGgpQMDaEpDFsxIgYM2qnQzGQYCA1QGVkskLELAm30IG4CRAwOoES9nkBAhY7VtGwGpvSkUEEGgpQMDaEpDFsxIgYM2qnQzGQYCA1QGVkskLELAm30IG4CRAwOoES9nkBAhY7VtGwGpvSkUEEGgpQMDaEpDFsxIgYM2qnQzGQYCA1QGVkskLELAm30IG4CRAwOoES9nkBAhY7VtGwGpvSkUEEGgpQMDaEpDFsxIgYM2qnQzGQYCA1QGVkskLELAm30IG4CRAwOoES9nkBAhY7VtGwGpvSkUEEGgpQMDaEpDFsxIgYM2qnQzGQYCA1QGVkskLELAm30IG4CRAwOoES9nkBAhY7VtGwGpvSkUEEGgpQMDaEpDFsxIgYM2qnQzGQYCA1QGVkskLELAm30IG4CRAwOoES9nkBAhY7VtGwGpvSkUEEGgpQMDaEpDFsxIgYM2qnQzGQYCA1QGVkskLELAm30IG4CRAwOoES9nkBAhY7VtGwGpvSkUEEGgpQMDaEpDFsxIgYM2qnQzGQYCA1QGVkskLELAm30IG4CRAwOoES9nkBAhY7VtGwGpvSkUEEGgpQMDaEpDFsxIgYM2qnQzGQYCA1QGVkskLELAm30IG4CRAwOoES9nkBAhY7VtGwGpvSkUEEGgpQMDaEpDFsxIgYM2qnQzGQYCA1QGVkskLELAm30IG4CRAwOoES9nkBAhY7VtGwGpvSkUEEGgpQMDaEpDFsxIgYM2qnQzGQYCA1QGVkskLELAm30IG4CRAwOoES9nkBAhY7VtGwGpvSkUEEGgpQMDaEpDFsxIgYM2qnQzGQYCA1QGVkskLELAm30IG4CRAwOoES9nkBAhY7VtGwGpvSkUEEGgpQMDaEpDFsxIgYM2qnQzGQYCA1QGVkskLELAm30IG4CRAwOoES9nkBAhY7VtGwGpvSkUEEGgpQMDaEpDFsxIgYM2qnQzGQYCA1QGVkskLELAm30IG4CRAwOoES9nkBAhY7VtGwGpvSkUEEGgpQMDaEpDFsxIgYM2qnQzGQYCA1QGVkskLELAm30IG4CRAwOoES9nkBAhY7VtGwGpvSkUEEGgpQMDaEpDFsxIgYM2qnQzGQYCA1QGVkskLELAm30IG4CRAwOoES9nkBAhY7VtGwGpvSkUEEGgpQMDaEpDFsxIgYM2qnQzGQYCA1QGVkskLELAm30IG4CRAwOoES9nkBAhY7VtGwGpvSkUEEGgpQMDaEpDFsxIgYM2qnQzGQYCA1QGVkskLELAm30IG4CRAwOoES9nkBAhY7VtGwGpvSkUEEGgpQMDaEpDFsxIgYM2qnQzGQYCA1QGVkskLELAm30IG4CRAwOoES9nkBAhY7VtGwGpvSkUEEGgpQMDaEpDFsxIgYM2qnQzGQYCA1QGVkskLELAm30IG4CRAwOoES9nkBAhY7VtGwGpvSkUEEGgpQMDaEpDFsxIgYM2qnQzGQYCA1QGVkskLELAm30IG4CRAwOoES9nkBAhY7VtGwGpvSkUEEGgpQMDaEpDFsxIgYM2qnQzGQYCA1QGVkskLELAm30IG4CRAwOoES9nkBAhY7VtGwGpvSkUEEGgpQMDaEpDFsxIgYM2qnQzGQYCA1QGVkskLELAm30IG4CRAwOoES9nkBAhY7VtGwGpvSkUEEGgpQMDaEpDFsxIgYM2qnQzGQYCA1QGVkskLELAm30IG4CRAwOoES9nkBAhY7VtGwGpvSkUEEGgpQMDaEpDFsxIgYM2qnQzGQYCA1QGVkskLELAm30IG4CRAwOoES9nkBAhY7VtGwGpvSkUEEGgpQMDaEpDFsxIgYM2qnQzGQYCA1QGVkskLELAm30IG4CRAwOoES9nkBAhY7VtGwGpvSkUEEGgpQMDaEpDFsxIgYM2qnQzGQYCA1QGVkskLELAm30IG4CRAwOoES9nkBAhY7VtGwGpvSkUEEGgpQMDaEpDFsxIgYM2qnQzGQYCA1QGVkskLELAm30IG4CRAwOoES9nkBAhY7VtGwGpvmnXFkydPhgsuuKDzL+uBMrh5FSBgnVd+Vr7ABAhYF1hDWm7O6enTYfEFi8KiJYtbVmLxKEDAGiXSvTz35tlw9o1zYdmKZekOYoFtOQHrAmvIiJvDc8aIcH0WI2Dtg5P4XTyXDNdAAtbhvJrMPRYB60c/+tEgwaBMt99+e9i6dWvnOv8NJ/DpT386PP74452Fnn/++fCJT3xiuAKJz/3GG2+EJ554Ihw8eDB85CMfCTt27Eh8RAt388c5YJ3YssWsMRsmJsKuG280q0eh+REY14D12ItHw5N/ud8Mffuh7fMe3mz74D1h+rXpzpjuLbZn9eRqs/GNc6FxC1h3rd8ZTp86Y9Ly1f/rqrD5sVtMao1a5MSR4+Ghax4K5948F1ZdtipsP3zfqKVYTgmMW8Aq+9HezfuUQLurd3zvzrByzYp2RVouvf/uJ8PhRw93qtz5zJ1h4uNrW1ZkcREgYJ3ZD3J+Lln+vuXhgV98lR1+gAAB6wCgEe4ei4D1ve99bzdg/dKXvkQwNsKOIuHihRde2F1SwlUJWcdh+slPfhL27NkT5FIcZGI/8u38OAes7/rkJ81wr52cDI/ceqtZPQrNj8C4Bqw6HLCQ3318z7wGrGeKI1e3rj7/B97JT03Oe7Bl4boQaoxbwKrDgbb+CyHQ3Hfz3jD19FR3KPP9WO1uSOJX9O/Qq7ZtCpvu3ZT4iPpvvgSsu9bv6j/TEPfO9x/BzhZHdd/87s91t3jiiolw5/f/ovszV0YX0L9Dx/n3jXYYXXNmSZ5L2grOz/IErPbuBKzKdOPGjeHVV1/t3PLwww+PxRGad9xxR+eITBm0hKYy7rpJB9W7d+/O+khg2Q9eeOGFIOOMoap2IWDVGvbXxzlgHXQE629On+6Cv3PRorBkcf3HjBf6Eaz7Dh0KjxX/ZFro29pFn4cr4xqwdo5gvbv+CFb5GJgc8Ranpcv7f7R4++H5PYJV3izfvmprd5s379scJq9bFzefyxYC4xawdo46mq4/gvXMqfPPE4uW9D8dxYo1y8Odz8xvaHP40UNh/9uP9aXLl4b7f/FAWMwpNFo8ImYWHbeAdfq1k8WR0PXvY4Z9zpDf0fP9KYOtq7aEM28frX75bevDDV+7ofV+QQGOYI37QG7PJVNPTYV9m/d2hsdzSexy/0sC1v4+o9xLwKrU5FQCcpSiTN/5znfCTTfd1Lme83/6Y/8yXhl33SSnWZCPyMs5WHM9zYKMUUziflBnQcBaJ2Nz+zgHrIMEJ/78z8Nvzsy8sb5r06Zw19VXD1pkwd7/4LPPhgcPHOhsH0fb1rdpXAPWepGZe8pHKz199ruDFpn3+08XwdfU/qniSNqlhKuG3Ri3gHUQnbxpPnHkRGe2VI6UljfGcq7JtcVHoFdcPL8fyx7km8r94xawDupL+TkjhSMX43OG/KFkw+c3DBoi9zcU0EduprAfNByW+Ww8l5iTLriCBKz2LSFgVaYErP0DVkWV7VUJVmU/iJOEye9///s7p5X48pe/3A1eCVijkM8lAWu9KwFrvU2u9xCwVne2/GY5hYC1eiTc2laAgLVXMMU3xb0j4CcLAQLWXsXycwbBWq/POP1EwNqs2zyXNHNKeS4CVvvuEbAqUwJWAtYYsMqXWMkpE24sviBIQlaZ9P5BwKoeOA5XCVjrUQlY621yvYeAtbqz5TfLBKzVTuNwKwFrb5d5U9zrMa4/EbD2dr78nEHA2uszTj8RsDbrNs8lzZxSnouA1b57Yx2wysfBJVCLk3yRUTwHq3xcft26mXOjScAmYVu/SerIOTvj+TplmTVr1gQJ6lauXFm7qKwvrlPmk/mlhnwUP94u21F1ugKZT+bR65UVyRGXV155Ze16H3/88e72yHqigaxbAsU4yZhjuCi3HTx4sDu+QeOKNUZ1keV1f3QPyj4y76AxyzxNJqn95ptvhhUrZn88jYC1iaDNPASs9Y4WAeubZ8+GZ6amwj8UvwPj9J5ly8KGtWvDRX1+X8V542VVnXcW54T90OrV4WNFrarpmZde6t586NixcOjllzs/yzJymoA4ybb0O79snG8cLglYq7tcfrPcNGA99oNj4ewbZztFJz4+0TnXo9Q6+uLRcPbtc7rKl8Esqzinq5zDb+qpI+Fkca6/OC0uProp5+mbuKJ6n4/zyaVe96rJVbPWIecQnH7tVGeRFRcvLz4qvbJzXbbv+NSJ4pvjZ86tKeuUj1HLx6kXca7KQMDa2U26/43yplj2rRPFPiaTnMJi1WWri/MF9+7vK4t9bv1t1R9TLj+GpM7KYv+Vx1jVY0nuj5Ne9+ILFlU+luQUAnGavG7muUK27+iLx4rHzMnuY1fWJY+t1cX2j/tEwNq7B5SfM5oGrFW/t8v7+7DPGU1/f1etW49KP2fEx63cP/3adOc0Ifq5avVlq4rHxuqBj0ddP9frBKzNOruQnkvkS7QGnT6G55JmfdVzEbBqDZvrYx2wSvinPw5eRyrB569//evKuyXglC+KiiFleSZZVsLRHTt2lO/q/CwfO5ejIWWSQFPmky/bknAxTrJ8+dyo8uVLsqwEgnWTLCdfWqVDUpn3He94R90iPbfLmGX746S/5GrQOWoljBUXPY5YJ17WbV+8X/dHtkO2Z9C4PY8sJWCNnfG/JGCtN24bsMp5T+XLpX5/7vyXA+m1SbC584YbwvIicK2bJFiVc6fGL6iqmk8CWzlH7LVv/6EqzvOuT34yXu17+fx994UPF6ErUwgErNV7QfnNctOAVb+xkm+J/i/FuSoP3D9zLuC4pvK3R8uLdvmm83heyzifvpQvVJA32f2+uEqv++biC1TWlb7k6sBXDoTn3t4W+dbvDZ9fX3xpy0O165V13vkf7wwr3rdSb8rYXSdg7W35KG+KdRi3vAj35dvKd12+s/sFO7KGqm+JPvaDo+HJu57sma93a0K4rAhE6wIomVeve2kR7u45/ki5RE+ILsHYqdenw97iMam/6E4vJOu8/mvXj/WXZWlX+X0iPRjnqfyc0TRg1Y8n+b39T8UXzA16zpDw/8nii9uOqD8MlO3l97ecV7XujxYy/zDPGXK+5esfvD7I88jhRw+XV9f5WdYpX5Q1Ufxxbpwn7dp0PxhHL73vNz2ft/69I7/Ptx++j+eSBbzzELDaN4eAVZ1vs443hnvl++VIUAkR+4WccZm64E8HrDHMLIeS5YBVfzFVrB9D1PK2yJGdP/7xj3tCVu+AVcYq42oyyZhl++LY9TLlgFWOrm1SV0JYjy/hImDV3fG9TsBa7ztqwCqh6Cd27gz/MD1dX/zteyQclYCzKmQdpo6UK38RFwHrQP5ZMxCwziLp3FB+szxKwCqBUVVoqgNWCVfLQZNswNLiSDl5E10OeCTUqXvDrN/UDQpYZdvkS3/iN0hXK4TiCNZFnW9dH3SUYN3yOdxOwNrbxbZvimWfkn/lfa8csD5XBDnloGlm2cXFsjNHW8ctk2Dn/l88UBl4lt+QDwpY5QhWfURrXEf58rLrLgu37Lu1fPPY/KxdCVhD8bv+eNi1fle3/02DNf14+pPi97L8Ua48tXnOuGrbVUX4Xf2FpcM8Z0xcMdF5zMrRq4Om+39x/1j/YU67Nt0PBpnmeL/e90cNWMNbgeeSBbxzELDaN2esA1bhnFZhgxxBGj+WLyGdPi1A+SPjEoJecskl3XBVPjIvR5/KpUxSR045oD+O//zzz/fUlPl0wCo/yxQ/Di/hqEyy7rgt5fBSgkS5LQassl2yTh1Eyv36CFo95ttvv73z0X9Zj6xDxh2n8pibHMEqy0voHKeyS9X2yThfeeWVuEj3Uges8UYZp2yzhM6yfTIWCWhlvFJbJplHjnaNJp0bDf4jYDVAbFiCgLUeatSAdcs3vtE5LYBUfueiRWHzhg3h5uKffAxfQtNDR492jkr9zemZN8UfWrUqHPziF2dtyPYnn+weuVquIzP/9PjxsGXv3hDryG36aFR9+74f/jA8dnjmKIsNExNhlzpFidTmFAGixxGsMwqz/y+/WR4lYI1VJTiSj57JR/Il1Jy8frL7Mcqtq7Z03xxISHTLvlvC8jUrukHRianjYe/mvd15JGDafWJP9/64DrnUb+oGBaxxOVmnvPmWbVy2YllxeoLpzhF/P1JHKK2/bX1xtN4NcZGxuyRg7W152zfFsZrsy2uLU18sLx4bMsnH9+MR2hJw7iv2+zhdXuyDG4rTB8g+KtPZ4o8PcvTe/uIovjjJUaXy+ClPOghscgRrXF7qrSuO2pPHo0xyioP9d/ceTauDr7jcuFxqVwJWm4A17jvye1lO0SLPGXLKmbX/bm3tc4YcOSxHjC5++3Qu8jt8383fKI7CnjkdjNSs209Hfc6QP/LJ9sXnjP9cnAJH/zGk/MeSOK5xudSuBKz1XR/X55JTvyw+IaFe14lQ3WO0Xi+NewhY7fs09gGrJtUB2qCPwOuwUYJJCU+rJgkbY2gpR2mWTzVQDlglbJRaVUd0ytGpF154YXc18vF/CRurJr1eCRp/97vfVc0W9NGw5SNlywvoMVf5SMAphjHo7FevHJ6WQ2BZd3keMRGbGDzr7SvPK6GrhLuWk94/qrbXcl3jXouAtX4PGCVglfOeSugpkwSXB4ujU6vOtXqqCFf/7K/+qnv6AB2Mxi36o898pnv/I7fcMusUADKfBLYbd+0Kv3r7jx51Ya2crkBONSCTnH/1kVvH90ijDkLNfxzBWg1jFbD2O3pIh0jyhnr7j+7rvonWWyVh0u2rtnaPZq2rqd/UNQlY5aPa8vG6+MZcr1OCpPgxUAnCvvnbb+m7x+o6AWtvuy3eFPfb32Vt+g8Pdfu7zCenvJCPLMfpsd9+c9b+rIPApgHr5uKj2jHsjbXlUo443/aBewY+FvUyuV7XrgSsdgFrv/1dP2fIfiV/bKv6dIE8Z8h+Go8Sr/sj2bDPGfK4rTtSvMljMdfHQnlc2pWAtaxz/ueF9Fxy+NFDPX+w834uafq67rxWmtcIWO37RsCqTHWAVhUgxlnl/KJynlSZJPSr+4i73C+hqAST8aP75eCvHLCWz3sqNeIkR8XG9cpt5bA2zieXEnLKeuNUV9cyYNWhrrjIUan9jiKVkDIeaVt11Gk5NO3XExmnHFGsj0C2Pk2A3j8IWOOe5XNJwFrvOkrAOrFlS/eI0vJH9str+loReP5NEXzKVA5G5ehTqRWnY488EuR0AlVTOdT9x29/e9ZsBKyzSCpvIGCtZJn1cc9RjmCtO6IurlFCTPkSHZnky3rk3HV1kw485aOacg7L8qTf1A0KWAcFXGeKI223rt7aXcU4v0kkYO3uBp0rFm+K64IhWYHsezvVR63veObOsPLto0h7t2TmSNab3/257s1f+dkDs+bVQWCTgLVfwCUravJY7G5Qxle0KwGrTcA66DlD/pgQT1+xuviytc0VR2zHXU7+QCb7qkzyx7QHfv7VeFf3cpjnDFmo3+NWAqNBj8XuijO/ol3H+blzUJsX2nOJ/kN21RGl+ncezyWDujtzPwFrM6dh5iJgVVo6QOsX5g0TSkp5Pb8ccSpHnsZJB6xyxKUEsFaTPtdqOdiN69Db1u+IU5l/0BGs+n45andQwDkofC4HrG+9VZzEpc+kx1J27rNY47v0/kHA2phtpBkJWOvZhg1Y5SjSP7vnnm7Bo0UoWnVu1TiDnl+OdtXBaDlgrTrCNdaRS306gKogloBVa9VfJ2CttrE4grUq5Kxe2+Bb9Qv7uo9f6jd1VevWX3LV5HxnOliserMxeKvzmEM7NA3a8xh59Sjavimue2NavbbBtw7a7/Vjp27duseD9nUdXNU9FgdvdfpzaFcCVpuAter39qh7iu5P3X4/6LGjnzOa7Ou6nvxhRE4jMI6TdiBgrd8DeC45/0eQJo+vesmFew8Bq31vCFiVqQ7Q+gWsOkisOq+qKtm5KudijR/lL4eYuQSs5SNm5ejVqo/yl220eTkUbROwlp3L6x3lZ72tBKyjCDZfhoC13mrYgHXfoUPhvuK8qTKVj0itW4v+IqryUapyCoFfvX3uaglN5TQBH169uq5U39sJWPvydO8kYO1S9FwhYA0936w+KHTqwcvsBx2+EbCG4ot8dna/vK1JUC+7Q5OwZ9TdRocZVQFVk3XrHg/a13W9XN8UN+mFdiBgJWCVfWbQY7HJfpXDPNqBgLW+ozyXvFSca3xfByjX5xIC1vr9f9R7CFiVnA7Q6gLW8nlQ5ahT+Th8v0nCRwkLZSofpdomYJWaL7zwQqe2bFf811lR6T/vI1hlW8QvToOONo3z6dMKlM9lO2xNfQQrAWsUTvOSgLW+b8MGrPrLrSQQ/XDx5VWDpmemprqzlI9SlS+x2rhzZ/d+uSJ1JbzdcOml4aLiy+f6HSGrFyRg1Rr11wlYq23mOmA9V3y8cuqpI+F48aVW069PdzZKPipdNdW9ENdv6qqCJn00UpNgbJjQqWo7c7lNOxCwzn3AKo/Fo8WX6Mi3l58+dSacK77059yb5yp3r6r9XgeBdUfy6R4TsFbSzrpRuxKwzn3AGp8zTr52svsHj7rnjLr9fpjnjLrnHb1jDKqn5835unYgYK3v9FwHrDyX1PfC6x4CVntZAlZl2iRgLR+pqRZvdNUiYJXgUcJE2Zamk3fAWj4vbb/zw+pt7hcwE7BqqfG6TsBa3+82AWt91fp7ygGrzPl68bvnpoce6jkFgK7wp0XIunnDhvCh4sjWfmErAatWq79OwFptM5cBqwSf8gULdaFReQvr3ujqN3VVQRMBa1my2c86fCNgnbuAdboIjvbfvb8bHjXpVtV+r4PAuqBJ95iAtYl071HJBKxzG7Ae/ttD4UDxBW9NnzPq9vthnjPqnnf03jKonp435+vagYC1vtNzFbDyXFLfA+97CFjthQlYlWkKAasOMmXT5cuh5MhP+Th++Qul5CjOOHkHrI8//ngn9JX1yRG9BKxRnstRBAhY69UWQsAat06+yOrQyy+Hn544EX5/bvbRSnJk667rr+8c2RqX0ZcErFqj/joBa7XNXAWs+zbv7X5piWyJvIldcfGK4t/Kng07XhzFd+SpmaO/697o6jd1VUETAWsPaeMfdPhGwDo3Aau8Id5VfNFVDJAWLVkU1l6xtviynhVh8QWLe3onX+QT56va7wlYe7jMftCuBKxzF7DqL1mTZi5/3/KwenJ13+cMAlaz3b5RIf1cTMBaTzYXASvPJfX+c3EPAau9MgGrMh0lYJUgcdApAtQqZl3tdwRneWY5YlW2MR65Kl8iJecCLQercbm5/JIrfbSpbM/vfve7uBl9L/uNX9eUIoNOO8ApAvpSJ3UnAWt9u9oErDevXx923XhjffEW98iXY8npAw4dPRp+VgSueqo6ClbuJ2DVSvXXCVirbeYiYJVvg5aAVSYJkO4svhRkVfFGuWrSYQYBa5WQ320ErL22c/GmeOuqLeFMcToAmSavmwzXfe36sHhJb7Aat0qHGQSsUcX/Uv9OImCdm4BVP2dIhzfv21w8PtZVNlv3h4C1ksjtRv07iYC1npnnEs7BWr93cE+dAAGrkmkSsMrsTYJLVbbv1X4BY3nBYY8SbbKdw4SS+su9yueoldBX7o9T0+B548aNQY7KlYkvuYp6XBKw1u8Dwwas9z3xRNh3+HCn4IaJifDEF75QX9zonlOnT3fO0/qb4lImOWXAj7/61VnVCVhnkVTeQMBayVJ8LPl45wi6eG/TIxf1G6uqsCfWk8ttH7ync15Jud7vjbLcr98sE7CKyNxNBKy91t5vivVjb+nypeH+XzxQG67Klg16zOnHTl3QpHvMKQJ6+133k3YlYJ2bgFU/9tbftj5c/7Ub6trT85xRt98PeuzoTz3UPe/oDRhUT8+b83XtQMBa32m9Pzc5L7xU0r936vbruEaeS6LE/F1yBKu9PQGrMm0asOr52n6b/DAB6zBhqAxrLgNWWd+FF17Y+aItub579+4gR9gOmvQyzz//fOd0B3EZjmCNEuN3ScBa3/NhA1b5GP+WvTNH4L1z0aJw7JFHwpLF1UcZ1a915p4fFken/v7s2c4Pg86vWv4yLFmvnDJATwSsWqP+OgFrtY1+YS5zeASsOtT5ys8eCCvXrKjemOJW/aai7o2uflNXFe7qN8tN3szo7RsUOtVueAZ3aIem+0EGw64dgvebYr2f1u3reuMG7ff6sVP3hlz3eNC+rus12T69rTld1w4ErHMTsH7u3Z/tng5jmP20br8f9NixfizmtP/3G4t2JWCtl+K5hCNY6/cO7qkTIGBVMjo4LR+hqWbrfCxfglGZ5OPwcrRm3cf043JyhGfVqQS8AtbyEaXe52CVcd5xxx2dYFWuyzlhX3nlFblaO+kjcmUmOa2AdiRgraXL/g4C1voWDxuwvlkEohNbtnTPkfqFTZvC3VdfXb+C4h5Z5s3inKrlL6i68etf75wCQBYedLoBOXpV1hsnAtYoMfwlAWu12VwHrIPeLO8tTiXAOVire+V9qw7fCFj9z8GqQ53lFy8PD/x89icUYs9Pnzodbl91/g/uVX9Y0EFgXdCkezzosajrEbDu67SCgHVuAla9n95RnFJm7cfXxofCrEt9rta6/V4HgVWPHf1YbLKvD6o3ayMzvUE7ELDWN3kuA1aeS+r74HkPR7Da6xKwKlMdsPY7AvONN97ofBxeLmWSL5mSoy/rpldffbVz7lSZ7+GHH+4JEYcJWOVoWR3sSoBZFdpKuCpjkcs4zUXAWg51+x3dW95GOdpVzPVEwKo1xus6AWt9v4cNWKXS1w4cCH/z7LOdonIUq5wT9X3Fl9FVTRKubt+/P/ysOJ/q43fe2TNfuc7fFx/7L4ewsaY+clZu+2/f+168q3upj2C9qDiNgNRjmi1AwDrbRG6Zi4BVH43U7+Oez33lQOcbo+OW1r3R1W/qBr1Z5gjWqDn4UocaBKz+AasOMKU7u0/sCcuW935CQW6XcPXhax7qnmZDbqva73W9uqBJ95iAVSQHT9qVgHX2c0bTYE2HTFX7r+6E/h1f9zwg8+veyM91+72uV7VuAlbRG37Srk33g+HXkv4Set9v8ppERqz37br9OsroeeU2nkuizNxdErDaWxOwKlP9EXwJLiWUlEsJUvWRlbKIhIFyxGacZD456vUjH/lIvKmz3J49ezpHvMYby0fGDhOwlgNHWeeOHTs6Aa9sn4SWTxTnW5Rti+FvXG9dwCrbJ+c+lUlqxNC2asz9zsEa11N2uemmmzrbKNsaJznnqljHbZT7onWcRy7L4+VLrrRO3tcJWOv7O0rAKqHpn91zT4jnRJXqdxVHsl6zbl1PQCof65fTCcT5Lioem3//wAPdjSkfDSsf+Zc61xZ14iTzyBddbX/yye5Rs9dMTob/cOutcZbuZTmEjV+GJTVGPY1Bt3hGVwhYq5s5FwHrc/cXwWkRnsbpsuLLfDbctqH4NugVxcdAz3aCI7n/xJHeL3are1Oh39QNerPc5M3MMKFTHEOOl9qBgNU/YD1b7PtyVOq5N891dic5D+umezd1jtZbVHzR1enp08Wb7Klw+NFD3Xnifle13+s32XWPHd1jAtao2f9SuxKwzk3AOupzhnyJ4jd/+61ZDR3mOaNfoBsLD6oX58v9UjsQsNZ32ztg5bmk3n6u7iFgtZcmYFWm5UBP3VX5Dfb6iNI4r4SUMYyVwFNPVUd0DhOwSq2qdep1xOsSWkqAGUPMcrAb55P75TyoVVM5lG0SsEodfaqAWDcGrHqb5L66cFXuK/eDgFVUxmMiYK3v8ygBq1Qrf/FUXEM8L6qEmr8vTgsQJ7ldAs/yEaqvF7/XNu7c2TOvHBUbA9GmdWQ9Mq8+fUFct1zGsFXfNq7XCVirOz8XAau8+N/2gXu635ZevSUzt8rH2069dqrzg8WbZQLWftq99+nwjYDVP2AVfQlP99+9v7cRFT/JY0GmGMZWHQmug0AC1grEEW/SrgSscxOwDvWc8b7iOeP1mecMafFjv/3mrC+L00Fg1R8nOIJ1tAeHdiVgrTf0DlhlzTyX1PvPxT0ErPbKBKwlU30Uq76rLtyT84hKSFoOU/WyErhKwCmnCChPwwassvygkFWOopX1bdy4McjpCWSSI0nltqqprt6oAausQ45klaNj+7nE7Yzha3nbCFjLIuPzMwFrfa9HDVilooSscqqAZ6am6ldQ3CNHnO664YZuaFqeuS6sLc8nX4T1yC23zApp9Xz7Dh0K9xVHu5YnAtbzIgSs5y30tbkIWGV98jHnXZfvrA1ZJUC6attVYfXk6rDtg9u6m1h1lJ1+UzfozTIBa5dy4BUC1l6iuXhTLGssnxqjdytCkCPqNj92S3hu14Ew9fTM807VUXY6CCRgLSuO/rN2JWCdm4BVuiXPGftu3jvrkw2xk/E549KPXxq2rj5/fuK2zxlVj624zng56Dkozpf7pXYgYK3vNs8lfMlV/d7BPXUCYxGwStAXj+RcV3yUVYK9fpOEpvJRe5kkHJUAUM6d2m+SZX75y192A02ZV5aTdV155ZXdo1rLNSREfKn4lm+ZVhTnIJQgtMkkwaVsoywfJ/liKVlXHJ98FF+2SSYZh5zntG6S7X/hhRe6TrLtcvoBuYyTdpT1yPr6TbKNsn26rmyHLNekD3GMcR2yPf0mPd41a9ZUBtr9lh90nxhNT093Zmuy/YPqcX+9AAFrvY0Ekr8vjvyUSQLMDxf/hp0kIP1+8XtHTgkQpyXFUahS72OXXhriUa3xvrpLWf7Qyy+HX739uJD5pI6cWmCYbZM6j/3wh50v1pIactTsF4ov4iofPSv3jeNEwFrddXkTO7V/JrSROeQjyk2mw48eDmffmHkMrf13E2HF+1Y2WSwcffFoOPqDo+FM8fFnmeRN8qrLVofJ6ye7Rx3p0wmsnlzVuV8XH7RuCY2PT82cbmBlcRqCiT5fkCJ19fpkO6rOg6nXn+t1AtbezsrH8+Vj+jI12Y9kvunXT4ajf3dMrobFFywK64tTYTSZ5HF49O+Ods6JHI9Slf1wsjidxqrijw4y6f1afi4/Vpuse5h9XddbtmJpsS3nT2Mj6x+XiYC1t9Pl54z1n1/f/d3dO2fvT/rxNMxzxomp453njOnXZt47yHPGiotXBr1e/ZzQ9jmjyb6u1zfMWHpF0v+JgLVZD/W+vxCeS/TvdhkBzyXN+thvLo5g7acz2n1jEbCORsNSCCAwXwIErPMlz3oXogAB60LsCtu0kAQIWBdSN9iWhSJAwLpQOsF2LDQBAtaF1hG2Z74ECFjt5QlY7U2piAACLQUIWFsCsnhWAgSsWbWTwTgIELA6oFIyeQEC1uRbyACcBAhYnWApm5wAAat9ywhY7U2piAACLQUIWFsCsnhWAgSsWbWTwTgIELA6oFIyeQEC1uRbyACcBAhYnWApm5wAAat9ywhY7U2piAACLQUIWFsCsnhWAgSsWbWTwTgIELA6oFIyeQEC1uRbyACcBAhYnWApm5wAAat9ywhY7U2piAACLQUIWFsCsnhWAgSsWbWTwTgIELA6oFIyeQEC1uRbyACcBAhYnWApm5wAAat9ywhY7U2piAACLQUIWFsCsnhWAgSsWbWTwTgIELA6oFIyeQEC1uRbyACcBAhYnWApm5wAAat9ywhY7U2piAACLQUIWFsCsnhWAgSsWbWTwTgIELA6oFIyeQEC1uRbyACcBAhYnWApm5wAAat9ywhY7U2piAACLQUIWFsCsnhWAgSsWbWTwTgIELA6oFIyeQEC1uRbyACcBAhYnWApm5wAAat9ywhY7U2piAACLQUIWFsCsnhWAgSsWbWTwTgIELA6oFIyeQEC1uRbyACcBAhYnWApm5wAAat9ywhY7U2piAACLQUIWFsCsnhWAgSsWbWTwTgIELA6oFIyeQEC1uRbyACcBAhYnWApm5wAAat9ywhY7U2piAACLQUIWFsCsnhWAgSsWbWTwTgIELA6oFIyeQEC1uRbyACcBAhYnWApm5wAAat9ywhY7U2piAACLQUIWFsCsnhWAgSsWbWTwTgIELA6oFIyeQEC1uRbyACcBAhYnWApm5wAAat9ywhY7U2piAACLQUIWFsCsnhWAgSsWbWTwTgIELA6oFIyeQEC1uRbyACcBAhYnWApm5wAAat9ywhY7U2piAACLQUIWFsCsnhWAgSsWbWTwTgIELA6oFIyeQEC1uRbyACcBAhYnWApm5wAAat9ywhY7U2piAACLQUIWFsCsnhWAgSsWbWTwTgIELA6oFIyeQEC1uRbyACcBAhYnWApm5wAAat9ywhY7U2piAACLQUIWFsCsnhWAgSsWbWTwTgIELA6oFIyeQEC1uRbyACcBAhYnWApm5wAAat9ywhY7U2piAACLQUIWFsCsnhWAgSsWbWTwTgIELA6oFIyeQEC1uRbyACcBAhYnWApm5wAAat9ywhY7U2piAACLQUIWFsCsnhWAgSsWbWTwTgIELA6oFIyeQEC1uRbyACcBAhYnWApm5wAAat9ywhY7U2piAACLQUIWFsCsnhWAgSsWbWTwTgIELA6oFIyeQEC1uRbyACcBAhYnWApm5wAAat9ywhY7U2piAACLQUIWFsCsnhWAgSsWbWTwTgIELA6oFIyeQEC1uRbyACcBAhYnWApm5wAAat9ywhY7U2piAACLQUIWFsCsnhWAgSsWbWTwTgIELA6oFIyeQEC1uRbyACcBAhYnWApm5wAAat9ywhY7U2piAACLQUIWFsCsnhWAgSsWbWTwTgIELA6oFIyeQEC1uRbyACcBAhYnWApm5wAAat9ywhY7U2piAACLQUIWFsCsnhWAgSsWbWTwTgIELA6oFIyeQEC1uRbyACcBAhYnWApm5wAAat9ywhY7U2piAACLQUIWFsCsnhWAgSsWbWTwTgIELA6oFIyeQEC1uRbyACcBAhYnWApm5wAAat9ywhY7U2piAACLQUIWFsCsnhWAgSsWbWTwTgIELA6oFIyeQEC1uRbyACcBAhYnWApm5wAAat9ywhY7U2piAACLQUIWFsCsnhWAgSsWbWTwTgIELA6oFIyeQEC1uRbyACcBAhYnWApm5wAAat9ywhY7U2piAACLQUIWFsCsnhWAgSsWbWTwTgIELA6oFIyeQEC1uRbyACcBAhYnWApm5wAAat9ywhY7U2piAACLQUIWFsCsnhWAgSsWbWTwTgIELA6oFIyeQEC1uRbyACcBAhYnWApm5wAAat9ywhY7U2piAACLQUIWFsCsnhWAgSsWbWTwTgIELA6oFIyeQEC1uRbyACcBAhYnWApm5wAAat9ywhY7U2piAACLQUIWFsCsnhWAgSsWbWTwTgIELA6oFIyeQEC1uRbyACcBAhYnWApm5wAAat9ywhY7U2piAACLQUIWFsCsnhWAgSsWbWTwTgIELA6oFIyeQEC1uRbyACcBAhYnWApm5wAAat9ywhY7U2piAACLQUIWFsCsnhWAgSsWbWTwTgIELA6oFIyeQEC1uRbyACcBAhYnWApm5wAAat9ywhY7U2piAACLQUIWFsCsnhWAgSsWbWTwTgIELA6oFIyeQEC1uRbyACcBAhYnWApm5wAAat9ywhY7U2piAACLQUIWFsCsnhWAgSsWbWTwTgIELA6oFIyeQEC1uRbyACcBAhYnWApm5wAAat9ywhY7U2piAACLQUIWFsCsnhWAgSsWbWTwTgIELA6oFIyeQEC1uRbyACcBAhYnWApm5wAAat9ywhY7U2piAACLQUIWFsCsnhWAgSsWbWTwTgIELA6oFIyeQEC1uRbyACcBAhYnWApm5wAAat9ywhY7U2piAACLQUIWFsCsnhWAgSsWbWTwTgIELA6oFIyeQEC1uRbyACcBAhYnWApm5wAAat9ywhY7U2piAACLQUIWFsCsnhWAgSsWbWTwTgIELA6oFIyeQEC1uRbyACcBAhYnWApm5wAAat9ywhY7U2piAACLQUIWFsCsnhWAgSsWbWTwTgIELA6oFIyeQEC1uRbyACcBAhYnWApm5wAAat9ywhY7U2piAACLQUIWFsCsnhWAgSsWbWTwTgIELA6oFIyeQEC1uRbyACcBAhYnWApm5wAAat9ywhY7U2piAACLQUIWFsCsnhWAgSsWbWTwTgIELA6oFIyeQEC1uRbyACcBAhYnWApm5wAAat9ywhY7U2piAACLQUIWFsCsnhWAgSsWbWTwTgIELA6oFIyeQEC1uRbyACcBAhYnWApm5wAAat9ywhY7U2piAACLQWqAtbv/t8vtKzK4gikKbB3ySXh0OJ/3d34f3rxsXDpP/tPYdO9m7q3cQWBcRYgYB3n7jP2OgEC1joZbh93AQLWcd8DGH8UIGCNEnaXBKx2llRCAAEjgXLAalSWMghkIUDAmkUbGYShAAGrISalshEgYM2mlQzEWICA1RiUcskKELDat46A1d6Uiggg0FKAgLUlIItnLUDAmnV7GdwIAgSsI6CxSPYCBKzZt5gBjihAwDoiHItlJ0DAat9SAlZ7UyoigEBLAQLWloAsnrXApn8VwvY/znqIDA4BBBBAAAEEEEAAAQQQSEqAgDWpdrGxCIyHgASsm/7zeIyVUSIwrMDGf0nAOqwZ8yOAAAIIIIAAAggggAACngIErJ661EYAAQQQQAABBBBAAAEEEEAAAQQQQACBrAUIWLNuL4NDAAEEEEAAAQQQQAABBBBAAAEEEEAAAU8BAlZPXWojgAACCCCAAAIIIIAAAggggAACCCCAQNYCBKxZt5fBIYAAAggggAACCCCAAAIIIIAAAggggICnAAGrpy61EUAAAQQQQAABBBBAAAEEEEAAAQQQQCBrAQLWrNvL4BBAAAEEEEAAAQQQQAABBBBAAAEEEEDAU4CA1VOX2ggggAACCCCAAAIIIIAAAggggAACCCCQtQABa9btZXAIIIAAAggggAACCCCAAAIIIIAAAggg4ClAwOqpS20EEEAAAQQQQAABBBBAAAEEEEAAAQQQyFqAgDXr9jI4BBBAAAEEEEAAAQQQQAABBBBAAAEEEPAUIGD11KU2AggggAACCCCAAAIIIIAAAggggAACCGQtQMCadXsZHAIIIIAAAggggAACCCCAAAIIIIAAAgh4ChCweupSGwEEEEAAAQQQQAABBBBAAAEEEEAAAQSyFiBgzbq9DA4BBBBAAAEEEEAAAQQQQAABBBBAAAEEPAUIWD11qY0AAggggAACCCCAAAIIIIAAAggggAACWQsQsGbdXgaHAAIIIIAAAggggAACCCCAAAIIIIAAAp4CBKyeutRGAAEEEEAAAQQQQAABBBBAAAEEEEAAgawFCFizbi+DQwABBBBAAAEEEEAAAQQQQAABBBBAAAFPAQJWT11qI4AAAggggAACCCCAAAIIIIAAAggggEDWAgSsWbeXwSGAAAIIIIAAAggggAACCCCAAAIIIICApwABq6cutRFAAAEEEEAAAQQQQAABBBBAAAEEEEAgawEC1qzby+AQQAABBBBAAAEEEEAAAQQQQAABBBBAwFOAgNVTl9oIIIAAAggggAACCCCAAAIIIIAAAgggkLUAAWvW7WVwCCCAAAIIIIAAAggggAACCCCAAAIIIOApQMDqqUttBBBAAAEEEEAAAQQQQAABBBBAAAEEEMhagIA16/YyOAQQQAABBBBAAAEEEEAAAQQQQAABBBDwFCBg9dSlNgIIIIAAAggggAACCCCAAAIIIIAAAghkLUDAmnV7GRwCCCCAAAIIIIAAAggggAACCCCAAAIIeAoQsHrqUhsBBBBAAAEEEEAAAQQQQAABBBBAAAEEshYgYM26vQwOAQQQQAABBBBAAAEEEEAAAQQQQAABBDwFCFg9damNAAIIIIAAAggggAACCCCAAAIIIIAAAlkLELBm3V4GhwACCCCAAAIIIIAAAggggAACCCCAAAKeAgSsnrrURgABBBBAAAEEEEAAAQQQQAABBBBAAIGsBQhYs24vg0MAAQQQQAABBBBAAAEEEEAAAQQQQAABTwECVk9daiOAAAIIIIAAAggggAACCCCAAAIIIIBA1gIErFm3l8EhgAACCCCAAAIIIIAAAggggAACCCCAgKcAAaunLrURQAABBBBAAAEEEEAAAQQQQAABBBBAIGsBAtas28vgEEAAAQQQQAABBBBAAAEEEEAAAQQQQMBTgIDVU5faCCCAAAIIIIAAAggggAACCCCAAAIIIJC1AAFr1u1lcAgggAACCCCAAAIIIIAAAggggAACCCDgKUDA6qlLbQQQQAABBBBAAAEEEEAAAQQQQAABBBDIWoCANev2MjgEEEAAAQQQQAABBBBAAAEEEEAAAQQQ8BQgYPXUpTYCCCCAAAIIIIAAAggggAACCCCAAAIIZC1AwJp1exkcAggggAACCCCAAAIIIIAAAggggAACCHgKELB66lIbAQQQQAABBBBAAAEEEEAAAQQQQAABBLIWIGDNur0MDgEEEEAAAQQQQAABBBBAAAEEEEAAAQQ8BQhYPXWpjQACCCCAAAIIIIAAAggggAACCCCAAAJZCxCwZt1eBocAAggggAACCCCAAAIIIIAAAggggAACngIErJ661EYAAQQQQAABBBBAAAEEEEAAAQQQQACBrAUIWLNuL4NDAAEEEEAAAQQQQAABBBBAAAEEEEAAAU8BAlZPXWojgAACCCCAAAIIIIAAAggggAACCCCAQNYCBKxZt5fBIYAAAggggAACCCCAAAIIIIAAAggggICnAAGrpy61EUAAAQQQQAABBBBAAAEEEEAAAQQQQCBrAQLWrNvL4BBAAAEEEEAAAQQQQAABBBBAAAEEEEDAU4CA1VOX2ggggAACCCCAAAIIIIAAAggggAACCCCQtQABa9btZXAIIIAAAggggAACCCCAAAIIIIAAAggg4ClAwOpZS6v/AABAAElEQVSpS20EEEAAAQQQQAABBBBAAAEEEEAAAQQQyFqAgDXr9jI4BBBAAAEEEEAAAQQQQAABBBBAAAEEEPAUIGD11KU2AggggAACCCCAAAIIIIAAAggggAACCGQtQMCadXsZHAIIIIAAAggggAACCCCAAAIIIIAAAgh4ChCweupSGwEEEEAAAQQQQAABBBBAAAEEEEAAAQSyFiBgzbq9DA4BBBBAAAEEEEAAAQQQQAABBBBAAAEEPAUIWD11qY0AAggggAACCCCAAAIIIIAAAggggAACWQsQsGbdXgaHAAIIIIAAAggggAACCCCAAAIIIIAAAp4CBKyeutRGAAEEEEAAAQQQQAABBBBAAAEEEEAAgawFCFizbi+DQwABBBBAAAEEEEAAAQQQQAABBBBAAAFPAQJWT11qI4BAK4Gzb50N//v/+D9a1WBhBHIROPy3h8PhRw91hnPzhg1B/jEhgEAIa7ds6TLsPrGne50rCIyzwLG/Oxr2/+X+DsH62zaE9Z9fP84cjB2BrsCuy3eGM6fOdH6+99D2sGzlsu59XEFgnAT+5R+8K3zgDz8wTkN2HysBqzsxK0AAgVEFJGB94b//3aiLsxwCWQkc+MqB8Nz9BzpjumvTpnDX1VdnNT4Gg8CoAu/65Ce7iz599rvd61xBYJwFpp56KezbvK9DcNW2TWHTvZvGmYOxI9AV2Lp6SzgzPROw7j6+JyxbQcDaxeHKWAm8qwhY/+0//zdjNWbvwRKwegtTHwEERhYgYB2ZjgUzFCBgzbCpDMlEgIDVhJEimQkQsGbWUIZjJkDAakZJocQFCFjtG0jAam9KRQQQMBIgYDWCpEwWAgSsWbSRQTgIELA6oFIyeQEC1uRbyACcBAhYnWApm5wAAat9ywhY7U2piAACRgIErEaQlMlCgIA1izYyCAcBAlYHVEomL0DAmnwLGYCTAAGrEyxlkxMgYLVvGQGrvSkVEUDASICA1QiSMlkIELBm0UYG4SBAwOqASsnkBQhYk28hA3ASIGB1gqVscgIErPYtI2C1N6UiAggYCRCwGkFSJgsBAtYs2sggHAQIWB1QKZm8AAFr8i1kAE4CBKxOsJRNToCA1b5lBKz2plREAAEjAQJWI0jKZCFAwJpFGxmEgwABqwMqJZMXIGBNvoUMwEmAgNUJlrLJCRCw2reMgNXelIoIIGAkQMBqBEmZLAQIWLNoI4NwECBgdUClZPICBKzJt5ABOAkQsDrBUjY5AQJW+5YRsNqbUhEBBIwECFiNICmThQABaxZtZBAOAgSsDqiUTF6AgDX5FjIAJwECVidYyiYnQMBq3zICVntTKiKAgJEAAasRJGWyECBgzaKNDMJBgIDVAZWSyQsQsCbfQgbgJEDA6gRL2eQECFjtW0bAam9KRQQQMBIgYDWCpEwWAgSsWbSRQTgIELA6oFIyeQEC1uRbyACcBAhYnWApm5wAAat9ywhY7U2piAACRgIErEaQlMlCgIA1izYyCAcBAlYHVEomL0DAmnwLGYCTAAGrEyxlkxMgYLVvGQGrvSkVEUDASICA1QiSMlkIELBm0UYG4SBAwOqASsnkBQhYk28hA3ASIGB1gqVscgIErPYtI2C1N6UiAggYCRCwGkFSJgsBAtYs2sggHAQIWB1QKZm8AAFr8i1kAE4CBKxOsJRNToCA1b5lBKz2plREAAEjAQJWI0jKZCFAwJpFGxmEgwABqwMqJZMXIGBNvoUMwEmAgNUJlrLJCRCw2reMgNXelIoIIGAkQMBqBEmZLAQIWLNoI4NwECBgdUClZPICBKzJt5ABOAkQsDrBUjY5AQJW+5YRsNqbUhEBBIwECFiNICmThQABaxZtZBAOAgSsDqiUTF6AgDX5FjIAJwECVidYyiYnQMBq3zICVntTKiKAgJEAAasRJGWyECBgzaKNDMJBgIDVAZWSyQsQsCbfQgbgJEDA6gRL2eQECFjtW0bAam9KRQQQMBIgYDWCpEwWAgSsWbSRQTgIELA6oFIyeQEC1uRbyACcBAhYnWApm5wAAat9ywhY7U2piAACRgIErEaQlMlCgIA1izYyCAcBAlYHVEomL0DAmnwLGYCTAAGrEyxlkxMgYLVvGQGrvSkVEUDASICA1QiSMlkIELBm0UYG4SBAwOqASsnkBQhYk28hA3ASIGB1gqVscgIErPYtI2C1N6UiAggYCRCwGkFSJgsBAtYs2sggHAQIWB1QKZm8AAFr8i1kAE4CBKxOsJRNToCA1b5lBKz2plREAAEjAQJWI0jKZCFAwJpFGxmEgwABqwMqJZMXIGBNvoUMwEmAgNUJlrLJCRCw2reMgNXelIoIIGAkQMBqBEmZLAQIWLNoI4NwECBgdUClZPICBKzJt5ABOAkQsDrBUjY5AQJW+5YRsNqbUhEBBIwECFiNICmThQABaxZtZBAOAgSsDqiUTF6AgDX5FjIAJwECVidYyiYnQMBq3zICVntTKiKAgJEAAasRJGWyECBgzaKNDMJBgIDVAZWSyQsQsCbfQgbgJEDA6gRL2eQECFjtW0bAam9KRQQQMBIgYDWCpEwWAgSsWbSRQTgIELA6oFIyeQEC1uRbyACcBAhYnWApm5wAAat9ywhY7U2piAACRgIErEaQlMlCgIA1izYyCAcBAlYHVEomL0DAmnwLGYCTAAGrEyxlkxMgYLVvGQGrvSkVEUDASICA1QiSMlkIELBm0UYG4SBAwOqASsnkBQhYk28hA3ASIGB1gqVscgIErPYtI2C1N6UiAggYCRCwGkFSJgsBAtYs2sggHAQIWB1QKZm8AAFr8i1kAE4CBKxOsJRNToCA1b5lBKz2plREAAEjAQJWI0jKZCFAwJpFGxmEgwABqwMqJZMXIGBNvoUMwEmAgNUJlrLJCRCw2reMgNXelIoIIGAkQMBqBEmZLAQIWLNoI4NwECBgdUClZPICBKzJt5ABOAkQsDrBUjY5AQJW+5YRsNqbUhEBBIwECFiNICmThQABaxZtZBAOAgSsDqiUTF6AgDX5FjIAJwECVidYyiYnQMBq3zICVntTKiKAgJEAAasRJGWyECBgzaKNDMJBgIDVAZWSyQsQsCbfQgbgJEDA6gRL2eQECFjtW0bAam9KRQQQMBIgYDWCpEwWAgSsWbSRQTgIELA6oFIyeQEC1uRbyACcBAhYnWApm5wAAat9ywhY7U2piAACRgIErEaQlMlCgIA1izYyCAcBAlYHVEomL0DAmnwLGYCTAAGrEyxlkxMgYLVvGQGrvSkVEUDASICA1QiSMlkIELBm0UYG4SBAwOqASsnkBQhYk28hA3ASIGB1gqVscgIErPYtI2C1N6UiAggYCRCwGkFSJgsBAtYs2sggHAQIWB1QKZm8AAFr8i1kAE4CBKxOsJRNToCA1b5lBKz2plREAAEjAQJWI0jKZCFAwJpFGxmEgwABqwMqJZMXIGBNvoUMwEmAgNUJlrLJCRCw2reMgNXelIoIIGAkQMBqBEmZLAQIWLNoI4NwECBgdUClZPICBKzJt5ABOAkQsDrBUjY5AQJW+5aNRcB68uTJrtwFF1wQ5B/T8AJvvPFGOHjwYMfvE5/4xPAFEl3i1VdfDfIvTitXrgzvf//72Y8iiONl7gHruTfPhrNvnDMTXLZimVmtUQvJmI6+eCwsvmBRmLhi7ahlWK5CgIA1hN+cPl0hM9pN71y0KCxZvHi0hVlqQQmMW8B6etrucSC/qxctmf/HwYkjx8Pp6TNh1eSqsGz5/D+XLagdfMSNIWANxT7FY2XE3SfrxQhYZ9rL4yPr3bzR4AhYGzENNdNYBKzvfe97QwxZv/SlL4UdO3YMhcTMMwLacffu3WHr1q3Z0kiYvGfPniDjlOtV00033dTZlyRwZfIRyD1g1W9+LAR3H98T5jtk3bpqSzhz6kxnOJv3bQ6T162zGBo1CgEC1hB0kNZ2p7h2cjI8cuutbcuw/AIQ0PvF02e/uwC2yHcTdDjQdk2rLlsVth++r22ZVstPPTUV9m3e26mxdPnScP8vHgiLF0Do22pQC2Bh/Rrjqm2bwqZ7Ny2ArZrbTbB8rEx+ajJsfuyWuR1AaW08VkogI/6o94uF8Np5xGG0Xkw7tC3Gc0lbwflZnoDV3p2AVZnGEFZuGpcjXSU8jAFivzGLjQSscZIjWJ9//vn4Y1aXMtaPfvSjQe8P/Qb4ne98J0jYymQvQMA6nOl8v0g8UxwpsnX1+T+8LIQ3I8MJLuy5CVjHK2B98+zZ8PtzM0e4c7Rt/8cmAWt/n373LoQ3xftu3humnp7qbuZ8P5d1NyTxKwSsoXhNUvzRtzgy2mJaCK9peKxYdLJ3vxjn3zeWjw+eS2z2zbmuQsBqL07AqkwlVPvJT37SuWVcQrNPf/rT4fHHH++MWUJCGXfdNA4+5XBVQmdxWbduXfeUAE888UTXLFr9+Mc/Dh/5yEfij1waCeQesB4vPhJ5ZP/5N5VlttOnTocTR050b5YX9/2m6x68ft6P+tFHsN75zJ1h4uOcJqBfz4a5j4A1hC3f+EZfsh8ePdoNJS8qPl1w0fLltfN/aPXqcG3xu32hTg8++2x48MCBzuZ9aNWqcPCLX1yomzrv2zVuAev+u58M5/qcXuboD46Gc2/OhPNyROjqy1bX9kg+9XDVPB/ZeGLqeNi1YVdnG2V795x4pHZ7uaO5AAFrCMM8VpZfvDysfN/KWmA5fcV8fyrn2ItHw0PXPtTZRh4rta0aeIcOFsc5YB3m8cFzycDdKskZCFjt20bAqkzHIUBUw+1cHSZglQUkgJYjWVesWFEulcXP2kM++i/BadUpACSIveSSS7pH/0q4KvMy2QrkHrAO0pJz0u1aP/OmU+ZN5aOv8mZ5afGmfb5PVzDIN7X7CVgHd2ziz/88/ObMzNFKd23aFO66+urBCy3QOQhYmzdm3ALWQTK71u/s/nFuIRx1N2h75X75g6Kck3zZiqXz/ofCJtubwjwErIO7pB8rqZxGgcfK4L4OmoOAdZDQzP368cFzSTOz1OYiYLXvGAGrMiVg7X8Eq6LK8qqEpvo0CIOOYpbz+X75y1/uWvzud7/rHuXavZErrQQIWNMMWFs1nYVrBQhYa2m6dxCwdinG6goBa2+7U3xT3DsCfrIQIGAdrKgfK6kErINHxRyDBAhYBwnN3K8fH6kErM1GxlxRgIA1SthdErAqSwLW8Q5Y5VQJcgSrTHLU6q9//Wu1d8y+KueuvfDCC7t3cJqALoXZFQJWAlaznSmDQgSsg5tIwDrYKMc5CFh7u8qb4l6Pcf2JgHVw5/VjhYB1sFcucxCwNuukfnwQsDYzS20uAlb7jo11wPrqq692vik+ssrH3+UoRpnkI9/xo+FyHs6HH364c3vVfxK0yTfO6+Vlmfe///3hxhtv7NSqWk5uO3jwYHjhhRc6d8t5PuV8n1JH6sn2ySQ15GjJ8iTzybJyqb+oSrb7yiuv7NQqLyM/xxBRrsuyccyynIw7TjJmGUec7rjjju56Bo1LlpG6cr5SvQ6pN2j74vp0f3QPpF6sG+eVmrJN4jfqJEejRuemX+IlR7xGPwLWUeXrlyNgHS1g3X/3/nD2zbMdWPnW4GXLl3W+gV5OOXD61Jni45eLwh3F+VHLH+E/Vyxz9MVjQc4Nq8/9uqw4J96Ki1eE9Z/f0KlV3zE539nsdev5jxXnBny5OIeYTJcW52eduGJtca7As2HqqSPFul/ubJ/cJ9u4vFhn3H65bdwnAtbBe4BFwPrT48fD9196Kfz0xPnzH79n6dLO+VrlvK3Lly0bvCHFHHV13lMsL6cuqKqz/cknw++LL7eS6fXp6fAPxT+Z5EuuPrb2/PmMv1CzfGfmMfyPgLW36aO8KZbf+/IN5TKtlN/3t23ofGxffu/E54O1V0yE6792Q+/Kip/kI8tTxfnE43NMnEGeOyavmwyrJlf3fe7Q65bf/VXr2Lt5byxb3D9zvnFZ39Hi+eToD45174vrlPN/L16yuHv7OF4hYB3cdf1YaRqw6v01PlamXzsZDj16uPVjZdA5XvW6mzxWbtl3SweBx0rvvkDA2utR95N+fDQNWPU+Gh8f8hzBc0md8vzeTsBq7z/WAasEdXLU6qBJwru6oxl3797d+Zh4DDiraknoVw4r43zlUG/NmjU9HzuX+WR5/eVTsi4JSSWc7TfJdledQ/Qd73hHv8W698mYpUacdJg46OPzEsaKTb+pbvviMro/Mu8rr7wSNm7cGOT2uklCbRmzDobr5i3fLnWn334zK+eY1WFzed74s7YkYI0qdpcErKMFrPqFowSpz91/IEy/Nt3TmPJJ/eXF997im5zPFAFsv2n9besr3/zGZfS67z20Pawu3ljrSYeE8mZm7ccnwkPXPNR3vVdtu6oIWtM9l6Yef5vr2i7184u2cei3bJuA9dTp02HL3r3hZ0XAWjdJOLrr+uvDhksvrZslNKkjC18zORl23XBDWLL4fAikt792BcUdz993X/hwEfYyzQgQsPbuCaO8KdZh3NLiPKibit/P8gez+GVZsobyt0TLH8fk99LhIljqN8mXo9z5H+8MK2q+QKi87j3HZ3/J1acW//vuKuT56/Cjh/quV9a5/Uf39Q12uwUzvaJdm4aHmVLUDks/VpoaaVd5TMgfEXis1BIvyDv0a9Xy6+EFucHztFH68dE0YNWPD3kuuaH4o5y8v1iozyVHij8sHijeJ9VNuT+XELDWdX7028c6YJUjJCWwi1M8ElF+loAuhnQxCIzzxUs52lGfg1Pml3nlUmrpehL8SUBYnnTAKsvqZeK8OmCV+yUU1vPJchIGSvAqt8cjX2V5ua8csurzjMoyMRzWY5Zlq5aL6+0XsIqpDn/7uch9sh7xKU/lgFXmjWOLNWWZeFtc/vbbb+97xHGcr+2lrFe+6Eomca4L4duuZ5yXJ2BtH7DKC4Oq0FS/oNQvhmR/W1QcQSTLrbx4ZefIJAln9QujfiGrftE6KGCVNya69tLiSFv5ghN9W9z/q2rF+8blkoB1cKd1QDlMCC2h6MadO8Nviss4/Wnxh7YlxZGjMv1MHc0qP9cFnFV1JJSVI2Bl+lXxR7zfn5v5dnf5+UOrVoWDX/yiXO1Mn/jrv+5+SdebxZGscV45glUHsY/ccgsBa0QrLglYFUZxte2bYnkOkEn/3pefywHrtg/e0/PHO1lO5pHp9PTpcOr1U53r8p/ct/1H2ytDVv0cJG/IBwWsE8WRtMfePmo1Pl/JOvT65Ofy9spt4zRp16bh4Tj5yFj1Y6WpkXblsZLmHqNfq+rXw2mOxm+r9eNjlICVx4dfb6wqE7BaSZ6vM9YB63mGmWvDnINVn69Tlt66dWvn4+US/MVJjuCUIznjJIHsjh074o+dSx2wxjskLJVQVY5mlUmHieVvuZegU+bXk2yb/ji/Dmj1fHJd1+s3n8zb5AjWcuhc5SLhq2xfDGslnJTwWdvJ+nTAKj/LJPOWxyx1JNTVQetcfOHUMHYzW8//wwoQsLYPWKO5hKKrLlvd+aj/meKNr3xkUyb52M62D9zTfSMtb1w3P3ZLz0crZZ7niqOU4sdHZbm6wFO/aK2aR4eEUkemy4ttk1MB6I9zyrr23/1kd7vG/Y2yOGm7YcJDWXZcplED1oktW7rhqgSi5QBTgtObHnoo/Kp4vpFJ5vn7Bx7oCT3l9i3f+EZ4ZmpKrnbmqarz/eL+B599tjOP/PeFTZvC3cVH/suTzPPggZmjKspBbHnecf+ZgLV3D2j7pjhWkz+0yakC4vOF3C4f+ZRJnhPiUT/yJlo+abDh8x/r3Bf/k+eOXZfv7P6Rr+73uA6smgSsUl/WKacK0B+pHua5Km5jzpfatWl4mLNH1dj0Y6WpkXaNNYd5rJT3W6kxH48VeY11rDgtVJyqXrPF+3K71K9VCVjru6sfH6MErLHyMI8Pnkui2txcErDaOxOwKtNhAlYdNlYFp7GsDlklQJSjHHWQWA5YJZCs+2i9BIn66NPnn38+yLlCqyYddMr6JHCsmoYJCfWYq45gLW9fPxeZV47+jEfPVoW75YC1LoiVcZXXXbV9VeMf9bby+sqnUxi1Lsv1ChCw2gSs9//8gU6w2qs785O8wI4f75QXQHtOzP5oZlzung/8VfcIobqjWPWL1qoX6zoklLr9Pv4vpzaQ+WWSN9Pf/O23OtfH9T9tR8BavReMErDuO3Qo3Fec+1QmCU7l6NSq86PKEaV/ds893SC2KhjVQV/dUa6yHh3E1oWnBKwi1WzS7k+f/W6zhTKey+JNcdUf2zTZ59792e4fwDbv29wTdOr5TkwVz2MbdnVveuy33+z5Y5rcoQOrJgGrPFf1+/i/3ra656ruBmV8Rbs2DQ8z5qgcmn6sNDXSrlKUx0ol7YK+Ub9WJWCtb5V+fIwasA56fGxdtaX7R7hhnkuq+qYfm02eS+S9xf2/eKD2VDJ623J9LiFgrd//R72HgFXJNQ1Y9dGrEvoN+mi4fNN8DBLLoagOWAfVklBP5o+ThIh1k6xPf8N9XQBoGbDqWoPGItutHavC53LAWjeGaKD71y/cjfOPeil9kHXJpUye6+qsYIz/I2BtH7AOekEg4er0L0929rK18qVTxb+6SYex8oLpzu//xaxZ9YvWQQHroEBXjrTdunprdx1VL6a6d47BFQLWwU0eJWDVR6/KEafXFl84WTfpMLYcjMrpBaRWnI498kgnsI0/68sfHj0abvr617s3/bfvfa97PV4hYI0Sgy8JWHuNLN4U7z6xp/ZNp3yJ4lN37e+u9LoHZ750qntD6YoOPOW84PJco6dh3xT3exMudZs8V+n153pduzYND3O1qBuXfqw0NdKuUtfrsVL1Gkqvu0mAxGOluvP6teq4v7asFpq5VT8+Rg1YvR4fPJf061zz+whYm1s1nZOAVUnpgK7fEZB6vibn+9Rf+FSeXwes8lF/OR+p1dTkC5h0KFp1FKnelkFHsA66X9eK13X4XDYvB6xvvfVWXKzycpixVBZoeKPuf5MguWFZZqsQIGBtH7DeXBxZtO66+sCogr32Jh3w1X3UU79orXpzoGs0ebGmv9ikql7txmZ4h7bjCNbqBg8bsP60+EIrOfeqTHKe03/89rerC799azlE/a/f+lb3NAFyhOsff/az3eX7HcHananPFQLWPjiluwhYe0HavimuC25619L8J/28UPWcNGxoNOi5QP5wKCGrTHXPVc23Pt05tWvT8DDd0Y625fqx0tRIu3o+Vqr28ybrHuZ1k35dMU6PFf07iYC1/rGjHx9NXrNLpSb7aP0a+9+j+8ZzSX+rpvcSsDaVaj4fAauy0sFZOexTs3WODI1HpEogWj4Hqp5Xru/ZsydIsCqTfKRfjmKNk0XAKtsStyfWlUt9OoG67RwmlOwXoOovfJJ1yzlVq764Su7Tk15/OXxeiAGrDsslXBVXuWTyESBgnb+AVb4d+uwb57+MRzqsv7W57oW4fvFT9eZAv5hv8mJtmDcKPnvhwqmq7QhYq/sybMA6Soj5R5/5TPfLp8pHqW4svqTqp+oLsW7esCHIv6pTDlSP4Pyto2zb+aXH6xoBa2+/5/NNsXy5VXnataE4D+v0mc7Nc/GmWL/Br3uuKm9jjj9rh6bhYY4O/cakHytNjbRrm4B10GOl6jVUk3UP87pJv64Yp8eKfq1KwFr/CNGPjyav2aVSk320fo3n7xn0+OC55LxVm2sErG30qpclYFUuTQLW8kfv5aPt+pyqqlz3qg5Ay0epjhqwysfTn3jiic7H7ONH1bsrrLjiHbAOG4bGTdTjL4fPw9bUYe2go3Hj+oe5lFMByPbGqWmIHOfncngBAta5DVhPHDkeDv3t4SCX5W+PLnev7oW4ftFa9eZAv5hv8mJtmDcK5W3M7WdtR8Ba3d1hA1Z9LlQ5gnXJ4sXVhdWtchRrnMpHqcqXYckRsXoemfdPV6wIFxX/Prx6dfhQ8a9J4ErAGpUHXxKw9hrN5Zti+WNcfN44ceRE74ZU/MSb4goUp5t00NE0PHTalAVbVj9Wmhpp12EC1vhYOfaDo2H6temBJlWvoZqse5jXTfp1Rd3ruoEbmuAM+rUqAWt9A/Xjo8lrdqnUZB+tWmN8fMh7EJ5LqoR8biNgtXclYFWmTQJWCTP1kaFq8UZXLQJW/cVZjVZazOQdsOrzqQ7zsXkdsJZtFlLAWg5X+x3h3LQnzDdYgIB1bgJW+fbafTfvbfSCJnat7oW4ftFa9eZAv5hv8mJtmDcKcdtyvdR2BKzVXW4TsFZX7H9rOWCVuSVk/Ztnnw3PTE3VLnzN5GS46+qr+watBKy1fLPuIGDtJZmrN8WH//ZQOFB8GeGgP8jprSNg1Rq+13XQ0TQ89N2ihVddP1aaGmnXpgHrKI+VqtdQTdY9zOsm/bqi7nXdwuta+y3Sr1UJWOs99eOjyWt2qdRkHy2vcZTHB88lZcXRfiZgHc2t31IErEpnlIBVPgY/6AhWtYqwZs2aIAFpnPoFjHEefVkO+iSUlCM/1xVfyqG/1EqW0R9dJ2DVisNd1+GxLCk92LFjx3BFmHskAQJW/4BVwtVdlxcf3zw18/FN+UbNyesmi/PWrQ4rLl7R0zdOEdDDMec/6DdCBKzV/G0C1vcsWxbes3RpdeGaW3fdcEO4qOY0MRK0/qw4x+szL70UfjU93T2tgC7Vr48ErFqq/3UC1l6fuXhTLG+I9//l+S+6knBm4oq1YdXk6rC4eB7RE6cI0Bpzd10HHU3Dw7nbuoWxJv1YaWqkXZsErKM+VghY/fYRAtZmtvrx4RWwjvr4IGBt1sNBcxGwDhIa/n4CVmU2SsA66JvtVfnKq8MErOWjZx9++OHuuV2ris/ll1yVz8E66Aup4vbqc5ouxFMElMdFuBo7NzeXBKz+AevezXvDkadmjrRbunxp2P6j+2q/OVoHfHVHOugXrVVvDnSNJi/WhjkSY272yvlbi7brF8zN3xbO/5rbBKzXFkeVPnLrrW6D+FXxCRj5Uq3HDh/uOYXAziKk3Vycp7U8EbCWRep/JmDttfF+U1z+w9xV264Km+69uncj1E/6eYE3xQrG+aoOApuGh86btODK68dKUyPtOihglcfKtg/c0z3Ke5jHStVrqCbrHuZ1k35dUfe6bsE1zWCD9O8kjmCtB9WPjyav2aVSk300rvFscYoZeXzEgzyGeXzwXBIV210SsLbzq1qagFWpNAlYZXY5UjR+qZR8YZUEg6NOwwSs+suyyh+nr1r/XAas5XPTNg2etflC+5IrCbQvueSSbq8JV6v2Mt/bCFj9A9atq7Z0X9jc8cydYe3H19Y2tckLcf2iterNga7R5MXaMG8Uajc8kzu0HQFrdVOHDVj3HToU7nty5tvGP7RqVTj4xS9WFza89c2zZ8OWvXvDoaNHO1Xl3K//+O1vz1oDAessktobCFh7abzfFB978Wh46NqHOiuVP8ztOfFI7waUftLPC7wpLuE4/qiDjqbhoePmLMjS+rHS1Ei7DgpY2zxWql5DNVn3MK+b9OsKAtYFuYvO60bpx0eT1+yysU320TioNo8PnkuiYrtLAtZ2flVLE7AqFR329TvHpp6v7ZcpDROwDvslTnMZsAqjnJtWQkmZmoSR5SNyy6cxmM9zsMq2SZ/jeLZu3dpzaofOIPnPXYCA1Tdglb8c3/zuz3X7OOiv+E1eiOs30lVvDnSNJi/Whnmj0B1Iple0HQFrdZOHDVjliFL5Uqo4/ddvfavRF13F+fWlBKLxy63WX3pp+Nja+j9WyHwTW7Z0Fz/2yCNBTlGgJwJWrdH/OgFrr4/3m2L9u6hJKKOfF3hT3Nsrz5900NE0PPTcnoVYWz9Wmhpp10EBq36sTFwxEe78/l/0ZdCPlarXUE3WPczrJr19TR7LfTc+oTu186DXvgkNy3xT9eOjyWt22YAm+2jc0GH3P903nkuiYrtLAtZ2flVLE7AqFR2c9gtY9ZGksniTozXlPJ5ypGv5fK2jBqyDjmAtnze0HF7GYQ8T2uoAtcpHQlUZj0wyTnEpjzeuVy71/FVfjDVfAWs5XG0bousxc304AQLWuQ1Yq17M645t++A93W++rXshrl/8VNXTL6aavFgb5o2C3tYcr2s7AtbqDg8bsEqVP/rMZ7rnR725+Ki+nFe13yTnVv2H4o9wG4oQVU9bvvGN7hdbbSjC1Sf+ov6NtBzF+sef/Wx3cQLWLsVIVwhYe9nm8k3x8ouXhwd+/tXeDVA/Tb92Mmz74LbuLbwp7lK4X9FBR9Pw0H2jFtgK9GOlqZF2HSZgHfaxUvWpoibrHuZ1k35dUfe6boG1zGRz9GtVAtZ6Uv34aPKaXSo12UfjGvX+N+jxIafbuH3V1rho4LmkS9HqCgFrK77KhQlYFYsOWMsfV1ezdT4yLh8dj0c3SjgoAab+Uik9fwwSq+YbJmAtB7uvvPJKkC/ZKk8Srsq5TeNpDOT+uoBVnwN1UGg7KGCV9ck8cb1ST06hUBWylgPgqsB2PgJW2XbZD+TcqzKJrzgzzY8AAatvwCpd1S8y615cnyuOdN1/9/7iRdPMuVplubp5dT0CVpGym/QLUQLWatdRAlZ9mgCp2s9WwlU54lWOQC3Pd+jll8OND818bFrqPH/ffeHDq1fL1VnTgwcOBDlCVSY5clUC1vKkt+uiFSvC33+1PsQqLztuPxOw9nbc+03xianiuWnDru5KN+/bXHw54rruz/HKiSPHw96b93ZPQyO386Y46vhf6qCjaXjov1ULaw36sdLUSLsOClj1vDLyfo+Vh655qHuuVpl3Lh4r+nVF3es62ZbcJv1alYC1vrv68eERsPJcUm8/V/cQsNpLE7AqUx02SigoXyIloaiEbuXzrJa//Ejmk3luvPHGbqAo80goKkGhTFJTwjqZN07DBKzlAFNqyNGVsk6ZfvnLX4aDBw9219e58e3/6s4VWw46d+/eHdasWdMZswSkOhwdFLDKqmT9Gzdu7K5axrpjx45OUCm1JJR+4okngqw3TnXB7nwErLLtMoY4iceSJUvijwMvJZCtCr0HLsgMlQIErP4B63P3HwjyAjtOcj69TfduCktXLAv//c1z4eQvp8PhRw/1vOiXeeveVOgXrQSsUdXmUr8RKod7NmtIv8ooAauMeuNf/3X46YkTXYBrii+8unbdurD87Y/tyxGncs5UCT1/f+5cZ77PrV8fvvL2829c8M/uuSfIl1nFqVxHAtrvv/RS90hXma+ul+XTF8h8HyoC2zeL9X+4OF/sksWL42rG/pKAtXcX8H5TXP5iEln7ZddNFiHrZGdDzkyf6RzFdOLI+cdU3MK5CI10qDVOoVE0jpfaoWl4GJcdl0v9WGlqpF3rXgtFv4X+WNGvK8bpsaJfqxKwxr119qV+fHgErAv98aEf67k+PghYZ+/3bW8hYFWC5UBP3RXeeust/WPnugRx8hH7eMTmrBnUDRIuSsgpYaKehglYZblyIKpr6euyHgl447ZJUCjnES1PVaFtnKd81GuTgFWWlXVJWN1kku2sO8q13I+qHuh1DHO6A71cvC7hr4yxzSRHK0ugzGQjQMDqH7BKp+75wF+FU6+fGti0iY9PhGMvHuvO99hvvxkWL+kNefSLVgLWLpXJFf1GqC6UM1lRwkVGDVglQL3p61/vCVn7MVxThK//4ZZbZs2ij3CddWfFDRKYHiyOdK2b5Dyt8byuep5+R8fq+cblOgFrb6e93xTL2qZfPxl2Xb5r1h/ferckBPnY57k3znWPYl1/2/pw/dd6T8Oh38TWBVbDfOxZ18v1TXHZuepn7dA0PKyqk/Nt+rHS1Ei71u2v2qx8lJ6+T1+fj8eKfl0xTo8V/VqVgFXvhb3X9ePDI2CVtfFc0ms+1z8RsNqLE7CWTOPH+Us3VwasMo+EchKS6iMyy8tKiCgfgddHrsZ5hg1YZTkJdiXAlHWXJwly5fQGEvLpUx7INkhgWjXJtku9GMbGeUYNWGV52TYJPCUkrZr0dlbdL7cRsNbJjM/tBKxzE7DKX5CfK45iPfzo4cqdS150z7whfqvnXHpVAap+0Vp1v34x3+TF2jBvqis3PqMbtR0Ba3VjRw1YY7VniqNL5eP7VaGmzPPORYs6R5xu/tjH4iKzLiWslRpSKx7tWp5J6mwuzvd619VXl+/q+fn14rn0puK0A+XtIWDtYQoErL0ec/GmWNYo58TbdfnObniqt2LRkkVh/W0bwvrPrw9P3VWcYubpqc7dVefZaxJYDfNcoOuNU2ik/eW6dmgaHpZr5P6zfqw0NdKuTQJWMRzlsVK17zZZ9zCPFf26omp9ufZfv1YlYK3vsn58NHnNLpWa7KPlNY7y+OC5pKw42s8ErKO59VtqLAJWHfJJyFkVdGokCQdfeOGFbuAo88eP4ev59HVZRo4YlY/px0mWu/LKK3s+Zh/vi5eynPyTSULHYT5eLuN6qXgDF6fy+oapLfNKvenp6U65ci25Ue6Pk2ynbO+gSepqS1lGTkHQZHkJfMU0ThIS95v0Ebuy/fJvmKm8vmGWjfOOst64LJezBcY9YJXg81TxEf04rZqsPp9jvD9eytEScVq+ZsWso0zjfeVLeYEzXaxv+rWZdcob5JUXrwh6vYNqD7pf1nHm5OnOqpeuXBaWLe/95vTyNg2qV54/55/1GyEC1upOy8fq4yTnNo0f8Y+3Nb2UOvJR/xiQSiB6UfGcUndO1bq6UudnaptiHTmnatOP+MtRsVIjhqwyLvkSrabL121bTrcTsPZ2U36Py7mzZWrye1bm07+b/5cLFnd+98vtTSb5PX2yeN44V5xWRqZlxSlm5BMP8RMOurbcr59T5Gd9f926h3kuaFJP1pv7pIOOpuFh7ibl8fFYOf+arO6xVzbL4WcC1mZd5PGR/+ODgLXZY2GYucYiYB0GhHkRQGDhCIx7wLpwOsGWLAQBAtaF0AW2YSEKELAuxK6wTfMtQMA63x1g/QtVgIB1oXaG7ZprAQJWe3ECVntTKiKAgJEAAasRJGWyECBgzaKNDMJBgIDVAZWSyQsQsCbfQgbgJEDA6gRL2eQECFjtW0bAam9KRQQQMBIgYDWCpEwWAgSsWbSRQTgIELA6oFIyeQEC1uRbyACcBAhYnWApm5wAAat9ywhY7U2piAACRgIErEaQlMlCgIA1izYyCAcBAlYHVEomL0DAmnwLGYCTAAGrEyxlkxMgYLVvGQGrvSkVEUDASICA1QiSMlkIELBm0UYG4SBAwOqASsnkBQhYk28hA3ASIGB1gqVscgIErPYtI2C1N6UiAggYCRCwGkFSJgsBAtYs2sggHAQIWB1QKZm8AAFr8i1kAE4CBKxOsJRNToCA1b5lBKz2plREAAEjAQJWI0jKZCFAwJpFGxmEgwABqwMqJZMXIGBNvoUMwEmAgNUJlrLJCRCw2reMgNXelIoIIGAkQMBqBEmZLAQIWLNoI4NwECBgdUClZPICBKzJt5ABOAkQsDrBUjY5AQJW+5YRsNqbUhEBBIwECFiNICmThQABaxZtZBAOAgSsDqiUTF6AgDX5FjIAJwECVidYyiYnQMBq3zICVntTKiKAgJEAAasRJGWyECBgzaKNDMJBgIDVAZWSyQsQsCbfQgbgJEDA6gRL2eQECFjtW0bAam9KRQQQMBIgYDWCpEwWAgSsWbSRQTgIELA6oFIyeQEC1uRbyACcBAhYnWApm5wAAat9ywhY7U2piAACRgIErEaQlMlCgIA1izYyCAcBAlYHVEomL0DAmnwLGYCTAAGrEyxlkxMgYLVvGQGrvSkVEUDASICA1QiSMlkIELBm0UYG4SBAwOqASsnkBQhYk28hA3ASIGB1gqVscgIErPYtI2C1N6UiAggYCRCwGkFSJgsBAtYs2sggHAQIWB1QKZm8AAFr8i1kAE4CBKxOsJRNToCA1b5lBKz2plREAAEjAQJWI0jKZCFAwJpFGxmEgwABqwMqJZMXIGBNvoUMwEmAgNUJlrLJCRCw2reMgNXelIoIIGAkQMBqBEmZLAQIWLNoI4NwECBgdUClZPICBKzJt5ABOAkQsDrBUjY5AQJW+5YRsNqbUhEBBIwECFiNICmThQABaxZtZBAOAgSsDqiUTF6AgDX5FjIAJwECVidYyiYnQMBq3zICVntTKiKAgJEAAasRJGWyECBgzaKNDMJBgIDVAZWSyQsQsCbfQgbgJEDA6gRL2eQECFjtW0bAam9KRQQQMBIgYDWCpEwWAgSsWbSRQTgIELA6oFIyeQEC1uRbyACcBAhYnWApm5wAAat9ywhY7U2piAACRgIErEaQlMlCgIA1izYyCAcBAlYHVEomL0DAmnwLGYCTAAGrEyxlkxMgYLVvGQGrvSkVEUDASICA1QiSMlkIELBm0UYG4SBAwOqASsnkBQhYk28hA3ASIGB1gqVscgIErPYtI2C1N6UiAggYCRCwGkFSJgsBAtYs2sggHAQIWB1QKZm8AAFr8i1kAE4CBKxOsJRNToCA1b5lBKz2plREAAEjAQJWI0jKZCFAwJpFGxmEgwABqwMqJZMXIGBNvoUMwEmAgNUJlrLJCRCw2reMgNXelIoIIGAkQMBqBEmZLAQIWLNoI4NwECBgdUClZPICBKzJt5ABOAkQsDrBUjY5AQJW+5YRsNqbUhEBBIwECFiNICmThQABaxZtZBAOAgSsDqiUTF6AgDX5FjIAJwECVidYyiYnQMBq3zICVntTKiKAgJEAAasRJGWyECBgzaKNDMJBgIDVAZWSyQsQsCbfQgbgJEDA6gRL2eQECFjtW0bAam9KRQQQMBIgYDWCpEwWAgSsWbSRQTgIELA6oFIyeQEC1uRbyACcBAhYnWApm5wAAat9ywhY7U2piAACRgIErEaQlMlCgIA1izYyCAcBAlYHVEomL0DAmnwLGYCTAAGrEyxlkxMgYLVvGQGrvSkVEUDASICA1QiSMlkIELBm0UYG4SBAwOqASsnkBQhYk28hA3ASIGB1gqVscgIErPYtI2C1N6UiAggYCRCwGkFSJgsBAtYs2sggHAQIWB1QKZm8AAFr8i1kAE4CBKxOsJRNToCA1b5lBKz2plREAAEjAQJWI0jKZCFAwJpFGxmEgwABqwMqJZMXIGBNvoUMwEmAgNUJlrLJCRCw2reMgNXelIoIIGAkQMBqBEmZLAQIWLNoI4NwECBgdUClZPICBKzJt5ABOAkQsDrBUjY5AQJW+5YRsNqbUhEBBIwECFiNICmThQABaxZtZBAOAgSsDqiUTF6AgDX5FjIAJwECVidYyiYnQMBq3zICVntTKiKAgJEAAasRJGWyECBgzaKNDMJBgIDVAZWSyQsQsCbfQgbgJEDA6gRL2eQECFjtW0bAam9KRQQQMBIgYDWCpEwWAgSsWbSRQTgIELA6oFIyeQEC1uRbyACcBAhYnWApm5wAAat9ywhY7U2piAACRgIErEaQlMlCgIA1izYyCAcBAlYHVEomL0DAmnwLGYCTAAGrEyxlkxMgYLVvGQGrvSkVEUDASICA1QiSMlkIELBm0UYG4SBAwOqASsnkBQhYk28hA3ASIGB1gqVscgIErPYtI2C1N6UiAggYCRCwGkFSJgsBAtYs2sggHAQIWB1QKZm8AAFr8i1kAE4CBKxOsJRNToCA1b5lBKz2plREAAEjAQJWI0jKZCFAwJpFGxmEgwABqwMqJZMXIGBNvoUMwEmAgNUJlrLJCRCw2reMgNXelIoIIGAkQMBqBEmZLAQIWLNoI4NwECBgdUClZPICBKzJt5ABOAkQsDrBUjY5AQJW+5YRsNqbUhEBBIwECFiNICmThQABaxZtZBAOAgSsDqiUTF6AgDX5FjIAJwECVidYyiYnQMBq3zICVntTKiKAgJEAAasRJGWyECBgzaKNDMJBgIDVAZWSyQsQsCbfQgbgJEDA6gRL2eQECFjtW0bAam9KRQQQMBIgYDWCpEwWAgSsWbSRQTgIELA6oFIyeQEC1uRbyACcBAhYnWApm5wAAat9ywhY7U2piAACRgIErEaQlMlCgIA1izYyCAcBAlYHVEomL0DAmnwLGYCTAAGrEyxlkxMgYLVvGQGrvSkVEUDASEAC1p//j18YVaMMAmkLTD01FY48PdUZxDWTk+HadevSHhBbj4CRwMadO7uV7j20vXudKwiMs8CxHxwLhx891CG47FOTYfK6yXHmYOwIdAV2X/twOPvm2c7PdzxzZ1i0ZFH3Pq4gME4CF/7BBWHiDyfGacjuYyVgdSdmBQgggAACCCCAAAIIIIAAAggggAACCCCQqwABa66dZVwIIIAAAggggAACCCCAAAIIIIAAAggg4C5AwOpOzAoQQAABBBBAAAEEEEAAAQQQQAABBBBAIFcBAtZcO8u4EEAAAQQQQAABBBBAAAEEEEAAAQQQQMBdgIDVnZgVIIAAAggggAACCCCAAAIIIIAAAggggECuAgSsuXaWcSGAAAIIIIAAAggggAACCCCAAAIIIICAuwABqzsxK0AAAQQQQAABBBBAAAEEEEAAAQQQQACBXAUIWHPtLONCAAEEEEAAAQQQQAABBBBAAAEEEEAAAXcBAlZ3YlaAAAIIIIAAAggggAACCCCAAAIIIIAAArkKELDm2lnGhQACCCCAAAIIIIAAAggggAACCCCAAALuAgSs7sSsAAEEEEAAAQQQQAABBBBAAAEEEEAAAQRyFSBgzbWzjAsBBBBAAAEEEEAAAQQQQAABBBBAAAEE3AUIWN2JWQECCCCAAAIIIIAAAggggAACCCCAAAII5CpAwJprZxkXAggggAACCCCAAAIIIIAAAggggAACCLgLELC6E7MCBBBAAAEEEEAAAQQQQAABBBBAAAEEEMhVgIA1184yLgQQQAABBBBAAAEEEEAAAQQQQAABBBBwFyBgdSdmBQgggAACCCCAAAIIIIAAAggggAACCCCQqwABa66dZVwIIPD/s3e+sVpUZwI/btJmA0nRBPrBpFxNth8ubV3NxaSt66Xd3URoNFEx1W6LtqmCjRGQtrYiqFUKu7oFMboF/8QiNuqmiK6bveyXtlzTP0kh1tblftgmBUz8UEgqTS770Z1nXs7wvPP/fd9zLpwzv0l05p135jlzfs+8zJnfPXMGAhCAAAQgAAEIQAACEIAABCAAAQhAwDsBBKt3xBQAAQhAAAIQgAAEIAABCEAAAhCAAAQgAAEIxEoAwRprZqkXBCAAAQhAAAIQgAAEIAABCEAAAhCAAAQg4J0AgtU7YgqAAAQgAAEIQAACEIAABCAAAQhAAAIQgAAEYiWAYI01s9QLAhCAAAQgAAEIQAACEIAABCAAAQhAAAIQ8E4AweodMQVAAAIQgAAEIAABCEAAAhCAAAQgAAEIQAACsRJAsMaaWeoFAQhAAAIQgAAEIAABCEAAAhCAAAQgAAEIeCeAYPWOmAIgAAEIQAACEIAABCAAAQhAAAIQgAAEIACBWAkgWGPNLPWCAAQgAAEIQAACEIAABCAAAQhAAAIQgAAEvBNAsHpHTAEQgAAEIAABCEAAAhCAAAQgAAEIQAACEIBArAQQrLFmlnpBAAIQgAAEIAABCEAAAhCAAAQgAAEIQAAC3gkgWL0jpgAIQAACEIAABCAAAQhAAAIQgAAEIAABCEAgVgII1lgzS70gAAEIQAACEIAABCAAAQhAAAIQgAAEIAAB7wQQrN4RUwAEIAABCEAAAhCAAAQgAAEIQAACEIAABCAQKwEEa6yZpV4QgAAEIAABCEAAAhCAAAQgAAEIQAACEICAdwIIVu+IKQACEIAABCAAAQhAAAIQgAAEIAABCEAAAhCIlQCCNdbMUi8IQAACEIAABCAAAQhAAAIQgAAEIAABCEDAOwEEq3fEFAABCEAAAhCAAAQgAAEIQAACEIAABCAAAQjESgDBGmtmqRcEIAABCEAAAhCAAAQgAAEIQAACEIAABCDgnQCC1TtiCoAABCAAAQhAAAIQgAAEIAABCEAAAhCAAARiJYBgjTWz1AsCEIAABCAAAQhAAAIQgAAEIAABCEAAAhDwTgDB6h0xBUAAAhCAAAQgAAEIQAACEIAABCAAAQhAAAKxEkCwxppZ6gUBCEAAAhCAAAQgAAEIQAACEIAABCAAAQh4J4Bg9Y6YAiAAAQhAAAIQgAAEIAABCEAAAhCAAAQgAIFYCSBYY80s9YIABCAAAQhAAAIQgAAEIAABCEAAAhCAAAS8E0CwekdMARCAAAQgAAEIQAACEIAABCAAAQhAAAIQgECsBBCssWaWekEAAhCAAAQgAAEIQAACEIAABCAAAQhAAALeCSBYvSOmAAhAAAIQgAAEIAABCEAAAhCAAAQgAAEIQCBWAgjWWDNLvSAAAQhAAAIQgAAEIAABCEAAAhCAAAQgAAHvBBCs3hFTAAQgAAEIQAACEIAABCAAAQhAAAIQgAAEIBArAQRrrJmlXhCAAAQgAAEIQAACEIAABCAAAQhAAAIQgIB3AghW74gpAAIQgAAEIAABCEAAAhCAAAQgAAEIQAACEIiVAII11sxSLwhAAAIQgAAEIAABCEAAAhCAAAQgAAEIQMA7AQSrd8QUAAEIQAACEIAABCAAAQhAAAIQgAAEIAABCMRKAMEaa2apFwQgAAEIQAACEIAABCAAAQhAAAIQgAAEIOCdAILVO2IKgAAEIAABCEAAAhCAAAQgAAEIQAACEIAABGIlgGCNNbPUCwIQgAAEIAABCEAAAhCAAAQgAAEIQAACEPBOAMHqHTEFQAACEIAABCAAAQhAAAIQgAAEIAABCEAAArESQLDGmlnqBQEIQAACEIAABCAAAQhAAAIQgAAEIAABCHgngGD1jpgCIAABCEAAAhCAAAQgAAEIQAACEIAABCAAgVgJIFhjzSz1ggAEIAABCEAAAhCAAAQgAAEIQAACEIAABLwTQLB6R0wBEIAABCAAAQhAAAIQgAAEIAABCEAAAhCAQKwEEKyxZpZ6QQACEIAABCAAAQhAAAIQgAAEIAABCEAAAt4JIFi9I6YACEAAAhCAAAQgAAEIQAACEIAABCAAAQhAIFYCCNZYM0u9IAABCEAAAhCAAAQgAAEIQAACEIAABCAAAe8EEKzeEVMABCAAAQhAAAIQgAAEIAABCEAAAhCAAAQgECsBBGusmaVeEIAABCAAAQhAAAIQgAAEIAABCEAAAhCAgHcCCFbviCkAAhCAAAQgAAEIQAACEIAABCAAAQhAAAIQiJUAgjXWzFIvCEAAAhCAAAQgAAEIQAACEIAABCAAAQhAwDsBBKt3xBQAAQhAAAIQgAAEIAABCEAAAhCAAAQgAAEIxEoAwRprZqkXBCIhMPvBbCQ1oRoQGI3A7KlZc/r902mQeRfOM/MXzB8tIHtDIBICJ46dyGrysUWLsmUWINBlAn+ZnTWnTnPN6PI5QN3LCehrxqIxrhnllFjbBQIfMh8yH77gw12o6pzVEcE6Z6gpCAIQGJSAyNXX/+8/Bt2N7SEQJYF9399nXt26L63bjRtXmpX3r4yynlQKAoMS+PL8f8p2+dNLL2XLLECgywRePnjQrN21K0XANaPLZwJ1zxNYt2StOXnsZLr68SM7DZI1T4jPXSHw0b/6qPnHv/6HrlR3TuqJYJ0TzBQCAQgMQwDBOgw19omVAII11sxSr1EJIFhHJcj+MRJAsMaYVerkggCC1QVFYsRAAMHqPosIVvdMiQgBCDgigGB1BJIwURBAsEaRRirhgQCC1QNUQgZPAMEafAqpgCcCCFZPYAkbHAEEq/uUIVjdMyUiBCDgiACC1RFIwkRBAMEaRRqphAcCCFYPUAkZPAEEa/AppAKeCCBYPYElbHAEEKzuU4Zgdc+UiBCAgCMCCFZHIAkTBQEEaxRppBIeCCBYPUAlZPAEEKzBp5AKeCKAYPUElrDBOBulMwAAIipJREFUEUCwuk8ZgtU9UyJCAAKOCCBYHYEkTBQEEKxRpJFKeCCAYPUAlZDBE0CwBp9CKuCJAILVE1jCBkcAweo+ZQhW90yJCAEIOCKAYHUEkjBREECwRpFGKuGBAILVA1RCBk8AwRp8CqmAJwIIVk9gCRscAQSr+5QhWN0zJSIEIOCIAILVEUjCREEAwRpFGqmEBwIIVg9QCRk8AQRr8CmkAp4IIFg9gSVscAQQrO5ThmB1z5SIEICAIwIIVkcgCRMFAQRrFGmkEh4IIFg9QCVk8AQQrMGnkAp4IoBg9QSWsMERQLC6TxmC1T1TIkIAAo4IIFgdgSRMFAQQrFGkkUp4IIBg9QCVkMETQLAGn0Iq4IkAgtUTWMIGRwDB6j5lCFb3TIkIAQg4IoBgdQSSMFEQQLBGkUYq4YEAgtUDVEIGTwDBGnwKqYAnAghWT2AJGxwBBKv7lCFY3TMlIgQg4IgAgtURSMJEQQDBGkUaqYQHAghWD1AJGTwBBGvwKaQCngggWD2BJWxwBBCs7lOGYHXPlIgQgIAjAghWRyAJEwUBBGsUaaQSHgggWD1AJWTwBBCswaeQCngigGD1BJawwRFAsLpPGYLVPVMiQgACjgggWB2BJEwUBBCsUaSRSngggGD1AJWQwRNAsAafQirgiQCC1RNYwgZHAMHqPmUIVvdMiQgBCDgigGB1BJIwURBAsEaRRirhgQCC1QNUQgZPAMEafAqpgCcCCFZPYAkbHAEEq/uUIVjdMyUiBCDgiACC1RFIwkRBAMEaRRqphAcCCFYPUAkZPAEEa/AppAKeCCBYPYElbHAEEKzuU4Zgdc+UiBCAgCMCCFZHIAkTBQEEaxRppBIeCCBYPUAlZPAEEKzBp5AKeCKAYPUElrDBEUCwuk8ZgtU9UyJCAAKOCCBYHYEkTBQEEKxRpJFKeCCAYPUAlZDBE0CwBp9CKuCJAILVE1jCBkcAweo+ZQhW90yJCAEIOCKAYHUEkjBREECwRpFGKuGBAILVA1RCBk8AwRp8CqmAJwIIVk9gCRscAQSr+5QhWN0zJSIEIOCIAILVEUjCREEAwRpFGqmEBwIIVg9QCRk8AQRr8CmkAp4IIFg9gSVscAQQrO5ThmB1z5SIEICAIwIIVkcgCRMFAQRrFGmkEh4IIFg9QCVk8AQQrMGnkAp4IoBg9QSWsMERQLC6TxmC1T1TIkIAAo4IIFgdgSRMFAQQrFGkkUp4IIBg9QCVkMETQLAGn0Iq4IkAgtUTWMIGRwDB6j5lCFb3TIkIAQg4IoBgdQSSMFEQQLBGkUYq4YEAgtUDVEIGTwDBGnwKqYAnAghWT2AJGxwBBKv7lCFY3TMlIgQg4IgAgtURSMJEQQDBGkUaqYQHAghWD1AJGTwBBGvwKaQCngggWD2BJWxwBBCs7lOGYHXPlIgQgIAjAghWRyAJEwUBBGsUaaQSHgggWD1AJWTwBBCswaeQCngigGD1BJawwRFAsLpPGYLVPVMiQgACjgggWB2BJEwUBBCsUaSRSngggGD1AJWQwRNAsAafQirgiQCC1RNYwgZHAMHqPmUIVvdMiQgBCDgigGB1BJIwURBAsEaRRirhgQCC1QNUQgZPAMEafAqpgCcCCFZPYAkbHAEEq/uUIVjdMyUiBCDgiACC1RFIwkRBAMEaRRqphAcCCFYPUAkZPAEEa/AppAKeCCBYPYElbHAEEKzuU4Zgdc+UiBCAgCMCCFZHIAkTBQEEaxRppBIeCCBYPUAlZPAEEKzBp5AKeCKAYPUElrDBEUCwuk8ZgtU9UyJCAAKOCCBYHYEkTBQEEKxRpJFKeCCAYPUAlZDBE0CwBp9CKuCJAILVE1jCBkcAweo+ZQhW90yJCAEIOCKAYHUEkjBREECwRpFGKuGBAILVA1RCBk8AwRp8CqmAJwIIVk9gCRscAQSr+5QhWN0zJSIEIOCIAILVEUjCREEAwRpFGqmEBwIIVg9QCRk8AQRr8CmkAp4IIFg9gSVscAQQrO5ThmB1z5SIEICAIwIIVkcgCRMFAQRrFGmkEh4IIFg9QCVk8AQQrMGnkAp4IoBg9QSWsMERQLC6TxmC1T1TIkIAAo4IIFgdgSRMFAQQrFGkkUp4IIBg9QCVkMETQLAGn0Iq4IkAgtUTWMIGRwDB6j5lCFb3TIkIAQg4IoBgdQSSMFEQQLBGkUYq4YEAgtUDVEIGTwDBGnwKqYAnAghWT2AJGxwBBKv7lCFY3TMlIgQg4IgAgtURSMJEQQDBGkUaqYQHAghWD1AJGTwBBGvwKaQCngggWD2BJWxwBBCs7lOGYHXPlIgQgIAjAghWRyAJEwUBBGsUaaQSHgggWD1AJWTwBBCswaeQCngigGD1BJawwRFAsLpPGYLVPVMiQgACjgggWB2BJEwUBBCsUaSRSngggGD1AJWQwRNAsAafQirgiQCC1RNYwgZHAMHqPmUIVvdMiQgBCDgigGB1BJIwURBAsEaRRirhgQCC1QNUQgZPAMEafAqpgCcCCFZPYAkbHAEEq/uUIVjdMyUiBCDgiACC1RFIwkRBAMEaRRqphAcCCFYPUAkZPAEEa/AppAKeCCBYPYElbHAEEKzuU4Zgdc+UiBCAgCMCCFZHIAkTBQEEaxRppBIeCCBYPUAlZPAEEKzBp5AKeCKAYPUElrDBEUCwuk9ZJwTra6+9Zt5///2U3uWXX27kP6bBCfz85z83e/bsMRdeeKF58MEH0/ngUcLaQ+r89ttvm9/+9rfZgV9yySVm2bJl5nOf+1y2jgU/BLooWKdfnHYGc9HYQjN+9RJn8YYJdPrUrBExOHvqtFl5/0qzaPGiYcKwT0IgVsF64vgJMzM94yzHE9dNmPkL5juLN0ygY787aqaeOpAcxzxzY3Len+vjGaYOIe3TZcH6X4cOmb/MzjpJ18cWLTJXLTm31wwnFSFISqBrgpVrCSd+WwII1h6pw/952My+7+b6cb7cc0w9ecDIvwVXXrvUTFy3tO0p0dntEKzuU98JwXrppZeao0ePpvQeeuihVA66Rxl/xC5xFKF6zz33GBGsVZOI1v379yPsqwA5WN9FwapFwagIJ788adY8feeoYUbaf9eaXebNM9J4XiKbnnnv2ZHidXnnWAXr9IsHze41u52l9v6pTWbJ5LmVROvG15qTx0+mdVp+13Kz6tFbndWPQEUC+t/NP730UnGDiNdM3H23efdk71wbtZq3TE6aJ77xjVHDsP95QqBrgnXmzSNmy/ItzuhzLXGG8rwLhGDtpURzGDVJ41ePm00HNo8aZqT9pZPK7uS+Qya553h8Zid/4G4gimBtADTE1whWBU33dJXeiSLQYp9EIFr5LPWVepdN0gP4oosuyr66/vrrU7mYrYho4Uc/+pH52te+1rpGzz//vPnqV7/aens2bE8AwdqeVdmW54Ng3X7zD4z8hdxOT7/3DI0dC2PAOYK1HbBzfVM8m/TaXn3xHdnBng83HdnBRLqAYO2GYH0n6SzxzrFj6VlMb9vmHzOCtZlR3RZcS+rohP2dFouPH9lpFo118+kqzWHUjJ4PbZ3dq3eZ6R+ffRKwy7ltm08Ea1tS7bdDsCpWn//857Mei12RZiISRSjKJJJQ6l01SY/Oxx9/PB0a4Gc/+1mUPTdFNktPXTvJcBI7duxI6ypDI4hoFiktLKyYlvVvvfVWJ4S85TJX8y4K1qYhAvbe+4I5nTxuL9PEtRNm6XVXVqZj0eJkiIBz3JPv2O+Pmu1f3J725rtx443JMAE3VR4vX9QTiFWwNj3WKY/bH0get7fTVx5dVSvpxyfHz/lQFK8mw2Ls27ov7UEhPTrGLhuzh8/cA4EuC9apZIiAUzVDBDy2b59598SJlPqKpUuN/Fc1ne/S8rGf/MRIfWT67Pi4ee2BB6qqwvqEQNcEq/xx6/AbZ/+gmz8JuJbkiXT3sxaLXZZwh944lN1TlJ0N+77/k+xpHBGok19ZVrZZuk56jC49x4/k63uOa5Knh27l6aHKfNkvEKyWhLs5glWxRLDWC1aFKtpFfQ5Ij14RpyJQ85OI1iuuuCKTrOvXr09FbH47Po9GoIuCtYmYbhTeuHFlOq5p0z58HweBWAVrU3byj312+WaoiVVXv++yYG3K+fUPP2x+OdMb4/jbK1eab98U7h+5EKxN2e7/vmuCtb/2xU9cS4pMurpGt6VpU1SfBVuWP2Jm3uxdP86Hp+Kqj5RvhiWAYB2WXPV+CFbFRss1erAqMB1ZzPdeFbla90K0nTt3GhGrMomM/eMf/9gRUnNXTQRrkbVuFCJYi3xiXoNg7WWXm6GYz/Lh6oZgreaGYK1mE/s3CNb+DCNY+3l0+ZNuS9OmqD4TEKzVbGL5BsHqPpMIVsV0VMEqvRrlP5mk12NZz0dVXOOifQRd5F3dNEq5gwwRUHcMdd+Ncnx1cS0f2aaJUV0c+508+i/ngEySuz//+c/2q9K5vAhLerHaSbYfNec2FvMeAQRr8UzQjUIXgvXEsd6jo03jT51OHr2bfb83NMH8C+cljz7PzVvadblNx1ikFdcaBGsvn6PeDA1yTult5/K8t7/LuSwz5F8LgrU6ey4FqwxF8JfTveuADCcw7KTjfGTePLNgfrvrCT1YByOOYO3n5Vqw6utDU/tEbzuX/65zLek/B+wn3ZYetU1hY8Y4dy1YBzkf7bbCten35Yq9/p3OVZmujn3YOAjWYclV79dpwSpCTb/MqEoEiryTMUerJonzve99z4hws4JVtpX91q1bl45tWiXepBekjGsqk7w4Ssb7lM8Sz8YqGxtVvtuzZ4+RF3NJ+XqScuVlVQ8++GB6DPo7WdZjjFbVWbaTOkssO4l8tFJTjlOOt26SsV3lGAc9PhtT9rP5keOQ45HjtcwsH9le+MrxVNXZxqybS90OHjyYbrJgwYLG+sn2mqX0YNW86sriu3YEEKxFTrpR2FawyviVU09NpcGWJuO2yhvNDzw5lY4RacdzLXv0Rxoa0y++aQ698ZvsESF7RDLW0kQy1tLK+1fWjnepy17yd+NmzdN32hDp/GQieB9Z0Xvr7/wk5tZfbUvGg5o1U08eSAeql+/t1LZMu31scwRrL6Ntb4Z23LzdHP39sXSnVf+yyoz97ZgRhofVmGNlLzGRMWHl93EoeTmbPv8kkIylujwZ16tuHDLZTm5KThzvvXhIys6PS6Z/F/Y3acuVcZjt71JiLUzGUp78yiTjFwuMignBWgEmWT2qYBUZ+vTUlHl5ejoby9WWJuO5rl6xwly1ZIldVTmvi/OJsTGzJokj8fKyVY7/3ZO935IWs1KQlrx7Nmwwn1Rt1soD6dAXCNb+ZA8rWLmW9HOM4ZNuS7dtU8RQ70HrMIxglTbWC9/ZmxY19qnFZsMr30zbVFP/diBrU1W9EEvaP9MvHhz6nkOXLe+hkDHw89O6JeuyVVt/tTUd07/X5jtUKHfi2qVm1WOrau9zsmCBLiBY3Seu84LV9lisQyvSrOrxb/vip6b987LSbi8i9aGHHko/ihSVR9KtcLXb5AWriNwbbrghk512u7J52VAHF1xwQdmmhXV5YSgyUaSiTGVx0y+S/8k2IkbzYtV+b+ciRaXuIqHLJtnf5kdyIAy15C3bx24nc9+TPj4p64MPPvBdZOfiI1iLKdeNwraCVYs5adSIJNIvDZJS8oJVXgaxPRFUJ89IouKRnF2zZveaSuGULzvf2BGBpRs7j8/sNFuueaS2XBFOG/59gxn71CVnD6IDS5pl29zHgGXYm2J9YyAvWJOGe/58zgvW/B8eqvjJObjpvzdXNrr173R18vtYlnsxhM6l/PbkxVx7793bJ1bzZS9OblS2/fqf86v5nBBAsFafBqMI1neS9txt27cXxGq+tKaxXSXO9Y88kvV+ze9vP4sw3b95s1msesdO3H13JljtdmVz2a+N6C3bN9Z1CNb+zHIt6fHgWmKSdufaRPb1/nCDYO3/nehPuh2Vv0/Q2+llEaS71+xOVy0cW2iWfXlZ2qFDb5MXrPIHZvlDxrHfHdOblS7XvTA3X/bOI08UYuj2gghWaXvZcWYLG59ZkW8rVm0X4noEq/usdVqwiggUwWkn6Q1qe0WK7LSSTkSg9NjMTyI5ZR87yT7yn0wiQfV3EqvshUlasKY7lvxPC1Y5Znks3R6n7blpxwqVckX8yXZ2EjFpj0vW2V6hsqy3lWPU20mdJb6d2ghWKTcvQSWmHJ/Eku91mRJbhHKZZJXtrGCVfe3+Mpfeqvaz1Fni2knKkzr7noSj9NKVSecoXcH/nBBAsBYx6kZhW8mmZU4xYm+NbjhJQ2fjp+/LZE/6ZtDkr7iLz7wJ/VjSK3Bm+kifrKpqfOiy8w0qKTkvWEVciQSTMkUEy3+nk6EJjrzZX15ZrKq6xbJes2yb+xjq7uKmWM4n3SvUctHn7atJ79Z9W3tvKJfv5VyUnqdjl11i5FE1+aPD4aRXq53k+62/3pb2frDr7Fz/TpsEqz3nZV/7W5uXDMMhZUqjXx933Y2FLbuLc33D9KeXXuoigso6DytY81JUHuW/ZXIy7WEqPUmnDh/uE69VkvX4iRPm77/73UyuSpwvJD1Vbe/TXxw5kr2ESyqRl6ybkieh7LAE7xw/buS47HZXjY+ny/I/6UlLD9YMR7qAYO3nwbWkN7yHUOn6tURfoxGs/b8T/WlUwVrV9tJteLnnyHesmEiethu/uvdkRNk9x4aXN6RP0eljleVBBatuf8kx2XuOo0l77/jvj2fh69p72UaBLiBY3Seu04I1j1Nknkg9mep6aMr30vPSylkRffv37++Tk7KNSD8tG8skXJlgFdkoPWPHkkem8pPIVRGKMokQLesZmy+3TjgOIgnbCFYdr46L1E8L6LIXSmnBajkIw7z4le/yPYnzvW/t/q7mIoWlTDv5Ls+W07U5grWYcd0obCvZtJizEa9JHnNecdeK0nGNdINKGhVlPfXyDSLdWLJlyFyXXbZNXrDKPrLdPa9sKIirvADTckz2i33SLNvmPgYmLm6KhYOcy8uTc35y1WTh3JLzef342acpqm4+33xx2uxasyvDuurRVWnMbMWZBf07bRKsdt+yMuW4tn/xB1lDX25WnnnvWbsL8zMEEKzVp8IwglWk6A1Jj9N3k7lM8uj+E3feWXh8/7F9+4yMi2qnQ0880df7VNbr8kWe/nTbtkKcqd/8xty9a1cmUlcvX2623HabDZvNGYM1Q9FqAcHaj8nVtUT+HZZrMNeSfr4hfdLXaARrdeb0/YDuiFG9R7/ktNtdnQxztCx9Wqc4nIy0qaRtJVPdPYduC8l2O2eKvVMHFaxS5uLLesMYLFrcP654/p6jrC0n+4c+IVjdZxDBqpi2FawiMPXYm3UyNi8J8y9CygtWEbcyjmjZJGJVv1SpTuo1lWvjayFaJoDtdjJvEqwiTKVXr53yPWfteplLD1zhbWVxmQTO10F6rYrILpsknhyf7dlbl5Oy/avWSTx7jLLN22+/XRj31lVZVcfQ5fUI1mL2daOwrWTTYk4ilokcW5L00tv4mY32o5FH9vONDvul9GLdcmb8VFn39HvPFMSVLruNYJWGzrZfVT8GfcfFt2c9+qrklj2+2OaaZdvcx8DAxU1xVaPd8tFsqxrudtvtN/8g68kqvSxkfLH8pH+nZY1yXZ7sW/ebzP/OuBnM02aIgCKRs2u04KzqZXp2697SphdeSMddlU9VUtTuc0MyRuovZmbSj2Vi9KNf+pLdNH38v+ox/kcTWfuvZ2St9HL9w3PPZfvZBQSrJdFujmDt53S+XUu0WOJa0p8r35/0NZprajVtF4K1rn0zm7xzYfXFd2QHUNdxok1baFDBKu29qieR5KCGqX9WmUAWEKzuE4VgVUzbClZ5ydL69evTPeXRd+l9WTfVxdWCVXqkijStmkT2vf7669nXt5X8dd9+KdtedNFF9mN6jHYYgWxlsuBSsOohE5pkrRxDXqDmhXHT97oesqzLrxPV+f3qPssQAMKobBIpLDJc5kx+CCBYi1x1o7CtZNMyp0keSWPn8BtnH4OWl+tUTfmG0fd/uc1ckrxISE+67DaCtSyGjrd79a705Veyru1f0/X+IS9rlm1zH3J97bG7uCmua+BLOTPTM8lLqXq99eTFCOOTxV4W9njaNOD177RJsDb9JqVc/YeFuhsQe4xdm9ODtTrjwwjWibVrs96r0nP1lmXLKguQR/ylt6tMeTEqQwl8/Pbbs30PJz1c7dAA2cozC/Lov4hdO732wAN2MZsjWDMUrRYQrP2YuJZwLbFnhL5GI1gtleJ8GMGo20hNT93k7zkmrpsodNTQR6XbQvckwwTkXyCqy5bxX5vGYG1qT+l2d9k9jD62UJcRrO4zh2BVTOtEqNos7Xkp8k+mqvFD0y/P/E8/vp4Xj1qwlvXi1HEGXdYvs6rqTepSsOrypKep9DhtmnSv2DzLvGBteonUIHVpOi77fZ1gFSEuglVyyuSHAIK1yFU3CttKNp8NBC02yhoqTWXnhwhoaujqeAjWlcUTJMI1Lm6KyyTnsKjaNOD177SsbH0et2m0N8Ubti6x7Kf/HWIM1v6sDipY64Rpf+TepyaJ+jdf//rZR/+TcVK33HprWZhW6xCsrTBlGyFYMxTpAteS/pc7lV2b+onF+0lfU5vanfFSaK7ZqIK1SnI2l1y+hc5b2fnbpn2m2wtl9y26ZB2vTVtN7xvKMoLVfaYQrIppW8GqRaI8Ht7Ug1EenbfjdeYfcx9VsEpPVRGRMs9Puuelb8GaH74gPxRC/tjs5zopej4IVhkO4uDBg/ZwjXyWfOphA/LSPNuYhZEJIFiLCHXjYq4E6+mkV6u8bGc2edlUftqtxqMsa6g0iSQEa55o9WfNsm3uq6OF8825uimWl0wdT17olj/v5YVr2XhhFT0k9O+07CZA57JNo70pXjjZ9HOk+oYJwdrPeFDBuntqymw+05P0k8m7APZ8szgERn8JvXFW3z3ZeyP3/s2bjR4GQD/6L/t9Iom5JhGtn12ypDBeaz5u/jOCNU+k/jOCtZ8P1xIEqz0j9DUVwWqpFOfnQrDKPceJYyeTF4seKxzQ3ntfyIYJK2tbaSFaJXd1e6HsvkUXquO1aavpfUNZRrC6zxSCVTFtI1jz46+q3Vst5nupDitYpWflnuTNqiIh20y+BauWofJyKxGsbaa6+uuYEutc9GCtqoPwF2luxbarIQmqyuvqegRrMfO6UdhWsg0qc2yp0y9Op2/kFLnaZiprqDSVjWBtQ7a3jWbZNvfto5+/W87lTbE07KeePGAOPDWVNeLryFQ14PXvtOwmQOeyTaO9KV7dMXbhO33DhGDtz/iggnVz0rbcfeBAf5ABPpUNKaDHdNWhRLaKxF1x5ZXmC8mLtJomBGsTof7vEaz9PLiWIFjtGaGvqQhWS6U4n0vBKr9PaRu1vecoa1tpIVrVPtPthbL7Fk1Bx2vTVtP7hrKMYHWfKQSrYhqCYBWhJ2ON5sWqSE35T08ig+3kW7DqR+mbxpK1xyTzUAWrHLt+qZewlzFk8zmQ7ZiGJ4BgLbLTjcK2km1QmSOSafvN2wuNHBlLad6C+X0HdfLMuJWysqyh0lQ2grUPZ+0HzbJt7msDBvLlXN0Uywve5Lw/ebzXE8/iyZ/38vs4farXm7uqAa9/p2U3ATqXbRrtTfHssXZ1rm+YEKz9Z8GggnXtD39oXp7uvdG5P1K7T2WCVfYU2Se9Y//nWLFXknwvY7PeMjlpvn3TTfKxdEKwlmKpXIlg7UfDtQTBas8IfU1FsFoqxflcCVbpmXrgqeIf9hYuXtR3UPqeo6xtpYVoVftMtxfK7lt0gTpem7aa3jeUZQSr+0whWBXTYQSrvOxqEKk2lvylXo/ZWScY1aFli/qReilXypd4Ejc/6aEMfAtWLRu7IliFt7xIzPZileEidG7z+eDz4AQQrEVmulHYVrINKnP0m21FLi2/a4WRl10tGutv6MjRNTVUmspGsBZzXLVGs2yb+6pYIa2fi5tiecHVlmseyeTq4ssWmxV3fcGUvXBBN7irGvD6d1p2E6Bz2abR3hQvpHz6OFb97xCCtZ/wKIL1k8lY8ysmJvoDNnxanvRE/VSyX9UkL7OScV5/mfz3i5mZbHxWu72I1p9u22YWzO//Y558j2C1lNrNEaz9nLiWIFjtGaGvqQhWS6U4nwvB+mrSa3Xf1n1Z4dK+XXL1eOnLRnXeytpWbdpnur2AYDUGwZqdes4WEKwKZRvBKjJNpJqdpNeiCMVhp0EEa/6R+aay51KwDjsGq34BWH582nx9z6chAmy+9TmTf0mX3Yb58AQQrEV2unHRVrINInMKNyAzO82i3F+Q9VE1NVSaykawapr1y5pl29zXRwzj28I5eSQ5J0tkf742+sagrCGut9d/VFi4eKHZ+uttlW+ybdOA17/TsrJ1LhGsOhPDLet/hxCs/QwHFaxaYopc3fOtb/UHdPxJZOsrSe9W3Wv2s+Pj5rUHHiiUpI+tapvCTh1egWDtTz7XEgSrPSP0NRrBaqkU57od1fbFsm3aSLYk+eP2+vF19qPZNLWpVKzaDXTeytpWbcrW7QUEK4LVnlsu5whWRVPLsrreiC57LQ4iWPW2eRmpqpEtzqVgzYvnqh6z2cGdWbjiiiuyF0blBeVcC1Y7rq0c2rJly4yMq9o06XMmf/xN+/J9MwEEa5GRbly0lWyDyBy97cS1E2bDK/UvOGlqqOh4ZSIJwVrMcdUazbJt7qtihbR+Lm6KN37mvuyFCve8vMEsva56PMg2DXj9Oy27CdC5LPtd5PPTFC+/fdc+63+HEKz92R9UsGop95F588wfnnuuP6CnT/lxWv/32WcLvVgRrIPB17ns0jWjihLXEgSrPTf0NRXBaqkU574Fq7zrwb4s10VbqE37TLcXEKwI1uJZP/oaBKtiqGVZnWDVj+nnX1qlwrVa1NK0KZYuVx5Fl2Osm+ZSsMpxaH4ydMGOHTvqDs/kXxj21ltvmcsvvzzbZ64F686dO9MhF+QA5DjkeJomLdv3799vRHwzuSOAYC2y1I3CtjdMg8ic3at3mekf98bfa/PX6qaGSlPZCNZijqvWaJZtc18VK6T1c3FT3HQea15tGvD6d4pg1fT8LOv8IVj7GQ8qWN89ccJMrF2bBdm/ebO5asmS7PMgCzKeqwwDINPNyfiq99aMr3pqdtZ8/Pbbs/AyTIAMUaAnBKum0byMYO1nxLUEwWrPCH2NRrBaKsW5b8Gq27UI1iL/uVjDEAHuKSNYFVMtCOsEa178tRFr8ij8unXrCsMJDCtYm2Ss9L6U2Haq6lE6iLS99NJLUykqMcv46BddyfiwIijrhk/QZct2MuSBnvKcfQ8RkC+vipk9Rj3urKxrGrLB7se8PQEEa5GVbhS2lWyDNGD0QPNNjZ38uEllfwluKhvBWsxx1RrNsm3uq2KFtH4uborvuPj27MVVqx5dlY47XMZIXnB136fvy8ZqZQzWMkpzvw7BWs18UMEqkW54+OFMjIrk3L9pU6E3qS7xeCJl5TH//AuqNu/ZY3Yf6L24pOmRfomxVIldBKsmPNwygrWfG9cSBKs9I3RbGsFqqRTnvgWrvNhK7jtkknc+PPPes8WDOLPmwJNTZu939mbfl/3xus0fwHV7oey+JSsgWdDxmu6J9H4hLSNY3Wfr/wUAAAD//5u2dMoAAEAASURBVOzdf6wcd5nn+y+zd69mbd2JkWJWQnd8nNVdaW1CQmSjnQXFDrMrYUcgkjhSYMgvtBCbG7CTcMOyiUOAmGQ3mSR2FhY7MCKOk1lY4TgZ0Njzz0BskRlp7AsBrj1XdyVsc8Ufa0skSMcjzVxtbj19/G0/XV3VVX3O89Q532+9S7JPdXf1U/V9PV2nuz+nuvptbxVTyHy64oorwunTpwej/NKXvhQefvjhyhHfeOON4eWXXx7cduedd4Zvf/vblcvJlR/4wAfCj370o8HtK1asCE8//XSQ+5SnN954I9x7773hueeeC7Kc1LzhhhuGi335y18Osk0yXXfddeGHP/zhYL7qP6nxiU98YnhT1VhkfVJz9+7dw+VkRupK/fIk2xaXbVq/dpRxVI33mmuuCT/96U8Hq1m9evVgvfKzPMm2y3bGqaqe+IpznJoeqmIjRjLJtk3q32Chiv90XydtvzyeZNn4uJrv+io2gauUwOxbs+GVv/szdQ2zO9ZuD+fPnB9A3PTAlrDlwS2NKAe/ejC89OjBwXJrrl0Tdh55qPY+R194Nezbum94+00P3FSs4+bhZZm58OZskJpHvn5k5PoHD+8MazesHbmuad3nz5wLO9buGN5n98k9YeXMyuHl8oyut+HjG8LWZ7eVF8n2sh57297ngHHq2Mmwa9Ou4VCaHiNxwV2bHgmnjp0aXLxr39aw8daN8aaxn3rZZZctC4/+9WNh5arRx6Fsx4HPHwhnfnZmeP/LZy4Pe04+M7wcZ/R+WrVu3cumfVJqNtWL6+3rz48v/6Ph0P/7f/kvw3lmQrjhK18Jr52a2w/u37Il3H/z6O/zKqMfnzwZbnzkkeFNm9avD7tuvz2sWjm6T8gCsuwdTz4ZfnvhQriyeL33l489Nrxfuc6k9T9x8GB44nvfG9z394v1nHhmfL/6zquvhu179w6W+b1lywbLXLZ8+XB9zIwKaK8+PWeMKly6tFSeS8787PTgdRbPJZd60/Wcfk5t+5qi621cCuvTr43avubW7yPqXiPFsZ06Wry+23zp9V3de47DXzsyfB8T71v12qrNuvXrhar3LbG+/NT12rxW0/dNZf4dv/OO8G9+91+nsrlJbOfbCFgv9akc+kloJiGbhJYSoOqpHLDJbRJQSng6MzMzuM/rr78+CPzk/jJVBXbTBKxSRwLMGOpJTVmn/JNJrpeAOK5vcOXF/w4dOjQS7MbbyiGmjPk973nPoNaOHTsG2xyXbROwyjbINuptkJobN24cBMxnzpwZbGMMp6V2VVAs15e3rYuAVcJhCU7rtl+ub9NX2X6mhQsQsI4b6heFbd8wTRPmzBbh6QN/8O/D+bNzIa5sgbyoWHPtXHB67uy5cOL7x4uQ9cLYxlW92GlaNwHrGGPtFdqybe9riyV0Qxdvissv8oVn3YfWh5mrZgZ/UJA3wjGs1XQSxn7z19/SVw3m9X46n/2iXLCpXnn5vl3Wb5gIWEe7P5+AVSrowFMuS+j5vjVrwvvXzj0XvFkEqoePHw+vFQFrnKoC1J3PPx+ePXw4LjKoc9fmzYOfv52dDVV1HrnttrD1+uuH94kzvzp3Lqzbvj1eDO8qXm9/tHh9KXXeV2xX3LbhAj2fIWAdfQAs5ecS2dIXZ/90dIOLS02/+/XrgjYBUFO9sQ3I9ArtQMBa32TvgFXWrNchly9fdXlY/+H1Ydlly8Ok9xy3PX5b2HT3ZrnLcNKBaF24q18vELCGQMA6fPiYzRCwKkoJzyRE1OFavLkq3JMwUR/FGJet+lkVrspy0wSssrwEgHKkrax70iShpRzNGZerCzGlhg5Odc3yUa96uaojTuN9ZZ1tXSZt12IErDKGtsaybF1f5TamhQsQsI4b6heFbUO2aV+AywuaXR98ZCRkHd+SEOQvzUdfPKqOqB0/2rVp3QSsVbLV12nLtr2vrpTWtV28KRaRl4qjsg9ePNK7TkgC1dsfvz3s3Tp3FJ0sV/XmTO+nBKx1mnbX6zdMBKyjrvMNWKVKOWQdrTx6qSpcjUuUQ9Z4fdXPSXVk+RuLI3J/fPGIXH3/Z7ZtG4St+rq+zxOwjj4CeC5pDmxHxfK9pJ+jq57D8x35dCPT4afHEayyNW3fc3zw7k3hrPpjd9X2ELBO119ZmoB1erOmexCwloTqwrWqgDXeVYJMCUpjmBmvl58SwMkRnHI0qJwioDxNG7DK/WU9cj9Zb3mSo1nlFAjyU5/yQC7XnX5A6lUFovMNWGWbpKZs3/79+wfzk7azfFu8vFgBq6xftl+MZRtkvjw19bW8PJfnJ0DAOu6mXxS2Ddl0MNfmCAdZq7zgkfsde+Ho2EZIjS3F6QnWFKcD2HfX3kHIKgtV1W5aNwHrGG/tFdqybe9riyV0Q1dvioXkaPF4P/y1Pw9nf352REiC1Q23bgg3XTwlxz1rdgyP4q46ikLvpwSsI5QuFwhY61kXErBK1bPFUaN/XHx0/ztHx58L5GP6cloACUWbjh6V0wXIKQDi6QrKWyxHoLap82ZxtOr2b3wjHD5xYqQEAesIx+ACAeuoCc8lBKzxEaGfowlYo8r4zy4CVllrfM9R9Qk5/Z7jwOefH56erOoTRASs4z1suoaAtUlo+tt7EbBOzzL38fR4P/nIfFU4Gm+PPyWI02GcHPEppwvwmuRIWwmE49R2O+Py5Z9SKx69a7ntuq44SjjZxrO8fYt1WW+/bIOlzWKNKZX1ErAufqfklAFnXz8z3JBVV8+E5cXHdpi6F+hrwNq99NyL/fOnzw1W/U9WLC/OC3w5j/vFaETLdRKwtoRa4GISksbpsiJcldMGTHsOVAlIf1GcLipO860jwa+cMkAmOTesbAvTqAAB66jHYlyS4IjnksWQn7xOAtbJPot5q5yyKU6XF9/JMOl7GeJy/Jy/AAHr/O3q7knAWifD9QggsOgCBKyL3gI2YAkJELAuoWawKUtKgIB1SbWDjVkiAgSsS6QRbMaSEyBgXXItYYMWSYCA1R6egNXelIoIIGAkQMBqBEmZLAQIWLNoI4NwECBgdUClZPICBKzJt5ABOAkQsDrBUjY5AQJW+5YRsNqbUhEBBIwECFiNICmThQABaxZtZBAOAgSsDqiUTF6AgDX5FjIAJwECVidYyiYnQMBq3zICVntTKiKAgJEAAasRJGWyECBgzaKNDMJBgIDVAZWSyQsQsCbfQgbgJEDA6gRL2eQECFjtW0bAam9KRQQQMBIgYDWCpEwWAgSsWbSRQTgIELA6oFIyeQEC1uRbyACcBAhYnWApm5wAAat9ywhY7U2piAACRgIErEaQlMlCgIA1izYyCAcBAlYHVEomL0DAmnwLGYCTAAGrEyxlkxMgYLVvGQGrvSkVEUDASICA1QiSMlkIELBm0UYG4SBAwOqASsnkBQhYk28hA3ASIGB1gqVscgIErPYtI2C1N6UiAggYCRCwGkFSJgsBAtYs2sggHAQIWB1QKZm8AAFr8i1kAE4CBKxOsJRNToCA1b5lBKz2plREAAEjAQJWI0jKZCFAwJpFGxmEgwABqwMqJZMXIGBNvoUMwEmAgNUJlrLJCRCw2reMgNXelIoIIGAkQMBqBEmZLAQIWLNoI4NwECBgdUClZPICBKzJt5ABOAkQsDrBUjY5AQJW+5YRsNqbUhEBBIwECFiNICmThQABaxZtZBAOAgSsDqiUTF6AgDX5FjIAJwECVidYyiYnQMBq3zICVntTKiKAgJEAAasRJGWyECBgzaKNDMJBgIDVAZWSyQsQsCbfQgbgJEDA6gRL2eQECFjtW0bAam9KRQQQMBIgYDWCpEwWAgSsWbSRQTgIELA6oFIyeQEC1uRbyACcBAhYnWApm5wAAat9ywhY7U2piAACRgIErEaQlMlCgIA1izYyCAcBAlYHVEomL0DAmnwLGYCTAAGrEyxlkxMgYLVvGQGrvSkVEUDASICA1QiSMlkIELBm0UYG4SBAwOqASsnkBQhYk28hA3ASIGB1gqVscgIErPYtI2C1N6UiAggYCRCwGkFSJgsBAtYs2sggHAQIWB1QKZm8AAFr8i1kAE4CBKxOsJRNToCA1b5lBKz2plREAAEjAQJWI0jKZCFAwJpFGxmEgwABqwMqJZMXIGBNvoUMwEmAgNUJlrLJCRCw2reMgNXelIoIIGAkQMBqBEmZLAQIWLNoI4NwECBgdUClZPICBKzJt5ABOAkQsDrBUjY5AQJW+5YRsNqbUhEBBIwECFiNICmThQABaxZtZBAOAgSsDqiUTF6AgDX5FjIAJwECVidYyiYnQMBq3zICVntTKiKAgJEAAasRJGWyECBgzaKNDMJBgIDVAZWSyQsQsCbfQgbgJEDA6gRL2eQECFjtW0bAam9KRQQQMBIgYDWCpEwWAgSsWbSRQTgIELA6oFIyeQEC1uRbyACcBAhYnWApm5wAAat9ywhY7U2piAACRgIErEaQlMlCgIA1izYyCAcBAlYHVEomL0DAmnwLGYCTAAGrEyxlkxMgYLVvGQGrvSkVEUDASICA1QiSMlkIELBm0UYG4SBAwOqASsnkBQhYk28hA3ASIGB1gqVscgIErPYtI2C1N6UiAggYCRCwGkFSJgsBAtYs2sggHAQIWB1QKZm8AAFr8i1kAE4CBKxOsJRNToCA1b5lBKz2plREAAEjAQJWI0jKZCFAwJpFGxmEgwABqwMqJZMXIGBNvoUMwEmAgNUJlrLJCRCw2reMgNXelIoIIGAkQMBqBEmZLAQIWLNoI4NwECBgdUClZPICBKzJt5ABOAkQsDrBUjY5AQJW+5YRsNqbUhEBBIwECFiNICmThQABaxZtZBAOAgSsDqiUTF6AgDX5FjIAJwECVidYyiYnQMBq3zICVntTKiKAgJEAAasRJGWyECBgzaKNDMJBgIDVAZWSyQsQsCbfQgbgJEDA6gRL2eQECFjtW0bAam9KRQQQMBIgYDWCpEwWAgSsWbSRQTgIELA6oFIyeQEC1uRbyACcBAhYnWApm5wAAat9ywhY7U2piAACRgIErEaQlMlCgIA1izYyCAcBAlYHVEomL0DAmnwLGYCTAAGrEyxlkxMgYLVvGQGrvSkVEUDASICA1QiSMlkIELBm0UYG4SBAwOqASsnkBQhYk28hA3ASIGB1gqVscgIErPYtI2C1N6UiAggYCRCwGkFSJgsBAtYs2sggHAQIWB1QKZm8AAFr8i1kAE4CBKxOsJRNToCA1b5lBKz2plREAAEjAQJWI0jKZCFAwJpFGxmEgwABqwMqJZMXIGBNvoUMwEmAgNUJlrLJCRCw2reMgNXelIoIIGAkQMBqBEmZLAQIWLNoI4NwECBgdUClZPICBKzJt5ABOAkQsDrBUjY5AQJW+5YRsNqbUhEBBIwECFiNICmThQABaxZtZBAOAgSsDqiUTF6AgDX5FjIAJwECVidYyiYnQMBq3zICVntTKiKAgJEAAasRJGWyECBgzaKNDMJBgIDVAZWSyQsQsCbfQgbgJEDA6gRL2eQECFjtW0bAam9KRQQQMBIgYDWCpEwWAgSsWbSRQTgIELA6oFIyeQEC1uRbyACcBAhYnWApm5wAAat9ywhY7U2piAACRgIErEaQlMlCgIA1izYyCAcBAlYHVEomL0DAmnwLGYCTAAGrEyxlkxMgYLVvGQGrvSkVEUDASICA1QiSMlkIELBm0UYG4SBAwOqASsnkBQhYk28hA3ASIGB1gqVscgIErPYtI2C1N6UiAggYCRCwGkFSJgsBAtYs2sggHAQIWB1QKZm8AAFr8i1kAE4CBKxOsJRNToCA1b5lBKz2plREAAEjAQJWI0jKZCFAwJpFGxmEgwABqwMqJZMXIGBNvoUMwEmAgNUJlrLJCRCw2reMgNXelIoIIGAkQMBqBEmZLAQIWLNoI4NwECBgdUClZPICBKzJt5ABOAkQsDrBUjY5AQJW+5YRsNqbUhEBBIwECFiNICmThQABaxZtZBAOAgSsDqiUTF6AgDX5FjIAJwECVidYyiYnQMBq3zICVntTKiKAgJEAAasRJGWyECBgzaKNDMJBgIDVAZWSyQsQsCbfQgbgJEDA6gRL2eQECFjtW0bAam9KRQQQMBL4+7f+Ifzf/9/fGlWjDAJpC5w6dirIP5nWXLtm8C/tEbH1CNgIvPToS8NC/8eWLcN5ZhDos8AvTp8OR06cGBDwnNHnRwJjLwsc+c9HwoU3Lgyu3vS/bwrLViwrL8JlBHohsPxty8M/+5/+WS/G2tUgCVi7kmY9CCCAAAIIIIAAAggggAACCCCAAAIIIJCdAAFrdi1lQAgggAACCCCAAAIIIIAAAggggAACCCDQlQABa1fSrAcBBBBAAAEEEEAAAQQQQAABBBBAAAEEshMgYM2upQwIAQQQQAABBBBAAAEEEEAAAQQQQAABBLoSIGDtSpr1IIAAAggggAACCCCAAAIIIIAAAggggEB2AgSs2bWUASGAAAIIIIAAAggggAACCCCAAAIIIIBAVwIErF1Jsx4EEEAAAQQQQAABBBBAAAEEEEAAAQQQyE6AgDW7ljIgBBBAAAEEEEAAAQQQQAABBBBAAAEEEOhKgIC1K2nWgwACCCCAAAIIIIAAAggggAACCCCAAALZCRCwZtdSBoQAAggggAACCCCAAAIIIIAAAggggAACXQkQsHYlzXoQQAABBBBAAAEEEEAAAQQQQAABBBBAIDsBAtbsWsqAEEAAAQQQQAABBBBAAAEEEEAAAQQQQKArAQLWrqRZDwIIIIAAAggggAACCCCAAAIIIIAAAghkJ0DAml1LGRACCCCAAAIIIIAAAggggAACCCCAAAIIdCVAwNqVNOtBAAEEEEAAAQQQQAABBBBAAAEEEEAAgewECFizaykDQgABBBBAAAEEEEAAAQQQQAABBBBAAIGuBAhYu5JmPQgggAACCCCAAAIIIIAAAggggAACCCCQnQABa3YtZUAIIIAAAggggAACCCCAAAIIIIAAAggg0JUAAWtX0qwHAQQQQAABBBBAAAEEEEAAAQQQQAABBLITIGDNrqUMCAEEEEAAAQQQQAABBBBAAAEEEEAAAQS6EiBg7Uqa9SCAAAIIIIAAAggggAACCCCAAAIIIIBAdgIErNm1lAEhgAACCCCAAAIIIIAAAggggAACCCCAQFcCBKxdSbMeBBBAAAEEEEAAAQQQQAABBBBAAAEEEMhOgIA1u5YyIAQQQAABBBBAAAEEEEAAAQQQQAABBBDoSoCAtStp1oMAAggggAACCCCAAAIIIIAAAggggAAC2QkQsGbXUgaEAAIIIIAAAggggAACCCCAAAIIIIAAAl0JELB2Jc16EEAAAQQQQAABBBBAAAEEEEAAAQQQQCA7AQLW7FrKgBBAAAEEEEAAAQQQQAABBBBAAAEEEECgKwEC1q6kWQ8CCCCAAAIIIIAAAggggAACCCCAAAIIZCdAwJpdSxkQAggggAACCCCAAAIIIIAAAggggAACCHQlQMDalTTrQQABBBBAAAEEEEAAAQQQQAABBBBAAIHsBAhYs2spA0IAAQQQQAABBBBAAAEEEEAAAQQQQACBrgQIWLuSZj0IIIAAAggggAACCCCAAAIIIIAAAgggkJ0AAWt2LWVACCCAAAIIIIAAAggggAACCCCAAAIIINCVAAFrV9KsBwEEEEAAAQQQQAABBBBAAAEEEEAAAQSyEyBgza6lDAgBBBBAAAEEEEAAAQQQQAABBBBAAAEEuhIgYO1KmvUggAACCCCAAAIIIIAAAggggAACCCCAQHYCBKzZtZQBIYAAAggggAACCCCAAAIIIIAAAggggEBXAgSsXUmzHgQQQAABBBBAAAEEEEAAAQQQQAABBBDIToCANbuWMiAEEEAAAQQQQAABBBBAAAEEEEAAAQQQ6EqAgLUradaDAAIIIIAAAggggAACCCCAAAIIIIAAAtkJELBm11IGhAACCCCAAAIIIIAAAggggAACCCCAAAJdCRCwdiXNehBAAAEEEEAAAQQQQAABBBBAAAEEEEAgOwEC1uxayoAQQAABBBBAAAEEEEAAAQQQQAABBBBAoCsBAtaupFkPAggggAACCCCAAAIIIIAAAggggAACCGQnQMCaXUsZEAIIIIAAAggggAACCCCAAAIIIIAAAgh0JUDA2pU060EAAQQQQAABBBBAAAEEEEAAAQQQQACB7AQIWLNrKQNCAAEEEEAAAQQQQAABBBBAAAEEEEAAga4ECFi7kmY9CCCAAAIIIIAAAggggAACCCCAAAIIIJCdAAFrdi1lQAgggAACCCCAAAIIIIAAAggggAACCCDQlQABa1fSrAcBBBBAAAEEEEAAAQQQQAABBBBAAAEEshMgYM2upQwIAQQQQAABBBBAAAEEEEAAAQQQQAABBLoSIGDtSpr1IIAAAggggAACCCCAAAIIIIAAAggggEB2AgSs2bWUASGAAAIIIIAAAggggAACCCCAAAIIIIBAVwIErF1Jsx4EEEAAAQQQQAABBBBAAAEEEEAAAQQQyE6AgDW7ljIgBBBAAAEEEEAAAQQQQAABBBBAAAEEEOhKgIC1K2nWgwACCCCAAAIIIIAAAggggAACCCCAAALZCRCwZtdSBoQAAggggAACCCCAAAIIIIAAAggggAACXQkQsHYlzXoQQAABBBBAAAEEEEAAAQQQQAABBBBAIDsBAtbsWsqAEEAAAQQQQAABBBBAAAEEEEAAAQQQQKArAQLWrqRZDwIIIIAAAggggAACCCCAAAIIIIAAAghkJ0DAml1LGRACCCCAAAIIIIAAAggggAACCCCAAAIIdCVAwNqVNOtBAAEEEEAAAQQQQAABBBBAAAEEEEAAgewECFizaykDQgABBBBAAAEEEEAAAQQQQAABBBBAAIGuBAhYu5JmPQgggAACCCCAAAIIIIAAAggggAACCCCQnQABa3YtZUAIIIAAAggggAACCCCAAAIIIIAAAggg0JUAAWtX0qwHAQQQQAABBBBAAAEEEEAAAQQQQAABBLITIGDNrqUMCIF8BP7+rX8I/+//+FU+A2IkCCxA4OzrZ8Ppn50eVFh91eqw6upVC6jGXRHIR+DogaPDwWy4bcNwnhkE+ixw7vS5cOrYqQHBlatXhytnZvrMwdgRGAocPn48vDk7O7i8/sPrw7IVy4a3MYNAnwSWh+Xhn/6jf9qnIbuPlYDVnZgVIIDAfAVm35oNr/zdn8337twPgawEDn71YHjp0YODMd30wJaw5cEtWY2PwSAwX4GPL/+j4V1fnP3T4TwzCPRZ4OgLr4Z9W/cNCO7fsiXcf/PNfeZg7AgMBdZ99rPhV+fPDy7vPrknrJxZObyNGQT6JPCO33lH+De/+6/7NGT3sRKwuhOzAgQQmK8AAet85bhfjgIErDl2lTFZCBCwWihSIzcBAtbcOsp4rAQIWK0kqZO6AAGrfQcJWO1NqYgAAkYCBKxGkJTJQoCANYs2MggHAQJWB1RKJi9AwJp8CxmAkwABqxMsZZMTIGC1bxkBq70pFRFAwEiAgNUIkjJZCBCwZtFGBuEgQMDqgErJ5AUIWJNvIQNwEiBgdYKlbHICBKz2LSNgtTelIgIIGAkQsBpBUiYLAQLWLNrIIBwECFgdUCmZvAABa/ItZABOAgSsTrCUTU6AgNW+ZQSs9qZURAABIwECViNIymQhQMCaRRsZhIMAAasDKiWTFyBgTb6FDMBJgIDVCZayyQkQsNq3jIDV3pSKCCBgJEDAagRJmSwECFizaCODcBAgYHVApWTyAgSsybeQATgJELA6wVI2OQECVvuWEbDam1IRAQSMBAhYjSApk4UAAWsWbWQQDgIErA6olExegIA1+RYyACcBAlYnWMomJ0DAat8yAlZ7UyoigICRAAGrESRlshAgYM2ijQzCQYCA1QGVkskLELAm30IG4CRAwOoES9nkBAhY7VtGwGpvSkUEEDASIGA1gqRMFgIErFm0kUE4CBCwOqBSMnkBAtbkW8gAnAQIWJ1gKZucAAGrfcsIWO1NqYgAAkYCBKxGkJTJQoCANYs2MggHAQJWB1RKJi9AwJp8CxmAkwABqxMsZZMTIGC1bxkBq70pFRFAwEiAgNUIkjJZCBCwZtFGBuEgQMDqgErJ5AUIWJNvIQNwEiBgdYKlbHICBKz2LSNgtTelIgIIGAkQsBpBUiYLAQLWLNrIIBwECFgdUCmZvAABa/ItZABOAgSsTrCUTU6AgNW+ZQSs9qZURAABIwECViNIymQhQMCaRRsZhIMAAasDKiWTFyBgTb6FDMBJgIDVCZayyQkQsNq3jIDV3pSKCCBgJEDAagRJmSwECFizaCODcBAgYHVApWTyAgSsybeQATgJELA6wVI2OQECVvuWEbDam1IRAQSMBAhYjSApk4UAAWsWbWQQDgIErA6olExegIA1+RYyACcBAlYnWMomJ0DAat8yAlZ7UyoigICRAAGrESRlshAgYM2ijQzCQYCA1QGVkskLELAm30IG4CRAwOoES9nkBAhY7VtGwGpvSkUEEDASIGA1gqRMFgIErFm0kUE4CBCwOqBSMnkBAtbkW8gAnAQIWJ1gKZucAAGrfcsIWO1NqYgAAkYCBKxGkJTJQoCANYs2MggHAQJWB1RKJi9AwJp8CxmAkwABqxMsZZMTIGC1bxkBq70pFRFAwEiAgNUIkjJZCBCwZtFGBuEgQMDqgErJ5AUIWJNvIQNwEiBgdYKlbHICBKz2LSNgtTelIgIIGAkQsBpBUiYLAQLWLNrIIBwECFgdUCmZvAABa/ItZABOAgSsTrCUTU6AgNW+ZQSs9qZURAABIwECViNIymQhQMCaRRsZhIMAAasDKiWTFyBgTb6FDMBJgIDVCZayyQkQsNq3jIDV3pSKCCBgJEDAagRJmSwECFizaCODcBAgYHVApWTyAgSsybeQATgJELA6wVI2OQECVvuWEbDam1IRAQSMBAhYjSApk4UAAWsWbWQQDgIErA6olExegIA1+RYyACcBAlYnWMomJ0DAat8yAlZ7UyoigICRAAGrESRlshAgYM2ijQzCQYCA1QGVkskLELAm30IG4CRAwOoES9nkBAhY7VtGwGpvSkUEEDASIGA1gqRMFgIErFm0kUE4CBCwOqBSMnkBAtbkW8gAnAQIWJ1gKZucAAGrfcsIWO1NqYgAAkYCBKxGkJTJQoCANYs2MggHAQJWB1RKJi9AwJp8CxmAkwABqxMsZZMTIGC1bxkBq70pFRFAwEiAgNUIkjJZCBCwZtFGBuEgQMDqgErJ5AUIWJNvIQNwEiBgdYKlbHICBKz2LSNgtTelIgIIGAkQsBpBUiYLAQLWLNrIIBwECFgdUCmZvAABa/ItZABOAgSsTrCUTU6AgNW+ZQSs9qZURAABIwECViNIymQhQMCaRRsZhIMAAasDKiWTFyBgTb6FDMBJgIDVCZayyQkQsNq3jIDV3pSKCCBgJEDAagRJmSwECFizaCODcBAgYHVApWTyAgSsybeQATgJELA6wVI2OQECVvuWEbDam1IRAQSMBAhYjSApk4UAAWsWbWQQDgIErA6olExegIA1+RYyACcBAlYnWMomJ0DAat8yAlZ7UyoigICRAAGrESRlshAgYM2ijQzCQYCA1QGVkskLELAm30IG4CRAwOoES9nkBAhY7VtGwGpvSkUEEDASIGA1gqRMFgIErFm0kUE4CBCwOqBSMnkBAtbkW8gAnAQIWJ1gKZucAAGrfcsIWO1NqYgAAkYCBKxGkJTJQoCANYs2MggHAQJWB1RKJi9AwJp8CxmAkwABqxMsZZMTIGC1bxkBq70pFRFAwEiAgNUIkjJZCBCwZtFGBuEgQMDqgErJ5AUIWJNvIQNwEiBgdYKlbHICBKz2LSNgtTelIgIIGAkQsBpBUiYLAQLWLNrIIBwECFgdUCmZvAABa/ItZABOAgSsTrCUTU6AgNW+ZQSs9qZURAABIwECViNIymQhQMCaRRsZhIMAAasDKiWTFyBgTb6FDMBJgIDVCZayyQkQsNq3jIDV3pSKCCBgJEDAagRJmSwECFizaCODcBAgYHVApWTyAgSsybeQATgJELA6wVI2OQECVvuWEbDam1IRAQSMBAhYjSApk4UAAWsWbWQQDgIErA6olExegIA1+RYyACcBAlYnWMomJ0DAat8yAlZ7UyoigICRAAGrESRlshAgYM2ijQzCQYCA1QGVkskLELAm30IG4CRAwOoES9nkBAhY7VvWi4B1z5494Y033hjobdy4MVx33XX2kj2ouHv37iCWK1asCIcOHQqrV6/uwajHh3j69Omwf//+4Q08poYU5jN9DFglRLOaVl81E9Z9eL1VuXnVOXf2XNh3195w4c0LYcOtG8KmuzfPqw53CqFvAeuZn58Ox//shFnrN31mU1h+2XKzevMpdORrh8Ph/3wkrFx1edj67Lbi58r5lOE+JYG+BaxHvn4kzL4xW1KY38WVM5cXv5s3zu/ORveKzxPnzp4PGz5+bdjy4M1GlftdhoA1hH2HD4ffztrsK1fOzITN731vvx9UmYyegHWukTyXZPKAXsAwCFgXgFdz114ErFdccUWQUEymL33pS+Hhhx8ezPNfewEJqN/+9rcP73DnnXeGb3/728PLfZr5xCc+EZ577rnhkHlMDSnMZ/oYsOqgYKGgGz6+YRDiLLTOQu7/1C1PhhM/mAvJll22LOw+tWfRQ66FjGcx79u3gFWHAxbuu0/uCStnFi/QnH1zNtz1zk8Nh7Lp7k3htsdvH15mZv4C+vfmi7N/Ov9Cidxzx9rt4fyZ8yZbu+baNWHnkYdMas23yIHPPx/kjX6cFntfjduR+k/9O/T+LVvC/Tf3L7jWQdpC+/nRDRvCM5/+9ELLcP8lIKAfF33+fcNzyRJ4MC7yJhCw2jeAgFWZfvnLXx4GsXfccUcvjnSVoPDVV18dKMiRmBKcVk0SsEpQHY8E7mvAKl4SsOqJgFVr2M4TsC7McykErHL06tEXjw4H0ofwYzhY4xkC1oWBLvabKALWhfVv0r0JWCfpTL5tKQasz/76m/whbnLbWt1KwBqCDtJaoU1YaKkHrD8+eTJ89+J7uncVnzLcuplPDNW1Uz8uFvu1Qd02dnF97gErzyXNjyIC1majaZcgYFViH/jAB8KPfvSjwTVydGZd2KjukvysPhqzKTR9+eWXh6cIePrpp3t3igAJl6+55pphCB+bT8AaJex/9jFgPXfm3ETIXZsfGR65JEfATfrI/bIVyxb9Tap89PPA/c8PxrSx+BjqYp+yYCLuEr+xbwGrBJIX3rhQ25VTx06GfVv3DW+XN0mTpsU8ejVu19EXjgYJPeTUADft3MIpAiLMAn/2LWBtep54+qNPhTM/OzNQXfehdY1HSi/2viH7+oHPHyie284F2d7Nn7l+gY8I7i4CBKwh/Orc5NdUdzz5ZPjFmbl95a5Nm8LW6+sfe7+3bFm4bPninmZm0iP7O0W4un3v3sEi71uzJrz8xS9OWrzXtxGwzrWf55Je7waDwROw2j8GCFiVKQFrfz/2rx4GtbP33ntvkPPQlicC1rKI3eU+BqxNevqvzTc9sKU4V92WprtweyYCfQtYm9omAeuuTbuGi3F09JCidzN9C1ibGrxr0yPh1LFTg8WWwicZmraX230ECFibXW/4ylfCa6fm9pXUT6NAwNrc77gEAWuUmPyT55LJPjncSsBq30UCVmVKwErAqh4OI7NyDl85RYJM8uVe8i8e7UzAOkJleoGAdZyTgHXcpC/XELCOdpqAddSjz5cIWEe7z5viUY++XiJgbe48AWuzUY5LELC26yrPJe2cUl6KgNW+e70OWOUj3/GcokIrH5ePoZl8BP6GG24YikugNmmSOj/96U+HHx9fsWJFeM973jMI4pruF7dB7iP/ZJJAL26L1JF/VVPVemVb65aPtWMtOSpTPvovk4xXxh2n8phlm+KktzVeV/WzavvauEgtuW+0kct6e7SPbIvcNmnMcv+FTPqL0n74wx8GOV9v7A8B60JkJ9+XgHXcZz4B64Xi45ezFz9qvbw4bcCyi9+kLh8Nikc5zVy1KsxctXp8hcU1cn/5uOm5i1+qIjUuLz7iPHPVTOXy+sq6detl9EeU9EdV5b7Hv3/pW+QvL77teu21a/VdezVPwDra7vkGrFWPN/0Yl8f3vyi++Gf5xf1kdK2h2A8u7TdymzwuVxf7Qtyvysvry3rdel+My0zaX2QfjB/7lvuuKtYppxpgCoGAdfRRMJ83xXWPPf17uIvnCRmJfh6II9P7jr5dtk+ex+JzXN+fJ6KX/CRg1RrV81YB65uzs+Hw8ePDlfz+ypXh/Wunf70ipzT4eXHKgt8W9WSSOvJvVfGvatKnQPjzYv0PPT93SqYrZ2bC/s99bngXqcF0SYCA9ZLFpDmeS6bfhyd5LsXbCFjtu9LrgFUCMjlqtWmS8O6Xv/xl5WISAO7Zs2fw0XEdBsaFr7vuuiDnc5UaVZMEdRLQySTnQJWA88YbbxyGd/F6qaEnCRglEJZQt2q9sr6HH354UFPfT+bf9ra3la+qvCxj1tutQ8amc9TK9omLfClU1fZJGLpjx47K7Ysbo/sj2yHbI+OVUFhuK0+yjGyXmFtO0h/pk0zSI1mHPtqZgNVSe7QWAeuoh1yaT8Cqgzk5v922Z7eFp255ahiuSt2qj5HK+VPlS6ok1Lnw5vi5MC9fdfngFAUbinOr1k163VVfpiLn3Nuxdsfw7vIx77jeGP4Obyxm2qxTL5/TvLbk9BChePzO7xQBeh968PDO4jkxDPYH/RiX69duGH1hLedPPfL1w8OQs/zYuvbWDYP9YVLoqdd9176tQc5LrKeqHh/52uFw8NGDlftgm3Xq+rnOE7COdnY+b4p1GLeq+IPbQ0ceCvJ4PPL1I8PiVb/D5fe1PEZl/9D7ULxTm9/Zet0SkO45+Uy8+/Cn7vHgfMvFfivPTzxPDInGZrRr6h9/Hxuc0RULDVh/Ubzf2XngQHit+IKp8iShpnwx1v0331y+aeyyfEHVEwcPVtaRheWcqs98+tNjQasOCseKqisOPfTQvAJfVSKrWe3W5y+5amoqzyXN73OaDJf67QSs9h0iYF1AwCohogRt8rNpqgskdcAqwaDUKteLoV5ch5wHVELGNlNV+OcdsEoIKi5VwWp5m++5556Ro2b17eWAVQJjCZWbJjnCVCwtJumFPjWA1JYgl4DVQre5BgHruJEOaNqGbDq0kTfIciTQ+bPnR4qXA1Z5w3zg3x0YWabuwk0P3FQES9VvIMrr3lm8addTOWB99K8eHZxXs+qNur7ffd+5r3dfmKUt2/Zem+U2bxGwyhfF6QApGumAVY6QK/9BIi5X/rnssmVh51/sDDPvXl2+aXBZ779NAavsk6EIkSS4mjRJgPXoXz9We8TtpPvmcpsO3zgXbyh+h05/DlYdxknIOfPumXDiB5c+QSCPlXLAKveRL6dq+n0t97321mvDtn2fltmxqbzupoB155GdYW8Rrpafx8qFb3v8tolfBFlePrfL2pWAtbq7CwlY9x0+PDxitLr63LVXFu8bDu3cWfsFWRKsPvG9700qMbztmW3bwkc3XvrDnA4KhwtVzBCwjqJoNwLWURt9qavnkhM/OD74nc5zidbvZp6A1d651wGrBICvvPLKUFXCyBhuSqgZQ7rLLrts5HQBcgdZToer8jF1CQuvvvrqwcf8X3/99cFRrbGe3C7hXPlj7DpgHW5IMSPLx2Xlo/tytKdMckSoDhllG2VbZb0yHlmf1IzrlfuUw939+/fL1YNJ6sWjQWOteNtHPvKR4SkL5Lo2R7DKeq+55pphuFp2kdvlyFYJYeNUF7LqgFXqxMBWtlNM5DqZZDkZR5zE7Sc/+Um8uKCfdWMmYF0Qa+s7E7COU+mApm3IpoM5XVHCoPgx/3UfWl98c/Pmwc3yQkcCpTjJm2o5SlU+kvx3b8wWR5ieL45s+t7Im9utxdF4VUey6nWX35xL/XLAKtskL7BkWdmm5SvmvrH3ZHG04rEXLgVNstzuU3t6FSppy7a9jz3M8adFwKpdVr171fDxduvjtw8+9i+3P3XLkyNBkxw1ur54bMq+I4/fvyn2F3lsxjcGkwJPvf82BaxxX5BtkHXG02PMFvugHEmrw6VJf+SQ++c+EbCOdnihb4p1Nf08IY/524p9QyY5cvWeNZc+fSCP+013bw5rLh75LfvG8Yv7RqxX9zjVQWCbI1jjviHrlOedeMoAniei9NxP7UrAOmoTL803YC2Hq+8rTgcgR6vGj+J/99VXw3eOXnrNIkegvvzFL8bVDn/qL6aSK8t15AjZZ48cCfpUADosldMSyOkJZJKjaOM631WcImDr5rnXdHKb1K07zYDc3reJgLVdx3kumXPK+T0HAWu7fWGapXodsJahdGhWDiXLy0rIGUM9OaIxHtmol5NAUGrGMFGCQVlOT+WAVULDQ4cOBVm2atKBX/nIVr28HkvVeuOyehyT6snyet11PnqZOhepJWG2jD1O4lIesw5Y43JVR+TKbW3qxRptf+qaZRvtW7dNbdfDcvUCBKzjNjqgaRuy6WBOKsoLBTkCNL4RLq9lx5rtw/BmQxHsbN23rbzI4LJ+4SVvvB/9q8fGltPrbhOwSoG6N+ESYu3dune4Dn2U4fDKjGe0ZdveZ8xhcooA8ZHH5dbitBlVH+2Xo0f3qcfczuLUAVX7zZmfnw67PrhrGLLWHTmn99+mgFW2TQKk+777ueEfQuS6OOn9T/bpb/76W/Gm3v0kYB1tuX5slD+dMLrkpUs6jIvX3vofby3+8HZ9vDjyU69D9qF7v3tf5R+8Dnz++eFR4nWPU73uNgGrbMgHi6PPtzy4ZWydsi8+8AcPDLe1bl8cLpDxjHYlYK1u9HwC1rPFeVLXb98+LFhne/hv/ibc8dSlP1brYDTeWa//liKg/U/FaQDKk6zvxkceGYasbcLaumXKtft6mYC1Xef17/kunkvk9DTySbeqc+DzXNKuZ9MuRcA6rVjz8gSsykiHZnUBoiwuR2FKkBin8rlK4/Xys2nZcsBaFTTGeuXAcdJ6y8v+5je/GR7xGevJT8uAVQJnfXTtpO2Tdcu5ZuMXbFUddVoeQ1OQ+fa3v314lKucRiEe9SvrmnaSvsUjcauCYv1YadquadfN8pcECFgvWcQ5HdC0Ddl0MCd16kIiue3Mz4o3p//q0ptTOUq0KniSZU8dLc6BuXmXzA6mZ3/9zbEXRXrdbQJWOVJvW02gKyvRL/bk493xaKq5Lcj7f23Ztvc5i1gcwSoB5p5T4+d7jG76Bb2cv1jCzrpJzgd59MW5I5bq3ojo/bdNwDrN/tfnjzkSsI4+KvXvybrH4ug9Rr8QSW6bFK7OFqfNuOudnxqW+Oprj4XVV88ML+uZNsvqILBNwNq0L85n/Hqbc5nXrnUhYC5jne84dMDZ1mj7N74xPFK0LhSN2/N48fH/P7748f+q0PMdH/tYXDRUBbDxRvkCqzuffHJw8feWLQv/7U/+JN40/KmPhq1a13BBZgIBa7sHwXx+l+rfO7IWnkvaWS/WUgSs9vIErMpUh2aTAlYdSspH1eWI00mTrlsO/nTAKkdwlo9wLdc9U3yzZJxmio9/TJr0uVblI/PxlAP6Pnos5aM09XIyr49OrfLR42yqJfXK4XM5XC4HrG+99ZbcrXbSgW3daQdq71y6QY+laawErCU8w4sErOOYOqBpG7LpYK4q5Cyvpe7bmsvLyWUdbFS9yW5ad/kUAVU19HrbhFh6+ZzmtWXb3uc0/vJYLALWqpBTr0fCoQtvzH3B27IVy8b+gKCXlXO5SiArU91+pvffqnXrHjeFSLKepv1PlunDpB04B+voH6LmE7DWHWmqH0vTPE80Pe71G/I2AWvTpxf0flS3L+qx5DqvXduGh7la1I1r2oBVPo7/zz/5yWG5SaGoLCQf7V938WhXCUZPPPPMyLlY2wasst5ni3O+xumu4uP/ly2fO4VSvI6ANUo0/yRgbTaSJRYasPJc0s55MZciYLXXJ2BVpk2hWlxUjmyMH/uvCt/icvGnDlHLwaO+rU3AGmu2+akD1nJ4Ge9vFbDK6RDkCNI41a0v3h5/avNy+DxtwDrNWOL6q37qI3GrjqyV++jtJmCtUrS5joB13FG/UW0bsnm+2dTBRtWb3qZ1lwPWpqPwdL22wcG4YprX6LG37X2aI2231V0ErO22ZG4pHWbUhTp6/20KWNs8vpv2v2m2P+VltQMB68LfFNeFnPN9jDQ97vW+U7du3eOq5xq9bbpe3b6ol891XjsQsFZ3edqA9cfFeU7l4/oy1R1JWl7T//Zv/2347YW5P9T95WOPBfnSqzj94Re+EH5x8eAZuf65++6b97lSCVijavNPAtZmI1lioQFr3e/zdmsfX4rnknGThV5DwLpQwfH7E7AqEx2aTQpOdXAZv9hKlRmbfbU40Xk8X2s5RF1IwCqhpoSQ8oVacjRoeYrrlOvrAs9pQslJR7CWw9C6UxKUt/Hee+8dfBmYXF8On8s1m45gnWYs5e2Il8VRHgfRs+40B/qxQsAa9ex/ErCOm+oXF21DNh3MTftmU75B/dSxU+H062cGX2pS3iL9xVNVb3qb1k3AWhatv6wt2/a+vlr6tyxGwCpH7ck3q58789/DbPFlbHqS2/622FdkqtvP9P5LwKr1FjavwzcC1u7fFMvzxJmfnSn+nQ2ni9PMlKcT3z8+PD9x1eNeB4F1b8h1j6uea/Q6db26fVEvn+u8diBgre7ytAHrE8XH/Z8oPvYvk3yhlbg2TTuff34YsO4vAtTN733v8C46FI1XymkHZJkri08qTvPFVLoWpwiImtU/CVirXcrXdh2w8lxS7oD/ZQJWe2MCVmWqQ7O6gFWCN33+VXX3VrMWAasEq3v27BkEkzLfZvIOWOVcqvIRfZnki7okYG0zTQqYFyNg1SHtpOBUP1YmLdfGgGXqBQhYx210QNM2ZNPBXNs3m/Ii5/DXjgy+rTx+O/r41oxeU/Wmt2ndBKyjhpMuacu2vZ9UL/XbugxYZV3iL39saDPV7Wd6/60KmnSPOYK1jfTcMjp8I2DtLmCdz/NE1eNeB4EErO0f901LalcC1mqtaQPWh/bvD/uOHKku1uLaZ7ZtCx/duHFkSQlsJbitmiTElbB0a3FKAH3ka9WyBKxVKtXXEbBWu5Sv7Spg5bmkLN/dZQJWe2sCVmWqQ7OlGrCWj7CUzZdAU4Jb+amnLo9glXVJOCmTfCmUHPnZZlpKAes0Y9CPFQLWNp2e3zIErONuOqBpG7Lp0KYu+NFrOnf2XPGN6I+E82fPD6+W8yjJfcvf7Bm/1EcWJGAdcrnM6D627b3LhiyRol0FrC8VwerBR+eOWIpDX/XuVWH1VavjxcFP2W9iAFu3n+n9typo0j0mYB3hnXiBgHWUp4s3xXXPE/LFceV94/gPOIJ1tEPdXCJgbXaeNmDVX3DVXH18iaqAVZY6W5yrVb4M68enTg3O2zp+zzAIWp/59Kdrj2olYK1Sq76OgLXapXwtzyWvhn1b9w1Y6l7Xlc1Su0zAat8xAlZlqkOztgGrhHJNXzalVjEIQfWXTU0KGPX94rz+mL4EmbKdEq5WTfpUBhzBWiV06bpycC09KgfWl5YOg3PwxqOHpQ/yL05izWQjQMA67qgDmrYhmw5t2rxA2LFm+zBclTfL2/ZtC2s2rB3fmOIaHWwQsFYSmV2p+9i292YrX4KFughYj75wtHhxvXc4+g/evSlseXDL2B8aZAEdZtTtZ3r/JWAdsi54Rv8e4gjWbo5gfeqWp4rTZRwf9K7peaLpca/3HY5gXfDuMCygXTmCdcgyMjNtwKqPYH3f2rWtThGgVygf+y9/OZW+XeblPK+/KD4x+VrxUwLXeP5WuU3O+ypfrPVu9b5DrpeJgHXOoc3/BKxtlHgu0b9D617XtZNcuksRsNr3hoBVmbYJWCVU01/m9JOf/CTowFSVazU7TcCqP4YvgZ4EeTrYK6+wy4BVvvRLvvwrTm3PwSqnFZBxybSY52Atn44gjmM+P5vOFTufmn29DwHreOf1G9W2IZsO5ppeIMi58p766FODFcub5p1/8VBYuWrl+IZcvEYHGwSstUwmN+g+tu29yYqXaJEuAlZ99Ma1t24Y/LGhjqPNC3G9/xKw1klOf73+PUTA6v+m+ExxntUH/tUDw0btPrVn4vNE0+Ne7zsErEPWBc9oVwLWas5pA1Z9DtauznMqwak+j2vdeglYq3tcdS0Ba5XK+HX6NVCbT9VIBf17p+73eVwTzyVRYvF+ErDa2xOwKtM2Aassro8iLX/zvSrXanaagFV/IdQNN9wQDh06NHEdXQassiESPMejOuuOmC1vsLYsHzVcDj2bgkt9/tRyWFteb/myBMTxHLLl26ouxy/BktvkSFd9tGvb0yNU1eW6UQEC1lEPuaTfqLYN2XQw1xSwHvj888V5V+fOL7buQ+vCfd/93PhGqGt0sEHAqmAcZnUf2/beYTOWTMkuAtamx7fG0G8q6vYzvf8SsGq9hc3rPhGw+ges8hwhzxUy1T3WdUebHvd636l7Q657XPVco9en67XZPn3fnOa1AwFrdWenDVj//PjxcOeTTw6KydGkJ555pvGI1Oo1T3etHNV64yOPDO8k65Xzs+qJgFVrTJ4nYJ3sE2/1Dlh5LonSi/eTgNXenoBVmbYNWHXQKUevylGs852mCVinCRDLX8ZVF3hOU3NSGCrj135y2oKmj8qXA1QJJvURueXbPQPWafunx8o5WKfVa788Aeu4lX6j2jZk08Fc05vNfXftDfG8qk1/rZZz8N2zZsdwI6ve9Datmy+5GvI1zmjLtr1vLJrwAl0HrLtPFkfpzYy+odV8uj91+5nefwlYtd7C5nX4RsDqH7C2eazrjn7qnZ8M8csSqx73OggkYNVyC5vXrgSs1ZbTBqxvzs6Gddu3Dz+2X3dO1eq1jV6rz+d616ZNYdcdd4wuULr0jo99bHiNnCbg/cUpCvREwKo1Js8TsE72ibd6B6w8l0TpxftJwGpvT8CqTHVoNunI1HLw1xSwxfN73nPPPWHHjkthhKx6moBVB7tyxKR8DL9u0h+9l2W6CFjLLnKErRxpWzXJka5ySoF4JGjVEaflegSsVZJ5X0fAOt5fHdC0DdmmeQGjj2CVL7b65q+/Nb4RF6956pYni3PwnRjeTsA6pHCZ0X1s23uXDVkiRbsIWHUwdNMDNxXnX725cvTyMbddm3YNQyQC1komtysJWEdpvd8U66OO5HlCThFQ/gLEuEXlL4kjYI0y/j8JWJuNpw1YpaIORuUo1r/8D/+h9ounZPl9hw+HZ4t/EoquUkedyvUPPT93JHjT0bDyJVjri2A3Tn/52GPhytJ5WHXAKud6le1iqhYgYK12KV/LcwlfclV+THC5WYCAVRnpULLpCEwddkqJupBVQkI5SjQGieWgc5qAtRw4Sij58MMPjx31KdsmH3nXU3m98Ta9fglt5ShS/XH3uJz8bDqCVZbRhlLn6aefDrKdehILWU5vY/noVVm+PF4CVq3Yj3kC1vE+ewesp46eDLs27xqueN2H14XbHr995Px6Emwd+PyBcOZnZ4bLyQwB6wiH+QUC1lHSLgJW/eZCgqTbHr8tbLh143BDLrw5Gw5/7UhxWo3Dw3BVbqw7Ck/vv1VBk+5x0xHksh4dLFbtf7JMHybtwBGs/kewls+bt+rdq8J9//VzY88T8ng+dezUyEOw6nGvg8C6fUf3uOmxruvV/bFjZKMyvaAdOIK1usnzCVgl7PzDL3xheBSrfFRfjmQtH1EqR7s+cfDgIFyVtUsgKsFonMpHw8rtz91330gIK8vKcjcUpwf4v87MveaS9cmxLyh2AABAAElEQVQpAsqTPn2B3Ha8WEYHuuXl+3yZgLVd9/VroDavSaSq/r1T9/s8rr38KTaeS6JMdz85gtXemoBVme7ZsyfIUaZxko+ryykAJBAsnwZAjsCUI151SBiXj/eR+0lIGKeq0wnogLMp1JU6+ijbWFfuJ5OsT/5VTeXzm8ZlyiFmHIPUkfvINsepTcBaPjJV7is1ZRslcBUv+RfP1Sq3t902AlbR6tdEwDrebx3QtD2KUYc2bd5s6hdUcQvkfjKdO3s+yAuiqqnqjXPTussvrqb5GHbbF3tV25riddqybe9THGfbbe4iYD3z8+LLfP7g0pf5yLbJl7/JqQLkI8/nin0hfvRZb3fd0d96/23aX9o8vqcJnfT25TavHQhY/QNWefzoTzvEx1Ob5wn5I8WmuzfHuwx+tnlDrntMwDrCV3tBuxKwVjPNJ2CVSuVzosp17yqOGo0h62+LUFQCz99euCA3Dab9RXi6+b3vjRcHP/VRrPEG+RKreHTqL4pQ9RfFe7KmOnLfcmArQawcySrTLRs3huvXrx/M818IBKztHgX6/UCb1yRSVf/eaQpYZXmeS0Rh8SYCVnt7AlZlWhUOxpurwj1ZXgJSOZ1A0ySnBpCjXMtHh04bsErwWT76s7xuWYd8PF8fOSvBsRxNWjVVhbayXPmo1zYBq9xPtlHG9dxzz8nF2km2U8LVutMIlMPfqh7o4tOcT1bfbz7z2qzu6OX51OU+owIErKMeckkHNG1DNh3MtQlYZ4uj8nZ98JFw9udnxzfg4jUSIN33nfvC3m17i8D1/ODaTXdvGhztqu/UtG4CVq01eV5btu395Ipp39pFwCpCx144Gp4vvtCnKkiNgrJfbS5Co6c++lS8KlT9sUDvvwSsQ6oFz+jwjYC1m4BVnif2bd0bTnz/0mliyo2U5wk5tYYcxRpPJ1P1Jr3NG3LdYwLWsnT1Ze1KwFptNN+AVar9vHi/c+dTT4VfFUe0Tprk4//7P/e5YfhaXlY+2i9Huraps+v228NHi7C0bqoKbGXZhZwrtm5dKV9PwNque10ErPN9Lqn6Il79O68u3OW5ZLT3BKyjHhaXehGwSoD35ptvDrzuKE4gXv7IuoasCgflCMxJ3wwf7yOBoMzHKR65KeuUIzirJgkh9+/fP7jp6quvbhXWysLxfvoIWVmfjE3CXAkvJfh95ZVXBrXlNgkzqyYJiuW0Ai+//PLwyFJZXkJafQSrdpRTE9SNKa5D6snYZBv1EatyP/kXtzMuX/4pR7rKdsVJAt9JkwSdrxYvUmSSbS2f73bSfae9TZ+GoekxNW1tlr8kQMB6ySLOyXlPY9AjH1XecOuGeFPtz6MvHB38RVkWmLlqZiwErbtjvJ/+iOflq1YO1rnpM5sG59yTj0Yf//7xQYmVxW1bn902Ui7WkCur1i0B697iTXqc7v3ufbXn8pNldL11H1ofNn9m9EioWCfHnwSso12VjynLqSritPPIQ3F24k+9D9304Jaw9trRLwqpurN8oZv4yyk0zhdHccsk4ZE8prc8sCWs2bA2yJuEp2+5FLBK4Lruw6NHDDWte9rHt7z5idOtxak8Vhfb08dJv2EiYJ07IiiewqXt78kTxe/xw8Xvc5mqfpfXPa7iY7b8PLG+OL3MpuL3s9TSzxODP85993Mj5dqse5rHuq5X9bwzsvKML+iwgYC1utE7i3OgyhGiMklwOSm8HCxU8Z8EpPJPjjaNR5pKqCpHob6/OBr1rs2bw2XLl1fc89JVctqB106eHNR57dSl02pMW0cqSlgr2xMD26aA99JW9GeOgLVdr+XoUp5L5p4Xc30uIWBtty9Ms1QvAtZpQPSyZ4onypmLH63Q1zfNz/d+TXXrbpfwsnxkbN2yTddb1iqvy7N2eV1czkOAgHXp9FHCo7ovMVk6W5n3lhCwLp3+sj8snV7IlhCwLo1+yH4hE88VS6MfBKzd90E+pi9TU6DatGUWdSxqNG1nqrcTsC7tzvFc0l1/CFjtrQlY7U2piAACRgIErEaQlMlCgIA1izYyCAcBAlYHVEomL0DAmnwLGYCTAAGrEyxlkxMgYLVvGQGrvSkVEUDASICA1QiSMlkIELBm0UYG4SBAwOqASsnkBQhYk28hA3ASIGB1gqVscgIErPYtI2C1N6UiAggYCRCwGkFSJgsBAtYs2sggHAQIWB1QKZm8AAFr8i1kAE4CBKxOsJRNToCA1b5lBKz2plREAAEjAQJWI0jKZCFAwJpFGxmEgwABqwMqJZMXIGBNvoUMwEmAgNUJlrLJCRCw2reMgNXelIoIIGAkQMBqBEmZLAQIWLNoI4NwECBgdUClZPICBKzJt5ABOAkQsDrBUjY5AQJW+5YRsNqbUhEBBIwECFiNICmThQABaxZtZBAOAgSsDqiUTF6AgDX5FjIAJwECVidYyiYnQMBq3zICVntTKiKAgJEAAasRJGWyECBgzaKNDMJBgIDVAZWSyQsQsCbfQgbgJEDA6gRL2eQECFjtW0bAam9KRQQQMBIgYDWCpEwWAgSsWbSRQTgIELA6oFIyeQEC1uRbyACcBAhYnWApm5wAAat9ywhY7U2piAACRgIErEaQlMlCgIA1izYyCAcBAlYHVEomL0DAmnwLGYCTAAGrEyxlkxMgYLVvGQGrvSkVEUDASICA1QiSMlkIELBm0UYG4SBAwOqASsnkBQhYk28hA3ASIGB1gqVscgIErPYtI2C1N6UiAggYCRCwGkFSJgsBAtYs2sggHAQIWB1QKZm8AAFr8i1kAE4CBKxOsJRNToCA1b5lBKz2plREAAEjAQJWI0jKZCFAwJpFGxmEgwABqwMqJZMXIGBNvoUMwEmAgNUJlrLJCRCw2reMgNXelIoIIGAkQMBqBEmZLAQIWLNoI4NwECBgdUClZPICBKzJt5ABOAkQsDrBUjY5AQJW+5YRsNqbUhEBBIwECFiNICmThQABaxZtZBAOAgSsDqiUTF6AgDX5FjIAJwECVidYyiYnQMBq3zICVntTKiKAgJEAAasRJGWyECBgzaKNDMJBgIDVAZWSyQsQsCbfQgbgJEDA6gRL2eQECFjtW0bAam9KRQQQMBIgYDWCpEwWAgSsWbSRQTgIELA6oFIyeQEC1uRbyACcBAhYnWApm5wAAat9ywhY7U2piAACRgIErEaQlMlCgIA1izYyCAcBAlYHVEomL0DAmnwLGYCTAAGrEyxlkxMgYLVvGQGrvSkVEUDASICA1QiSMlkIELBm0UYG4SBAwOqASsnkBQhYk28hA3ASIGB1gqVscgIErPYtI2C1N6UiAggYCRCwGkFSJgsBAtYs2sggHAQIWB1QKZm8AAFr8i1kAE4CBKxOsJRNToCA1b5lBKz2plREAAEjAQJWI0jKZCFAwJpFGxmEgwABqwMqJZMXIGBNvoUMwEmAgNUJlrLJCRCw2reMgNXelIoIIGAkQMBqBEmZLAQIWLNoI4NwECBgdUClZPICBKzJt5ABOAkQsDrBUjY5AQJW+5YRsNqbUhEBBIwECFiNICmThQABaxZtZBAOAgSsDqiUTF6AgDX5FjIAJwECVidYyiYnQMBq3zICVntTKiKAgJEAAasRJGWyECBgzaKNDMJBgIDVAZWSyQsQsCbfQgbgJEDA6gRL2eQECFjtW0bAam9KRQQQMBIgYDWCpEwWAgSsWbSRQTgIELA6oFIyeQEC1uRbyACcBAhYnWApm5wAAat9ywhY7U2piAACRgIErEaQlMlCgIA1izYyCAcBAlYHVEomL0DAmnwLGYCTAAGrEyxlkxMgYLVvGQGrvSkVEUDASICA1QiSMlkIELBm0UYG4SBAwOqASsnkBQhYk28hA3ASIGB1gqVscgIErPYtI2C1N6UiAggYCRCwGkFSJgsBAtYs2sggHAQIWB1QKZm8AAFr8i1kAE4CBKxOsJRNToCA1b5lBKz2plREAAEjAQJWI0jKZCFAwJpFGxmEgwABqwMqJZMXIGBNvoUMwEmAgNUJlrLJCRCw2reMgNXelIoIIGAkQMBqBEmZLAQIWLNoI4NwECBgdUClZPICBKzJt5ABOAkQsDrBUjY5AQJW+5YRsNqbUhEBBIwECFiNICmThQABaxZtZBAOAgSsDqiUTF6AgDX5FjIAJwECVidYyiYnQMBq3zICVntTKiKAgJEAAasRJGWyECBgzaKNDMJBgIDVAZWSyQsQsCbfQgbgJEDA6gRL2eQECFjtW0bAam9KRQQQMBIgYDWCpEwWAgSsWbSRQTgIELA6oFIyeQEC1uRbyACcBAhYnWApm5wAAat9ywhY7U2piAACRgIErEaQlMlCgIA1izYyCAcBAlYHVEomL0DAmnwLGYCTAAGrEyxlkxMgYLVvGQGrvSkVEUDASICA1QiSMlkIELBm0UYG4SBAwOqASsnkBQhYk28hA3ASIGB1gqVscgIErPYtI2C1N6UiAggYCRCwGkFSJgsBAtYs2sggHAQIWB1QKZm8AAFr8i1kAE4CBKxOsJRNToCA1b5lBKz2plREAAEjAQJWI0jKZCFAwJpFGxmEgwABqwMqJZMXIGBNvoUMwEmAgNUJlrLJCRCw2reMgNXelIoIIGAkQMBqBEmZLAQIWLNoI4NwECBgdUClZPICBKzJt5ABOAkQsDrBUjY5AQJW+5YRsNqbUhEBBIwECFiNICmThQABaxZtZBAOAgSsDqiUTF6AgDX5FjIAJwECVidYyiYnQMBq3zICVntTKiKAgJEAAasRJGWyECBgzaKNDMJBgIDVAZWSyQsQsCbfQgbgJEDA6gRL2eQECFjtW0bAam9KRQQQMBIgYDWCpEwWAgSsWbSRQTgIELA6oFIyeQEC1uRbyACcBAhYnWApm5wAAat9ywhY7U2piAACRgIErEaQlMlCgIA1izYyCAcBAlYHVEomL0DAmnwLGYCTAAGrEyxlkxMgYLVvGQGrvSkVEUDASICA1QiSMlkIELBm0UYG4SBAwOqASsnkBQhYk28hA3ASIGB1gqVscgIErPYtI2C1N6UiAggYCRCwGkFSJgsBAtYs2sggHAQIWB1QKZm8AAFr8i1kAE4CBKxOsJRNToCA1b5lBKz2plREAAEjAQJWI0jKZCFAwJpFGxmEgwABqwMqJZMXIGBNvoUMwEmAgNUJlrLJCRCw2reMgNXelIoIIGAk8Pdv/UN443/8xqgaZRBIW+Dc2XPh3Jlzg0GsnFkZVq5amfaA2HoEjAROHjs5rLT22rXDeWYQ6LOAfs5YtXJl+F+Lf0wIIBDCayd5zuBxgIAI/OO3/c/h7b+zAgxDAQJWQ0xKIYAAAggggAACCCCAAAIIIIAAAggggEC/BAhY+9VvRosAAggggAACCCCAAAIIIIAAAggggAAChgIErIaYlEIAAQQQQAABBBBAAAEEEEAAAQQQQACBfgkQsPar34wWAQQQQAABBBBAAAEEEEAAAQQQQAABBAwFCFgNMSmFAAIIIIAAAggggAACCCCAAAIIIIAAAv0SIGDtV78ZLQIIIIAAAggggAACCCCAAAIIIIAAAggYChCwGmJSCgEEEEAAAQQQQAABBBBAAAEEEEAAAQT6JUDA2q9+M1oEEEAAAQQQQAABBBBAAAEEEEAAAQQQMBQgYDXEpBQCCCCAAAIIIIAAAggggAACCCCAAAII9EuAgLVf/Wa0CCCAAAIIIIAAAggggAACCCCAAAIIIGAoQMBqiEkpBBBAAAEEEEAAAQQQQAABBBBAAAEEEOiXAAFrv/rNaBFAAAEEEEAAAQQQQAABBBBAAAEEEEDAUICA1RCTUggggAACCCCAAAIIIIAAAggggAACCCDQLwEC1n71m9EigAACCCCAAAIIIIAAAggggAACCCCAgKEAAashJqUQQAABBBBAAAEEEEAAAQQQQAABBBBAoF8CBKz96jejRQABBBBAAAEEEEAAAQQQQAABBBBAAAFDAQJWQ0xKIYAAAggggAACCCCAAAIIIIAAAggggEC/BAhY+9VvRosAAggggAACCCCAAAIIIIAAAggggAAChgIErIaYlEIAAQQQQAABBBBAAAEEEEAAAQQQQACBfgkQsPar34wWAQQQQAABBBBAAAEEEEAAAQQQQAABBAwFCFgNMSmFAAIIIIAAAggggAACCCCAAAIIIIAAAv0SIGDtV78ZLQIIIIAAAggggAACCCCAAAIIIIAAAggYChCwGmJSCgEEEEAAAQQQQAABBBBAAAEEEEAAAQT6JUDA2q9+M1oEEEAAAQQQQAABBBBAAAEEEEAAAQQQMBQgYDXEpBQCCCCAAAIIIIAAAggggAACCCCAAAII9EuAgLVf/Wa0CCCAAAIIIIAAAggggAACCCCAAAIIIGAoQMBqiEkpBBBAAAEEEEAAAQQQQAABBBBAAAEEEOiXAAFrv/rNaBFAAAEEEEAAAQQQQAABBBBAAAEEEEDAUICA1RCTUggggAACCCCAAAIIIIAAAggggAACCCDQLwEC1n71m9EigAACCCCAAAIIIIAAAggggAACCCCAgKEAAashJqUQQAABBBBAAAEEEEAAAQQQQAABBBBAoF8CBKz96jejRQABBBBAAAEEEEAAAQQQQAABBBBAAAFDAQJWQ0xKIYAAAggggAACCCCAAAIIIIAAAggggEC/BAhY+9VvRosAAggggAACCCCAAAIIIIAAAggggAAChgIErIaYlEIAAQQQQAABBBBAAAEEEEAAAQQQQACBfgkQsPar34wWAQQQQAABBBBAAAEEEEAAAQQQQAABBAwFCFgNMSmFAAIIIIAAAggggAACCCCAAAIIIIAAAv0SIGDtV78ZLQIIIIAAAggggAACCCCAAAIIIIAAAggYChCwGmJSCgEEEEAAAQQQQAABBBBAAAEEEEAAAQT6JUDA2q9+M1oEEEAAAQQQQAABBBBAAAEEEEAAAQQQMBQgYDXEpBQCCCCAAAIIIIAAAggggAACCCCAAAII9EuAgLVf/Wa0CCCAAAIIIIAAAggggAACCCCAAAIIIGAoQMBqiEkpBBBAAAEEEEAAAQQQQAABBBBAAAEEEOiXAAFrv/rNaBFAAAEEEEAAAQQQQAABBBBAAAEEEEDAUICA1RCTUggggAACCCCAAAIIIIAAAggggAACCCDQLwEC1n71m9EigAACCCCAAAIIIIAAAggggAACCCCAgKEAAashJqUQQAABBBBAAAEEEEAAAQQQQAABBBBAoF8CBKz96jejRQABBBBAAAEEEEAAAQQQQAABBBBAAAFDAQJWQ0xKIYAAAggggAACCCCAAAIIIIAAAggggEC/BAhY+9VvRosAAggggAACCCCAAAIIIIAAAggggAAChgIErIaYlEIAAQQQQAABBBBAAAEEEEAAAQQQQACBfgkQsPar34wWAQQQQAABBBBAAAEEEEAAAQQQQAABBAwFCFgNMSmFAAIIIIAAAggggAACCCCAAAIIIIAAAv0SIGDtV78ZLQIIIIAAAggggAACCCCAAAIIIIAAAggYChCwGmJSCgEEEEAAAQQQQAABBBBAAAEEEEAAAQT6JUDA2q9+M1oEEEAAAQQQQAABBBBAAAEEEEAAAQQQMBQgYDXEpBQCCCCAAAIIIIAAAggggAACCCCAAAII9EuAgLVf/Wa0CCCAAAIIIIAAAggggAACCCCAAAIIIGAoQMBqiEkpBBBAAAEEEEAAAQQQQAABBBBAAAEEEOiXAAFrv/rNaBFAAAEEEEAAAQQQQAABBBBAAAEEEEDAUICA1RCTUggggAACCCCAAAIIIIAAAggggAACCCDQLwEC1n71m9EigAACCCCAAAIIIIAAAggggAACCCCAgKEAAashJqUQQAABBBBAAAEEEEAAAQQQQAABBBBAoF8CBKz96jejRQABBBBAAAEEEEAAAQQQQAABBBBAAAFDAQJWQ0xKIYAAAggggAACCCCAAAIIIIAAAggggEC/BAhY+9VvRosAAggggAACCCCAAAIIIIAAAggggAAChgIErIaYlEIAAQQQQAABBBBAAAEEEEAAAQQQQACBfgkQsPar34wWgaQE/v6tfwj/5z+cSGqb2VgEvASOf/94OPGDuf1h3YfWhfUfXu+1KuoikJTAvq37htu7dd/W4TwzCPRZ4OTRk+HYi8cGBDxn9PmRwNjLAgf+3YFw4Y0Lg6sfuf32cNmyZeVFuIxA7wT+8TveEX73iit6N27rAROwWotSDwEEzARm35oNr/zdn5nVoxACKQsc/OrB8NKjBwdDuOmBLWHLg1tSHg7bjoCZwMeX/9Gw1ouzfzqcZwaBPgscfeHVEP/4wHNGnx8JjL0ssGPt9nD+zPnB1SeeeSb8/sqV5UW4jEDvBCRc/V/+5b/s3bitB0zAai1KPQQQMBMgYDWjpFAGAgSsGTSRIbgIELC6sFI0cQEC1sQbyOa7CRCwutFSOGEBAlab5hGw2jhSBQEEHAQIWB1QKZmsAAFrsq1jw50FCFidgSmfpAABa5JtY6M7ECBg7QCZVSQnQMBq0zICVhtHqiCAgIMAAasDKiWTFSBgTbZ1bLizAAGrMzDlkxQgYE2ybWx0BwIErB0gs4rkBAhYbVpGwGrjSBUEEHAQIGB1QKVksgIErMm2jg13FiBgdQamfJICBKxJto2N7kCAgLUDZFaRnAABq03LCFhtHKmCAAIOAgSsDqiUTFaAgDXZ1rHhzgIErM7AlE9SgIA1ybax0R0IELB2gMwqkhMgYLVpGQGrjSNVEEDAQYCA1QGVkskKELAm2zo23FmAgNUZmPJJChCwJtk2NroDAQLWDpBZRXICBKw2LSNgtXGkCgIIOAgQsDqgUjJZAQLWZFvHhjsLELA6A1M+SQEC1iTbxkZ3IEDA2gEyq0hOgIDVpmUErDaOVEEAAQcBAlYHVEomK0DAmmzr2HBnAQJWZ2DKJylAwJpk29joDgQIWDtAZhXJCRCw2rSMgNXGkSoIIOAgQMDqgErJZAUIWJNtHRvuLEDA6gxM+SQFCFiTbBsb3YEAAWsHyKwiOQECVpuWEbDaOFIFAQQcBAhYHVApmawAAWuyrWPDnQUIWJ2BKZ+kAAFrkm1jozsQIGDtAJlVJCdAwGrTMgJWG0eqIICAgwABqwMqJZMVIGBNtnVsuLMAAaszMOWTFCBgTbJtbHQHAgSsHSCziuQECFhtWkbAauNIFQQQcBAgYHVApWSyAgSsybaODXcWIGB1BqZ8kgIErEm2jY3uQICAtQNkVpGcAAGrTcsIWG0cqYIAAg4CBKwOqJRMVoCANdnWseHOAgSszsCUT1KAgDXJtrHRHQgQsHaAzCqSEyBgtWkZAauNI1UQQMBBgIDVAZWSyQoQsCbbOjbcWYCA1RmY8kkKELAm2TY2ugMBAtYOkFlFcgIErDYtI2C1caQKAgg4CBCwOqBSMlkBAtZkW8eGOwsQsDoDUz5JAQLWJNvGRncgQMDaATKrSE6AgNWmZQSsNo5UQQABBwECVgdUSiYrQMCabOvYcGcBAlZnYMonKUDAmmTb2OgOBAhYO0BmFckJELDatIyA1caRKggg4CBAwOqASslkBQhYk20dG+4sQMDqDEz5JAUIWJNsGxvdgQABawfIrCI5AQJWm5YRsNo4UgUBBBwECFgdUCmZrAABa7KtY8OdBQhYnYEpn6QAAWuSbWOjOxAgYO0AmVUkJ0DAatMyAlYbR6oggICDAAGrAyolkxUgYE22dWy4swABqzMw5ZMUIGBNsm1sdAcCBKwdILOK5AQIWG1aRsBq40gVBBBwECBgdUClZLICBKzJto4NdxYgYHUGpnySAgSsSbaNje5AgIC1A2RWkZwAAatNywhYbRypggACDgIErA6olExWgIA12dax4c4CBKzOwJRPUoCANcm2sdEdCBCwdoDMKpITIGC1aRkBq40jVRBAwEGAgNUBlZLJChCwJts6NtxZgIDVGZjySQoQsCbZNja6AwEC1g6QWUVyAgSsNi0jYLVxpAoCCDgIELA6oFIyWQEC1mRbx4Y7CxCwOgNTPkkBAtYk28ZGdyBAwNoBMqtIToCA1aZlBKw2jlRBAAEHAQJWB1RKJitAwJps69hwZwECVmdgyicpQMCaZNvY6A4ECFg7QGYVyQkQsNq0jIDVxpEqCCDgIEDA6oBKyWQFCFiTbR0b7ixAwOoMTPkkBQhYk2wbG92BAAFrB8isIjkBAlablhGw2jhSBQEEHAQIWB1QKZmsAAFrsq1jw50FCFidgSmfpAABa5JtY6M7ECBg7QCZVSQnQMBq0zICVhtHqiCAgIMAAasDKiWTFSBgTbZ1bLizAAGrMzDlkxQgYE2ybWx0BwIErB0gs4rkBAhYbVpGwGrjSBUEEHAQIGB1QKVksgIErMm2jg13FiBgdQamfJICBKxJto2N7kCAgLUDZFaRnAABq03LCFhtHKmCAAIOAgSsDqiUTFaAgDXZ1rHhzgIErM7AlE9SgIA1ybax0R0IELB2gMwqkhMgYLVpGQGrjSNVEEDAQYCA1QGVkskKELAm2zo23FmAgNUZmPJJChCwJtk2NroDAQLWDpBZRXICBKw2LSNgtXGkCgIIOAgQsDqgUjJZAQLWZFvHhjsLELA6A1M+SQEC1iTbxkZ3IEDA2gEyq0hOgIDVpmUErDaOVEEAAQcBAlYHVEomK0DAmmzr2HBnAQJWZ2DKJylAwJpk29joDgQIWDtAZhXJCRCw2rSMgNXGkSoIIOAgQMDqgErJZAUIWJNtHRvuLEDA6gxM+SQFCFiTbBsb3YEAAWsHyKwiOQECVpuWEbDaOFIFAQQcBAhYHVApmawAAWuyrWPDnQUIWJ2BKZ+kAAFrkm1jozsQIGDtAJlVJCdAwGrTMgJWG0eqIICAgwABqwMqJZMVIGBNtnVsuLMAAaszMOWTFCBgTbJtbHQHAgSsHSCziuQECFhtWkbAauNIFQQQcBAgYHVApWSyAgSsybaODXcWIGB1BqZ8kgIErEm2jY3uQICAtQNkVpGcAAGrTcsIWG0cqYIAAg4CBKwOqJRMVoCANdnWseHOAgSszsCUT1KAgDXJtrHRHQgQsHaAzCqSEyBgtWkZAauNI1UQQMBBgIDVAZWSyQoQsCbbOjbcWYCA1RmY8kkKELAm2TY2ugMBAtYOkFlFcgIErDYtI2C1caQKAgg4CBCwOqBSMlkBAtZkW8eGOwsQsDoDUz5JAQLWJNvGRncgQMDaATKrSE6AgNWmZQSsNo69qXL69OmwYsWKwb/eDJqBLpoAAeui0Zuu+MKbs2H2jQth5cxK07p9K0bAmm7Hz505F5avWBaWXbY83UEs4S0nYF3CzZnHpvGcMQ+0irsQsFagZHAV+8fCm0jAunBDKuQnQMBq09NeBKyf+MQnggSDMt1xxx3hzjvvHMzz33QC9957b9i9e/fgTj/84Q/DddddN12BhJb+0Y9+FL785S9PtcUbN24MX/rSl6a6DwtPFuhjwLpr0yOTUaa4de2GteGmB7ZMcQ/7RU/84Hh46panBoU33b0p3Pb47fYr6UnFPgSsJ4+dDC999aBZR2/9j7eH1VfPmNWbT6G9W/eGYy8cHdz1wcM7g+yXTLYCfQ5Y5fF1vgjwLaal8pyx96694cKbF8K6D68L933ncxZD62UNAtYQcts/ThXPkfKaSvaPNdeuCTuPPNTLx/ZCB03AOie4/RvfCGfP2Tx/XDkzE3YVOQtTugIErDa960XAesUVVwwDVgnAHn74YRu9HlV54403wtvf/vbhiG+44YZw6NCh4eXcZiRcnTYsleD+29/+dm4UizqePgasOihYKP6Gj28IW5/dttAyC7q/BManjp0a1nj2198MyzmKb+gxzUwfAlYdCExjU7fsYgeas8XR23e981PDzVsK++RwYzKa0b83X5z904xG1jwUHRQ0Lz15iaXw+NxXhKtHX5z7g4Rs7e6Te/j0w+S21d6qf5/KH1u3PLi4f3Ct3VDHG9g/HHETLq0fFyeeeSb8/sp+fsJq3Wc/G351/rxJJ9+3Zk14+YtfNKlFkcURIGC1cSdgVY433nhj+OlPfzq45umnnw4SIuY+yVGpL7/88mCYMl4Zd90kAasErTLlHlTro3XrPMrXE7CWRRZ+mYB1YYZL4c3yS48eDBIMynT5qsvDnlPPLGxQPb43Aev0zV8KAes9a3YMjjaSre9ryDF956a7BwGrzRvkpfic8ehfP8Yf5abbHYZLE7CGoIO0Icw8Z9g/5gm3BO+mHxcErDbPH0s9YP3z48fDQ88/P3g0vr8Ig5/59KeX4CNzcTeJgNXGn4BVOX7gAx8I8tFwmeRIxD6cSkBOn/Dcc88NxtwUEMppFvbv3z84/+qOHTsG98n1PwnbY/AsjwV5bDRNl112GeembUKa8vY+BqxNRPpFYQphjRzBd+L7J4Kcg3LDbRvCylX9PEqgqa9tbu9DwNrkIB+P3LVp13CxFI5uO3f2XDh64Ghx/tVlYfNnNg+3nRk7gT4HrE2K+lMEKTxnyHiOFqfUkOeM9R9eH2auWtxTfDT5LuXbCVibu8P+0WyU4xL6tXSfA9am3t7wla+E107NfQrtoxs2JB1KfufVV8P2vXsHQ17qYXBTX7xuJ2C1kSVgVY4ErHzEPT4c9GMh9/PNxjEvxZ8ErONd0S8KU3mzPD4KrpmPAAFrKE43kV7AOp9ec5/pBAhY671SDJDqR8Mt0wgQsDZrsX80G+W4hH4tTcBa32EC1nqbHG8hYLXpKgGrctShGkewKpgezurz9v7yl78Mq1ev7qHC4g+ZgHW8B/pFIQHruE/O1xCwErDm/PheyNgIWOv1CJDqbXK/hYC1ucPsH81GOS6hX0sTsNZ3mIC13ibHWwhYbbra64BVzicaz7kqnHLezXhZzjEq3wofp+uuuy7OVv6UUwu8/vrrw/uvWLFicP+m87jKx+7ln0xyn/e85z2D85zKR/HjtnzkIx+pPR+srPfV4pB3XePqq68Osr11oWA8DYKsU77MKV6WbdUf/ZdtkW2Kk2xPPAer1K6rH5eXn1K77NK0ffH+5f7EHsj18vF9qRu3R7ZVnNpsU6w/6efb3va24c1vvfXWcJ6ZbgUIWMe99YvCtgGrfERZPm4p0/LiY8ozV60uzgk5W3wM81g4/bPTg+vf+6H1xTc2rx/Ml/+TowZPHj0VpI5MczVmwpri29CbPvJfte5yffnm+DitvXbuG9Zl+44XpxY4U2zfbPFtuTKtLrZbvlW6aZ2xVm4/CVjnH7Ce+dmZ4nE0O3hIyEeO5YvW4kf35ac8pm8qvgCm6gvYqh6L8hhcffVMWFfsN02TXvfKmZVjj1+9j+jby/to3O823HrptUnTuvtyOwFrfafnEyDJY+90sc/IpJ8z5Hdy/H3d9Jxx5mdnh88vUmPlzDta/f7W65b1x+cEmY9T3Aa5HG+X+8m+dvz7x3nOuAhFwBofMfU/rfYPWcOJH5wIf/P9vxmsbKntH7JR8lpO7x/yPNbXUzfp19IErIOHbOV/FgHrm7Oz4XBx/tNfnDkTflvMy/SuIkeQ86BeWfxsO1XV+b3ly8P71q4N16+vfi32iyJjefPC3HsI2YZnDx8erO7KmZnwyO23D1ctly8ravV9ImC1eQT0OmCV8K/NuTUltJOjGKsmCTblPKZSq2qS+z788MO153PV31YvAacsK+f/jIGp1Kw6N+ru3bsH4WgMGKvWfc899wzq6ZBUltPhYdX94nXlIzf1UZ1NR/iKh7joccS68Wfd9sXbdX9iD5rGbfHlW2IqX+glk9j95je/iZvEz44FCFjHwfWLwrYBqw7m1n1o3eCbhJ+65alw/uylE9tXfXnDka8dDgeLL6m6cDHgHN+aEK69dUO47fHbKoMpWV6ve821a8LOIw+NlDlfBL871l46p7N8A3jTem964KZiDDeP1OnDBW3Ztve5ucz3FAF6v7n3O/eFs0UQI49tPZW/EEsCGzE/8vUjerGRefniNvlm7kmhp173Xfu2ho2lgFT3VfbD2564beJ6ZZ33/df7wsy7V49sS58vELDWd38+AZIO5uT39tZnt4VdH3xk5Dmj6vf5iR8cD8/f//zIcuUtk+cM2Wfq/lCm1335TPHFiCfHvxix3O+m9W66e1PxPHXpzXR5m3K9rC37+pzR1Nvc949nf/3NwfPd3rv21u6Xfdw/9PMyAWv9XrLQgHVfEWg+8b3vhd9eDDnLa5JzocqXTa1aubJ808jlpjq/X9z/rs2bw9bin57Wffaz4VfnL73X0bfp+UMPPRTeXwS1fZ8IWG0eAQSsLb68KIZ7ZXI5olMC2kkhZ7xPXfCnA1ZZj0zlULIcsOovphrcYcJ/cmSnnENUh6zeAauMVcbVZpIxy/bFsev7lAPWO+64o1VdCWH1kbi6Zpt56es111wzWFT8fvKTn7S5G8s4CBCwjqPqF4Vt3zDpAEfCGZl0uCqXywHrgc8/PzFYkvvEadW7V4Wdf/FQZciq1131hrwcsG55YMtY8BXXo39KqLvp7tEXUvr2HOe1Zdve5+ZgEbD+iyIw+ttjc1/aoH10wCpHlZYDJb1seX7S41Hvs00Bq/wBRPZNORJv0iRfmCXfrl4XUk26b463lQO3HMc43zEtNECqe84o/z5/qfhjRPmPFnXbLDXl8Vt1xLgOBdsErBuKwFa+FKtp6mOIpC37+pzR9LhY8P5R/BEgFB90K7+mWir7h/xB+qVHX2piKF5P9euPEPp5mYC1/uGxkID1s8UXSn23+JRt0yThqAScdSFr2zqyHglZd6kjUwlYm/RHbydgHfWY76VeB6yCdqY4XD1OcgRp/Fi+hHT64/0zxaHjepIQVEK4GK5KEPf0008PPuIvYabU2bNnT3juueeGd6v6siQdsMYF5f6y7hg6ykfq47aUw0sJEuXUBnH7ZLukpl5vOdzVY5ajSOXj9jLJOmTccYo14+U2R7DKeiUAjpN8rF+OyhWfOpe6EFMHrLGe/JTxyOkA5ChTObpUrGXMMZiW9cjRt/JzPpNer2y/BLvxlA2637LdMrbYp/msi/tMFiBgHffRLwrbvmHSwVysKAHN+uLjzZcXH1mWaXXxsel4ioDyG+UPFi+8Nxdhpnx8WSYJn44V34qu30zXHVWq111+wyG1ygGrXCeTrFM+YifbJ6cIGBxx+NXvDd/EyPbvPrWn8g36XIX8/teWbXufm4JFwBpN5DEk4cyy4nQBMsnjX/YDmXas2T58rEkYJGG+fJQyBkKnjp4Me7eOHhEkj8eqwFPvs00B62DlxX9xnfIt6jLJPnDk64fDMRUkVe1Pg4V7+B8Ba33TFxog6crymFtz8TQuyy77J2HzZ64f3CwB575if4iTHKUq+0zcn6Z5ztChYJuAVa9zY3EEeHxOO1X8EeWges6Q5eRovrgPx/vl/FNb9vU5o6m/i7V/yGNVTrMkU9X+URd46p5a7x+P/tWjg1NINZnlcLt+XiZgre/ofAPWJw4eHBy5Givfv2VL+Ghx6kUJU+NH/WWZX52bO/WYXP+Xjz029jH97xQB7fYiqI3TpzZtCtuuv35QR6778cmT4Y+LI2R/fOrSH82f2bZtsC65PdaX+T8vThHw0PPPy2yQI2f/U3HkbJx+b9mysXXH2/r0k4DVptu9D1g14zRfcqXDRgkmDx06pEsN5yX8jKGlBHHlUw2UA1ZZpu6ITgn3JNSNQWI5OB2utJjR65Wgse5j7vpo2PKRsrqezOsxV50iQLZLDOP2TXIpB7FVY9FBp6xfxiE2EmyWp/KyVWF2+T51l8vbVrdcvL5q2+Nt/FyYAAHruJ9+Udj2DZMO5qSihDdyxGlVGCS363CpLjiV5fRRrhJWffPX35KrRya97qpAqCpg3Xl45/CNhy4mb0LuWXPpdAJVYZVePrd5bdm297kZWAWskx7XOiyatK/IOV3l8RhPoVFXU++zVY9Z3Vfpl6yz7ui+Nvtcbj1vMx4C1noliwBp0n4ga57vc0bVH8nmEyBtLU69UXWaDnnOeOAP/v1wH510pHm9YLq3aMu+Pmc0dW8p7R8vFaetkecDmer+iKx72jZgZf8YfxTo52UC1nGfeM18AtazRWi6fvv2WCLowHN4ZTEjy/3hF74wPH2AnBO1/BF/uV3O3SqThLT331x9erAbv/KVYcgq4enLX/zi4D76Px3W1i2jl+/jPAGrTdcJWJVj24C1HOaVz1WqSg6OcJVgMh75WA7+ygHrpFpypKacnzVO5bA2Xi8/JeSU9caprq5lwCpBsgS7MklQLB+tn3QUqQSTMn6ZZDnZRr182bkq1B3c+eJ/Ej7rI5Dne5qAck/iOmRMMsUAeXDh4n+ErFrDbp6AddxSvyhs+4apHODUHWkna5MvlXrqlqeHK95THJVXN5XD0d0niyP4Lh7lGu+j190mYK0LqWI9/Wao7giPuGxuP7Vl297nZmARsMrRddv2baulkRBTvsxHprUbivNPNiwbz9EqH++/77ufG6ur99mmgFXeVE/66H+bfW5sA3pwBQFrfZP178y2vzd0iCOVJz1nyGPykU27hhuw8y921v7xTv4ocdc7PzVc9quvPTb4srjhFcWMXnebAKnpOWNfce7Joy/OnUKgfCocvd4c57Vl297n6DBpTF3vH3IOcPmCxKqJ/aNKxec6/bxMwFpvPJ+A9Y4nnxx8qZVUvWXDhpEjRctrerw4ilWOQJWpKvR8x8c+NrzLpPOkypGsNz7yyHDZ/+db3xo7IpWAdchTO0PAWksz1Q0ErIqrbcA6TSgp5fXy5SBOh3nycXQJYK0mfa5VCTurjvzU27bQI1j1Ea4StjYFnBI6TwqfywHrW2+9NZFGj0VOfSCnbJjPpHsioaqcBkCOxo3hr2y3nFZBwuQYnMt6yuH5fNbNfUYFCFhHPeSSflHY9g2TDuaqQs7xtbS/Rgcb+hyWsULTuqcNjPQRfH17s6wt2/Y+9iGXnxYBa1XIOV8fHWDUhUF6n61at+5rm/3zU+/85PCIvKp9br5jSfl++veQfFEe0yWBhQZIdY/rS2uYbk7vD1WP3zb7lO53VUirt2ja/UvfN/V5bdnX54ymHua+f1TtY9qkr/uH/j1EwKofEaPz0was5aNX5WP/V148QGm08twlOV3AP//kJ4c3lYNRHbDuv+++sPm97x0uq2ekTjzSVa6v+sIqAlYtVj1PwFrtMu21BKxKrG3AqoNEOTWAhG+TJjkXqwR+MpVDTB3meQasdeGfDiXL21Yekx53+WhSCRrlnKhxqgt04+3xpzYvh6ILCVibxhLXX/dTjlKVo2EllI5HrpaXldtl+2PIat2/8vr6eJmAdbzr+kVh2zdMni+g9RvdqhfyTeueNmDV9QhYt4w/QDK/hoB19I8sVftc5g+ByuHp30MErKNEuQdIVZ+c0AL6OaPNHzD0fVOfJ2Bt7mDu+0fTc0Rf9w/9WpqAtX4/mTZglfOc3lkcwSqTnNf0v/3Jn9QXv3iL/iKqciCrP/ov52mV0whcv37u3PSNhUsLELCWQCouErBWoMzjKgJWhabDvnKAGBcrB4kSqtUFcPE+EtZJWChTOYRbSMAqNV955ZXBR9bjR+MHK7n4n/4ou3fAOm0YGrdTnyu2fM7WaWtOExbH9S/0pz7NgdSSc93GI10XWpv7F1/s8tZseOXv/gwKJaBfFHYRsEqgdfz7x8O5M8U3m//8jNqSuVkJSONU9UK+6cU7AWvUa/6pLdv2vrlqWkt0HbBeKD7SfPSFY+F0ceoM+aI1+bIpPV14Y3Z4NGndkX56n7U4glXXq9rn9Pb1ZZ6Atb7TXQdIC33O0KFg3T6l+03AWt97bdnX54x6nblbct8/mp4j9OuKPv0BQj+PErDW7yXTBqxPFB/3ly+vkkkC1jZhqISyv70w99qqfL7WnxcZinz0P94udSVoldMJyNGsVxZfQr6quNxmImBtViJgbTZqswQBq1JqE7BKaClHcs53sghYJXiUYFZ+tp28A1b5yHw8P6wEjHVfqlXe3kkBcwoBazlwb3vkbtmBy9UCBKzjLvpFYds3TPN5AS3nYj3w+QNBvom57VT1Qr5p3QSsbXXD4Msv5EswZGrb+/bV01iyy4D1yNcOh4OFd/wSqyahujBI77MErE2K87tdB24cwTpq2FWAZPWcoUPBun1K95uAdbTf+pK27Otzhvaomu9q/5AvXJPzAS/0NZXuaZv9o+p1mXZoeo2ml81pXj8vE7DWd3YhAWt91fpbygGrLCmnHZCQ9VfFz6rpXUXIKl+O9b61ayeGrQSsVXqj1xGwjnrM9xIBq5JLIWDVQaZsuoSZcuSnHEVbPpJWPiYfJ++A9bnnnhuca1bWJ9sx6Qu44jbJz9QDVhnDpFMnyO1M8xcgYB230y8K275hmvYF9IkfHC++6Oqp4crli3fkyIaZq1aPfYnVvq17h8tVvZBvWjcB65CvcUZbtu19Y9HEFugqYNXn+hWiy1etDOs/vG7wc/mK5UO1k8UR3sdemPsCnbo3u3qfJWAd0pnO6MCNgHWUtosAScLVXcUXXcU/RshzxsxVM8Xzxtqx5wzZt+JyVc8Z0wZIBKyj/daX/v/27idktrO+A/ism4UVYheFJll0k1RNIAqtpTfQTbWUqkRopIlZSGukEttUBS3RRUP909ImUdGImyQUFLRNauHeldBbDIUkEKvkLrrxujWLppBs0/m9N2fu8545M3Pm+jzPvb97PgeSmXf+/J7nfH7vuTPzfc+cU1ou9TWj9Ji6fr1vH1PbWOlQvq+wB2sp43oIHBuwPvzkk6snzp27YrypgHUoFgHp2eefX/3owoVTe7QO98eerZ++++7VPXfdNdx06lLAeopj8gcB6yTL0TcKWAuyKwlYI0gcB5tFyYNX9wWM4yfH3rMxx+Gr/3ESqfiK+q6vpJcnuWodsJZ7my5pD9bokYB1/Jta72cB67ZlGdbM/cB0zBvo2MvikT/429UrP3/lZPAz6zOu3/uV+1Y3vOVyqFTOqgw2pt7IHxpbwFpq7r9eWs7t/f6K+e7tEbCeXwem5R8OPvbEx1Zn7p1+w14GGALWq/f7VP47JGA93YceAdInb31w85px5x/dufrYtx7Y+ZpRvoZNvWbM2abKfgtYT/e7/Km0XOprRukxdf163z6mtrHSoXxfIWAtZVwPgWMD1vIQAfecObN6/OMfbwL5o5dfXv10nYucXR9e4Ll14FoucZzW2KN1vAhYxyLbPwtYt02u5BYBa6E2J2CNh88JLouye68eE7Aeu5fonHkec9zSfUHi+NAJc4PnOKxA7JUby7Vwkqv4yv9w0qoIineF12VTS5c5Jz0rn+v6fgEB67ZP+eF07gemY95Al+HSjTfduHrswuPbkyhuKT/oTr2RPzS2gLXAPHC1tJzb+wMl093dI2AtP3Df++V7V+/7xB/udCoDDAHrTqbmd5T/DglYT3OXv89z/92Y83s9jPLi+hjd/3jPpW88xGvG3/3XF3eGq/Gc8jVs6jVjzthlvwWsQye2L0vLub3frnJ933K9bx9T21jZ0fJ9hYC1lHE9BI4NWJ84e3b18FNPneDF8VF/+KUvNYccH0Jg18m1BKyHWyFgPWw05xEC1kJpbsBaPi72IP3CF75QVDnu6jEBa3lCqPj6f5yIa9/SM2CNebz1rW/dhJOPPvroKvawPbSUzxmfWKzcKzbqvPHGG3vLHRMW7yr02GOPnQS9cf8c4/ExWHftKbxrPLfvFxCwbvuUH07nfmA65g10+dXoM3965mRPpO1ZXL6l/KA79Ub+0NgC1suWh66VlnN7f6hmtvt7BKyHfqdLszLAELCWMn2vlz0TsJ62bx0glf8uxd6rD333r09PYPRT+Ro29ZoxZ5sq+y1gHQEXP5aWS33NKDgmr/bcPuYEmLW3j6ltrIQot9858yufm/l66ewYrLs7eWzAGnuWxvFSh+V/vv3t1VtumP4G3PCYXZcRnA7HXY2v/+87mVXszfr7n/3sptQPv/jF1dvXhywsFwFrqTF9XcA67XLsrQLWQqwMTsdhX/Gwk6/lRzAaS+zhGHtrHtrTMfbwnDqUwDEB6zEB4niP0l3B3zE1yz01p3zKAHh8Mq/Sb7he7pEbt433er0aAWs55pzelusQj597cq/BwOV+AQHrtk/5pnDuB6Zj3kDHSRjO//OlY0oeCljjcAJ/eevlP6RMvZE/NLaAdbvHu24pLef2fletrLf3Dlj/6jsPrY+9+q6dXOUfJASsO5ma31EGbgLW09zXUoA05zWjDAV3bVNlvwWsp/td/lRaLvU1o/SYun69bx9T78tKh/J9hYC1lHE9BI4NWOM5v/nRj26Okfqp9TFRP/OhD8XNe5dXX3ttK4h98BvfWH3n/KXPI3MON/BrH/7wZox/ffjh1e+uT3pVLgLWUmP6uoB12uXYWwWshVgZsO7bAzP2Woywcfgq+aE9HV966aWTY6fG42Jv1zKMPSZgLQPMqBFnrJ8KbSNcjXWJy2HpEbCOQ919e/eO5zhlWIadsR499mCNccogeXzYgrh/WOasw/BYl1cmIGDddmsdsMZZ6uMNdyxxopL4uufb1if4GS/jY7XG/VNv5A+9eRewjmV3/1xaLvXDco+AtdzGfm99DOIHnnhgsilleBEP2BUGlfWc5GqS8pe+sQzcBKynOVsHSOe+fm4Vf2iI5dBrxj+tT5548b8vbiY49ZpRble7tqmy3wLWDefWldJyqa8ZWyijG3puHzH0oxcem3xP9fqrr52cKK7cPqZeL8qeztk+praxkqB8XyFgLWVcD4ErCVi/8v3vr/7he9/bAD750EOr97373Zufx1f+fv34CD8fue++U48rA9H42n8cbmDXXqyxt+u7HnxwU/qFxx/femxZ7zduvHH14le/unm8K5cEBKx1fhMErIVjuTfnHXfcsYrjaUaAGUFqGYrGUyKAjcBzWOLxsVdnXA5LPC++ch6PHcLY8Z6fxwSs48Ax5hb1Ym/RWCLwe3J99r5yvJM71v/bFbCWX4nfF9pGnTJ4HK/HMM7YZQiVyyA41iOsY76xxH0xv/Ixcft4fXsFrOVeqTGPCIrvv//+U/Mbr8Mhu6hjOV5AwLptVoY1cz8wHfMG+sL5l1ePvO+RzcBxTL04Yclt67NBx/KLi79YxXFaz3397OZM0MODp97IHxpbwDroHb4sLef2/nDVXI/oEbCWf2QInQhZ7/6buzcfimMO0YsL/3n6xAq7PuyW2+zUB+ayr3M+4Jb1pra5XB2tM9sycBOwnjZtHSC9tg6G/vzX/2wzaLxmxPYynBhu32vG1PZwbIAkYN3Qb10pLZf6mrGFMrqhx/YR3/R5/dXXT0Yebx8RrJ792rnJ91Q1to9DrxHHvv6M+NL+WL6OOkTA7jZeScAae6PG1/WHr/dH9U+v92T9k7vuOhV6xuEEIlx9bn0ZSxwGIHoxLOM6cX/UuWddp1yizoPf/OZmvPfceuvqmc9/vnzIyfXx4Qsef+CBTa2pPWi3CizgBgFrnSYLWAvHcaAXd0XoF0HgVLgXwdtwqIChTARtEbLGc+K/cpnao/OYgDVqlXuxlrXH12PeEeruCnaHx8f9cRzUcol1iNvHoeycgDXqlEH1UHcInsNkmFPcF/OcClfjvnE/pnoQjxuWctypPWKHx825nOrtrnWIersC5zljecxuAQHrtk35pnDuB6Zj30CXX3vensHlW+KDQnxoGD44TH0YODS2gPWy56FrpeXc3h+qme3+HgFrBEaf++3Pbs6Kvs8otoFXfv7K5iFT4V65zV7JNrIp/uaVst6hD8/j516vPwtYd3e2dYAUI8cf3J7+zNO7J/HmPbGHayzDa8Z9X7lv9d6/OH225zIU3PVHi7LfAtY3cScuSsulvmZMsJy66VrePqZ6VvZ0zvZx6DWifF8x5w98p/AS/1C+jgpYjbEtcAAAEwhJREFUdzfySgLWqDY+8dQwwm+tT3wVS4Sv//f6pT86xM8RnsbX+sd7qP5knRvEMV3Lx8berPH4WMZ1Du3pWh6+IJ4fj4/lkY98ZBO2ntyw0P8JWOs0XsA6ciwPE1DetSvci70dIyQdh6nlcyOwjEMDxNfNx8uxAWs8fyr8K+vGHq0R+H3wgx9cxeEJYtn3Vfdd9a40YI3xdtWM+4ZlmGeErFPL1QxYYz6xDrGHbxkIj+cZcy/3Ih7f7+dfTkDAuu1XvimcevO9/YzVyd52sVdeLHPfQP/Leg+977/5nKmaUSf2bC2/8jl1zNZDb94FrFO607eVlnN7P10p7609AtbQmToExljt3i/fu7rtzG2rz/3O5zZ3TX2YLbdZAeuGquqVMnCbCrmrDpasWI8AKUjmvmY8/emnVi/++4snilOvR8cGSALW3b+QpeVSXzN261y651rZPm56500nJ4irvX1MvSaVJuX7iqntsXzs9XS9fF0WsO7u7JUGrFExQtY4VMBwHNVdo7xnfazU2Jt0HK4Oj486cTzW5y6c/tbQcP9weahOPC7mErXGS7k36/i+Jf0sYK3T7UUErGVIdtd6t/II9vYtEZrGV+0jNB32SI0QbdcSAdwzzzyzevbZZ0/CuPJ5sddjfL086kwtESL+x/q4I7HcvP6rTux5OWeJMWK9IkAdAsBhrGH9Yk4//vGPT8rF+J/85OWT0YzHGNa5rBWhcBl+lo7vf//7Tx0OYVwvfo45xvqVLjHHqBnPH+Y59dzh+dGHYYn57FvK9b399ttXH/jAB/Y9fNZ9U+sQ84//Yv6xHrt6O2sAD9orIGDd5onj3b32v6+d3HHbmVvXgenpg7hvP2O1/irzy6uXz196Y/K2m2/cfHVz6rHlbREynfva2ZNj5g1j3vLOW9bPP7O6dR0sxfLiD15Y/ezNY+rd8Ku/srU30qGxY2/Bc+uvxw3Lez/x3tUNb9l9xtGy3i3vvHl1554TEA01r5fL8oPQUj8sx+/k+afPb1p66PdleGC53bzrj+9c3fyOW4a79l7G4TBe+MHzJ3vc/eLiK6ub1x+Cb15vA+W40ZdhmdomD41d/k7P2T7LemfuO7M5dMEwhyVeClh3dz1+h+Nr+rFM/X5OPfPiT362euHfLoWgU/+uTz0nbpvzmlH+vsdz4nAC5TJn7HKbK7fFss5wvRxvzvY1PO96uBSwHu7i9b59HHqNWOr2IWA9vG3EI+K4pcNX/d++zin2HUt1V8UISL+7rhNf0X91vddq7I369ptuOtkLNeqNT0a1q048/+zzz69+evHiL1Xnp+t84ltnz65+sq4Ty03r47F+an0irnesP9svfRGw1vkNWETAWodKFQIEegsIWHuLG+9aFhCwXsvdMberKSBgvZr6xr5WBQSs12pnzOtqCwhYr3YHjH8tCghY63RFwFrHURUCBBoICFgboCqZVkDAmrZ1Jt5YQMDaGFj5lAIC1pRtM+kOAgLWDsiGSCcgYK3TMgFrHUdVCBBoICBgbYCqZFoBAWva1pl4YwEBa2Ng5VMKCFhTts2kOwgIWDsgGyKdgIC1TssErHUcVSFAoIGAgLUBqpJpBQSsaVtn4o0FBKyNgZVPKSBgTdk2k+4gIGDtgGyIdAIC1jotE7DWcVSFAIEGAgLWBqhKphUQsKZtnYk3FhCwNgZWPqWAgDVl20y6g4CAtQOyIdIJCFjrtEzAWsdRFQIEGggIWBugKplWQMCatnUm3lhAwNoYWPmUAgLWlG0z6Q4CAtYOyIZIJyBgrdMyAWsdR1UIEGggIGBtgKpkWgEBa9rWmXhjAQFrY2DlUwoIWFO2zaQ7CAhYOyAbIp2AgLVOywSsdRxVIUCggYCAtQGqkmkFBKxpW2fijQUErI2BlU8pIGBN2TaT7iAgYO2AbIh0AgLWOi0TsNZxVIUAgQYCAtYGqEqmFRCwpm2diTcWELA2BlY+pYCANWXbTLqDgIC1A7Ih0gkIWOu0TMBax1EVAgQaCAhYG6AqmVZAwJq2dSbeWEDA2hhY+ZQCAtaUbTPpDgIC1g7IhkgnIGCt0zIBax1HVQgQaCAgYG2AqmRaAQFr2taZeGMBAWtjYOVTCghYU7bNpDsICFg7IBsinYCAtU7LBKx1HFUhQKCBgIC1AaqSaQUErGlbZ+KNBQSsjYGVTykgYE3ZNpPuICBg7YBsiHQCAtY6LROw1nFUhQCBBgIC1gaoSqYVELCmbZ2JNxYQsDYGVj6lgIA1ZdtMuoOAgLUDsiHSCQhY67RMwFrHURUCBBoICFgboCqZVkDAmrZ1Jt5YQMDaGFj5lAIC1pRtM+kOAgLWDsiGSCcgYK3TMgFrHUdVCBBoICBgbYCqZFoBAWva1pl4YwEBa2Ng5VMKCFhTts2kOwgIWDsgGyKdgIC1TssErHUcVSFAoIGAgLUBqpJpBQSsaVtn4o0FBKyNgZVPKSBgTdk2k+4gIGDtgGyIdAIC1jotE7DWcVSFAIEGAgLWBqhKphUQsKZtnYk3FhCwNgZWPqWAgDVl20y6g4CAtQOyIdIJCFjrtEzAWsdRFQIEGggIWBugKplWQMCatnUm3lhAwNoYWPmUAgLWlG0z6Q4CAtYOyIZIJyBgrdMyAWsdR1UIEGggIGBtgKpkWgEBa9rWmXhjAQFrY2DlUwoIWFO2zaQ7CAhYOyAbIp2AgLVOywSsdRxVIUCggYCAtQGqkmkFBKxpW2fijQUErI2BlU8pIGBN2TaT7iAgYO2AbIh0AgLWOi0TsNZxVIUAgQYCAtYGqEqmFRCwpm2diTcWELA2BlY+pYCANWXbTLqDgIC1A7Ih0gkIWOu0TMBax1EVAgQaCAhYG6AqmVZAwJq2dSbeWEDA2hhY+ZQCAtaUbTPpDgIC1g7IhkgnIGCt0zIBax1HVQgQaCAgYG2AqmRaAQFr2taZeGMBAWtjYOVTCghYU7bNpDsICFg7IBsinYCAtU7LBKx1HFUhQKCBgIC1AaqSaQUErGlbZ+KNBQSsjYGVTykgYE3ZNpPuICBg7YBsiHQCAtY6LROw1nFUhQCBBgIC1gaoSqYVELCmbZ2JNxYQsDYGVj6lgIA1ZdtMuoOAgLUDsiHSCQhY67RMwFrHURUCBBoICFgboCqZVkDAmrZ1Jt5YQMDaGFj5lAIC1pRtM+kOAgLWDsiGSCcgYK3TMgFrHUdVCBBoICBgbYCqZFoBAWva1pl4YwEBa2Ng5VMKCFhTts2kOwgIWDsgGyKdgIC1TssErHUcVSFAoIGAgLUBqpJpBQSsaVtn4o0FBKyNgZVPKSBgTdk2k+4gIGDtgGyIdAIC1jotE7DWcVSFAIEGAgLWBqhKphUQsKZtnYk3FhCwNgZWPqWAgDVl20y6g4CAtQOyIdIJCFjrtEzAWsdRFQIEGggIWBugKplWQMCatnUm3lhAwNoYWPmUAgLWlG0z6Q4CAtYOyIZIJyBgrdMyAWsdR1UIEGggIGBtgKpkWgEBa9rWmXhjAQFrY2DlUwoIWFO2zaQ7CAhYOyAbIp2AgLVOywSsdRxVIUCggYCAtQGqkmkFBKxpW2fijQUErI2BlU8pIGBN2TaT7iAgYO2AbIh0AgLWOi0TsNZxVIUAgQYCAtYGqEqmFRCwpm2diTcWELA2BlY+pYCANWXbTLqDgIC1A7Ih0gkIWOu0TMBax1EVAgQaCAhYG6AqmVZAwJq2dSbeWEDA2hhY+ZQCAtaUbTPpDgIC1g7IhkgnIGCt0zIBax1HVQgQaCAgYG2AqmRaAQFr2taZeGMBAWtjYOVTCghYU7bNpDsICFg7IBsinYCAtU7LBKx1HFUhQKCBgIC1AaqSaQUErGlbZ+KNBQSsjYGVTykgYE3ZNpPuICBg7YBsiHQCAtY6LROw1nFUhQCBBgIC1gaoSqYVELCmbZ2JNxYQsDYGVj6lgIA1ZdtMuoOAgLUDsiHSCQhY67RMwFrHURUCBBoICFgboCqZVkDAmrZ1Jt5YQMDaGFj5lAIC1pRtM+kOAgLWDsiGSCcgYK3TMgFrHUdVCBBoICBgbYCqZFoBAWva1pl4YwEBa2Ng5VMKCFhTts2kOwgIWDsgGyKdgIC1TssErHUcVSFAoIGAgLUBqpJpBQSsaVtn4o0FBKyNgZVPKSBgTdk2k+4gIGDtgGyIdAIC1jotE7DWcVSFAIEGAgLWBqhKphUQsKZtnYk3FhCwNgZWPqWAgDVl20y6g4CAtQOyIdIJCFjrtEzAWsdRFQIEGggIWBugKplWQMCatnUm3lhAwNoYWPmUAgLWlG0z6Q4CAtYOyIZIJyBgrdMyAWsdR1UIEGggIGBtgKpkWgEBa9rWmXhjAQFrY2DlUwoIWFO2zaQ7CAhYOyAbIp2AgLVOywSsdRxVIUCggYCAtQGqkmkFBKxpW2fijQUErI2BlU8pIGBN2TaT7iAgYO2AbIh0AgLWOi0TsNZxVIUAgQYCAtYGqEqmFRCwpm2diTcWELA2BlY+pYCANWXbTLqDgIC1A7Ih0gkIWOu0TMBax1EVAgQIECBAgAABAgQIECBAgAABAgQWKCBgXWDTrTIBAgQIECBAgAABAgQIECBAgAABAnUEBKx1HFUhQIAAAQIECBAgQIAAAQIECBAgQGCBAgLWBTbdKhMgQIAAAQIECBAgQIAAAQIECBAgUEdAwFrHURUCBAgQIECAAAECBAgQIECAAAECBBYoIGBdYNOtMgECBAgQIECAAAECBAgQIECAAAECdQQErHUcVSFAgAABAgQIECBAgAABAgQIECBAYIECAtYFNt0qEyBAgAABAgQIECBAgAABAgQIECBQR0DAWsdRFQIECBAgQIAAAQIECBAgQIAAAQIEFiggYF1g060yAQIECBAgQIAAAQIECBAgQIAAAQJ1BASsdRxVIUCAAAECBAgQIECAAAECBAgQIEBggQIC1gU23SoTIECAAAECBAgQIECAAAECBAgQIFBHQMBax1EVAgQIECBAgAABAgQIECBAgAABAgQWKCBgXWDTrTIBAgQIECBAgAABAgQIECBAgAABAnUEBKx1HFUhQIAAAQIECBAgQIAAAQIECBAgQGCBAgLWBTbdKhMgQIAAAQIECBAgQIAAAQIECBAgUEdAwFrHURUCBAgQIECAAAECBAgQIECAAAECBBYoIGBdYNOtMgECBAgQIECAAAECBAgQIECAAAECdQQErHUcVSFAgAABAgQIECBAgAABAgQIECBAYIECAtYFNt0qEyBAgAABAgQIECBAgAABAgQIECBQR0DAWsdRFQIECBAgQIAAAQIECBAgQIAAAQIEFiggYF1g060yAQIECBAgQIAAAQIECBAgQIAAAQJ1BASsdRxVIUCAAAECBAgQIECAAAECBAgQIEBggQIC1gU23SoTIECAAAECBAgQIECAAAECBAgQIFBHQMBax1EVAgQIECBAgAABAgQIECBAgAABAgQWKCBgXWDTrTIBAgQIECBAgAABAgQIECBAgAABAnUEBKx1HFUhQIAAAQIECBAgQIAAAQIECBAgQGCBAgLWBTbdKhMgQIAAAQIECBAgQIAAAQIECBAgUEdAwFrHURUCBAgQIECAAAECBAgQIECAAAECBBYoIGBdYNOtMgECBAgQIECAAAECBAgQIECAAAECdQQErHUcVSFAgAABAgQIECBAgAABAgQIECBAYIECAtYFNt0qEyBAgAABAgQIECBAgAABAgQIECBQR0DAWsdRFQIECBAgQIAAAQIECBAgQIAAAQIEFiggYF1g060yAQIECBAgQIAAAQIECBAgQIAAAQJ1BASsdRxVIUCAAAECBAgQIECAAAECBAgQIEBggQIC1gU23SoTIECAAAECBAgQIECAAAECBAgQIFBHQMBax1EVAgQIECBAgAABAgQIECBAgAABAgQWKCBgXWDTrTIBAgQIECBAgAABAgQIECBAgAABAnUEBKx1HFUhQIAAAQIECBAgQIAAAQIECBAgQGCBAgLWBTbdKhMgQIAAAQIECBAgQIAAAQIECBAgUEdAwFrHURUCBAgQIECAAAECBAgQIECAAAECBBYoIGBdYNOtMgECBAgQIECAAAECBAgQIECAAAECdQQErHUcVSFAgAABAgQIECBAgAABAgQIECBAYIECAtYFNt0qEyBAgAABAgQIECBAgAABAgQIECBQR0DAWsdRFQIECBAgQIAAAQIECBAgQIAAAQIEFiggYF1g060yAQIECBAgQIAAAQIECBAgQIAAAQJ1BASsdRxVIUCAAAECBAgQIECAAAECBAgQIEBggQIC1gU23SoTIECAAAECBAgQIECAAAECBAgQIFBHQMBax1EVAgQIECBAgAABAgQIECBAgAABAgQWKCBgXWDTrTIBAgQIECBAgAABAgQIECBAgAABAnUEBKx1HFUhQIAAAQIECBAgQIAAAQIECBAgQGCBAgLWBTbdKhMgQIAAAQIECBAgQIAAAQIECBAgUEdAwFrHURUCBAgQIECAAAECBAgQIECAAAECBBYo8P/+PAys/96zKQAAAABJRU5ErkJggg==)"
   ]
  },
  {
   "cell_type": "markdown",
   "metadata": {
    "id": "HDVvhmFTqDaf"
   },
   "source": [
    "Выборка разбивается на k непересекающихся подмножеств, и каждое из них по очереди выступает в качестве контрольной выборки (а остальные k − 1 частей — в качестве обучающей выборки). В качестве результата выдается средняя ошибка по всем контрольным выборкам.\n",
    "\n",
    "Значение k должно быть тщательно выбрано для выборки данных.\n",
    "\n",
    "Плохо выбранное значение для k может привести к неправильному представлению о качестве модели, например, к оценке с высокой дисперсией (которая может сильно измениться на основе данных, используемых в соответствии с моделью), или к высокой предвзятости (например, переоценка качества модели).\n",
    "\n",
    "k выбирают обычно 5 или 10, но нет формального правила. По мере того как k становится больше, разница в размере между тестовой выборкой и подмножествами resampling становится мала. По мере уменьшения этой разницы предвзятость к технике становится меньше.\n"
   ]
  },
  {
   "cell_type": "markdown",
   "metadata": {
    "id": "Hi9MgsJRqcXa"
   },
   "source": [
    "В библиотеки sklearn также реализован метод кросс валидации:\n",
    "\n",
    "```\n",
    "from sklearn.model_selection import KFold\n",
    "from sklearn.model_selection import cross_val_score\n",
    "```"
   ]
  },
  {
   "cell_type": "markdown",
   "metadata": {
    "id": "ZssaMlPprjSa"
   },
   "source": [
    "Конструктор выглядит следующим образом:\n",
    "\n",
    "`sklearn.model_selection.cross_val_score(estimator, X, y=None, *, groups=None, scoring=None, cv=None, n_jobs=None, verbose=0, fit_params=None, pre_dispatch='2*n_jobs', error_score=nan)`\n",
    "\n",
    "где:\n",
    "- estimator - модель машинного обучения\n",
    "- X - вектор признаков\n",
    "- y - вектор целевой переменной\n",
    "- scoring - оценка модели\n",
    "- cv - количество фолдов (подвыборок)"
   ]
  },
  {
   "cell_type": "markdown",
   "metadata": {
    "id": "yKy69SSKr7Sc"
   },
   "source": [
    "### Обучение"
   ]
  },
  {
   "cell_type": "markdown",
   "metadata": {
    "id": "7NY2TBsqLtdp"
   },
   "source": [
    "В данном примере мы решаем задачу регрессии и для её решения воспользуемся алгоритмом ***Линейной регрессии***."
   ]
  },
  {
   "cell_type": "code",
   "execution_count": 16,
   "metadata": {
    "id": "JaJi4G4AL8Np"
   },
   "outputs": [],
   "source": [
    "# импортируем необходмимые библиотеки\n",
    "from sklearn.linear_model import LinearRegression\n",
    "from sklearn.metrics import mean_absolute_error, mean_squared_error, r2_score"
   ]
  },
  {
   "cell_type": "markdown",
   "metadata": {
    "id": "qwBhgj0RNlVb"
   },
   "source": [
    "В нашем наборе данных **167** различных признаков, значит уравнение линейной регрессии будет выглядеть следующим образом в общем виде:\n",
    "\n",
    "$y = w_0 + w_1*x_1 + w_2*x_2 + ... + w_{167}*x_{167}$\n",
    "\n",
    "И задача линейной регрессии сводится к рассчёту коэффицентов (весов $w_i$) при признаках $x_i$."
   ]
  },
  {
   "cell_type": "code",
   "execution_count": 46,
   "metadata": {
    "colab": {
     "base_uri": "https://localhost:8080/"
    },
    "id": "0z_oEv1mMO7R",
    "outputId": "44962b82-4fd3-45a8-f511-847f093b455d"
   },
   "outputs": [
    {
     "data": {
      "text/plain": [
       "LinearRegression()"
      ]
     },
     "execution_count": 46,
     "metadata": {},
     "output_type": "execute_result"
    }
   ],
   "source": [
    "# Создадим модель линейной регрессии\n",
    "model = LinearRegression()\n",
    "\n",
    "# Обучим линейную регрессию на тренировочном стандартизированном наборе данных \n",
    "# На этапе обучения алгоритм рассчитывает веса признаков и строит линейное уравнение регрессии \n",
    "model.fit(X_train, y_train)"
   ]
  },
  {
   "cell_type": "code",
   "execution_count": 18,
   "metadata": {
    "colab": {
     "base_uri": "https://localhost:8080/"
    },
    "id": "tFHC_lXhO_C-",
    "outputId": "47f3f235-c7a0-4c64-bd43-be63b17bfa99"
   },
   "outputs": [
    {
     "name": "stdout",
     "output_type": "stream",
     "text": [
      "Веса всех признаков (w1, ..., w167):  [ 1.42925884e+00  1.01211024e+00 -1.44165516e+00 -5.00162723e-01\n",
      "  8.72804205e-01 -1.83006955e+01 -5.17535652e+00  2.14274128e-01\n",
      "  1.06664118e-01 -5.77286188e-01  7.51961191e-02 -2.21156661e-01\n",
      "  1.20809637e-01  1.96979591e-01 -6.92678945e-02  1.19859086e+01\n",
      "  5.28796404e+01  3.35916006e-02  2.08048718e-02 -5.66005786e-02\n",
      " -4.61071893e-02 -6.51334893e-01  1.90712121e+00  3.66148806e-01\n",
      " -1.60445435e+00 -4.79806765e+01  2.80459453e+01  7.44173992e-02\n",
      " -5.95295676e-02 -3.22525849e-01 -5.06595773e-02 -6.02548198e-03\n",
      "  6.05970654e-03  9.98584100e-04 -1.43045574e-03 -6.82918608e+00\n",
      "  1.63304932e+00 -9.88303636e-04 -6.06312857e-04  3.35508838e-03\n",
      " -1.18318002e-03 -1.12593456e-01  3.87880150e-01  1.44305412e-01\n",
      " -4.38285356e-01  9.96730586e+00 -1.76286714e+01 -3.33069320e-01\n",
      " -8.61555931e-02  1.18993749e+00 -5.00034095e-01  1.18114467e+00\n",
      " -1.81034411e+00 -8.25924206e-01  1.30854719e+00 -1.66308007e+01\n",
      "  2.15699269e+01 -1.03944355e-01  5.87338002e-01 -9.67595297e-01\n",
      "  7.99284862e-01 -8.63585680e-02  5.06924807e-01 -3.62490201e-02\n",
      " -3.30465939e-01  1.51597793e+01 -1.29424523e-02 -1.26671421e-01\n",
      " -2.18357104e-01  3.68911177e-01  2.67177695e-02  8.92488595e+00\n",
      " -1.45640933e+01 -4.87477810e+00  1.15334366e+01  5.16144514e+01\n",
      " -7.11957939e+01  4.10543122e+00 -2.23214524e+00  1.28472105e+00\n",
      " -1.60912364e+01 -9.55381454e-01 -2.17927898e-11  3.07486848e+00\n",
      " -2.31147800e-01 -3.01862415e-01 -1.13543643e-01 -8.61425751e-01\n",
      " -7.07650417e-01  8.02216719e+00 -6.45217213e-12  6.41124865e+00\n",
      "  7.31634771e-02 -3.11345884e-02 -1.87139308e+00 -1.58728298e+00\n",
      " -1.94408858e+00 -5.43203562e+00  2.93720603e-12  1.09863303e+01\n",
      "  1.65805651e+00  7.89567576e-01 -1.45217297e-03  6.94986274e-02\n",
      " -3.57970078e-01  5.68843226e-01  1.65432588e+00 -5.84152326e-01\n",
      " -3.02509701e-01 -5.10932596e-01 -2.58586152e-02  4.27659127e-01\n",
      " -1.33713937e+00 -2.23952083e+00 -9.27123907e-01  9.79539902e-01\n",
      " -1.32338585e-12  1.11532618e+01  6.54886907e-01 -5.82477991e-01\n",
      " -2.07343546e-02  7.84480824e-02  8.47751332e-02  1.75593874e+00\n",
      "  2.91704817e-01 -2.16579310e-01  2.38104729e-01 -1.21420668e+01\n",
      " -1.42632690e+01  1.30330477e+00 -9.17164642e-02 -3.44553813e-01\n",
      "  3.56200694e-01  7.38598010e+00 -9.73443548e-13  7.49148556e+00\n",
      "  1.01891294e+01  8.31447624e-02 -2.10599507e+00  4.65254439e-02\n",
      " -1.64033689e+00 -2.30926389e-14 -8.66110507e-01 -7.26985920e-01\n",
      "  5.62782207e-01 -4.52354941e+00  2.27065206e+00  2.68075148e+00\n",
      "  1.35214592e+00  1.15929665e-01  3.05866425e+00  4.23159122e+00\n",
      " -1.69295070e-01  5.46095981e-02  1.82251328e+00 -3.11167986e-02\n",
      "  1.60489869e+00  8.26285806e-02  4.08784988e+00 -1.30079735e+00\n",
      "  4.93928058e+00  4.03796573e+00  7.33800953e-01  6.29098636e+00\n",
      "  0.00000000e+00  0.00000000e+00  0.00000000e+00]\n",
      "Свободный коэффицент уравнения w0: -13.71242020431714\n"
     ]
    }
   ],
   "source": [
    "print('Веса всех признаков (w1, ..., w167): ', model.coef_)\n",
    "print('Свободный коэффицент уравнения w0:', model.intercept_)"
   ]
  },
  {
   "cell_type": "code",
   "execution_count": 19,
   "metadata": {
    "id": "9Tf9cWDVPZR0"
   },
   "outputs": [],
   "source": [
    "# Создадим массив названия признаков\n",
    "features = test_full.columns"
   ]
  },
  {
   "cell_type": "code",
   "execution_count": 20,
   "metadata": {
    "colab": {
     "base_uri": "https://localhost:8080/",
     "height": 424
    },
    "id": "dRgzlzdZPQ7l",
    "outputId": "f783490e-8b49-41d6-a28d-36c8b8b5c811"
   },
   "outputs": [
    {
     "data": {
      "text/html": [
       "<div>\n",
       "<style scoped>\n",
       "    .dataframe tbody tr th:only-of-type {\n",
       "        vertical-align: middle;\n",
       "    }\n",
       "\n",
       "    .dataframe tbody tr th {\n",
       "        vertical-align: top;\n",
       "    }\n",
       "\n",
       "    .dataframe thead th {\n",
       "        text-align: right;\n",
       "    }\n",
       "</style>\n",
       "<table border=\"1\" class=\"dataframe\">\n",
       "  <thead>\n",
       "    <tr style=\"text-align: right;\">\n",
       "      <th></th>\n",
       "      <th>Coefficient</th>\n",
       "      <th>features</th>\n",
       "    </tr>\n",
       "  </thead>\n",
       "  <tbody>\n",
       "    <tr>\n",
       "      <th>76</th>\n",
       "      <td>-71.195794</td>\n",
       "      <td>wtd_entropy_Valence</td>\n",
       "    </tr>\n",
       "    <tr>\n",
       "      <th>25</th>\n",
       "      <td>-47.980677</td>\n",
       "      <td>entropy_atomic_radius</td>\n",
       "    </tr>\n",
       "    <tr>\n",
       "      <th>5</th>\n",
       "      <td>-18.300696</td>\n",
       "      <td>entropy_atomic_mass</td>\n",
       "    </tr>\n",
       "    <tr>\n",
       "      <th>46</th>\n",
       "      <td>-17.628671</td>\n",
       "      <td>wtd_entropy_ElectronAffinity</td>\n",
       "    </tr>\n",
       "    <tr>\n",
       "      <th>55</th>\n",
       "      <td>-16.630801</td>\n",
       "      <td>entropy_FusionHeat</td>\n",
       "    </tr>\n",
       "    <tr>\n",
       "      <th>...</th>\n",
       "      <td>...</td>\n",
       "      <td>...</td>\n",
       "    </tr>\n",
       "    <tr>\n",
       "      <th>65</th>\n",
       "      <td>15.159779</td>\n",
       "      <td>entropy_ThermalConductivity</td>\n",
       "    </tr>\n",
       "    <tr>\n",
       "      <th>56</th>\n",
       "      <td>21.569927</td>\n",
       "      <td>wtd_entropy_FusionHeat</td>\n",
       "    </tr>\n",
       "    <tr>\n",
       "      <th>26</th>\n",
       "      <td>28.045945</td>\n",
       "      <td>wtd_entropy_atomic_radius</td>\n",
       "    </tr>\n",
       "    <tr>\n",
       "      <th>75</th>\n",
       "      <td>51.614451</td>\n",
       "      <td>entropy_Valence</td>\n",
       "    </tr>\n",
       "    <tr>\n",
       "      <th>16</th>\n",
       "      <td>52.879640</td>\n",
       "      <td>wtd_entropy_fie</td>\n",
       "    </tr>\n",
       "  </tbody>\n",
       "</table>\n",
       "<p>167 rows × 2 columns</p>\n",
       "</div>"
      ],
      "text/plain": [
       "    Coefficient                      features\n",
       "76   -71.195794           wtd_entropy_Valence\n",
       "25   -47.980677         entropy_atomic_radius\n",
       "5    -18.300696           entropy_atomic_mass\n",
       "46   -17.628671  wtd_entropy_ElectronAffinity\n",
       "55   -16.630801            entropy_FusionHeat\n",
       "..          ...                           ...\n",
       "65    15.159779   entropy_ThermalConductivity\n",
       "56    21.569927        wtd_entropy_FusionHeat\n",
       "26    28.045945     wtd_entropy_atomic_radius\n",
       "75    51.614451               entropy_Valence\n",
       "16    52.879640               wtd_entropy_fie\n",
       "\n",
       "[167 rows x 2 columns]"
      ]
     },
     "execution_count": 20,
     "metadata": {},
     "output_type": "execute_result"
    }
   ],
   "source": [
    "coeff_df = pd.DataFrame(model.coef_, columns=['Coefficient'])  \n",
    "coeff_df['features'] = features\n",
    "\n",
    "coeff_df.sort_values(by='Coefficient')"
   ]
  },
  {
   "cell_type": "markdown",
   "metadata": {
    "id": "mSi9LYMcPuvU"
   },
   "source": [
    "Предскажем результат для тех же самых тренировочных данных и оценим наш алгоритм линейной регрессии с помощью различных оценок регрессии:\n",
    "1. **Средняя абсолютная ошибка (MAE)** – это среднее значение абсолютного значения ошибок. Он рассчитывается как:\n",
    "\n",
    "$MAE = \\frac{1}{n}*sum_{i=1}^n|y_i-y_{pred_i}|$\n",
    "\n",
    "где $n$ - количество наблюдений\n",
    "\n",
    "2. **Среднеквадратичная ошибка (MSE)** – это среднее значение квадратов ошибок и вычисляется как:\n",
    "\n",
    "$MAE = \\frac{1}{n}*sum_{i=1}^n|y_i-y_{pred_i}|^2$\n",
    "\n",
    "где $n$ - количество наблюдений\n",
    "\n",
    "В идеальном случае MAE и MSE равны 0."
   ]
  },
  {
   "cell_type": "code",
   "execution_count": 47,
   "metadata": {
    "colab": {
     "base_uri": "https://localhost:8080/"
    },
    "id": "nFMtNS8FPnsc",
    "outputId": "dae25d1e-0f7a-46be-e89e-abf14071e013"
   },
   "outputs": [
    {
     "name": "stdout",
     "output_type": "stream",
     "text": [
      "Mean Absolute Error: 12.967137734633047\n",
      "Mean Squared Error: 1596.3348900801695\n"
     ]
    }
   ],
   "source": [
    "y_pred = model.predict(X_test)\n",
    "\n",
    "print('Mean Absolute Error:', mean_absolute_error(y_test, y_pred))\n",
    "print('Mean Squared Error:', mean_squared_error(y_test, y_pred))"
   ]
  },
  {
   "cell_type": "markdown",
   "metadata": {
    "id": "giQM2obaR831"
   },
   "source": [
    "\n",
    "$R^2 = 1 - \\frac{sum_{i=1}^n|y_{pred_i}-y_i|^2$}{sum_{i=1}^n|y_{_i}-y_{mean}|^2$}$\n",
    "\n",
    "где $n$ - количество наблюдений, $y_i$ — реальные значения $y$ (т.е. правильные ответы) в каждом наблюдении, $y_{pred_i}$ — значения, предсказанные моделью, $y_{mean}$ — среднее по всем реальным значениям $y_i$.\n",
    "\n",
    "Если значение оценки R в квадрате равно 1, это означает, что модель идеальна, а если ее значение равно 0, это означает, что модель будет плохо работать с неизвестным набором данных. Это также означает, что чем ближе значение оценки R в квадрате к 1, тем точнее обучается модель.\n"
   ]
  },
  {
   "cell_type": "code",
   "execution_count": 48,
   "metadata": {
    "colab": {
     "base_uri": "https://localhost:8080/"
    },
    "id": "UvlFv8x4TK2R",
    "outputId": "8cca1225-77bd-4209-881a-4b3e68d66006"
   },
   "outputs": [
    {
     "name": "stdout",
     "output_type": "stream",
     "text": [
      "R2 score: -0.35025315561615833\n"
     ]
    }
   ],
   "source": [
    "print('R2 score:', r2_score(y_test, y_pred))"
   ]
  },
  {
   "cell_type": "markdown",
   "metadata": {
    "id": "3onH2jwIsbhC"
   },
   "source": [
    "Попробуем обучить модель с помощью кросс валидации."
   ]
  },
  {
   "cell_type": "code",
   "execution_count": 51,
   "metadata": {
    "colab": {
     "base_uri": "https://localhost:8080/"
    },
    "id": "s3nW2JMXsfc1",
    "outputId": "6e7a7a64-d4a6-460e-ac3e-9001fc2a3284"
   },
   "outputs": [
    {
     "name": "stdout",
     "output_type": "stream",
     "text": [
      "[ 0.76383793  0.19156208 -0.49669365  0.74962019  0.77696281]\n",
      "0.3970578738410411\n"
     ]
    }
   ],
   "source": [
    "from sklearn.model_selection import KFold\n",
    "from sklearn.model_selection import cross_val_score\n",
    "\n",
    "num_folds = 5\n",
    "seed = 7\n",
    "\n",
    "kfold = KFold(n_splits=num_folds, random_state=seed, shuffle=True)\n",
    "\n",
    "model = LinearRegression()\n",
    "scores = cross_val_score(model, X, y, cv=kfold, scoring='r2')\n",
    "\n",
    "print(scores)\n",
    "print(scores.mean())"
   ]
  },
  {
   "cell_type": "code",
   "execution_count": 54,
   "metadata": {},
   "outputs": [
    {
     "data": {
      "text/plain": [
       "LinearRegression()"
      ]
     },
     "execution_count": 54,
     "metadata": {},
     "output_type": "execute_result"
    }
   ],
   "source": [
    "model.fit(X, y)"
   ]
  },
  {
   "cell_type": "markdown",
   "metadata": {
    "id": "EUqq9nzPTiVK"
   },
   "source": [
    "## Обучение модели на одном признаке для визуалиции прямой регрессии"
   ]
  },
  {
   "cell_type": "markdown",
   "metadata": {
    "id": "4zlZ_JlfToIL"
   },
   "source": [
    "Обучим модель на 1 признаке для визуализации прямой линейной регрессии на двумерном графике."
   ]
  },
  {
   "cell_type": "code",
   "execution_count": 24,
   "metadata": {
    "colab": {
     "base_uri": "https://localhost:8080/"
    },
    "id": "PI-TLrnuUx-F",
    "outputId": "40e0cf87-926b-4454-cad9-076b5d3dee1a"
   },
   "outputs": [
    {
     "data": {
      "text/plain": [
       "0         84.528423\n",
       "1         84.370167\n",
       "2         84.214573\n",
       "3         84.371352\n",
       "4         84.843442\n",
       "            ...    \n",
       "17005    134.233861\n",
       "17006     89.633687\n",
       "17007    191.826893\n",
       "17008    188.514109\n",
       "17009    136.084313\n",
       "Name: wtd_gmean_atomic_radius, Length: 17010, dtype: float64"
      ]
     },
     "execution_count": 24,
     "metadata": {},
     "output_type": "execute_result"
    }
   ],
   "source": [
    "train_full['wtd_gmean_atomic_radius']"
   ]
  },
  {
   "cell_type": "code",
   "execution_count": 25,
   "metadata": {
    "colab": {
     "base_uri": "https://localhost:8080/"
    },
    "id": "TtZGomBLTxXJ",
    "outputId": "adde62bf-d9db-4dc1-b409-495cea65a207"
   },
   "outputs": [
    {
     "name": "stdout",
     "output_type": "stream",
     "text": [
      "Вес признака (w1):  [-0.38950027]\n",
      "Свободный коэффицент уравнения w0: 81.59500891328813\n"
     ]
    }
   ],
   "source": [
    "X_1 = train_full[['wtd_gmean_atomic_radius']].values\n",
    "\n",
    "# Создадим модель линейной регрессии\n",
    "model = LinearRegression()\n",
    "\n",
    "# Обучим линейную регрессию на тренировочном стандартизированном наборе данных \n",
    "# На этапе обучения алгоритм рассчитывает веса признаков и строит линейное уравнение регрессии \n",
    "model.fit(X_1, y)\n",
    "\n",
    "print('Вес признака (w1): ', model.coef_)\n",
    "print('Свободный коэффицент уравнения w0:', model.intercept_)"
   ]
  },
  {
   "cell_type": "markdown",
   "metadata": {
    "id": "TrL3A223VF1K"
   },
   "source": [
    "Исходя из полученных коэффицентов, уравнение прямой будет выглядеть следующим образом:\n",
    "\n",
    "$y = 81.87 - 0.391*x_1$"
   ]
  },
  {
   "cell_type": "code",
   "execution_count": 26,
   "metadata": {
    "colab": {
     "base_uri": "https://localhost:8080/",
     "height": 282
    },
    "id": "_5wcY0XmVbP_",
    "outputId": "7c5dc7e3-fddf-4b2f-bbee-04f55272fdcf"
   },
   "outputs": [
    {
     "data": {
      "text/plain": [
       "[<matplotlib.lines.Line2D at 0x1a7445ba880>]"
      ]
     },
     "execution_count": 26,
     "metadata": {},
     "output_type": "execute_result"
    },
    {
     "data": {
      "image/png": "[encoded data removed]",
      "text/plain": [
       "<Figure size 432x288 with 1 Axes>"
      ]
     },
     "metadata": {
      "needs_background": "light"
     },
     "output_type": "display_data"
    }
   ],
   "source": [
    "plt.scatter(X_1, y)\n",
    "plt.plot(X_1, model.predict(X_1), color='red', linewidth=2)"
   ]
  },
  {
   "cell_type": "markdown",
   "metadata": {
    "id": "0HSAzThcVkuy"
   },
   "source": [
    "## Предсказание ответа для тестового набора данных"
   ]
  },
  {
   "cell_type": "code",
   "execution_count": 55,
   "metadata": {
    "id": "YmOh4F_uVoqO"
   },
   "outputs": [],
   "source": [
    "y_pred_test = model.predict(test_full)"
   ]
  },
  {
   "cell_type": "code",
   "execution_count": 57,
   "metadata": {
    "colab": {
     "base_uri": "https://localhost:8080/",
     "height": 17
    },
    "id": "fez-v4XSWXZ2",
    "outputId": "a28b6097-9dc7-4854-a1f1-88182737c13a"
   },
   "outputs": [],
   "source": [
    "y_pred_test = pd.DataFrame(y_pred_test, columns=['critical_temp'])\n",
    "y_pred_test = y_pred_test.reset_index()\n",
    "\n",
    "y_pred_test.to_csv(\"solution.csv\", index=False)"
   ]
  }
 ],
 "metadata": {
  "colab": {
   "name": "Samsung. Baseline. Изучение критической температуры сверхпроводников.ipynb",
   "provenance": [],
   "toc_visible": true
  },
  "kernelspec": {
   "display_name": "Python 3 (ipykernel)",
   "language": "python",
   "name": "python3"
  },
  "language_info": {
   "codemirror_mode": {
    "name": "ipython",
    "version": 3
   },
   "file_extension": ".py",
   "mimetype": "text/x-python",
   "name": "python",
   "nbconvert_exporter": "python",
   "pygments_lexer": "ipython3",
   "version": "3.8.10"
  }
 },
 "nbformat": 4,
 "nbformat_minor": 1
}
