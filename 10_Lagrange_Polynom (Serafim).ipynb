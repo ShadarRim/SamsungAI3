{
 "cells": [
  {
   "cell_type": "markdown",
   "id": "e14c0131",
   "metadata": {},
   "source": [
    "# Интерполяционный многочлен Лагранжа"
   ]
  },
  {
   "cell_type": "markdown",
   "id": "54132850",
   "metadata": {},
   "source": [
    "Пусть задана ${\\displaystyle n+1}$ пара чисел ${\\displaystyle (x_{0},y_{0}),(x_{1},y_{1}),\\ldots ,(x_{n},y_{n}),}{\\displaystyle (x_{0},y_{0}),(x_{1},y_{1}),\\ldots ,(x_{n},y_{n}),}$ где все ${\\displaystyle x_{j}}x_{j}$ различны. Требуется построить многочлен ${\\displaystyle L(x)}$ степени не более ${\\displaystyle n}$, для которого ${\\displaystyle L(x_{j})=y_{j}}$."
   ]
  },
  {
   "cell_type": "markdown",
   "id": "b49189c3",
   "metadata": {},
   "source": [
    "Ж. Л. Лагранж предложил следующий способ вычисления таких многочленов:\n",
    "\n",
    "${\\displaystyle L(x)=\\sum _{i=0}^{n}y_{i}l_{i}(x),}{\\displaystyle L(x)=\\sum _{i=0}^{n}y_{i}l_{i}(x),}$\n",
    "где базисные полиномы ${\\displaystyle l_{i}}$ определяются по формуле\n",
    "\n",
    "${\\displaystyle l_{i}(x)=\\prod _{j=0,j\\neq i}^{n}{\\frac {x-x_{j}}{x_{i}-x_{j}}}={\\frac {x-x_{0}}{x_{i}-x_{0}}}\\cdots {\\frac {x-x_{i-1}}{x_{i}-x_{i-1}}}\\cdot {\\frac {x-x_{i+1}}{x_{i}-x_{i+1}}}\\cdots {\\frac {x-x_{n}}{x_{i}-x_{n}}}}{\\displaystyle l_{i}(x)=\\prod _{j=0,j\\neq i}^{n}{\\frac {x-x_{j}}{x_{i}-x_{j}}}={\\frac {x-x_{0}}{x_{i}-x_{0}}}\\cdots {\\frac {x-x_{i-1}}{x_{i}-x_{i-1}}}\\cdot {\\frac {x-x_{i+1}}{x_{i}-x_{i+1}}}\\cdots {\\frac {x-x_{n}}{x_{i}-x_{n}}}}$ \\\n",
    "Для любого ${\\displaystyle i=0,\\ldots ,n}$ многочлен ${\\displaystyle l_{i}}$ имеет степень ${\\displaystyle n}$ и\n",
    "\n",
    "${\\displaystyle l_{i}(x_{j})=\\left\\{{\\begin{array}{rl}0,&j\\neq i,\\\\1,&j=i.\\end{array}}\\right.}$ \\\n",
    "Отсюда следует, что ${\\displaystyle L(x)}$, являющийся линейной комбинацией многочленов ${\\displaystyle l_{i}(x)}$, имеет степень не больше ${\\displaystyle n}$ и ${\\displaystyle L(x_{i})=y_{i}}$."
   ]
  },
  {
   "cell_type": "markdown",
   "id": "5e09602e",
   "metadata": {},
   "source": [
    "## Логика вывода(Мои рассуждения, так что вникайте):"
   ]
  },
  {
   "cell_type": "markdown",
   "id": "dce997d7",
   "metadata": {},
   "source": [
    "Рассмотрим точку $(x_1, y_1)$. Давайте придумаем множитель $l_1(x)$ такой, что при подстановке в него любой другой точки из набора этот множительбудет обнулятся, а при подстановке $(x_1, y_1)$ давать 1. Обнуления добиться легко: \\\n",
    "$$ l_1(x) = (x-x_2)(x-x_3)(x-x_4)\\ldots(x-x_{n-1})(x-x_n) $$ \\\n",
    "При этом при подстановке $x_1$ мы хотим получить 1. Для чего? Чтобы после умножить на $y_1$ и на выходе получить, что $l_1(x_1) = y_1$\\\n",
    "Пока что $l_1(x_1) = (x_1-x_2)(x_1-x_3)(x_1-x_4)\\ldots(x_1-x_{n-1})(x_1-x_n)$ \\\n",
    "Тогда давайте поделим на эту константу, чтобы получить $1$.\n",
    "Итого:\n",
    "$$l_1(x) = \\frac{(x-x_2)(x-x_3)(x-x_4)\\ldots(x-x_{n-1})(x-x_n)}{(x_1-x_2)(x_1-x_3)(x_1-x_4)\\ldots(x_1-x_{n-1})(x_1-x_n)}$$\n",
    "\\\n",
    "Итак, мы придумали $l_1(x)$ такой, что $l_1(x_1) = 1$, а $l_1(x_{2, 3{\\ldots}n-1, n}) = 0$\\\n",
    "Тогда очевидно, что $y_1*l_1(x_1) = y_1$, а $y_1*l_1(x_{2, 3{\\ldots}n-1, n}) = 0$ \\\n",
    "\\\n",
    "Далее понятно, как записать необходимый $y(x)$: \\\n",
    "$$y(x) = y_1*l(x)_1 + y_2*l_2(x) \\ldots y_{n}*l(x)_n + y_{n+1}*l_{n+1}(x)$$"
   ]
  },
  {
   "cell_type": "markdown",
   "id": "85db96ac",
   "metadata": {},
   "source": [
    "## Единственность"
   ]
  },
  {
   "cell_type": "markdown",
   "id": "931bed80",
   "metadata": {},
   "source": [
    "Предположим, что существуют два различных многочлена ${\\displaystyle P(x)}$ и ${\\displaystyle Q(x)}$ степени не более ${\\displaystyle n}$, для которых верно, что для $n+1$ пар чисел $(x_{0},y_{0}),(x_{1},y_{1}),\\ldots ,(x_{n},y_{n})$ где все $x_{j}$ различны, $P(x_{j})=Q(x_{j})=y_{j}$. Рассмотрим многочлен $ L(x)=P(x)-Q(x)$. Подставляя в него $x_{j}$ $0\\leq j\\leq n$, получаем, что $L(x_j)=P(x_j)-Q(x_j)=y_j-y_j=0$. Таким образом, многочлен $L(x)$ имеет $n+1$ корней и все они различны. Следовательно $L(x)\\equiv 0$, так как ненулевой многочлен степени не превосходящей $n$ имеет не более $n$ корней. Следовательно, $P(x)=Q(x)$. "
   ]
  },
  {
   "cell_type": "markdown",
   "id": "da6c2845",
   "metadata": {},
   "source": [
    "## Построение полиномов с помощью numpy\n",
    "В Python в библиотеке numpy есть встроенная библиотека для построения полиномов.\\\n",
    "Необходимо подключить библиотеку numpy.polynomial.polynomial \\\n",
    "Для примера построим параболу $y(x) = 4x^2 - 3x - 1$"
   ]
  },
  {
   "cell_type": "code",
   "execution_count": 16,
   "id": "d117cdc1",
   "metadata": {},
   "outputs": [
    {
     "name": "stdout",
     "output_type": "stream",
     "text": [
      "-1.0 - 3.0 x**1 + 1.0 x**2\n",
      "2.0 + 3.0 x**1 - 1.0 x**2\n",
      "1.0\n"
     ]
    }
   ],
   "source": [
    "import numpy as np\n",
    "import numpy.polynomial.polynomial as poly\n",
    "import matplotlib.pyplot as plt\n",
    "\n",
    "Y1_coeff = [-1, -3, 1] #создаем массив с коэффицентами начиная с свободного члена\n",
    "Y2_coeff = [2, 3, -1]\n",
    "Y1_x = poly.Polynomial(Y1_coeff) #создаем полиномальную функцию\n",
    "Y2_x = poly.Polynomial(Y2_coeff)\n",
    "\n",
    "Y3_x = Y1_x+Y2_x #Полиномы можно складывать\n",
    "\n",
    "print(Y1_x)\n",
    "print(Y2_x)\n",
    "print(Y3_x)\n",
    "\n",
    "\n"
   ]
  },
  {
   "cell_type": "code",
   "execution_count": 17,
   "id": "3208bb89",
   "metadata": {},
   "outputs": [],
   "source": [
    "#создаем точки, для постраения графиков\n",
    "x1_i = np.arange(-10, 10, 0.1)\n",
    "y1_i = Y1_x(x1_i)\n",
    "\n",
    "x2_i = np.arange(-10, 10, 0.1)\n",
    "y2_i = Y2_x(x2_i)\n",
    "\n",
    "x3_i = np.arange(-10, 10, 0.1)\n",
    "y3_i = Y3_x(x3_i)"
   ]
  },
  {
   "cell_type": "code",
   "execution_count": 44,
   "id": "ad5f2209",
   "metadata": {
    "scrolled": false
   },
   "outputs": [
    {
     "data": {
      "image/png": "[encoded data removed]",
      "text/plain": [
       "<Figure size 360x288 with 1 Axes>"
      ]
     },
     "metadata": {
      "needs_background": "light"
     },
     "output_type": "display_data"
    }
   ],
   "source": [
    "#Строим график\n",
    "fig = plt.figure(figsize = (5,4))\n",
    "\n",
    "plt.plot(x1_i, y1_i, 'b', label = 'y1(x)')\n",
    "plt.plot(x2_i, y2_i, 'r', label = 'y2(x)')\n",
    "plt.plot(x3_i, y3_i, 'g', label = 'y3(x)')\n",
    "\n",
    "plt.xlabel('x')\n",
    "plt.ylabel('y')\n",
    "plt.grid()\n",
    "plt.legend()\n",
    "plt.show()"
   ]
  },
  {
   "cell_type": "markdown",
   "id": "5e293817",
   "metadata": {},
   "source": [
    "## Реализация полинома лагранжа на python"
   ]
  },
  {
   "cell_type": "code",
   "execution_count": 41,
   "id": "cbc0383f",
   "metadata": {},
   "outputs": [],
   "source": [
    "import numpy as np\n",
    "import matplotlib.pyplot as plt"
   ]
  },
  {
   "cell_type": "code",
   "execution_count": 19,
   "id": "930cdbdd",
   "metadata": {},
   "outputs": [],
   "source": [
    "#функция нахождения значения полинома в точке x_value, где полином проходит через все точки (x[i], y[i])\n",
    "def Interpolated_value_at_x(x_value, x, y, n):\n",
    "    y_value = 0\n",
    "    \n",
    "    for i in range(n):\n",
    "        l_i = 1\n",
    "        for j in range(n):\n",
    "            if i != j:\n",
    "                l_i = l_i * (x_value - x[j])/(x[i] - x[j])\n",
    "\n",
    "        y_value = y_value + l_i * y[i]\n",
    "    return y_value"
   ]
  },
  {
   "cell_type": "code",
   "execution_count": 42,
   "id": "55013901",
   "metadata": {},
   "outputs": [],
   "source": [
    "#Функция для построения графика полинома\n",
    "def draw_polynom(x_points, y_points, n):\n",
    "    x_values = np.arange(min(x_points)-0.1, max(x_points)+0.1, 0.01)\n",
    "    y_values = Interpolated_value_at_x(x_values, x_points, y_points, n)\n",
    "    \n",
    "    fig = plt.figure(figsize = (5,4))\n",
    "    plt.plot(x_values, y_values, 'r', label = \"polynom\")\n",
    "    plt.scatter(x_points, y_points)\n",
    "    plt.xlabel('x')\n",
    "    plt.ylabel('y')\n",
    "    plt.grid()\n",
    "    plt.show()"
   ]
  },
  {
   "cell_type": "code",
   "execution_count": 48,
   "id": "ea6b1d9a",
   "metadata": {},
   "outputs": [],
   "source": [
    "#Песочница\n",
    "\n",
    "#x1 = [-1, 0, 1, 2, 3, 4, 5, 6, 7, 8, 9]\n",
    "#y1 = [1, 2, 3, 4, 5, 6, 5, 4, 3, 2, 1]\n",
    "#draw_polynom(x1, y1, len(x1))\n"
   ]
  },
  {
   "cell_type": "code",
   "execution_count": 43,
   "id": "fdbde838",
   "metadata": {},
   "outputs": [
    {
     "data": {
      "image/png": "[encoded data removed]",
      "text/plain": [
       "<Figure size 360x288 with 1 Axes>"
      ]
     },
     "metadata": {
      "needs_background": "light"
     },
     "output_type": "display_data"
    }
   ],
   "source": [
    "x1 = [-1, 0, 1, 2, 3, 4, 5, 6, 7, 8, 9]\n",
    "y1 = [1, 2, 3, 4, 5, 6, 5, 4, 3, 2, 1]\n",
    "draw_polynom(x1, y1, len(x1))"
   ]
  },
  {
   "cell_type": "markdown",
   "id": "ef984ae3",
   "metadata": {},
   "source": [
    "Проблема:Функция может вести себя странно."
   ]
  },
  {
   "cell_type": "markdown",
   "id": "128cb279",
   "metadata": {},
   "source": [
    "## Решение: Сплайны"
   ]
  },
  {
   "cell_type": "markdown",
   "id": "5e146081",
   "metadata": {},
   "source": [
    "Существует довольно много разновидностей сплайнов, но всех их объединяет один сценарий применения. Как только глобальная интерполяция по какой-либо причине перестает годиться для наших задач, мы можем разделить наш интервал на более малые фрагменты и определить отдельные функции для интерполяции на каждом из них.\n",
    "\n",
    "Единственное, что нам нужно учесть, так это необходимость их соединения на концах для сохранения непрерывности. Если мы гарантируем непрерывность не только итоговой, кусочно-заданной функции, но и ее первой производной, то в таком случае тангенсы каждого ее отрезка будут совпадать, а ее график будет выглядеть плавно."
   ]
  },
  {
   "attachments": {
    "image.png": {
     "image/png": "[encoded data removed]"
    }
   },
   "cell_type": "markdown",
   "id": "024c6e27",
   "metadata": {},
   "source": [
    "![image.png](attachment:image.png)"
   ]
  },
  {
   "cell_type": "markdown",
   "id": "9eba8dd9",
   "metadata": {},
   "source": [
    "Полиномиальный сплайн, состоящий из двух фрагментов. Каждый его фрагмент определяется полиномом третьей степени, то есть он называется кубическим."
   ]
  },
  {
   "cell_type": "markdown",
   "id": "e4dc4c6a",
   "metadata": {},
   "source": [
    "Для построения сплайна решим систему:\n",
    "Пусть известны точки $(x_1, y_1), (x_2, y_2), (x_3, y_3) $ через которые должен проходить график. Тогда при построении сплайна кубическими функциями необходимо: \\\n",
    "$$  \\begin{cases}\n",
    "    a_1 x_1^3 + b_1 x_1^2 + c_1 x_1 + d_1 = y_1 \\\\\n",
    "    a_1 x_2^3 + b_1 x_2^2 + c_1 x_2 + d_1 = y_2 \\\\\n",
    "    a_2 x_2^3 + b_2 x_2^2 + c_2 x_2 + d_2 = y_2 \\\\\n",
    "    a_2 x_3^3 + b_2 x_3^2 + c_2 x_3 + d_2 = y_3 \\\\\n",
    "    3 a_1 x_2^2 + 2 b_1 x_2^2 + c_1 = 3 a_2 x_2^2 + 2 b_2 x_2^2 + c_2  \\text{ (равенство производных)}\\\\ \n",
    "    \\end{cases}\n",
    "$$\n",
    "Дальше можете сами что-нибудь придумать. Погуглив статьи я понял, что если рассказывать, то лучше про оптимальную апроксимацию сплайнами, которая решает следующую задачу:\\\n",
    "Пусть нам дан набор точек $(x_i, y_i)_{i=0}^{n-1}$ и соответствующий им набор положительных весов $(w_i)_{i=0}^{n-1}$. Мы считаем, что некоторые точки могут быть важнее других (если нет, то все веса одинаковые). Неформально говоря, мы хотим, чтобы на соответствующем интервале была проведена красивая кривая таким образом, чтобы она «лучше всего» проходила через эти данные.\\\n",
    "\\\n",
    "Вот $\\href{https://habr.com/ru/post/314218/}{ссылка}$ на неплохую статью на хабр."
   ]
  }
 ],
 "metadata": {
  "kernelspec": {
   "display_name": "Python 3 (ipykernel)",
   "language": "python",
   "name": "python3"
  },
  "language_info": {
   "codemirror_mode": {
    "name": "ipython",
    "version": 3
   },
   "file_extension": ".py",
   "mimetype": "text/x-python",
   "name": "python",
   "nbconvert_exporter": "python",
   "pygments_lexer": "ipython3",
   "version": "3.9.12"
  }
 },
 "nbformat": 4,
 "nbformat_minor": 5
}
