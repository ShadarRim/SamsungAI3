{
  "cells": [
    {
      "cell_type": "markdown",
      "metadata": {
        "id": "s9VCwFKEXU5l"
      },
      "source": [
        "# Элементы теории вероятности и математической статистики\n",
        "\n",
        "В рамках этой котороткой лекции не рассматриваются глубокие математические основы курса теорвера и матстата. Однако, приводится ряд примеров и определений, необходимых для возможности вести вдальшейнем диалог о машинном обучении.\n"
      ]
    },
    {
      "cell_type": "markdown",
      "metadata": {
        "id": "cm5NtJ9kPzeP"
      },
      "source": [
        "## О чём вообще речь?\n",
        "\n",
        "**Случайное событие** — то, которое при определенных условиях может произойти или нет.\n",
        "\n",
        "Примеры случайного события:\n",
        "1. При броске двух игральных костей на одной выпало число 1, а на другой — 2.\n",
        "2. Клиент банка не вернул кредит.\n",
        "3. Вы сдали ЕГЭ на 100 баллов.\n",
        "4. Монету подбросили сто раз, орел выпал в 55 случаях. \n",
        "\n",
        "Событие можно называть **достоверным**, если в результате испытания оно обязательно произойдет.\n",
        "\n",
        "**Невозможное** событие не произойдет никогда.\n",
        "\n",
        "Примеры достоверного события:\n",
        "1. На игральной кости выпало число, не превышающее 6.\n",
        "2. Подбросили монету, и выпал либо орел, либо решка.\n",
        "3. Вы сдали ЕГЭ не меньше, чем на 0 баллов (надеюсь так и будет).\n",
        "\n",
        "Примеры невозможного события:\n",
        "1. Две игральные кости бросили один раз, и сумма выпавших чисел составила 15.\n",
        "2. Монету подбросили стократно, и решка выпала 55 раз, а орел — 56.\n",
        "3. Вы сдали ЕГЭ по математике на 101 балл."
      ]
    },
    {
      "cell_type": "markdown",
      "metadata": {
        "id": "6Ejk9nsyQoJm"
      },
      "source": [
        "Очень простой пример\n",
        "\n",
        "$b$ - слуачйная величина сдача ЕГЭ."
      ]
    },
    {
      "cell_type": "code",
      "execution_count": null,
      "metadata": {
        "colab": {
          "background_save": true,
          "base_uri": "https://localhost:8080/"
        },
        "id": "7fwdGdUsQnYt",
        "outputId": "b1718d6b-e7ef-469c-9c3c-206356fd6291"
      },
      "outputs": [
        {
          "name": "stdout",
          "output_type": "stream",
          "text": [
            "[53 77 13 ...  1 32 82]\n"
          ]
        },
        {
          "data": {
            "text/plain": [
              "100"
            ]
          },
          "execution_count": null,
          "metadata": {},
          "output_type": "execute_result"
        }
      ],
      "source": [
        "import numpy as np\n",
        "\n",
        "n = 60000\n",
        "\n",
        "b = np.random.randint(1, 1001, size=n)\n",
        "print(b)\n",
        "b.max()"
      ]
    },
    {
      "cell_type": "markdown",
      "metadata": {
        "id": "VkZVC7pkTaEF"
      },
      "source": [
        "## Ключевые параметры\n",
        "\n"
      ]
    },
    {
      "cell_type": "markdown",
      "metadata": {
        "id": "jnEcgxLSX-fj"
      },
      "source": [
        "### Математическое ожидание \n",
        "\n",
        "Взвешанное по вероятности появления значение случайной величины. \n",
        "\n",
        "$E[X] = Σ_i{p_i*x_i}$, где\n",
        "\n",
        "$p_i$ - вроятность появления i-ого события \\\\\n",
        "$x_i$ - значение случайной величины на i-ом эксперименте"
      ]
    },
    {
      "cell_type": "code",
      "execution_count": null,
      "metadata": {
        "colab": {
          "base_uri": "https://localhost:8080/"
        },
        "id": "JLEwY1cwUzel",
        "outputId": "034d76cc-c361-453d-c2c4-3ab97578fae5"
      },
      "outputs": [
        {
          "data": {
            "text/plain": [
              "[1, 1, 2, 5, 6, 7, 3, 4, 5, 6]"
            ]
          },
          "execution_count": 4,
          "metadata": {},
          "output_type": "execute_result"
        }
      ],
      "source": [
        "import numpy as np\n",
        "n = 10\n",
        "\n",
        "\n",
        "b = ([1, 1, 2, 5, 6, 7, 3, 4, 5, 6])\n",
        "b"
      ]
    },
    {
      "cell_type": "code",
      "execution_count": null,
      "metadata": {
        "id": "51wtz-gDWNYo"
      },
      "outputs": [],
      "source": [
        "m2 = sum(b)/len(b)\n",
        "m2\n",
        "# D = sum((m2)**2)/len(b)\n",
        "# D\n",
        "#sd = (D*len(b)/(len(b)-1))**(1/2)\n",
        "#sd"
      ]
    },
    {
      "cell_type": "markdown",
      "metadata": {
        "id": "2HfRDZdBWgSz"
      },
      "source": [
        "Однако, вы когда-нибудь видели кости, среднее значение выпашей грани для которых не равно 3.5?"
      ]
    },
    {
      "cell_type": "markdown",
      "metadata": {
        "id": "zAJc33hmXHNc"
      },
      "source": [
        "###Дисперсия\n",
        "\n",
        "Дисперсия случайной величины — мера разброса значений случайной величины относительно её математического ожидания.\n",
        "\n",
        "$ D[X] = E[(X-E[X])^2]$"
      ]
    },
    {
      "cell_type": "code",
      "execution_count": null,
      "metadata": {
        "id": "EExskYwzYGWf"
      },
      "outputs": [],
      "source": [
        "a = np.array(b) - int(m2)\n",
        "a"
      ]
    },
    {
      "cell_type": "code",
      "execution_count": null,
      "metadata": {
        "id": "pPcUT1zkX4YZ"
      },
      "outputs": [],
      "source": [
        "D = sum(a)/len(b)\n",
        "D"
      ]
    },
    {
      "cell_type": "code",
      "execution_count": null,
      "metadata": {
        "id": "UsQpB109Yqam"
      },
      "outputs": [],
      "source": [
        "(a)**2"
      ]
    },
    {
      "cell_type": "code",
      "execution_count": null,
      "metadata": {
        "id": "sZUcV0mLYdQv"
      },
      "outputs": [],
      "source": [
        "D = sum((a)**2)/len(b)\n",
        "D"
      ]
    },
    {
      "cell_type": "code",
      "execution_count": null,
      "metadata": {
        "id": "Z1XKwNp84C36"
      },
      "outputs": [],
      "source": [
        "k = [1, 5, 6, 2, 8, 4, 3]\n",
        "l = [545, 546, 550, 544, 548, 547, 543]\n",
        "\n",
        "m2 = sum(k)/len(k)\n",
        "m2\n",
        "\n",
        "k1 = np.array(k) - int(m2)\n",
        "k1\n",
        "\n",
        "m3 = sum(l)/len(l)\n",
        "m3\n",
        "\n",
        "k2 = np.array(l) - int(m3)\n",
        "k2\n",
        "\n",
        "D1 = sum((k1)**2)/len(k)\n",
        "print(D1)\n",
        "D2 = sum((k2)**2)/len(l)\n",
        "print(D2)"
      ]
    },
    {
      "cell_type": "markdown",
      "metadata": {
        "id": "7Hhfbpu0-IfQ"
      },
      "source": [
        "\n",
        "\n",
        "Дисперсию невозможно приложить к величинам реального мира, потому для величин реального мира принята использовать стандартное отклонение, то есть корень из дисперсии, делённый на число измерений в выборке (если точнее, на число измерений в выборке -1)."
      ]
    },
    {
      "cell_type": "code",
      "execution_count": null,
      "metadata": {
        "id": "_r-BjuL5_n6T"
      },
      "outputs": [],
      "source": [
        "b = ([1, 1, 2, 5, 6, 7, 3, 4, 5, 6])\n",
        "D = 4.2\n",
        "sd = (D*len(b)/(len(b)-1))**(1/2)\n",
        "sd"
      ]
    },
    {
      "cell_type": "markdown",
      "metadata": {
        "id": "eYkJdL9qZA3S"
      },
      "source": [
        "### Мода и медиана\n",
        "\n",
        "Мода — значение во множестве наблюдений, которое встречается наиболее часто. \\\\\n",
        "Медиана - значение, которое в упорядоченной выборке находится ровно посредение. \\\\"
      ]
    },
    {
      "cell_type": "markdown",
      "metadata": {
        "id": "QSmB5VVvvb1B"
      },
      "source": [
        "### Медиана или математическое ожидание?\n",
        "\n",
        "Есть известная метафора \"средняя температура по больнице\". Она намекает на то, что считать среднее как минимум бесполезно, без опредеделения краевых значений функций. Наиболее часто проблема расчёта \"среднего\" встречается при расчёте заработной платы."
      ]
    },
    {
      "cell_type": "code",
      "execution_count": null,
      "metadata": {
        "id": "vsNPM3MPZAe1"
      },
      "outputs": [],
      "source": [
        "c = np.array([5, 5, 5, 5, 5, 5, 5, 1000])\n",
        "print(c)\n",
        "print(\"Средняя   заработная плата в этом случае тыс. р.:\", c.mean())\n",
        "print(\"Медианная заработная плата в этом случае тыс. р:\", np.median(c))"
      ]
    },
    {
      "cell_type": "markdown",
      "metadata": {
        "id": "_qAjSnTCzO_r"
      },
      "source": [
        "## Корелляция\n",
        "\n",
        "Довольно часто встаёт задачу оценить меру статистической связанности двух величин между собой. Для решения этой задачи существует большое число различных инструментов, однако наиболее частым из них выступает анализ \"корелляции\". Это настолько употребимое в обиходе слово, что принято считать, что корелляция способна математически оценить любую связь двух величин. Однако, это не так.\n",
        "\n",
        "Корелляция Пирсона считается следующим образом: $r_{xy} = \\frac{Σ(X-E[X])(Y-E[Y])}{\\sqrt{Σ(X-E[X])^2 Σ(Y-E[Y])^2}} $\n",
        "\n",
        "Выражение $Σ(X-E[X])(Y-E[Y])$ - называется ковариация. \n",
        "\n",
        "Корелляция - мера **линейной** связи между двумя случайными величинами. \n",
        "\n"
      ]
    },
    {
      "cell_type": "code",
      "execution_count": null,
      "metadata": {
        "colab": {
          "base_uri": "https://localhost:8080/",
          "height": 265
        },
        "id": "G9zXqtVQ5hXm",
        "outputId": "56e88337-f975-480f-a3ed-e5a84357a95e"
      },
      "outputs": [
        {
          "data": {
            "image/png": "[encoded data removed]",
            "text/plain": [
              "<Figure size 432x288 with 1 Axes>"
            ]
          },
          "metadata": {},
          "output_type": "display_data"
        }
      ],
      "source": [
        "import matplotlib.pyplot as plt\n",
        "\n",
        "d = np.array([9, 4, 1, 0, 1, 4, 9])\n",
        "e = np.array([-3, -2, -1, 0, 1, 2, 3])\n",
        "x = np.array([-3, -2, -1, 0, 1, 2, 3])\n",
        "\n",
        "plt.plot(x, d, d, d)\n",
        "plt.show()"
      ]
    },
    {
      "cell_type": "code",
      "execution_count": null,
      "metadata": {
        "id": "1TU3kKM6tTar"
      },
      "outputs": [],
      "source": [
        "d = np.array([3, 5, 3, 6, 7, 2, 1, 0, 15, 4])\n",
        "e = np.array([-3, -2, 6, 8, 4, 1, 0, 8, 2, 8])\n",
        "x = np.array([-3, -2, -1, 0, 1, 2, 3])"
      ]
    },
    {
      "cell_type": "code",
      "execution_count": null,
      "metadata": {
        "colab": {
          "base_uri": "https://localhost:8080/"
        },
        "id": "KmaTjMvx5nCD",
        "outputId": "42a40e2f-fee6-471e-fee5-39b02a89d0ee"
      },
      "outputs": [
        {
          "name": "stdout",
          "output_type": "stream",
          "text": [
            "[[ 1.        -0.0509336]\n",
            " [-0.0509336  1.       ]]\n"
          ]
        }
      ],
      "source": [
        "d = np.array([3, 5, 3, 6, 7, 2, 1, 0, 15, 4])\n",
        "e = np.array([-3, -2, 6, 8, 4, 1, 0, 8, 2, 8])\n",
        "print(np.corrcoef(d,e))"
      ]
    },
    {
      "cell_type": "code",
      "execution_count": null,
      "metadata": {
        "colab": {
          "base_uri": "https://localhost:8080/"
        },
        "id": "lIZEKJ2o6pcb",
        "outputId": "59614b24-6acb-4eb2-ddc7-a8986464717a"
      },
      "outputs": [
        {
          "name": "stdout",
          "output_type": "stream",
          "text": [
            "[[ 1.        -0.0509336]\n",
            " [-0.0509336  1.       ]]\n"
          ]
        }
      ],
      "source": [
        "print(np.corrcoef(d,e))"
      ]
    },
    {
      "cell_type": "markdown",
      "metadata": {
        "id": "Xm_Na1s06tFs"
      },
      "source": [
        "\n",
        "\n",
        "```\n",
        "# Выбран кодовый формат\n",
        "```\n",
        "\n",
        "Как интерпретировать полученный результат? \\\\\n",
        "[[1. 0.] \\\\\n",
        " [0. 1.]]\n",
        "\n",
        "Это значения все возможных вариантов расчёта корелляций. \\\\\n",
        "[[$r_{xx}$, $r_{xy}$ ] \\\\\n",
        "[$r_{yx}$, $r_{yy}$ ]]\n",
        "\n",
        "Мы видим, что корелляция между e и d отсутствуют, однако очевидно, что: \\\\\n",
        "$d = e^2$.\n",
        "\n",
        "То есть связь есть."
      ]
    },
    {
      "cell_type": "markdown",
      "metadata": {
        "id": "YxyeNADV4MC4"
      },
      "source": [
        "Но приведенный выше пример - это не самая большая беда при использовании корелляции. Гораздо хуже - нахождение ложных зависимостей, там где их нет. \n",
        "\n",
        "![Николас Кейдж и утопленники](https://drive.google.com/uc?id=1nesgjIhCc1r8PCuoH5wMcmsBULCiZLNv) \n",
        "\n",
        "![Крупный рогатый скот в Смоленски и торголовля в Перми](https://drive.google.com/uc?id=170ylluFiWMpm9VPxHMkJyDMi58Kv4f7f) \n"
      ]
    },
    {
      "cell_type": "markdown",
      "metadata": {
        "id": "c182azqlgLQO"
      },
      "source": [
        "## Нормальное распределение\n",
        "\n",
        "Мы не касаемся в данном материале детального разбора распределений вероятности. Однако покажем, что называется \"нормальным\" распределением вероятности.\n",
        "\n",
        "**Нормальное распределение**, также называемое распределением Гаусса — распределение вероятностей, которое в одномерном случае задаётся функцией плотности вероятности, совпадающей с функцией Гаусса.\n",
        "\n",
        "Формула, задающая нормальное распределение вероятности: \n",
        "$ f(x) = \\frac{1}{\\sigma\\sqrt{2\\pi}}e^\\left(-\\frac{(x-\\mu)^2}{2\\sigma^2}\\right)$\n",
        "\n",
        "Функция распределения вероятности при визуализации имеет известный вид \"купола\".\n",
        "\n",
        "![Николас Кейдж и утопленники](https://drive.google.com/uc?id=1KccjBHf5vSEJteYWxXd3Bs-PW3HRWc4B) \n",
        "\n",
        "Нормальное распределение имеет огромное значение в математической статистики потому, что показано, что сумма большого числа случайных слабозависящих друг от друга и имеющих одинаковый масштаб величин будет нормально распределена. \n",
        "\n",
        "Эта \"центральная предельная теорема\" обычно сводится в обиходе к тому, что всё в мире распределено нормально. **Это не так**. \n",
        "\n",
        "Однако, так как обычно в различных используемых технологиях машинного обучения, для работы с моделями применяется большое число данных, можно предполагать, что они распределены нормально. Более того, работа с моделями машинног обучения требует нормально распределённх данных. \n"
      ]
    },
    {
      "cell_type": "markdown",
      "metadata": {
        "id": "cTn_h1f5SPBM"
      },
      "source": [
        "# Практическая задача (для развлечения)\n",
        "\n",
        "По мотивам: https://habr.com/ru/company/otus/blog/665434/\n"
      ]
    },
    {
      "cell_type": "markdown",
      "metadata": {
        "id": "vev39QINmm76"
      },
      "source": [
        "## Постановка задачи\n",
        "\n",
        "Школьники  опаздывают на занятия. На сколько это критично? Каждое пропущенное занятие - потеря для образования конкретного человека. А статистически? \n",
        "\n",
        "Чтобы это понять мы должны взять и сравнить между собой двух школьников. Один школьник (Пафнутий) - посещает все занятия и ему хорошо. Другой школьник (Игнатий) посещает не все занятия из-за опозданий. Статистически наш вопрос будет звучать так: отличается ли школьник Игнатий от школьника Пафнутия чем-то с точки зрения явки? "
      ]
    },
    {
      "cell_type": "markdown",
      "metadata": {
        "id": "fAomuNPwyTpA"
      },
      "source": [
        "## Решение - ошибки первого рода\n",
        "\n",
        "Для этого достаточно взять и проверить соответствие двух значений по критерию хи-квардарт. Мы не будем вдаваться в нюансы того, что это за критерий, однако отметим, что значению pval - определяет то, есть ли у нас ошибка первого рода или нет. \n",
        "\n",
        "Чтобы результат был удовлетворительным, нам необходимо чтобы pvalue была, обычно, больше 0.05. Это означает, что с вероятность 95% разницы между Игнатием и Пафнутием нет. "
      ]
    },
    {
      "cell_type": "code",
      "execution_count": null,
      "metadata": {
        "colab": {
          "base_uri": "https://localhost:8080/"
        },
        "id": "XFwZyH_FSYsL",
        "outputId": "19c8eea6-b4fe-4d52-a981-14cff3d09051"
      },
      "outputs": [
        {
          "name": "stderr",
          "output_type": "stream",
          "text": [
            "/usr/local/lib/python3.7/dist-packages/statsmodels/tools/_testing.py:19: FutureWarning: pandas.util.testing is deprecated. Use the functions in the public API at pandas.testing instead.\n",
            "  import pandas.util.testing as tm\n"
          ]
        },
        {
          "data": {
            "text/plain": [
              "0.0819797030749689"
            ]
          },
          "execution_count": 33,
          "metadata": {},
          "output_type": "execute_result"
        }
      ],
      "source": [
        "import statsmodels.stats.proportion as proportion\n",
        "chi2stat, pval, table = proportion.proportions_chisquare([177,180],180)\n",
        "pval"
      ]
    },
    {
      "cell_type": "code",
      "execution_count": null,
      "metadata": {
        "colab": {
          "base_uri": "https://localhost:8080/"
        },
        "id": "F9bv03mWS1Jv",
        "outputId": "af99e468-9416-460b-f2b6-5cb6f772274d"
      },
      "outputs": [
        {
          "data": {
            "text/plain": [
              "0.04430385333196612"
            ]
          },
          "execution_count": 2,
          "metadata": {},
          "output_type": "execute_result"
        }
      ],
      "source": [
        "chi2stat, pval, table = proportion.proportions_chisquare([176,180],180)\n",
        "pval"
      ]
    },
    {
      "cell_type": "markdown",
      "metadata": {
        "id": "JV8YNawmzgKo"
      },
      "source": [
        "Таким образом мы видим, что Игнатий может непосетить три занятия из-за опозданий. Статистической разницы с Пафнутием при этом не будет. \n",
        "\n",
        "Pvalue показывает также вероятность ошибок первого рода - то есть вероятность того, что ложный объект (гипотезу) засчитают за истинный объект (гипотезу).\n",
        "\n",
        "Однако проблема также может крыться и в ошибках второго рода: то есть в ошибках, когда истинный объект считают ложным. Проблема ошибок второго рода кроется в числе экспериментов.\n",
        "\n",
        "То есть должно быть достаточно экспериментов, чтобы разница была заметна. Невдаваясь в математические подробности можно рассчитать эту разницу для Игнатия и Пафнутия."
      ]
    },
    {
      "cell_type": "markdown",
      "metadata": {
        "id": "T4DO4MF46Uoo"
      },
      "source": [
        "## Решение - ошибка второго рода\n",
        "\n",
        "Полученное значение показывает то, что на выборке в 180 дней вы лишь с 5% вероятность отличите Игнатия от Пафнутия. Нам же необходимо добиться минимум 80%, а то и больше. "
      ]
    },
    {
      "cell_type": "code",
      "execution_count": null,
      "metadata": {
        "id": "kQpN1ts_TFXZ"
      },
      "outputs": [],
      "source": [
        "import statsmodels.stats.power as smp\n",
        "\n",
        "chipo = smp.GofChisquarePower()"
      ]
    },
    {
      "cell_type": "code",
      "execution_count": null,
      "metadata": {
        "colab": {
          "base_uri": "https://localhost:8080/"
        },
        "id": "J9f-iWO2T5Mt",
        "outputId": "ae357e37-937c-4fc6-83e2-f86c41deb12b"
      },
      "outputs": [
        {
          "data": {
            "text/plain": [
              "0.8034196059311782"
            ]
          },
          "execution_count": 26,
          "metadata": {},
          "output_type": "execute_result"
        }
      ],
      "source": [
        "chipo.solve_power(effect_size=np.sqrt(((146/180 - 180/180)**2)/(146/180)), nobs = 180, alpha = 0.05, power = None)"
      ]
    },
    {
      "cell_type": "code",
      "execution_count": null,
      "metadata": {
        "colab": {
          "base_uri": "https://localhost:8080/"
        },
        "id": "a7FsROSz6fmm",
        "outputId": "37979863-ee2a-4bbc-d5eb-2d14873ad3db"
      },
      "outputs": [
        {
          "data": {
            "text/plain": [
              "0.9567148835295268"
            ]
          },
          "execution_count": 27,
          "metadata": {},
          "output_type": "execute_result"
        }
      ],
      "source": [
        "chipo.solve_power(effect_size=np.sqrt(((137/180 - 180/180)**2)/(137/180)), nobs = 180, alpha = 0.05, power = None)"
      ]
    },
    {
      "cell_type": "markdown",
      "metadata": {
        "id": "ayI3aMCe6kAI"
      },
      "source": [
        "То есть чтобы отличить с 95% вероятностью Игнатия от Пафнутия с вероятность ошибки первого рода 5% нужно, чтобы Игнатий опоздал в 43 случаях. С вероятность 80% - в 34 случаях.\n",
        "\n",
        "Такое применение математической статистики называется A/B тестированием. Им занимаются все аналитики данных. "
      ]
    },
    {
      "cell_type": "markdown",
      "metadata": {
        "id": "G50SL-HC7HlO"
      },
      "source": [
        "## Дисклеймер\n",
        "\n",
        "Примение данных выкладок на практике при пропуске занятий или опоздании - строго за счёт ученика!"
      ]
    }
  ],
  "metadata": {
    "colab": {
      "collapsed_sections": [],
      "provenance": []
    },
    "kernelspec": {
      "display_name": "Python 3",
      "name": "python3"
    },
    "language_info": {
      "name": "python"
    }
  },
  "nbformat": 4,
  "nbformat_minor": 0
}