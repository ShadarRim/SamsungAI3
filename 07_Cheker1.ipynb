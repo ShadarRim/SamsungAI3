{
 "cells": [
  {
   "cell_type": "code",
   "execution_count": 6,
   "id": "a163f348",
   "metadata": {},
   "outputs": [],
   "source": [
    "import pandas as pd \n",
    "import numpy as np\n",
    "import os\n",
    "from sklearn.metrics import mean_squared_error as mse, r2_score as r2"
   ]
  },
  {
   "cell_type": "code",
   "execution_count": 2,
   "id": "41e9e2a8",
   "metadata": {},
   "outputs": [],
   "source": [
    "df_res = pd.read_csv('../ans_1.csv')\n",
    "true_values = df_res['critical_temp']"
   ]
  },
  {
   "cell_type": "code",
   "execution_count": 7,
   "id": "e3af4860",
   "metadata": {},
   "outputs": [
    {
     "data": {
      "text/plain": [
       "['00Akimov.csv',\n",
       " '01Aleshin.csv',\n",
       " '01Jeba.csv',\n",
       " '01Sambui.csv',\n",
       " '01Shelestov.csv',\n",
       " '01Гаврилин.csv',\n",
       " '02Aleshin.csv',\n",
       " '02Privalenko.csv',\n",
       " '02Sambui.csv',\n",
       " '02Shelestov.csv',\n",
       " '03Aleshin.csv',\n",
       " '03Privalenko.csv',\n",
       " '03Shelestov.csv',\n",
       " '04Privalenko.csv',\n",
       " '05Privalenko.csv']"
      ]
     },
     "execution_count": 7,
     "metadata": {},
     "output_type": "execute_result"
    }
   ],
   "source": [
    "os.listdir(\"./221102_Stud_res\")"
   ]
  },
  {
   "cell_type": "code",
   "execution_count": 8,
   "id": "e5266ab9",
   "metadata": {},
   "outputs": [],
   "source": [
    "res_list = []\n",
    "cur_dict = {}\n",
    "\n",
    "for elem in os.listdir(\"./221102_Stud_res\"):\n",
    "    df_test = pd.read_csv(f'./221102_Stud_res/{elem}')\n",
    "    pred_values = df_test['critical_temp']\n",
    "    cur_dict['Att'] = elem\n",
    "    cur_dict['Res'] = round(r2(true_values, pred_values), 5)\n",
    "    res_list.append(cur_dict.copy())\n",
    "    cur_duct = {}"
   ]
  },
  {
   "cell_type": "code",
   "execution_count": 9,
   "id": "3546a776",
   "metadata": {},
   "outputs": [
    {
     "data": {
      "text/html": [
       "<div>\n",
       "<style scoped>\n",
       "    .dataframe tbody tr th:only-of-type {\n",
       "        vertical-align: middle;\n",
       "    }\n",
       "\n",
       "    .dataframe tbody tr th {\n",
       "        vertical-align: top;\n",
       "    }\n",
       "\n",
       "    .dataframe thead th {\n",
       "        text-align: right;\n",
       "    }\n",
       "</style>\n",
       "<table border=\"1\" class=\"dataframe\">\n",
       "  <thead>\n",
       "    <tr style=\"text-align: right;\">\n",
       "      <th></th>\n",
       "      <th>Att</th>\n",
       "      <th>Res</th>\n",
       "    </tr>\n",
       "  </thead>\n",
       "  <tbody>\n",
       "    <tr>\n",
       "      <th>10</th>\n",
       "      <td>03Aleshin.csv</td>\n",
       "      <td>0.79274</td>\n",
       "    </tr>\n",
       "    <tr>\n",
       "      <th>6</th>\n",
       "      <td>02Aleshin.csv</td>\n",
       "      <td>0.79151</td>\n",
       "    </tr>\n",
       "    <tr>\n",
       "      <th>1</th>\n",
       "      <td>01Aleshin.csv</td>\n",
       "      <td>0.75355</td>\n",
       "    </tr>\n",
       "    <tr>\n",
       "      <th>8</th>\n",
       "      <td>02Sambui.csv</td>\n",
       "      <td>0.74999</td>\n",
       "    </tr>\n",
       "    <tr>\n",
       "      <th>4</th>\n",
       "      <td>01Shelestov.csv</td>\n",
       "      <td>0.74975</td>\n",
       "    </tr>\n",
       "    <tr>\n",
       "      <th>2</th>\n",
       "      <td>01Jeba.csv</td>\n",
       "      <td>0.74919</td>\n",
       "    </tr>\n",
       "    <tr>\n",
       "      <th>12</th>\n",
       "      <td>03Shelestov.csv</td>\n",
       "      <td>0.74880</td>\n",
       "    </tr>\n",
       "    <tr>\n",
       "      <th>5</th>\n",
       "      <td>01Гаврилин.csv</td>\n",
       "      <td>0.74749</td>\n",
       "    </tr>\n",
       "    <tr>\n",
       "      <th>3</th>\n",
       "      <td>01Sambui.csv</td>\n",
       "      <td>0.74573</td>\n",
       "    </tr>\n",
       "    <tr>\n",
       "      <th>0</th>\n",
       "      <td>00Akimov.csv</td>\n",
       "      <td>0.72788</td>\n",
       "    </tr>\n",
       "    <tr>\n",
       "      <th>14</th>\n",
       "      <td>05Privalenko.csv</td>\n",
       "      <td>0.70220</td>\n",
       "    </tr>\n",
       "    <tr>\n",
       "      <th>11</th>\n",
       "      <td>03Privalenko.csv</td>\n",
       "      <td>0.69703</td>\n",
       "    </tr>\n",
       "    <tr>\n",
       "      <th>7</th>\n",
       "      <td>02Privalenko.csv</td>\n",
       "      <td>0.67943</td>\n",
       "    </tr>\n",
       "    <tr>\n",
       "      <th>13</th>\n",
       "      <td>04Privalenko.csv</td>\n",
       "      <td>0.54522</td>\n",
       "    </tr>\n",
       "    <tr>\n",
       "      <th>9</th>\n",
       "      <td>02Shelestov.csv</td>\n",
       "      <td>-2.18377</td>\n",
       "    </tr>\n",
       "  </tbody>\n",
       "</table>\n",
       "</div>"
      ],
      "text/plain": [
       "                 Att      Res\n",
       "10     03Aleshin.csv  0.79274\n",
       "6      02Aleshin.csv  0.79151\n",
       "1      01Aleshin.csv  0.75355\n",
       "8       02Sambui.csv  0.74999\n",
       "4    01Shelestov.csv  0.74975\n",
       "2         01Jeba.csv  0.74919\n",
       "12   03Shelestov.csv  0.74880\n",
       "5     01Гаврилин.csv  0.74749\n",
       "3       01Sambui.csv  0.74573\n",
       "0       00Akimov.csv  0.72788\n",
       "14  05Privalenko.csv  0.70220\n",
       "11  03Privalenko.csv  0.69703\n",
       "7   02Privalenko.csv  0.67943\n",
       "13  04Privalenko.csv  0.54522\n",
       "9    02Shelestov.csv -2.18377"
      ]
     },
     "execution_count": 9,
     "metadata": {},
     "output_type": "execute_result"
    }
   ],
   "source": [
    "pd.DataFrame(res_list).sort_values('Res', ascending=False)"
   ]
  }
 ],
 "metadata": {
  "kernelspec": {
   "display_name": "Python 3 (ipykernel)",
   "language": "python",
   "name": "python3"
  },
  "language_info": {
   "codemirror_mode": {
    "name": "ipython",
    "version": 3
   },
   "file_extension": ".py",
   "mimetype": "text/x-python",
   "name": "python",
   "nbconvert_exporter": "python",
   "pygments_lexer": "ipython3",
   "version": "3.8.10"
  }
 },
 "nbformat": 4,
 "nbformat_minor": 5
}
