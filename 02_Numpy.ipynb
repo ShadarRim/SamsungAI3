{
  "nbformat": 4,
  "nbformat_minor": 0,
  "metadata": {
    "colab": {
      "provenance": [],
      "collapsed_sections": []
    },
    "kernelspec": {
      "name": "python3",
      "display_name": "Python 3"
    },
    "language_info": {
      "name": "python"
    }
  },
  "cells": [
    {
      "cell_type": "markdown",
      "metadata": {
        "id": "SWaltpGQSn92"
      },
      "source": [
        "# Numpy\n",
        "\n",
        "[NumPy](https://numpy.org/) это open-source модуль для python, который предоставляет общие математические и числовые операции.\n",
        "\n",
        "NumPy - один из ключевых модулей в экосистеме Python, в том числе при решении задач машинного обучения и искусственного интеллекта.\n",
        "\n",
        "NumPy является наследником Numeric и NumArray. Основан NumPy на библиотеке LAPAC, которая написана на Fortran. Когда-то numpy была частью SciPy. Да, это напоминает мыльную оперу. \n",
        "\n",
        "Мы подробно разбираем особенности библиотеки, так как на работе с ней основаны все остальные библиотеки, работающие с искусственным интеллектом.\n",
        "\n",
        "Текст урока опирается на небольшой, но полезный [мануал](https://sites.engineering.ucsb.edu/~shell/che210d/numpy.pdf)."
      ]
    },
    {
      "cell_type": "markdown",
      "metadata": {
        "id": "j42zD3zQUB29"
      },
      "source": [
        "## Установка\n",
        "\n",
        "Если вы используете Google Colab, то numpy уже установлен на виртуальном сервере и вы можете им пользоваться.\n",
        "\n",
        "Если вы открыли собственный ноутбук, то можете воспользоваться командой установки, записанной через восклицательный знак\n",
        "\n",
        "\n",
        "```\n",
        "!comand\n",
        "```\n",
        "Так запущенная команда в среде ipy вызывает системную команду pip, которая сама установит данный модуль в вашу виртуальную среду. \n",
        "\n",
        "Обратите внимание, что каждый ноутбк имеет свой набор используемых библиотек и системных установок. \n"
      ]
    },
    {
      "cell_type": "code",
      "metadata": {
        "colab": {
          "base_uri": "https://localhost:8080/"
        },
        "id": "-u28cDMWUASF",
        "outputId": "9e7b939c-c12d-4f02-e971-f0d6043ff73a"
      },
      "source": [
        "!pip install numpy"
      ],
      "execution_count": null,
      "outputs": [
        {
          "output_type": "stream",
          "text": [
            "Requirement already satisfied: numpy in /usr/local/lib/python3.7/dist-packages (1.19.5)\n"
          ],
          "name": "stdout"
        }
      ]
    },
    {
      "cell_type": "markdown",
      "metadata": {
        "id": "eiCKlC1MVTxD"
      },
      "source": [
        "## Подключение\n",
        "\n",
        "Для подключения модулей в Python используется команда `import` или её вариации. В случае с numpy есть традиционная и привычная всем команда импорта с использованием алиаса (as) np\n",
        "\n",
        "Алиас - это встроенная команда интерпретатора для сокращения команд и их последовательностей."
      ]
    },
    {
      "cell_type": "code",
      "metadata": {
        "id": "2VnPtDPcSQvi"
      },
      "source": [
        "# классический вариант\n",
        "import numpy"
      ],
      "execution_count": null,
      "outputs": []
    },
    {
      "cell_type": "code",
      "metadata": {
        "id": "7Yqz0e4cSnj5"
      },
      "source": [
        "# традиционный вариант \n",
        "import numpy as np"
      ],
      "execution_count": null,
      "outputs": []
    },
    {
      "cell_type": "markdown",
      "metadata": {
        "id": "XkFuEgPVV0at"
      },
      "source": [
        "При таком импорте к любым командам из модуля numpy придётся дописывать название модуля\n",
        "\n",
        "```\n",
        "numpy.comand\n",
        "np.comand\n",
        "```\n",
        "Есть другой вариант, в котором можно использовать только команду без указания модуля. Но так как в разных модулях могут быть одинаковые функции, использовать такой вариант не рекомендуется.\n"
      ]
    },
    {
      "cell_type": "code",
      "metadata": {
        "id": "CSSdlFA6WfCg"
      },
      "source": [
        "from numpy import *"
      ],
      "execution_count": null,
      "outputs": []
    },
    {
      "cell_type": "markdown",
      "metadata": {
        "id": "KROHUh0xi1nD"
      },
      "source": [
        "## Особые константы\n",
        "\n",
        "Numpy реализует несколько особых значнений через контстанты. Например:"
      ]
    },
    {
      "cell_type": "code",
      "metadata": {
        "colab": {
          "base_uri": "https://localhost:8080/"
        },
        "id": "407sxkUFjCZn",
        "outputId": "75b4bf62-d83b-474d-eaf4-2f5443c40b25"
      },
      "source": [
        "np.NaN\n",
        "# not a number - Не число"
      ],
      "execution_count": null,
      "outputs": [
        {
          "output_type": "execute_result",
          "data": {
            "text/plain": [
              "nan"
            ]
          },
          "metadata": {
            "tags": []
          },
          "execution_count": 16
        }
      ]
    },
    {
      "cell_type": "code",
      "metadata": {
        "colab": {
          "base_uri": "https://localhost:8080/"
        },
        "id": "j_XDMb9-jJh1",
        "outputId": "334b17da-e5e7-4236-fb7b-69b21b5c5d9f"
      },
      "source": [
        "np.Inf\n",
        "# infinity - бесконечно "
      ],
      "execution_count": null,
      "outputs": [
        {
          "output_type": "execute_result",
          "data": {
            "text/plain": [
              "inf"
            ]
          },
          "metadata": {
            "tags": []
          },
          "execution_count": 17
        }
      ]
    },
    {
      "cell_type": "markdown",
      "metadata": {
        "id": "nKw_yo1lXWXM"
      },
      "source": [
        "## Массивы\n",
        "\n",
        "Главная особенность и элемент, с которым необходимо работать, в numpy - это массивы. Создаются массивы разными способами, которые мы сейчас разберём. \n",
        "\n",
        "При этом всем элементы в array должны быть одного типа, что отличает его от классического списка (list) Python. "
      ]
    },
    {
      "cell_type": "code",
      "metadata": {
        "colab": {
          "base_uri": "https://localhost:8080/"
        },
        "id": "FKmqlaxTYZ2M",
        "outputId": "17d64243-4112-4758-fa01-ecf171be7f9d"
      },
      "source": [
        "a = np.array([1, 2, 3, 4], float)\n",
        "print('Array:', a)\n",
        "print('Тип: ',type(a))\n",
        "# обратное преобразование\n",
        "print(a.tolist())"
      ],
      "execution_count": null,
      "outputs": [
        {
          "output_type": "stream",
          "text": [
            "Array: [1. 2. 3. 4.]\n",
            "Тип:  <class 'numpy.ndarray'>\n",
            "[1.0, 2.0, 3.0, 4.0]\n"
          ],
          "name": "stdout"
        }
      ]
    },
    {
      "cell_type": "code",
      "metadata": {
        "colab": {
          "base_uri": "https://localhost:8080/"
        },
        "id": "RKkm4CVBZAJ0",
        "outputId": "cfc975c6-49b0-46df-ba98-e540a518da38"
      },
      "source": [
        "# показыаем, что можно также работать с np.array, как и с обычным list\n",
        "a = np.array([1, 2, 4, 4])\n",
        "\n",
        "print('1: ', a[0])\n",
        "print('2: ', a[1:3])\n",
        "print('3: ', a[-1])\n",
        "a[0] = 5\n",
        "print('4: ', a[0])"
      ],
      "execution_count": null,
      "outputs": [
        {
          "output_type": "stream",
          "name": "stdout",
          "text": [
            "1:  1\n",
            "2:  [2 4]\n",
            "3:  4\n",
            "4:  5\n"
          ]
        }
      ]
    },
    {
      "cell_type": "markdown",
      "metadata": {
        "id": "uzW3ZG1tZbBf"
      },
      "source": [
        "### Многомерные массивы \n",
        "\n",
        "Большая ценность numpy в том, что можно работать и многомерными массивами. Например, любое изображение - как минимум двумерный массив. А при обучении нейронных сетей для работы с компьютерным зрением используются по сути четырёхмерные массивы."
      ]
    },
    {
      "cell_type": "code",
      "metadata": {
        "colab": {
          "base_uri": "https://localhost:8080/"
        },
        "id": "0cIM9tWyZaUJ",
        "outputId": "dc06a819-5a1f-4b79-f65f-34799edd9452"
      },
      "source": [
        "a = np.array([[1, 2, 3], [4, 5, 6]], int)\n",
        "print('0: ', a)\n",
        "print('1: ', a[0,0])\n",
        "print('2: ', a[1,0])\n",
        "print('3: ', a[0,1])"
      ],
      "execution_count": null,
      "outputs": [
        {
          "output_type": "stream",
          "name": "stdout",
          "text": [
            "0:  [[1 2 3]\n",
            " [4 5 6]]\n",
            "1:  1\n",
            "2:  4\n",
            "3:  2\n"
          ]
        }
      ]
    },
    {
      "cell_type": "code",
      "metadata": {
        "colab": {
          "base_uri": "https://localhost:8080/"
        },
        "id": "X-7XOsgia1Yt",
        "outputId": "22f38676-f23a-4b9c-aac4-d9fdd5e848bd"
      },
      "source": [
        "# срезы (сленг - слайсы) с двмерным массивом\n",
        "print('4: ', a[1,:])\n",
        "print('5: ', a[:,2])\n",
        "print('6: ', a[-1:, -2:])"
      ],
      "execution_count": null,
      "outputs": [
        {
          "output_type": "stream",
          "text": [
            "4:  [4 5 6]\n",
            "5:  [3 6]\n",
            "6:  [[5 6]]\n"
          ],
          "name": "stdout"
        }
      ]
    },
    {
      "cell_type": "markdown",
      "metadata": {
        "id": "yw3iC4LnfUYL"
      },
      "source": [
        "### Характеристики объектов numpy"
      ]
    },
    {
      "cell_type": "code",
      "source": [
        "a = np.array([[1, 2, 3], [4, 5, 6]], int)\n",
        "a"
      ],
      "metadata": {
        "colab": {
          "base_uri": "https://localhost:8080/"
        },
        "id": "aNEksZ6MJ63L",
        "outputId": "ea4f9b46-dbab-433c-c0c7-54e3ebbd5420"
      },
      "execution_count": null,
      "outputs": [
        {
          "output_type": "execute_result",
          "data": {
            "text/plain": [
              "array([[1, 2, 3],\n",
              "       [4, 5, 6]])"
            ]
          },
          "metadata": {},
          "execution_count": 10
        }
      ]
    },
    {
      "cell_type": "code",
      "metadata": {
        "colab": {
          "base_uri": "https://localhost:8080/"
        },
        "id": "59Z6URzWfWys",
        "outputId": "0a838177-0e40-4fc5-ee27-9c23159b1e28"
      },
      "source": [
        "# размеры\n",
        "a.shape"
      ],
      "execution_count": null,
      "outputs": [
        {
          "output_type": "execute_result",
          "data": {
            "text/plain": [
              "(2, 3)"
            ]
          },
          "metadata": {},
          "execution_count": 11
        }
      ]
    },
    {
      "cell_type": "code",
      "metadata": {
        "colab": {
          "base_uri": "https://localhost:8080/"
        },
        "id": "fyYdBYYcfbmR",
        "outputId": "d8b87756-5ffe-4ce0-df23-4879021e5dea"
      },
      "source": [
        "# тип данных внутри\n",
        "# напоминаем, массив numpy может хранить только один тип данных\n",
        "a.dtype"
      ],
      "execution_count": null,
      "outputs": [
        {
          "output_type": "execute_result",
          "data": {
            "text/plain": [
              "dtype('int64')"
            ]
          },
          "metadata": {},
          "execution_count": 12
        }
      ]
    },
    {
      "cell_type": "markdown",
      "metadata": {
        "id": "bzNwVUuOgAuH"
      },
      "source": [
        "### Изменение размеров массива"
      ]
    },
    {
      "cell_type": "code",
      "source": [
        "a"
      ],
      "metadata": {
        "colab": {
          "base_uri": "https://localhost:8080/"
        },
        "id": "wIgFAsuSKMKM",
        "outputId": "b061160b-abe3-43a4-e288-7089fd014fc5"
      },
      "execution_count": null,
      "outputs": [
        {
          "output_type": "execute_result",
          "data": {
            "text/plain": [
              "array([[1, 2, 3],\n",
              "       [4, 5, 6]])"
            ]
          },
          "metadata": {},
          "execution_count": 13
        }
      ]
    },
    {
      "cell_type": "code",
      "metadata": {
        "id": "8Qa8TyQOgDL8"
      },
      "source": [
        "a = a.reshape(3,2)"
      ],
      "execution_count": null,
      "outputs": []
    },
    {
      "cell_type": "code",
      "metadata": {
        "colab": {
          "base_uri": "https://localhost:8080/"
        },
        "id": "N3ZuJCHxgNeR",
        "outputId": "c92f4ce7-5927-488d-f4e0-456e3e73a742"
      },
      "source": [
        "# обратите внимание, что в процессе изменения размера создан новый массив, а не изменён старый\n",
        "a"
      ],
      "execution_count": null,
      "outputs": [
        {
          "output_type": "execute_result",
          "data": {
            "text/plain": [
              "array([[1, 2],\n",
              "       [3, 4],\n",
              "       [5, 6]])"
            ]
          },
          "metadata": {},
          "execution_count": 19
        }
      ]
    },
    {
      "cell_type": "code",
      "metadata": {
        "colab": {
          "base_uri": "https://localhost:8080/"
        },
        "id": "OJnHnxVHgqgG",
        "outputId": "8b4ed477-5667-4920-971a-9f351a57968a"
      },
      "source": [
        "# с помощью этой команды можно вытянуть массив в одномерную \"строку\"\n",
        "a.flatten()"
      ],
      "execution_count": null,
      "outputs": [
        {
          "output_type": "execute_result",
          "data": {
            "text/plain": [
              "array([1, 2, 3, 4, 5, 6])"
            ]
          },
          "metadata": {},
          "execution_count": 20
        }
      ]
    },
    {
      "cell_type": "code",
      "metadata": {
        "colab": {
          "base_uri": "https://localhost:8080/"
        },
        "id": "nnuze3P0g0F7",
        "outputId": "bec84585-7c8f-4259-b3af-40c300eade33"
      },
      "source": [
        "# обратите внимание, что в процессе изменения размера создан новый массив, а не изменён старый\n",
        "a"
      ],
      "execution_count": null,
      "outputs": [
        {
          "output_type": "execute_result",
          "data": {
            "text/plain": [
              "array([[1, 2],\n",
              "       [3, 4],\n",
              "       [5, 6]])"
            ]
          },
          "metadata": {},
          "execution_count": 21
        }
      ]
    },
    {
      "cell_type": "markdown",
      "metadata": {
        "id": "ViNPBTVggJjE"
      },
      "source": [
        "### Создание по-разному заполненных массивов"
      ]
    },
    {
      "cell_type": "code",
      "metadata": {
        "colab": {
          "base_uri": "https://localhost:8080/"
        },
        "id": "Z6nU5WXbhIG-",
        "outputId": "1a499b04-22de-4a79-83df-67abd5388a25"
      },
      "source": [
        "# аналог range для массивов\n",
        "print(np.arange(5))\n",
        "print(np.arange(1, 6, 2))"
      ],
      "execution_count": null,
      "outputs": [
        {
          "output_type": "stream",
          "text": [
            "[0 1 2 3 4]\n",
            "[1 3 5]\n"
          ],
          "name": "stdout"
        }
      ]
    },
    {
      "cell_type": "code",
      "metadata": {
        "colab": {
          "base_uri": "https://localhost:8080/"
        },
        "id": "vDVRyzaliROx",
        "outputId": "fab10b4c-d3df-4938-9c80-77f5320b7ebb"
      },
      "source": [
        "np.ones((2,3))"
      ],
      "execution_count": null,
      "outputs": [
        {
          "output_type": "execute_result",
          "data": {
            "text/plain": [
              "array([[1., 1., 1.],\n",
              "       [1., 1., 1.]])"
            ]
          },
          "metadata": {
            "tags": []
          },
          "execution_count": 22
        }
      ]
    },
    {
      "cell_type": "code",
      "metadata": {
        "colab": {
          "base_uri": "https://localhost:8080/"
        },
        "id": "y33CRrfniVAE",
        "outputId": "5231a25a-c6a0-44a5-92a2-57d6985e861b"
      },
      "source": [
        "np.zeros((5,4))"
      ],
      "execution_count": null,
      "outputs": [
        {
          "output_type": "execute_result",
          "data": {
            "text/plain": [
              "array([[0., 0., 0., 0.],\n",
              "       [0., 0., 0., 0.],\n",
              "       [0., 0., 0., 0.],\n",
              "       [0., 0., 0., 0.],\n",
              "       [0., 0., 0., 0.]])"
            ]
          },
          "metadata": {
            "tags": []
          },
          "execution_count": 24
        }
      ]
    },
    {
      "cell_type": "code",
      "metadata": {
        "colab": {
          "base_uri": "https://localhost:8080/"
        },
        "id": "D484-EYBidsq",
        "outputId": "e68bfadf-e302-4ee5-96f1-ed2663e917f4"
      },
      "source": [
        "np.identity(4)"
      ],
      "execution_count": null,
      "outputs": [
        {
          "output_type": "execute_result",
          "data": {
            "text/plain": [
              "array([[1., 0., 0., 0.],\n",
              "       [0., 1., 0., 0.],\n",
              "       [0., 0., 1., 0.],\n",
              "       [0., 0., 0., 1.]])"
            ]
          },
          "metadata": {
            "tags": []
          },
          "execution_count": 25
        }
      ]
    },
    {
      "cell_type": "code",
      "metadata": {
        "colab": {
          "base_uri": "https://localhost:8080/"
        },
        "id": "me3MDosSigXa",
        "outputId": "fb81a861-6c20-4181-d4d7-6b61013319bc"
      },
      "source": [
        "# k - номер диагонали, заполненный единицами\n",
        "np.eye(5,4, k=2)"
      ],
      "execution_count": null,
      "outputs": [
        {
          "output_type": "execute_result",
          "data": {
            "text/plain": [
              "array([[0., 0., 1., 0.],\n",
              "       [0., 0., 0., 1.],\n",
              "       [0., 0., 0., 0.],\n",
              "       [0., 0., 0., 0.],\n",
              "       [0., 0., 0., 0.]])"
            ]
          },
          "metadata": {},
          "execution_count": 23
        }
      ]
    },
    {
      "cell_type": "markdown",
      "metadata": {
        "id": "PFi4IJAPl7W3"
      },
      "source": [
        "### Перебор элементов массива"
      ]
    },
    {
      "cell_type": "code",
      "metadata": {
        "id": "XbHUaIYjl6tM"
      },
      "source": [
        "a = np.array([1, 4, 5], int)"
      ],
      "execution_count": null,
      "outputs": []
    },
    {
      "cell_type": "code",
      "metadata": {
        "colab": {
          "base_uri": "https://localhost:8080/"
        },
        "id": "ZKmehRBNl_dx",
        "outputId": "701faa2d-6669-48a6-bc42-0c281373bf18"
      },
      "source": [
        "# простой перебор для одномерного случая\n",
        "for x in a:\n",
        "   print(x)"
      ],
      "execution_count": null,
      "outputs": [
        {
          "output_type": "stream",
          "name": "stdout",
          "text": [
            "1\n",
            "4\n",
            "5\n"
          ]
        }
      ]
    },
    {
      "cell_type": "code",
      "metadata": {
        "colab": {
          "base_uri": "https://localhost:8080/"
        },
        "id": "mF7_afUImDye",
        "outputId": "5657d026-daac-42f0-9d99-4f743b9debc9"
      },
      "source": [
        "# простой перебор для многомерного случая срабаотает плохо, он перебирает по первой размерности\n",
        "a = np.array([[1, 2], [3, 4], [5, 6]], float)\n",
        "for x in a:\n",
        "   print(x)"
      ],
      "execution_count": null,
      "outputs": [
        {
          "output_type": "stream",
          "name": "stdout",
          "text": [
            "[1. 2.]\n",
            "[3. 4.]\n",
            "[5. 6.]\n"
          ]
        }
      ]
    },
    {
      "cell_type": "code",
      "metadata": {
        "colab": {
          "base_uri": "https://localhost:8080/"
        },
        "id": "-V4y9g8AmO-7",
        "outputId": "379958da-9b99-4a0a-a56c-116a4f03831e"
      },
      "source": [
        "# перебор правильным способом\n",
        "for x in range(a.shape[0]):\n",
        "  for y in range(a.shape[1]):\n",
        "    print(a[x, y])"
      ],
      "execution_count": null,
      "outputs": [
        {
          "output_type": "stream",
          "name": "stdout",
          "text": [
            "1.0\n",
            "2.0\n",
            "3.0\n",
            "4.0\n",
            "5.0\n",
            "6.0\n"
          ]
        }
      ]
    },
    {
      "cell_type": "markdown",
      "metadata": {
        "id": "XOFzhZRTm0sJ"
      },
      "source": [
        "## Операции над массивами"
      ]
    },
    {
      "cell_type": "markdown",
      "metadata": {
        "id": "r2uNeGpuirH0"
      },
      "source": [
        "### Математические операции над массивами\n",
        "\n",
        "С массивами можно применять стандартные математические операции. Они будут работать так, как будето происходит поэлементая работа одной и той же операции. Для матричных операций есть специальные команды.\n",
        "\n",
        "**Стандартные математические операции применимы только к массивам одинаковых размеров.**"
      ]
    },
    {
      "cell_type": "markdown",
      "metadata": {
        "id": "eG-bdq_WghUG"
      },
      "source": []
    },
    {
      "cell_type": "code",
      "metadata": {
        "colab": {
          "base_uri": "https://localhost:8080/"
        },
        "id": "K1hOsCfeiqJu",
        "outputId": "907f7285-80c3-4553-d75c-361b1ff16635"
      },
      "source": [
        "a = np.arange(1, 4, 1, dtype=int)\n",
        "b = np.arange(6, 9, 1, dtype=int)\n",
        "print('a: ', a)\n",
        "print('b: ', b)"
      ],
      "execution_count": null,
      "outputs": [
        {
          "output_type": "stream",
          "text": [
            "a:  [1 2 3]\n",
            "b:  [6 7 8]\n"
          ],
          "name": "stdout"
        }
      ]
    },
    {
      "cell_type": "code",
      "metadata": {
        "colab": {
          "base_uri": "https://localhost:8080/"
        },
        "id": "TpowhPPXjRkK",
        "outputId": "73c2d0da-b76c-4cda-e9ed-adce23902563"
      },
      "source": [
        "a + b"
      ],
      "execution_count": null,
      "outputs": [
        {
          "output_type": "execute_result",
          "data": {
            "text/plain": [
              "array([ 7,  9, 11])"
            ]
          },
          "metadata": {
            "tags": []
          },
          "execution_count": 29
        }
      ]
    },
    {
      "cell_type": "code",
      "metadata": {
        "colab": {
          "base_uri": "https://localhost:8080/"
        },
        "id": "vyVouUUsjS66",
        "outputId": "269e6019-03f0-4030-97ec-a6fca69158c4"
      },
      "source": [
        "a - b"
      ],
      "execution_count": null,
      "outputs": [
        {
          "output_type": "execute_result",
          "data": {
            "text/plain": [
              "array([-5, -5, -5])"
            ]
          },
          "metadata": {
            "tags": []
          },
          "execution_count": 31
        }
      ]
    },
    {
      "cell_type": "code",
      "metadata": {
        "colab": {
          "base_uri": "https://localhost:8080/"
        },
        "id": "zB1ctuxdjWY6",
        "outputId": "cd80a1ec-ad0e-466b-b4eb-9db1f1d0de67"
      },
      "source": [
        "a * b"
      ],
      "execution_count": null,
      "outputs": [
        {
          "output_type": "execute_result",
          "data": {
            "text/plain": [
              "array([ 6, 14, 24])"
            ]
          },
          "metadata": {
            "tags": []
          },
          "execution_count": 32
        }
      ]
    },
    {
      "cell_type": "code",
      "metadata": {
        "colab": {
          "base_uri": "https://localhost:8080/"
        },
        "id": "VfvB9qhPjXvr",
        "outputId": "bc70345c-afd1-4137-d12e-690a19f9237b"
      },
      "source": [
        "b / a"
      ],
      "execution_count": null,
      "outputs": [
        {
          "output_type": "execute_result",
          "data": {
            "text/plain": [
              "array([6.        , 3.5       , 2.66666667])"
            ]
          },
          "metadata": {
            "tags": []
          },
          "execution_count": 33
        }
      ]
    },
    {
      "cell_type": "code",
      "metadata": {
        "colab": {
          "base_uri": "https://localhost:8080/"
        },
        "id": "gyn1iRjojZG_",
        "outputId": "ef9a85da-e834-436b-8b04-8de135ccb288"
      },
      "source": [
        "a % b"
      ],
      "execution_count": null,
      "outputs": [
        {
          "output_type": "execute_result",
          "data": {
            "text/plain": [
              "array([1, 2, 3])"
            ]
          },
          "metadata": {
            "tags": []
          },
          "execution_count": 34
        }
      ]
    },
    {
      "cell_type": "code",
      "metadata": {
        "colab": {
          "base_uri": "https://localhost:8080/"
        },
        "id": "1sROVXt_jasJ",
        "outputId": "0d072e80-d9e2-4c09-fae4-1804aac97142"
      },
      "source": [
        "b**a"
      ],
      "execution_count": null,
      "outputs": [
        {
          "output_type": "execute_result",
          "data": {
            "text/plain": [
              "array([  6,  49, 512])"
            ]
          },
          "metadata": {
            "tags": []
          },
          "execution_count": 35
        }
      ]
    },
    {
      "cell_type": "code",
      "metadata": {
        "colab": {
          "base_uri": "https://localhost:8080/"
        },
        "id": "N3wNkmy1jcX_",
        "outputId": "24f50852-c7d2-4a84-fb4f-68c320183ac3"
      },
      "source": [
        "a // b"
      ],
      "execution_count": null,
      "outputs": [
        {
          "output_type": "execute_result",
          "data": {
            "text/plain": [
              "array([0, 0, 0])"
            ]
          },
          "metadata": {
            "tags": []
          },
          "execution_count": 36
        }
      ]
    },
    {
      "cell_type": "markdown",
      "metadata": {
        "id": "5C02Z_nOj7Vv"
      },
      "source": [
        "Кроме того, поэлементно могут быть применены другие математические операции"
      ]
    },
    {
      "cell_type": "code",
      "metadata": {
        "colab": {
          "base_uri": "https://localhost:8080/"
        },
        "id": "qD8eOzmpj6pi",
        "outputId": "e2a4ed22-8ee2-434f-d15e-530e780cf325"
      },
      "source": [
        "# корень\n",
        "np.sqrt(a)"
      ],
      "execution_count": null,
      "outputs": [
        {
          "output_type": "execute_result",
          "data": {
            "text/plain": [
              "array([1.        , 1.41421356, 1.73205081])"
            ]
          },
          "metadata": {
            "tags": []
          },
          "execution_count": 37
        }
      ]
    },
    {
      "cell_type": "code",
      "metadata": {
        "id": "mcX6QHJpkE5J"
      },
      "source": [
        "a = np.array([1.1, 1.5, 1.9], float)"
      ],
      "execution_count": null,
      "outputs": []
    },
    {
      "cell_type": "code",
      "metadata": {
        "colab": {
          "base_uri": "https://localhost:8080/"
        },
        "id": "AxZwfU8XkGLv",
        "outputId": "54516a65-eb0c-491f-91ec-a5bc701eb8ad"
      },
      "source": [
        "# округление вниз\n",
        "np.floor(a)"
      ],
      "execution_count": null,
      "outputs": [
        {
          "output_type": "execute_result",
          "data": {
            "text/plain": [
              "array([1., 1., 1.])"
            ]
          },
          "metadata": {
            "tags": []
          },
          "execution_count": 39
        }
      ]
    },
    {
      "cell_type": "code",
      "metadata": {
        "colab": {
          "base_uri": "https://localhost:8080/"
        },
        "id": "0Jqw5BxKkHcS",
        "outputId": "e34b042a-a04d-4811-ba28-9863d8f0faa0"
      },
      "source": [
        "# округление вврех\n",
        "np.ceil(a)"
      ],
      "execution_count": null,
      "outputs": [
        {
          "output_type": "execute_result",
          "data": {
            "text/plain": [
              "array([2., 2., 2.])"
            ]
          },
          "metadata": {
            "tags": []
          },
          "execution_count": 40
        }
      ]
    },
    {
      "cell_type": "code",
      "metadata": {
        "colab": {
          "base_uri": "https://localhost:8080/"
        },
        "id": "Hmf_VZnKkIxm",
        "outputId": "1ffd1a16-c0c1-4525-dc24-b524766cc2d2"
      },
      "source": [
        "# округление по правилам математики\n",
        "np.rint(a)"
      ],
      "execution_count": null,
      "outputs": [
        {
          "output_type": "execute_result",
          "data": {
            "text/plain": [
              "array([1., 2., 2.])"
            ]
          },
          "metadata": {
            "tags": []
          },
          "execution_count": 41
        }
      ]
    },
    {
      "cell_type": "markdown",
      "metadata": {
        "id": "9RVxKPPzm48-"
      },
      "source": [
        "### Простые операции над массивами"
      ]
    },
    {
      "cell_type": "markdown",
      "metadata": {
        "id": "4kul0PInoCR9"
      },
      "source": [
        "#### Одномерные массивы"
      ]
    },
    {
      "cell_type": "code",
      "metadata": {
        "colab": {
          "base_uri": "https://localhost:8080/"
        },
        "id": "mq19j01pnN8G",
        "outputId": "3ec6509e-5bd8-4334-c622-e17aaf3eb1bc"
      },
      "source": [
        "a = np.arange(1, 6, 1)\n",
        "print(a)\n",
        "print('Сумма: ', a.sum())\n",
        "print('Перемножение: ', a.prod())"
      ],
      "execution_count": null,
      "outputs": [
        {
          "output_type": "stream",
          "text": [
            "[1 2 3 4 5]\n",
            "Сумма:  15\n",
            "Перемножение:  120\n"
          ],
          "name": "stdout"
        }
      ]
    },
    {
      "cell_type": "code",
      "metadata": {
        "colab": {
          "base_uri": "https://localhost:8080/"
        },
        "id": "6Mr3ICs2nlLF",
        "outputId": "993b04ed-83f4-46d3-d46f-a65270255706"
      },
      "source": [
        "# среднее (математическое ожидание)\n",
        "a.mean()"
      ],
      "execution_count": null,
      "outputs": [
        {
          "output_type": "execute_result",
          "data": {
            "text/plain": [
              "3.0"
            ]
          },
          "metadata": {
            "tags": []
          },
          "execution_count": 55
        }
      ]
    },
    {
      "cell_type": "code",
      "metadata": {
        "colab": {
          "base_uri": "https://localhost:8080/"
        },
        "id": "2YYUh5JdnmaL",
        "outputId": "60fa0629-803e-41ef-dfd3-a50dad4cd68f"
      },
      "source": [
        "# дисперсия (смещенная - это будет важно в дальнейшем)\n",
        "a.var()"
      ],
      "execution_count": null,
      "outputs": [
        {
          "output_type": "execute_result",
          "data": {
            "text/plain": [
              "2.0"
            ]
          },
          "metadata": {
            "tags": []
          },
          "execution_count": 56
        }
      ]
    },
    {
      "cell_type": "code",
      "metadata": {
        "colab": {
          "base_uri": "https://localhost:8080/"
        },
        "id": "ahaWzOm0nnia",
        "outputId": "5ef0b26c-16d8-4e34-8452-40f8d0031652"
      },
      "source": [
        "# стандартное отклонение (несмещенное - это тоже будет важно в дальнейшем)\n",
        "a.std()"
      ],
      "execution_count": null,
      "outputs": [
        {
          "output_type": "execute_result",
          "data": {
            "text/plain": [
              "1.4142135623730951"
            ]
          },
          "metadata": {
            "tags": []
          },
          "execution_count": 58
        }
      ]
    },
    {
      "cell_type": "code",
      "metadata": {
        "colab": {
          "base_uri": "https://localhost:8080/"
        },
        "id": "b-bIkJ2Wn2x5",
        "outputId": "d780c94c-f801-4aed-c897-541417b8602f"
      },
      "source": [
        "a.min()"
      ],
      "execution_count": null,
      "outputs": [
        {
          "output_type": "execute_result",
          "data": {
            "text/plain": [
              "1"
            ]
          },
          "metadata": {
            "tags": []
          },
          "execution_count": 59
        }
      ]
    },
    {
      "cell_type": "code",
      "metadata": {
        "colab": {
          "base_uri": "https://localhost:8080/"
        },
        "id": "0AxTdqczn4jx",
        "outputId": "c102568e-1bab-429f-ce67-4ff09341dbef"
      },
      "source": [
        "a.argmin()"
      ],
      "execution_count": null,
      "outputs": [
        {
          "output_type": "execute_result",
          "data": {
            "text/plain": [
              "0"
            ]
          },
          "metadata": {
            "tags": []
          },
          "execution_count": 60
        }
      ]
    },
    {
      "cell_type": "code",
      "metadata": {
        "colab": {
          "base_uri": "https://localhost:8080/"
        },
        "id": "QIYU068WodfS",
        "outputId": "ac0e8f08-8130-480c-fa53-e304eb8e76ab"
      },
      "source": [
        "# clip позволяет \"отрезать\" значения сверху и снизу\n",
        "a = np.array([6, 2, 5, -1, 0, 6, 2, 5, 4], float)\n",
        "a.clip(0, 5)"
      ],
      "execution_count": null,
      "outputs": [
        {
          "output_type": "execute_result",
          "data": {
            "text/plain": [
              "array([5., 2., 5., 0., 0., 5., 2., 5., 4.])"
            ]
          },
          "metadata": {
            "tags": []
          },
          "execution_count": 65
        }
      ]
    },
    {
      "cell_type": "code",
      "metadata": {
        "id": "U2LfpmtFoswk",
        "colab": {
          "base_uri": "https://localhost:8080/"
        },
        "outputId": "f74b8b54-a7df-43ec-8c56-2dd831c0db4a"
      },
      "source": [
        "np.unique(a)"
      ],
      "execution_count": null,
      "outputs": [
        {
          "output_type": "execute_result",
          "data": {
            "text/plain": [
              "array([-1.,  0.,  2.,  4.,  5.,  6.])"
            ]
          },
          "metadata": {
            "tags": []
          },
          "execution_count": 66
        }
      ]
    },
    {
      "cell_type": "markdown",
      "metadata": {
        "id": "44hny-booF_m"
      },
      "source": [
        "#### Многомерные массивы\n",
        "Для работы с многомерными массивами можно использовать параметр `axis`."
      ]
    },
    {
      "cell_type": "code",
      "metadata": {
        "colab": {
          "base_uri": "https://localhost:8080/"
        },
        "id": "JP1uT4h1oBCW",
        "outputId": "2dfdc89f-ff40-4752-8836-5612a6021c3b"
      },
      "source": [
        "a = np.array([[5, 2], [4, 1], [3, -1]])\n",
        "print(a)\n",
        "print(a.mean(axis=0))\n",
        "print(a.mean(axis=1))\n",
        "a.mean()"
      ],
      "execution_count": null,
      "outputs": [
        {
          "output_type": "stream",
          "name": "stdout",
          "text": [
            "[[ 5  2]\n",
            " [ 4  1]\n",
            " [ 3 -1]]\n",
            "[4.         0.66666667]\n",
            "[3.5 2.5 1. ]\n"
          ]
        },
        {
          "output_type": "execute_result",
          "data": {
            "text/plain": [
              "2.3333333333333335"
            ]
          },
          "metadata": {},
          "execution_count": 29
        }
      ]
    },
    {
      "cell_type": "markdown",
      "metadata": {
        "id": "I-CcWYy6gZmu"
      },
      "source": [
        "### Логические операции над массивами"
      ]
    },
    {
      "cell_type": "code",
      "metadata": {
        "colab": {
          "base_uri": "https://localhost:8080/"
        },
        "id": "z3bn4sbfg29f",
        "outputId": "6359f80f-a534-4d65-cc89-5f3ad6c57813"
      },
      "source": [
        "a = np.array([1, 3, 0])\n",
        "b = np.array([0, 3, 2])\n",
        "\n",
        "print(a > b, type(a>b))"
      ],
      "execution_count": null,
      "outputs": [
        {
          "output_type": "stream",
          "text": [
            "[ True False False] <class 'numpy.ndarray'>\n"
          ],
          "name": "stdout"
        }
      ]
    },
    {
      "cell_type": "code",
      "metadata": {
        "colab": {
          "base_uri": "https://localhost:8080/"
        },
        "id": "XzxjJtORhJu4",
        "outputId": "44d6f003-e96b-4250-e65b-2f5b9db809f0"
      },
      "source": [
        "c = a > 2\n",
        "c"
      ],
      "execution_count": null,
      "outputs": [
        {
          "output_type": "execute_result",
          "data": {
            "text/plain": [
              "array([False,  True, False])"
            ]
          },
          "metadata": {
            "tags": []
          },
          "execution_count": 8
        }
      ]
    },
    {
      "cell_type": "code",
      "metadata": {
        "colab": {
          "base_uri": "https://localhost:8080/"
        },
        "id": "Lsugeay6hR4P",
        "outputId": "56e158f3-70fe-43f8-eb09-4963caef4e56"
      },
      "source": [
        "# проверяем, что хотя бы один элемент истинен\n",
        "print(any(c))\n",
        "# проверяем, что все элементы истинны\n",
        "print(all(c))"
      ],
      "execution_count": null,
      "outputs": [
        {
          "output_type": "stream",
          "text": [
            "True\n",
            "False\n"
          ],
          "name": "stdout"
        }
      ]
    },
    {
      "cell_type": "markdown",
      "metadata": {
        "id": "sMnWDf0ehlKw"
      },
      "source": [
        "Если вы хотите провести сравнение логическим И или лолгическим ИЛИ, то необходимо воспользоваться специальнымыми методами:\n",
        "\n",
        "\n",
        "```\n",
        "np.logical_and(_, _)\n",
        "np.logical_or(_, _)\n",
        "np.logical_not(_)\n",
        "```\n",
        "\n"
      ]
    },
    {
      "cell_type": "code",
      "metadata": {
        "colab": {
          "base_uri": "https://localhost:8080/"
        },
        "id": "waHiE2F5huzL",
        "outputId": "2c4e7fd9-f63f-4b80-c56a-efe37145fba1"
      },
      "source": [
        "(a < 3) * (a > 0)"
      ],
      "execution_count": null,
      "outputs": [
        {
          "output_type": "execute_result",
          "data": {
            "text/plain": [
              "array([[False,  True],\n",
              "       [False,  True],\n",
              "       [False, False]])"
            ]
          },
          "metadata": {},
          "execution_count": 33
        }
      ]
    },
    {
      "cell_type": "code",
      "metadata": {
        "colab": {
          "base_uri": "https://localhost:8080/"
        },
        "id": "osCxOg27hzeH",
        "outputId": "190cc1d9-164f-4d58-e921-4b33cd6e93ee"
      },
      "source": [
        "np.logical_and(a > 0, a < 3)"
      ],
      "execution_count": null,
      "outputs": [
        {
          "output_type": "execute_result",
          "data": {
            "text/plain": [
              "array([ True, False, False])"
            ]
          },
          "metadata": {
            "tags": []
          },
          "execution_count": 13
        }
      ]
    },
    {
      "cell_type": "markdown",
      "metadata": {
        "id": "7cz4ZxqNiKwk"
      },
      "source": [
        "С помощью `np.where` можно создать массив на основании условий. \n",
        "Синтаксис:\n",
        "\n",
        "\n",
        "```\n",
        "where(boolarray, truearray, falsearray)\n",
        "```\n",
        "\n"
      ]
    },
    {
      "cell_type": "code",
      "source": [
        "a = np.array([1, 3, 0])\n",
        "a"
      ],
      "metadata": {
        "colab": {
          "base_uri": "https://localhost:8080/"
        },
        "id": "buVWH0XEOaGw",
        "outputId": "72a74484-e24e-4df2-a354-1b2b0a524d0e"
      },
      "execution_count": null,
      "outputs": [
        {
          "output_type": "execute_result",
          "data": {
            "text/plain": [
              "array([1, 3, 0])"
            ]
          },
          "metadata": {},
          "execution_count": 36
        }
      ]
    },
    {
      "cell_type": "code",
      "metadata": {
        "colab": {
          "base_uri": "https://localhost:8080/"
        },
        "id": "lNuVgYU_iTt2",
        "outputId": "ce8d7c38-a3e4-4f06-dfe1-7b0a7518bdab"
      },
      "source": [
        "np.where(a != 0, 1 / a, a)"
      ],
      "execution_count": null,
      "outputs": [
        {
          "output_type": "stream",
          "name": "stderr",
          "text": [
            "/usr/local/lib/python3.7/dist-packages/ipykernel_launcher.py:1: RuntimeWarning: divide by zero encountered in true_divide\n",
            "  \"\"\"Entry point for launching an IPython kernel.\n"
          ]
        },
        {
          "output_type": "execute_result",
          "data": {
            "text/plain": [
              "array([1.        , 0.33333333, 0.        ])"
            ]
          },
          "metadata": {},
          "execution_count": 37
        }
      ]
    },
    {
      "cell_type": "markdown",
      "metadata": {
        "id": "iFFWAZjqjtm3"
      },
      "source": [
        "Можно проверять элементы массива на наличие NaN и бесконечностей."
      ]
    },
    {
      "cell_type": "code",
      "metadata": {
        "id": "1ue7ilLfixGs",
        "colab": {
          "base_uri": "https://localhost:8080/"
        },
        "outputId": "80fe1688-bafb-406e-f347-e86ec3c779a1"
      },
      "source": [
        "a = np.array([1, np.NaN, np.Inf], float)\n",
        "a"
      ],
      "execution_count": null,
      "outputs": [
        {
          "output_type": "execute_result",
          "data": {
            "text/plain": [
              "array([ 1., nan, inf])"
            ]
          },
          "metadata": {},
          "execution_count": 38
        }
      ]
    },
    {
      "cell_type": "code",
      "metadata": {
        "colab": {
          "base_uri": "https://localhost:8080/"
        },
        "id": "f4m9oOQijaAA",
        "outputId": "5a3ae855-b9fe-4f69-9f2d-be49a65e1e09"
      },
      "source": [
        "np.isnan(a)"
      ],
      "execution_count": null,
      "outputs": [
        {
          "output_type": "execute_result",
          "data": {
            "text/plain": [
              "array([False,  True, False])"
            ]
          },
          "metadata": {},
          "execution_count": 39
        }
      ]
    },
    {
      "cell_type": "code",
      "metadata": {
        "colab": {
          "base_uri": "https://localhost:8080/"
        },
        "id": "kzYOI003jdCT",
        "outputId": "e89a6de2-f6b4-48c4-fb9d-f715fb96e488"
      },
      "source": [
        "np.isfinite(a)"
      ],
      "execution_count": null,
      "outputs": [
        {
          "output_type": "execute_result",
          "data": {
            "text/plain": [
              "array([ True, False, False])"
            ]
          },
          "metadata": {},
          "execution_count": 40
        }
      ]
    },
    {
      "cell_type": "markdown",
      "metadata": {
        "id": "8t6HiD0ckFk1"
      },
      "source": [
        "### Выбор элементов массива по условию\n",
        "\n",
        "Очень важной особенностью массивов является то, что элементы в них можно брать на основании других массивов. Это особенно полезно при реализации свёрточных нейронных сетей."
      ]
    },
    {
      "cell_type": "code",
      "metadata": {
        "colab": {
          "base_uri": "https://localhost:8080/"
        },
        "id": "ydOgfU9Oj4Cx",
        "outputId": "bcf0ee39-c607-4449-f966-7045c07df024"
      },
      "source": [
        "# это результат применения логической операции к многомерному массиву\n",
        "a = np.array([[6, 4], [5, 9]], float)\n",
        "a >= 6"
      ],
      "execution_count": null,
      "outputs": [
        {
          "output_type": "execute_result",
          "data": {
            "text/plain": [
              "array([[ True, False],\n",
              "       [False,  True]])"
            ]
          },
          "metadata": {
            "tags": []
          },
          "execution_count": 21
        }
      ]
    },
    {
      "cell_type": "code",
      "metadata": {
        "colab": {
          "base_uri": "https://localhost:8080/"
        },
        "id": "CP9XFc23ksri",
        "outputId": "2cdbba25-064a-468b-b631-150741f59f11"
      },
      "source": [
        "# а это результат фильтрации элементов\n",
        "# обратите внимание, получился одномерный массив, содержащий только элементы, удовлетворяющие условию \n",
        "a[a >= 6]"
      ],
      "execution_count": null,
      "outputs": [
        {
          "output_type": "execute_result",
          "data": {
            "text/plain": [
              "array([6., 9.])"
            ]
          },
          "metadata": {
            "tags": []
          },
          "execution_count": 23
        }
      ]
    },
    {
      "cell_type": "code",
      "metadata": {
        "colab": {
          "base_uri": "https://localhost:8080/"
        },
        "id": "SYnoVd85lNOi",
        "outputId": "3690be39-5e37-42e9-d528-d651fab80482"
      },
      "source": [
        "a[np.logical_and(a > 5, a < 9)]"
      ],
      "execution_count": null,
      "outputs": [
        {
          "output_type": "execute_result",
          "data": {
            "text/plain": [
              "array([6.])"
            ]
          },
          "metadata": {
            "tags": []
          },
          "execution_count": 24
        }
      ]
    },
    {
      "cell_type": "markdown",
      "metadata": {
        "id": "RE6p2vyRlPnn"
      },
      "source": [
        "Обратите внимание, что если передать целочисленные значения, в качестве условий, то результат будет другой. Будут выбраные соответствующие элементы. "
      ]
    },
    {
      "cell_type": "code",
      "metadata": {
        "colab": {
          "base_uri": "https://localhost:8080/"
        },
        "id": "EiQhJ-OmlaW7",
        "outputId": "d9e7830b-4032-4210-d17f-96d705759777"
      },
      "source": [
        "a = np.array([2, 4, 6, 8], float)\n",
        "b = np.array([0, 0, 1, 3, 2], int)\n",
        "a[b]"
      ],
      "execution_count": null,
      "outputs": [
        {
          "output_type": "execute_result",
          "data": {
            "text/plain": [
              "array([2., 2., 4., 8., 6.])"
            ]
          },
          "metadata": {},
          "execution_count": 42
        }
      ]
    },
    {
      "cell_type": "code",
      "metadata": {
        "colab": {
          "base_uri": "https://localhost:8080/"
        },
        "id": "9VzF3Achpgsw",
        "outputId": "f4c8f557-7846-4034-90fa-309f04eba92e"
      },
      "source": [
        "# Для выбора значений из многомерных массивов необходимо передать массивы, которые определяют индексы по каждому из направлений. Они должны быть, естественно, целочисленными.\n",
        "a = np.array([[1, 4], [9, 16]], float)\n",
        "b = np.array([0, 0, 1, 1, 0], int)\n",
        "c = np.array([0, 1, 1, 1, 1], int)\n",
        "a[b,c]"
      ],
      "execution_count": null,
      "outputs": [
        {
          "output_type": "execute_result",
          "data": {
            "text/plain": [
              "array([ 1.,  4., 16., 16.,  4.])"
            ]
          },
          "metadata": {
            "tags": []
          },
          "execution_count": 28
        }
      ]
    },
    {
      "cell_type": "markdown",
      "metadata": {
        "id": "tcAPABuYp8s0"
      },
      "source": [
        "## Векторная и матричная математика с использованием numpy\n",
        "\n",
        "Векторная математика в numpy - это главная причина того, что numpy стал ключевым модулем Python среди всех представленных модулей. Векторные вычисления позволяют значительно ускорить обработку численной информации. \n",
        "\n",
        "Часто сравнивая Python c С++/C говорят том, что первый гораздо менее производителен. Но с учётом современных модулей верно следующее утверждение: хорошо написанная программа на Python будет производительнее, чем средняя программа на C/C++, хорошую программу на C/C++ написать крайне сложно. \n",
        "\n",
        "В дополнении к арифметически операциям мы рассмотрим некоторые векторные операции. Глубокое погружение в их суть требует значительных знаний математики, которые мы будем получать по мере необходимости. "
      ]
    },
    {
      "cell_type": "markdown",
      "metadata": {
        "id": "CmYD6oX1sU0Y"
      },
      "source": [
        "### Скалярное произведение\n",
        "\n",
        "Для двух векторов a и b одинаковой длины скалярное произведение считается по следующей формуле:\n",
        "\n",
        "$ a*b = \\sum_{i=0}^{len(a)}  a_i*b_i $"
      ]
    },
    {
      "cell_type": "code",
      "metadata": {
        "colab": {
          "base_uri": "https://localhost:8080/"
        },
        "id": "DxYXBsMdrEih",
        "outputId": "fa894550-7745-450b-edbc-67a50b82fc14"
      },
      "source": [
        "# скалярное произвдение векторов, также операция свёртки в свёрточных нейронных сетях \n",
        "\n",
        "a = np.array([1, 2, 3], float)\n",
        "b = np.array([0, 1, 1], float)\n",
        "np.dot(a, b)"
      ],
      "execution_count": null,
      "outputs": [
        {
          "output_type": "execute_result",
          "data": {
            "text/plain": [
              "5.0"
            ]
          },
          "metadata": {
            "tags": []
          },
          "execution_count": 29
        }
      ]
    },
    {
      "cell_type": "markdown",
      "metadata": {
        "id": "pTodEGiqrogd"
      },
      "source": [
        "### Произведение матриц\n",
        "\n",
        "Произведение матриц - это особая математическая операция, которая не эквивалентна произведени соответствующих элементов матриц. О матричном произведении целесообразно говорить в рамках соответствующих разделов математики. Тем не менее, используя numpy легко получить матричное произведение."
      ]
    },
    {
      "cell_type": "code",
      "metadata": {
        "id": "U7Dk0saXse_3"
      },
      "source": [
        "a = np.array([[0, 1], [2, 3]], float)\n",
        "b = np.array([2, 3], float)\n",
        "d = np.array([[1, 1, 1], [1, 1, 1], [1, 1, 1]], float)"
      ],
      "execution_count": null,
      "outputs": []
    },
    {
      "cell_type": "code",
      "metadata": {
        "colab": {
          "base_uri": "https://localhost:8080/"
        },
        "id": "2bfSYAVWs_-7",
        "outputId": "aa0afd03-7cd8-4a47-fc81-77e8307e7822"
      },
      "source": [
        "np.dot(b, a)"
      ],
      "execution_count": null,
      "outputs": [
        {
          "output_type": "execute_result",
          "data": {
            "text/plain": [
              "array([ 6., 11.])"
            ]
          },
          "metadata": {
            "tags": []
          },
          "execution_count": 31
        }
      ]
    },
    {
      "cell_type": "code",
      "metadata": {
        "colab": {
          "base_uri": "https://localhost:8080/"
        },
        "id": "yOxVqmgqtAjj",
        "outputId": "c97225f2-5415-4eef-be34-5b0c008109b0"
      },
      "source": [
        "np.dot(a, b)"
      ],
      "execution_count": null,
      "outputs": [
        {
          "output_type": "execute_result",
          "data": {
            "text/plain": [
              "array([ 3., 13.])"
            ]
          },
          "metadata": {
            "tags": []
          },
          "execution_count": 32
        }
      ]
    },
    {
      "cell_type": "code",
      "metadata": {
        "colab": {
          "base_uri": "https://localhost:8080/",
          "height": 197
        },
        "id": "KdF8ZTYdtM6N",
        "outputId": "be469ce4-0dfd-457d-ad9f-0df8020e7420"
      },
      "source": [
        "# следите за размерностью, иначе ничего не получится\n",
        "np.dot(b, d)"
      ],
      "execution_count": null,
      "outputs": [
        {
          "output_type": "error",
          "ename": "ValueError",
          "evalue": "ignored",
          "traceback": [
            "\u001b[0;31m---------------------------------------------------------------------------\u001b[0m",
            "\u001b[0;31mValueError\u001b[0m                                Traceback (most recent call last)",
            "\u001b[0;32m<ipython-input-37-76f98feef170>\u001b[0m in \u001b[0;36m<module>\u001b[0;34m()\u001b[0m\n\u001b[0;32m----> 1\u001b[0;31m \u001b[0mnp\u001b[0m\u001b[0;34m.\u001b[0m\u001b[0mdot\u001b[0m\u001b[0;34m(\u001b[0m\u001b[0mb\u001b[0m\u001b[0;34m,\u001b[0m \u001b[0md\u001b[0m\u001b[0;34m)\u001b[0m\u001b[0;34m\u001b[0m\u001b[0;34m\u001b[0m\u001b[0m\n\u001b[0m",
            "\u001b[0;32m<__array_function__ internals>\u001b[0m in \u001b[0;36mdot\u001b[0;34m(*args, **kwargs)\u001b[0m\n",
            "\u001b[0;31mValueError\u001b[0m: shapes (2,) and (3,3) not aligned: 2 (dim 0) != 3 (dim 0)"
          ]
        }
      ]
    },
    {
      "cell_type": "markdown",
      "metadata": {
        "id": "HE0b3-mVtj5L"
      },
      "source": [
        "### Определитель матриц\n",
        "\n",
        "Многие математические операции, связанные с линейной алгеброй реализованы в модуле linalg внутри numpy. Мы не будем углулбляться в различные функциия модуля, рассмотрим для примера определитель. "
      ]
    },
    {
      "cell_type": "code",
      "metadata": {
        "colab": {
          "base_uri": "https://localhost:8080/"
        },
        "id": "_SeZ2fV6vaVV",
        "outputId": "d03958a9-5532-427c-8690-78af22f92fa9"
      },
      "source": [
        "np.linalg.det(a)"
      ],
      "execution_count": null,
      "outputs": [
        {
          "output_type": "execute_result",
          "data": {
            "text/plain": [
              "-2.0"
            ]
          },
          "metadata": {
            "tags": []
          },
          "execution_count": 38
        }
      ]
    },
    {
      "cell_type": "markdown",
      "metadata": {
        "id": "Wexheqa8vyh7"
      },
      "source": [
        "# Дополнительный материал для желающих\n",
        "\n",
        "[Нескучный туториал по numpy](https://habr.com/ru/post/469355/)"
      ]
    },
    {
      "cell_type": "markdown",
      "metadata": {
        "id": "vTu7Ibz2CesK"
      },
      "source": [
        "# Задания"
      ]
    },
    {
      "cell_type": "markdown",
      "metadata": {
        "id": "EobX-nHRDeT5"
      },
      "source": [
        "**Задача 1.**\n",
        "\n",
        "Создать матрицу размером `10х10` с 0 внутри, и 1 на границах. Например для `3х3`.\n",
        "\n",
        "```\n",
        "1 1 1\n",
        "1 0 1\n",
        "1 1 1\n",
        "```\n",
        "Количество строк кода идеального решения: 2  \n",
        "Кроме print()"
      ]
    },
    {
      "cell_type": "code",
      "metadata": {
        "id": "MGvbhlGHCiJR"
      },
      "source": [],
      "execution_count": null,
      "outputs": []
    },
    {
      "cell_type": "markdown",
      "metadata": {
        "id": "vnY0gsMOD45W"
      },
      "source": [
        "**Задача 2.**\n",
        "\n",
        "Создать 5x5 матрицу с 1,2,3,4 над диагональю. Все остальные элементы - 0.\n",
        "\n",
        "Количество строк кода идеального решения: 1   \n",
        "Кроме print()"
      ]
    },
    {
      "cell_type": "code",
      "metadata": {
        "id": "tnKHSJApEY4w"
      },
      "source": [],
      "execution_count": null,
      "outputs": []
    },
    {
      "cell_type": "markdown",
      "metadata": {
        "id": "7R26cYEXEsWb"
      },
      "source": [
        "**Задача 3.**\n",
        "\n",
        "Создайте случайную матрицу и вычтите из каждой строки среднее.\n",
        "Количество строк кода идеального решения (кроме создания исходной матрицы): 1   \n",
        "Кроме print()"
      ]
    },
    {
      "cell_type": "code",
      "metadata": {
        "id": "vD0W-3azE2Rw",
        "colab": {
          "base_uri": "https://localhost:8080/"
        },
        "outputId": "6b13f02a-1255-47cd-9e12-409be311141e"
      },
      "source": [
        "X = np.random.rand(5, 10)\n",
        "Y = X - X.mean(axis=1)[:, None]\n",
        "print(Y)"
      ],
      "execution_count": null,
      "outputs": [
        {
          "output_type": "stream",
          "name": "stdout",
          "text": [
            "[[ 0.31062308 -0.32665093  0.1127179   0.4708276  -0.33518734  0.08911738\n",
            "  -0.43756846 -0.3657041   0.47459461  0.00723028]\n",
            " [-0.37787174  0.19443115  0.31714364 -0.04829233 -0.50067171 -0.14110089\n",
            "   0.3145502   0.42540029  0.13886453 -0.32245315]\n",
            " [-0.01153714 -0.18349431 -0.08840145  0.27094518 -0.41357228  0.36253928\n",
            "  -0.1827849   0.37319903  0.22767178 -0.35456519]\n",
            " [ 0.27997251  0.0509572  -0.19207423 -0.10409752 -0.23654956  0.41768527\n",
            "  -0.14142852 -0.11780492  0.17564643 -0.13230666]\n",
            " [ 0.13238553 -0.19378244  0.05805583 -0.49723998  0.27553957  0.40370691\n",
            "  -0.23639418  0.27309086 -0.48270789  0.2673458 ]]\n"
          ]
        }
      ]
    },
    {
      "cell_type": "code",
      "source": [
        "X"
      ],
      "metadata": {
        "id": "eNDIKZPrUbZG",
        "outputId": "9843570a-13f5-48c8-97a3-cdbc048c0674",
        "colab": {
          "base_uri": "https://localhost:8080/"
        }
      },
      "execution_count": null,
      "outputs": [
        {
          "output_type": "execute_result",
          "data": {
            "text/plain": [
              "array([[0.81860978, 0.18133577, 0.6207046 , 0.9788143 , 0.17279936,\n",
              "        0.59710408, 0.07041824, 0.1422826 , 0.98258131, 0.51521698],\n",
              "       [0.13187826, 0.70418115, 0.82689364, 0.46145766, 0.00907829,\n",
              "        0.36864911, 0.82430019, 0.93515029, 0.64861453, 0.18729685],\n",
              "       [0.57112017, 0.399163  , 0.49425586, 0.8536025 , 0.16908504,\n",
              "        0.94519659, 0.39987241, 0.95585634, 0.8103291 , 0.22809212],\n",
              "       [0.6420373 , 0.41302199, 0.16999056, 0.25796727, 0.12551523,\n",
              "        0.77975005, 0.22063627, 0.24425986, 0.53771122, 0.22975812],\n",
              "       [0.71080527, 0.3846373 , 0.63647557, 0.08117976, 0.85395931,\n",
              "        0.98212665, 0.34202556, 0.85151061, 0.09571185, 0.84576554]])"
            ]
          },
          "metadata": {},
          "execution_count": 44
        }
      ]
    },
    {
      "cell_type": "markdown",
      "source": [
        "**Задача 4.**\n",
        "\n",
        "Дан массив, поменять знак у элементов, значения которых между 3 и 8."
      ],
      "metadata": {
        "id": "CzAqzs7ClCSn"
      }
    },
    {
      "cell_type": "code",
      "source": [],
      "metadata": {
        "id": "63Ki9lyulzec"
      },
      "execution_count": null,
      "outputs": []
    },
    {
      "cell_type": "markdown",
      "source": [
        "**Задача 4.**\n",
        "\n",
        "Дана матрица. Отнять среднее из каждой строки в матрице."
      ],
      "metadata": {
        "id": "ha_XRvz7l9rx"
      }
    },
    {
      "cell_type": "code",
      "source": [],
      "metadata": {
        "id": "9nkzwep7mB5h"
      },
      "execution_count": null,
      "outputs": []
    },
    {
      "cell_type": "markdown",
      "source": [
        "**Задача 5.**\n",
        "\n",
        "Дан вектор [1, 2, 3, 4, 5], построить новый вектор с тремя нулями между каждым значением."
      ],
      "metadata": {
        "id": "MJJ33mtstr-a"
      }
    },
    {
      "cell_type": "code",
      "source": [],
      "metadata": {
        "id": "UZLtKFY80D6f"
      },
      "execution_count": null,
      "outputs": []
    },
    {
      "cell_type": "markdown",
      "source": [
        "**Задача 6.**\n",
        "\n",
        "Дана матрица MxN. Поменять 2 любые строки в матрице."
      ],
      "metadata": {
        "id": "KU7g7UVs0EDr"
      }
    },
    {
      "cell_type": "markdown",
      "source": [
        "**Задача 7.**\n",
        "\n",
        "Дан одномерный массив. Найти наиболее частое значение в массиве."
      ],
      "metadata": {
        "id": "Kiva3bYH0Z9S"
      }
    },
    {
      "cell_type": "code",
      "source": [],
      "metadata": {
        "id": "Fmnb7-e70YdF"
      },
      "execution_count": null,
      "outputs": []
    },
    {
      "cell_type": "markdown",
      "source": [
        "**Задача 8.** \n",
        "\n",
        "Дан массив 16x16, посчитать сумму по блокам 4x4."
      ],
      "metadata": {
        "id": "CA6upOsg0vuY"
      }
    },
    {
      "cell_type": "code",
      "source": [],
      "metadata": {
        "id": "biNnN0Gb056o"
      },
      "execution_count": null,
      "outputs": []
    },
    {
      "cell_type": "markdown",
      "source": [
        "**Задача 9.**\n",
        "\n",
        "Дана матрица. Найти n наибольших значений в массиве. n вводится с клавиатуры."
      ],
      "metadata": {
        "id": "a5jYWrLl06BY"
      }
    },
    {
      "cell_type": "code",
      "source": [],
      "metadata": {
        "id": "WflOzZRy1BRy"
      },
      "execution_count": null,
      "outputs": []
    },
    {
      "cell_type": "markdown",
      "source": [
        "**Задача 9.**\n",
        "\n",
        "Дана 10x3 матрица, найти строки из неравных значений (например [2,2,3])."
      ],
      "metadata": {
        "id": "UbB8AuQA1BY0"
      }
    },
    {
      "cell_type": "code",
      "source": [],
      "metadata": {
        "id": "YOKf8gMB1JCS"
      },
      "execution_count": null,
      "outputs": []
    },
    {
      "cell_type": "markdown",
      "source": [
        "**Задача 10.**\n",
        "\n",
        "Дан двумерный массив. Найти все различные строки."
      ],
      "metadata": {
        "id": "kDOcG70_1JJi"
      }
    },
    {
      "cell_type": "code",
      "source": [],
      "metadata": {
        "id": "Z370pCG41mUU"
      },
      "execution_count": null,
      "outputs": []
    },
    {
      "cell_type": "markdown",
      "source": [
        "**Задача 11.**\n",
        "\n",
        "Даны два вектора одинакого размера. Посчитайте расстояние между векторами."
      ],
      "metadata": {
        "id": "xLnW1uIL1mc_"
      }
    },
    {
      "cell_type": "code",
      "source": [],
      "metadata": {
        "id": "yYu-Qco323yW"
      },
      "execution_count": null,
      "outputs": []
    },
    {
      "cell_type": "markdown",
      "source": [
        "**Задача 12.**\n",
        "\n",
        "Даны два вектора одинакового размера. Найти косинус угла между векторами."
      ],
      "metadata": {
        "id": "jcl3nZ-Y236p"
      }
    },
    {
      "cell_type": "code",
      "source": [],
      "metadata": {
        "id": "GjM3s2YN3NEY"
      },
      "execution_count": null,
      "outputs": []
    },
    {
      "cell_type": "markdown",
      "source": [
        "**Задача 13.**\n",
        "\n",
        "Вектор A содержит float числа как больше, так и меньше нуля.\n",
        "\n",
        "Округлите их до целых и результат запишите в переменную Z. Округление должно быть \"от нуля\", т.е.:\n",
        "\n",
        "- положительные числа округляем всегда вверх до целого\n",
        "- отрицательные числа округляем всегда вниз до целого\n",
        "- 0 остаётся 0\n"
      ],
      "metadata": {
        "id": "NOGrxa9o3WLZ"
      }
    },
    {
      "cell_type": "code",
      "source": [],
      "metadata": {
        "id": "x-RztsfF37Yt"
      },
      "execution_count": null,
      "outputs": []
    },
    {
      "cell_type": "markdown",
      "source": [
        "**Задача 14.**\n",
        "\n",
        "Даны 2 вектора целых чисел A и B.\n",
        "\n",
        "Найдите числа, встречающиеся в обоих векторах и составьте их по возрастанию в вектор Z.\n",
        "\n",
        "*Если пересечений нет, то вектор Z будет пустым*."
      ],
      "metadata": {
        "id": "6V2Z2SNX37jT"
      }
    },
    {
      "cell_type": "code",
      "source": [],
      "metadata": {
        "id": "ThxIR2zN4PFr"
      },
      "execution_count": null,
      "outputs": []
    },
    {
      "cell_type": "markdown",
      "source": [
        "**Задача 15.**\n",
        "\n",
        "Дан вектр. Найти максимальный элемент в векторе среди элементов, перед которыми стоит нулевой. \n",
        "\n",
        "Например для:\n",
        "\n",
        "`x = np.array([6, 2, 0, 3, 0, 0, 5, 7, 0])`\n",
        "\n",
        "Ответ:\n",
        "5"
      ],
      "metadata": {
        "id": "GeUr4BbI433N"
      }
    },
    {
      "cell_type": "code",
      "source": [],
      "metadata": {
        "id": "TVHVE4RB50Ti"
      },
      "execution_count": null,
      "outputs": []
    },
    {
      "cell_type": "markdown",
      "source": [
        "Задача 16.\n",
        "\n",
        "Дана матрица 5х3. Посчитать длинну каждого вектора в матрице (строка) и найти самый длинный ветор и вывести его координаты и длинну.\n",
        "\n",
        "Как выглядит матрица:\n",
        "\n",
        "```   \n",
        "     | x | y | z |\n",
        "     | 1 | 2 | 3 |\n",
        "     | 3 | 4 | 1 |\n",
        "     | ...       |\n",
        "```"
      ],
      "metadata": {
        "id": "3w6cbF5m438U"
      }
    },
    {
      "cell_type": "code",
      "source": [],
      "metadata": {
        "id": "YSqlTlRC7mFB"
      },
      "execution_count": null,
      "outputs": []
    }
  ]
}