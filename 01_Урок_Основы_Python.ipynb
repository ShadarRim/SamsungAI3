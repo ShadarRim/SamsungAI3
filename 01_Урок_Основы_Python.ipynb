{
  "nbformat": 4,
  "nbformat_minor": 0,
  "metadata": {
    "colab": {
      "provenance": []
    },
    "kernelspec": {
      "name": "python3",
      "display_name": "Python 3"
    },
    "language_info": {
      "name": "python"
    }
  },
  "cells": [
    {
      "cell_type": "markdown",
      "metadata": {
        "id": "weTl5RMQKjR2"
      },
      "source": [
        "# Основы языка Python"
      ]
    },
    {
      "cell_type": "markdown",
      "metadata": {
        "id": "FRSOipZYKpq2"
      },
      "source": [
        "## Функции"
      ]
    },
    {
      "cell_type": "markdown",
      "metadata": {
        "id": "2YhyY9PcrXUs"
      },
      "source": [
        "**Функция** - это блок организованного, многократно используемоего кода, который используется для выполнения конкретного задания.  Функции в Python - объект, который принимает аргументы, производит обработку данных, возвращает значение. Функция может принимать произвольное количество аргументов.\n",
        "\n",
        "Они все обладают общим свойством: они могут принимать параметры (ноль, один или несколько), и они могут возвращать значение (хотя могут и не возвращать). "
      ]
    },
    {
      "cell_type": "markdown",
      "metadata": {
        "id": "ygv9bP7GY6lf"
      },
      "source": [
        "### Встроенный функции языка Python"
      ]
    },
    {
      "cell_type": "markdown",
      "metadata": {
        "id": "7Xj1UJbPZCbu"
      },
      "source": [
        "Язык Python включает много уже определенных, то есть встроенных в него, функций."
      ]
    },
    {
      "cell_type": "markdown",
      "metadata": {
        "id": "6qyxenx0aT1c"
      },
      "source": [
        "**int()** - преобразование к целому числу."
      ]
    },
    {
      "cell_type": "code",
      "metadata": {
        "id": "9gfKv5TUabKH"
      },
      "source": [
        "int('3') # преобразование из типа str в тип int"
      ],
      "execution_count": null,
      "outputs": []
    },
    {
      "cell_type": "markdown",
      "metadata": {
        "id": "mioeQ8-KaFiD"
      },
      "source": [
        "**float()** - преобразование к числу с плавающей точкой. Если аргумент не указан, возвращается 0.0."
      ]
    },
    {
      "cell_type": "code",
      "metadata": {
        "id": "xpUWGGwzZ_JA"
      },
      "source": [
        "float('3.5') # преобразование из типа str в тип float"
      ],
      "execution_count": null,
      "outputs": []
    },
    {
      "cell_type": "markdown",
      "metadata": {
        "id": "5nHPtDuBaJ8e"
      },
      "source": [
        "**str()** - строковое представление объекта."
      ]
    },
    {
      "cell_type": "code",
      "metadata": {
        "id": "IAUAqn3van7y"
      },
      "source": [
        "str(123) # преобразование из типа int в тип str"
      ],
      "execution_count": null,
      "outputs": []
    },
    {
      "cell_type": "markdown",
      "metadata": {
        "id": "cE9HrxqMa9k8"
      },
      "source": [
        "**input()** - Возвращает введенную пользователем с консоли строку. "
      ]
    },
    {
      "cell_type": "code",
      "metadata": {
        "id": "3pjUZmh1bGGt"
      },
      "source": [
        "x = input() # функция попросит пользователя ввести с клавиатуры и вернет это значение в x (тип возвращаемого значения str)\n",
        "type(x)\n",
        "\n",
        "x = int(input()) # преобразование введенного с клавиатуры числа в тип str"
      ],
      "execution_count": null,
      "outputs": []
    },
    {
      "cell_type": "markdown",
      "metadata": {
        "id": "u4R6xo0KckJ_"
      },
      "source": [
        "**len()** - Возвращает число элементов в указанном объекте."
      ]
    },
    {
      "cell_type": "code",
      "metadata": {
        "id": "WaNIbX8OcoRB"
      },
      "source": [
        "x = [5, 7, 8, 2, 5]\n",
        "len(x) # вернет значение 5 (5 элементов в списке)\n",
        "\n",
        "s = 'Hello'\n",
        "len(s) ## вернет значение 5 (5 букв в слове)"
      ],
      "execution_count": null,
      "outputs": []
    },
    {
      "cell_type": "markdown",
      "metadata": {
        "id": "Binaz_-wcJJ_"
      },
      "source": [
        "**max()** - функция используется для нахождения «максимального» значения в последовательности, итерируемом объекте и так далее. В параметрах можно менять способ вычисления максимального значения.\n",
        "\n",
        "**min()** - функция используется для нахождения «минимального» значения в последовательности, итерируемом объекте и так далее. В параметрах можно менять способ вычисления минимального значения."
      ]
    },
    {
      "cell_type": "code",
      "metadata": {
        "id": "8Ex0jX-8cVjW",
        "colab": {
          "base_uri": "https://localhost:8080/",
          "height": 35
        },
        "outputId": "82a0ffc8-35b0-4110-fc03-4e67223afeaf"
      },
      "source": [
        "x = [5, 7, 8, 2, 5]\n",
        "max(x) # вернет значение 8\n",
        "min(x) # вернет значение 2\n",
        "\n",
        "x = [\"Яблоко\", \"Апельсин\", \"Автомобиль\"]\n",
        "max(x, key = len) # считает самое длинное слово (по длинне) - вернет \"Автомобиль\"\n",
        "#max(x) # вернет \"Яблоко\" (сравнение слов будет по лексиграфическому признаку)"
      ],
      "execution_count": null,
      "outputs": [
        {
          "output_type": "execute_result",
          "data": {
            "text/plain": [
              "'Автомобиль'"
            ],
            "application/vnd.google.colaboratory.intrinsic+json": {
              "type": "string"
            }
          },
          "metadata": {},
          "execution_count": 2
        }
      ]
    },
    {
      "cell_type": "markdown",
      "metadata": {
        "id": "fileSDyZf4yX"
      },
      "source": [
        "**reversed()** - функция предоставляет простой и быстрый способ развернуть порядок элементов в последовательности. В качестве параметра она принимает валидную последовательность, например список, а возвращает итерируемый объект."
      ]
    },
    {
      "cell_type": "code",
      "metadata": {
        "id": "Hy4SdQ57fxIS"
      },
      "source": [
        "x = [3,4,5]\n",
        "b = reversed(x)\n",
        "list(b)"
      ],
      "execution_count": null,
      "outputs": []
    },
    {
      "cell_type": "markdown",
      "metadata": {
        "id": "80_ucrkmgjUB"
      },
      "source": [
        "**set()** - создает множество. Обычно в качестве аргументов функция принимает последовательность, например строка или список, которая затем преобразуется в множество уникальных значений."
      ]
    },
    {
      "cell_type": "code",
      "metadata": {
        "id": "PLQLkcJ6hJps"
      },
      "source": [
        "set(\"Hello\")\n",
        "# {'e', 'l', 'o', 'H'}\n",
        "\n",
        "set((1,1,1,2,2,3,4,5))\n",
        "# {1, 2, 3, 4, 5}"
      ],
      "execution_count": null,
      "outputs": []
    },
    {
      "cell_type": "markdown",
      "metadata": {
        "id": "H40Vw28ogQDB"
      },
      "source": [
        "**range()** - Используется для создания последовательности чисел с заданными значениями от и до, а также интервалом. Такая последовательность часто используется в циклах, особенно в цикле for."
      ]
    },
    {
      "cell_type": "code",
      "metadata": {
        "id": "yeSQteH3gayV",
        "colab": {
          "base_uri": "https://localhost:8080/"
        },
        "outputId": "a4b16060-64cb-48e5-ce24-b0c9896ffc3a"
      },
      "source": [
        "# range(start, stop, step)\n",
        "print(list(range(10,20,2)))\n",
        "# вернет список [10, 12, 14, 16, 18]"
      ],
      "execution_count": null,
      "outputs": [
        {
          "output_type": "execute_result",
          "data": {
            "text/plain": [
              "[10, 12, 14, 16, 18]"
            ]
          },
          "metadata": {},
          "execution_count": 4
        }
      ]
    },
    {
      "cell_type": "markdown",
      "metadata": {
        "id": "wsz8Tm4bhZeA"
      },
      "source": [
        "**enumerate()** - В качестве параметра эта функция принимает последовательность. После этого она перебирает каждый элемент и возвращает его вместе со счетчиком в виде перечисляемого объекта. Основная особенность таких объектов — возможность размещать их в цикле для перебора.\n",
        "\n",
        "Если range() позволяет получить только индексы элементов списка, то enumerate() – сразу индекс элемента и его значение.\n"
      ]
    },
    {
      "cell_type": "code",
      "metadata": {
        "id": "j8yNAwpIhkR4",
        "colab": {
          "base_uri": "https://localhost:8080/"
        },
        "outputId": "cbac0d6c-1cbf-4b49-bf33-bdfdb07fbed2"
      },
      "source": [
        "x = \"Строка\"\n",
        "print(list(enumerate(x)))\n",
        "# [(0, 'С'), (1, 'т'), (2, 'р'), (3, 'о'), (4, 'к'), (5, 'а')]"
      ],
      "execution_count": null,
      "outputs": [
        {
          "output_type": "stream",
          "name": "stdout",
          "text": [
            "[(0, 'а'), (1, 'б'), (2, 'в')]\n"
          ]
        }
      ]
    },
    {
      "cell_type": "markdown",
      "metadata": {
        "id": "YUEn4J-GZDjK"
      },
      "source": [
        "###Определение собственных функций"
      ]
    },
    {
      "cell_type": "markdown",
      "metadata": {
        "id": "8C7LFa2hNCdx"
      },
      "source": [
        "Также в Python можно определить свою функцию.\n",
        "Функция определяется с помощью инструкции **def**.\n",
        "\n",
        "Существуют некоторые правила для создания функций в Python.\n",
        "\n",
        "- Блок функции начинается с ключевого слова def, после которого следуют название функции и круглые скобки ().\n",
        "- Любые аргументы, которые принимает функция должны находиться внутри этих скобок.\n",
        "- После скобок идет двоеточие ( : ) и с новой строки с отступом начинается тело функции.\n",
        "\n",
        "Выражение **return** прекращает выполнение функции и возвращает указанное после выражения значение. Выражение return без аргументов это то же самое, что и выражение return None. \n",
        "```\n",
        "def <Название функции>(параметр1, параметр2, ...):\n",
        "    --код--\n",
        "    return параметр1 + параметр2\n",
        "```\n",
        "\n",
        "Например, определим простейщую функцию, которая принимает в качестве аргументов два числа и возвращает их сумму."
      ]
    },
    {
      "cell_type": "markdown",
      "metadata": {
        "id": "hVw9OXgkV8RD"
      },
      "source": [
        "- аргумент (фактический параметр): фактическая переменная передается в функцию;\n",
        "- параметр (формальный параметр): принимающая переменная, которая используется в функции."
      ]
    },
    {
      "cell_type": "code",
      "metadata": {
        "id": "Kts9fiLsNk1o"
      },
      "source": [
        "# x, y - это параметры функции\n",
        "# функция возвращает значение переменной s\n",
        "def summa(x, y):\n",
        "    s = x + y\n",
        "    return s"
      ],
      "execution_count": null,
      "outputs": []
    },
    {
      "cell_type": "code",
      "metadata": {
        "id": "lWHqFwbcOjCp"
      },
      "source": [
        "# x, y - это параметры функции\n",
        "# данная функция ничего не возвращает, но выводит на экран сумму двух чисед\n",
        "def summa(x, y):\n",
        "    s = x + y\n",
        "    print(s)"
      ],
      "execution_count": null,
      "outputs": []
    },
    {
      "cell_type": "markdown",
      "metadata": {
        "id": "59rbbtB_PsJk"
      },
      "source": [
        "После создания функции, ее можно исполнять вызывая из другой функции или напрямую из оболочки Python. Для вызова функции следует ввести ее имя и добавить скобки."
      ]
    },
    {
      "cell_type": "code",
      "metadata": {
        "id": "JvgSUuSkNyAJ"
      },
      "source": [
        "# Для того, чтобы использовать функцию ее необходимо вызвать и передать ей необходимые аргументы\n",
        "summa(4,5) # функция вернет сумму двух чисел 4 и 5 (4, 5 - это аргументы функции)\n",
        "\n",
        "a = 1\n",
        "b = 3\n",
        "summa(a,b) # функция вернет сумму двух чисел a и b (a, b - это аргументы функции)"
      ],
      "execution_count": null,
      "outputs": []
    },
    {
      "cell_type": "markdown",
      "metadata": {
        "id": "S79p5n4KXIpL"
      },
      "source": [
        "Также функции могут принимать любые типы аргументов как числове, так и строковые, списки, словари и так далее."
      ]
    },
    {
      "cell_type": "code",
      "metadata": {
        "id": "QKROqtfqXQCk"
      },
      "source": [
        "# функция, которая в качестве парамента принимает список\n",
        "# и возвращает сумму его элементов\n",
        "def summa_spiska(lst):\n",
        "    s = 0\n",
        "    for i in lst:\n",
        "        s += i\n",
        "    return s\n",
        "\n",
        "spisok = [1,2,3,4,5]\n",
        "summa_spiska(spisok)\n",
        "\n",
        "summa_spiska([1,9,10])"
      ],
      "execution_count": null,
      "outputs": []
    },
    {
      "cell_type": "markdown",
      "metadata": {
        "id": "qtexnqWjip0Q"
      },
      "source": [
        "##Циклы for и while"
      ]
    },
    {
      "cell_type": "markdown",
      "metadata": {
        "id": "wNjUMIYSiUfi"
      },
      "source": [
        "Циклы python — for и while представляют собой операторы языка программирования, то есть операторы итерации, которые позволяют повторять код определенное количество раз."
      ]
    },
    {
      "cell_type": "markdown",
      "metadata": {
        "id": "Cp8YA_JUk16a"
      },
      "source": [
        "###Синтаксис цикла `For`\n",
        "\n"
      ]
    },
    {
      "cell_type": "markdown",
      "metadata": {
        "id": "oB8P5lyIrPkh"
      },
      "source": [
        "Как уже упоминалось ранее, цикл for в Python является итератором, основанным на цикле. Он проходит по элементам list и tuple, строкам, ключам словаря и другим итерируемым объектам.\n",
        "\n",
        "В Python цикл начинается с ключевого слова for, за которым следует произвольное имя переменной, которое будет хранить значения следующего объекта последовательности. Общий синтаксис for...in в python выглядит следующим образом:\n",
        "\n",
        "```\n",
        "for <переменная> in <последовательность>:\n",
        "    <действие>\n",
        "else:\n",
        "    <действие>\n",
        "```\n",
        "\n",
        "Элементы «последовательности» перебираются один за другим «переменной» цикла; если быть точным, переменная указывает на элементы. Для каждого элемента выполняется «действие»."
      ]
    },
    {
      "cell_type": "code",
      "metadata": {
        "id": "VDZGItKTlGJ7"
      },
      "source": [
        "lst = [1,3,6,1,9]\n",
        "# к каждому элементу списка необходимо добавить число 1\n",
        "for i in lst:\n",
        "    # в переменной i лежит значение элемента списка\n",
        "    i += 1\n",
        "\n",
        "for i in range(len(lst)):\n",
        "    # в данном случае в переменной i лежат индексы элементов списка\n",
        "    lst[i] += 1\n",
        "\n",
        "for index, value in enumerate(lst):\n",
        "    # в данном случае в переменной index лежат индексы элементов списка\n",
        "    # в переменной value значение элемента списка\n",
        "    value += 1"
      ],
      "execution_count": null,
      "outputs": []
    },
    {
      "cell_type": "code",
      "source": [
        "lst = [1,3,6,1,9]\n",
        "# к каждому элементу списка необходимо добавить число 1\n",
        "for i in lst:\n",
        "    # в переменной i лежит значение элемента списка\n",
        "    i += 1\n",
        "\n",
        "lst"
      ],
      "metadata": {
        "id": "ogj8Scj_XSnK",
        "outputId": "7afdf7d4-bc9d-46a5-bec7-eb6111f76136",
        "colab": {
          "base_uri": "https://localhost:8080/"
        }
      },
      "execution_count": null,
      "outputs": [
        {
          "output_type": "execute_result",
          "data": {
            "text/plain": [
              "[1, 3, 6, 1, 9]"
            ]
          },
          "metadata": {},
          "execution_count": 7
        }
      ]
    },
    {
      "cell_type": "markdown",
      "metadata": {
        "id": "M97HWrs8mcdQ"
      },
      "source": [
        "Блок else является особенным.\n",
        "\n",
        "Он будет выполнен только в том случае, если цикл не был «остановлен» оператором break. Таким образом, он будет выполнен только после того, как все элементы последовательности будут пройдены.\n",
        "\n",
        "Если в программе цикл for должен быть прерван оператором break, цикл будет завершен, и поток программы будет продолжен без выполнения действий из else.\n",
        "\n",
        "Обычно фразы **break** в Python связаны с условными операторами."
      ]
    },
    {
      "cell_type": "code",
      "metadata": {
        "id": "EXXAhyPImj7U"
      },
      "source": [
        "names = [\"Петр\", \"Иван\", \"Максим\", \"Мария\"]\n",
        "\n",
        "# Цикл по очередно перебирает имена в списке\n",
        "# Как только мы нашли имя Максим, цикл необходимо преравать и не просматривать следующие элементы\n",
        "for name in names:\n",
        "    if name == \"Максим\":\n",
        "        print(\"Меня зовут Максим!\")\n",
        "        break\n",
        "    print(\"Другие имена\", name)\n",
        "else:\n",
        "    print(\"Спасибо, теперь я знаю все имена\")"
      ],
      "execution_count": null,
      "outputs": []
    },
    {
      "cell_type": "markdown",
      "metadata": {
        "id": "lJy-pFo5neUw"
      },
      "source": [
        "Оператор пропуска Python — **continue**\n",
        "\n",
        "Предположим, имя \"Максим\" нам нужно просто пропустить и продолжить дальше перебор имен. Тогда нужно использовать оператор continue, для перехода к следующему элементу.\n",
        "\n",
        "В следующем маленьком скрипте python мы используем continue, чтобы продолжить, итерацию по списку, когда мы сталкиваемся с нужным именем."
      ]
    },
    {
      "cell_type": "code",
      "metadata": {
        "id": "fSAhBwRZns8V"
      },
      "source": [
        "names = [\"Петр\", \"Иван\", \"Максим\", \"Мария\"]\n",
        "\n",
        "for name in names:\n",
        "    if name == \"Максим\":\n",
        "        print(\"Меня зовут Максим!\")\n",
        "        continue\n",
        "    print(\"Другие имена\", name)\n",
        "else:\n",
        "    print(\"Спасибо, теперь я знаю все имена\")"
      ],
      "execution_count": null,
      "outputs": []
    },
    {
      "cell_type": "code",
      "source": [
        "for i in range (1, 3):\n",
        "  i = 10\n",
        "  print(i)\n",
        "  i = 11\n",
        "  print(i)\n",
        "  i = 12\n",
        "  print(i)"
      ],
      "metadata": {
        "colab": {
          "base_uri": "https://localhost:8080/"
        },
        "id": "8Et0Yut6-Hun",
        "outputId": "462f87c0-ea91-4ef6-eb67-ae24c1a8df38"
      },
      "execution_count": null,
      "outputs": [
        {
          "output_type": "stream",
          "name": "stdout",
          "text": [
            "10\n",
            "11\n",
            "12\n",
            "10\n",
            "11\n",
            "12\n"
          ]
        }
      ]
    },
    {
      "cell_type": "markdown",
      "metadata": {
        "id": "hYDlhcezoJS4"
      },
      "source": [
        "### Синтаксис `while`"
      ]
    },
    {
      "cell_type": "markdown",
      "metadata": {
        "id": "gqsgnbSgrJhw"
      },
      "source": [
        "\n",
        "```\n",
        "while <условие (булевское выражение)>:\n",
        "    <code>\n",
        "```\n",
        "\n",
        "Здесь код, написанный вместо `code` будет выполняться каждую итерацию цикла, пока условие после `while` будет выполняться.\n",
        "\n",
        "Посмотрим на примере: Напишем цикл, в котором будем выводить переменную x и увеличивать x на 1, пока x не станет больше 10:"
      ]
    },
    {
      "cell_type": "code",
      "metadata": {
        "colab": {
          "base_uri": "https://localhost:8080/"
        },
        "id": "Hf-lL9zNoVkL",
        "outputId": "edeef185-3ac1-43d7-d22d-b9170977d731"
      },
      "source": [
        "x = 1\n",
        "\n",
        "while x <= 10:\n",
        "    print(x)\n",
        "    # более удобный способ записи x = x + 1\n",
        "    x += 1"
      ],
      "execution_count": null,
      "outputs": [
        {
          "output_type": "stream",
          "text": [
            "1\n",
            "2\n",
            "3\n",
            "4\n",
            "5\n",
            "6\n",
            "7\n",
            "8\n",
            "9\n",
            "10\n"
          ],
          "name": "stdout"
        }
      ]
    },
    {
      "cell_type": "markdown",
      "metadata": {
        "id": "-mYgpFLuqT2G"
      },
      "source": [
        "Цикл while является своего рода условным оператором. Вот что значит этот код: пока переменная i меньше 10, её нужно выводить на экран. Далее, в конце, мы увеличиваем её значение на единицу. Если вы запустите этот код, он выдаст от 1 до 10, каждая цифра будет в отдельной строке, после чего задача будет выполнена. Если вы удалите ту часть, в которой мы увеличиваем значение i, то мы получим бесконечный цикл. \n",
        "\n",
        "В циклах `while` также можно использовать оператор break и continue."
      ]
    },
    {
      "cell_type": "code",
      "metadata": {
        "colab": {
          "base_uri": "https://localhost:8080/"
        },
        "id": "hMrwS9teqdxg",
        "outputId": "41db539b-b3f1-4703-95e0-3c40512d8e3e"
      },
      "source": [
        "x = 1\n",
        "\n",
        "while x < 10:\n",
        "    print(x)\n",
        "    \n",
        "    if x == 5:\n",
        "        break\n",
        "    \n",
        "    x += 1"
      ],
      "execution_count": null,
      "outputs": [
        {
          "output_type": "stream",
          "text": [
            "1\n",
            "2\n",
            "3\n",
            "4\n",
            "5\n"
          ],
          "name": "stdout"
        }
      ]
    },
    {
      "cell_type": "code",
      "metadata": {
        "colab": {
          "base_uri": "https://localhost:8080/"
        },
        "id": "NUnhQoIRq47g",
        "outputId": "f3badfca-c2a6-4478-934b-61c945808162"
      },
      "source": [
        "x = 1\n",
        " \n",
        "while x < 10:\n",
        "    if x == 3:\n",
        "        x += 1\n",
        "        continue\n",
        "    \n",
        "    print(x)\n",
        "    if x == 5:\n",
        "        break\n",
        "    \n",
        "    x += 1"
      ],
      "execution_count": null,
      "outputs": [
        {
          "output_type": "stream",
          "text": [
            "1\n",
            "2\n",
            "4\n",
            "5\n"
          ],
          "name": "stdout"
        }
      ]
    },
    {
      "cell_type": "markdown",
      "metadata": {
        "id": "1iXQqU-UNQGG"
      },
      "source": [
        "## Область видимости"
      ]
    },
    {
      "cell_type": "markdown",
      "metadata": {
        "id": "2vgaxa2pQOJ0"
      },
      "source": [
        "Некоторые переменные программы могут быть недоступны некоторым областям данной программы. Все зависит от того, где вы объявили эти переменные.\n",
        "\n",
        "В Python две базовых области видимости переменных:\n",
        "- Глобальные переменные\n",
        "- Локальные переменные\n",
        "\n",
        "Переменные объявленные внутри тела функции имеют локальную область видимости, те что объявлены вне какой-либо функции имеют глобальную область видимости.\n",
        "\n",
        "Это означает, что доступ к локальным переменным имеют только те функции, в которых они были объявлены, в то время как доступ к глобальным переменным можно получить по всей программе в любой функции."
      ]
    },
    {
      "cell_type": "code",
      "metadata": {
        "id": "qFUDLXIOQIPD"
      },
      "source": [
        "z = 100 # z - глобальная переменная и может быть использована в любом месте программы (в том числе внутри функции)\n",
        "\n",
        "def summa(x, y):\n",
        "    s = x + y\n",
        "    return None\n",
        "\n",
        "def summa1(x, y):\n",
        "    s = x + y + z\n",
        "    return s\n",
        "\n",
        "summa(1,2) #вызовем функцию и передадим ей два числа 1 и 2\n",
        "print(s) # тут возникнет ошибка (так как вне функции переменная s не доступна)\n",
        "\n",
        "summa1(1,2) # в данной случае функция вернет сумму трех числе 1 + 2 + 100, так как переменная z доступна в любой части программы\n",
        "            # в том числе внутри функций"
      ],
      "execution_count": null,
      "outputs": []
    },
    {
      "cell_type": "markdown",
      "metadata": {
        "id": "PvEBQds_R2Em"
      },
      "source": [
        "Важно помнить, что для того чтобы получить доступ к глобальной переменной, достаточно лишь указать ее имя. Однако, если перед нами стоит задача изменить глобальную переменную внутри функции - необходимо использовать ключевое слово **global**."
      ]
    },
    {
      "cell_type": "code",
      "metadata": {
        "id": "YHgY4TOGR367"
      },
      "source": [
        "z = 0\n",
        "\n",
        "def summa(x, y):\n",
        "    z = x + y\n",
        "    return None\n",
        "\n",
        "def summa1(x, y):\n",
        "    global z\n",
        "    z = x + y\n",
        "    return None\n",
        "\n",
        "summa(1,2) # при вызове данной функции значение глобальной переменной z не измениться\n",
        "summa1(1,2) # при вызове данной функции значение глобальной переменной z  измениться"
      ],
      "execution_count": null,
      "outputs": []
    },
    {
      "cell_type": "markdown",
      "metadata": {
        "id": "jWUQZ7olS4Ts"
      },
      "source": [
        "## Задания"
      ]
    },
    {
      "cell_type": "markdown",
      "metadata": {
        "id": "d97xcXfZTIea"
      },
      "source": [
        "**Задача 1.**\n",
        "\n",
        "Даны четыре действительных числа: x1, y1, x2, y2. Напишите функцию distance(x1, y1, x2, y2), вычисляющая расстояние между точкой (x1,y1) и (x2,y2)."
      ]
    },
    {
      "cell_type": "code",
      "metadata": {
        "id": "FwoN8YrfS8S9"
      },
      "source": [],
      "execution_count": null,
      "outputs": []
    },
    {
      "cell_type": "markdown",
      "metadata": {
        "id": "04v60qczU_fi"
      },
      "source": [
        "**Задача 2.**\n",
        "\n",
        "Написать функцию season(month), принимающую 1 аргумент — номер месяца (от 1 до 12), которая присваивает глобальной переменной s время года, которому этот месяц принадлежит (зима, весна, лето или осень)."
      ]
    },
    {
      "cell_type": "code",
      "metadata": {
        "id": "j56j5EvKWsy1"
      },
      "source": [],
      "execution_count": null,
      "outputs": []
    },
    {
      "cell_type": "markdown",
      "metadata": {
        "id": "Xo4YtE9XWwJ-"
      },
      "source": [
        "**Задача 3.**\n",
        "\n",
        "Написать функцию is_prime, принимающую 1 аргумент — число от 0 до 1000, и возвращающую True, если оно простое, и False - иначе."
      ]
    },
    {
      "cell_type": "code",
      "metadata": {
        "id": "JaI9rY6cW0YA"
      },
      "source": [],
      "execution_count": null,
      "outputs": []
    },
    {
      "cell_type": "markdown",
      "metadata": {
        "id": "siBlTugkX5Il"
      },
      "source": [
        "**Задача 4.**\n",
        "\n",
        "Написать функцию reverse_list(lst), которая принимает в качестве аргумента список и возвращаем его в перевернутом виде.\n",
        "\n",
        "Например,\n",
        "- исходный спискок:  8, 1, 0, 4\n",
        "- полученный спискок: 4, 0, 1, 8\n",
        "\n",
        "Использовать встроенные функции Python нельзя. "
      ]
    },
    {
      "cell_type": "code",
      "metadata": {
        "id": "6YqPaxokYT1_"
      },
      "source": [],
      "execution_count": null,
      "outputs": []
    },
    {
      "cell_type": "markdown",
      "metadata": {
        "id": "4UUcGbHWr3wn"
      },
      "source": [
        "**Задача 5.**\n",
        "\n",
        "Распечатайте с 4 по 8 символ фразы \"Привет мир!\" приведенные к верхнему регистру."
      ]
    },
    {
      "cell_type": "code",
      "metadata": {
        "id": "ICMD_GzvsETR"
      },
      "source": [],
      "execution_count": null,
      "outputs": []
    },
    {
      "cell_type": "markdown",
      "metadata": {
        "id": "Ei25f1pVsQLt"
      },
      "source": [
        "**Задача 6.**\n",
        "\n",
        "Напишите код, который все элементы массива x с нечетными индексами переставит в обратном порядке.\n",
        "\n",
        "Т.е. если x = [0, 1, 2, 3, 4, 5, 6, 7, 8, 9], то код должен получать [0, 9, 2, 7, 4, 5, 6, 3, 8, 1]"
      ]
    },
    {
      "cell_type": "code",
      "metadata": {
        "id": "o93nN1cJsXNy"
      },
      "source": [],
      "execution_count": null,
      "outputs": []
    },
    {
      "cell_type": "markdown",
      "metadata": {
        "id": "-qcaQystsXYY"
      },
      "source": [
        "**Задача 7.**\n",
        "\n",
        "Напишите цикл, который выводит все числа от 0 до 500, делящиеся на 7, если в них есть цифра 8."
      ]
    },
    {
      "cell_type": "code",
      "metadata": {
        "id": "5-d0zkldsuvr"
      },
      "source": [],
      "execution_count": null,
      "outputs": []
    },
    {
      "cell_type": "markdown",
      "metadata": {
        "id": "CTWMY6f9su7P"
      },
      "source": [
        "**Задача 8.**\n",
        "\n",
        "На вход функция more_than_five(lst) получает список из целых чисел. \n",
        "Результатом работы функции должен стать новый список, в котором содержатся только те числа, которые больше 10 по модулю."
      ]
    },
    {
      "cell_type": "code",
      "metadata": {
        "id": "ChE1X9wvtMzQ"
      },
      "source": [],
      "execution_count": null,
      "outputs": []
    }
  ]
}